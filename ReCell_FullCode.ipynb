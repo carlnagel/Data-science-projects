{
  "cells": [
    {
      "cell_type": "markdown",
      "metadata": {
        "id": "p2r5o8SR4rqH"
      },
      "source": [
        "# Supervised Learning - Foundations Project: ReCell"
      ]
    },
    {
      "cell_type": "markdown",
      "metadata": {
        "id": "3SntBY974rqJ"
      },
      "source": [
        "## Problem Statement"
      ]
    },
    {
      "cell_type": "markdown",
      "metadata": {
        "id": "RA_GXJwuhmVz"
      },
      "source": [
        "### Business Context\n",
        "\n",
        "Buying and selling used phones and tablets used to be something that happened on a handful of online marketplace sites. But the used and refurbished device market has grown considerably over the past decade, and a new IDC (International Data Corporation) forecast predicts that the used phone market would be worth \\\\$52.7bn by 2023 with a compound annual growth rate (CAGR) of 13.6% from 2018 to 2023. This growth can be attributed to an uptick in demand for used phones and tablets that offer considerable savings compared with new models.\n",
        "\n",
        "Refurbished and used devices continue to provide cost-effective alternatives to both consumers and businesses that are looking to save money when purchasing one. There are plenty of other benefits associated with the used device market. Used and refurbished devices can be sold with warranties and can also be insured with proof of purchase. Third-party vendors/platforms, such as Verizon, Amazon, etc., provide attractive offers to customers for refurbished devices. Maximizing the longevity of devices through second-hand trade also reduces their environmental impact and helps in recycling and reducing waste. The impact of the COVID-19 outbreak may further boost this segment as consumers cut back on discretionary spending and buy phones and tablets only for immediate needs.\n",
        "\n",
        "\n",
        "### Objective\n",
        "\n",
        "The rising potential of this comparatively under-the-radar market fuels the need for an ML-based solution to develop a dynamic pricing strategy for used and refurbished devices. ReCell, a startup aiming to tap the potential in this market, has hired you as a data scientist. They want you to analyze the data provided and build a linear regression model to predict the price of a used phone/tablet and identify factors that significantly influence it.\n",
        "\n",
        "\n",
        "### Data Description\n",
        "\n",
        "The data contains the different attributes of used/refurbished phones and tablets. The data was collected in the year 2021. The detailed data dictionary is given below.\n",
        "\n",
        "\n",
        "- brand_name: Name of manufacturing brand\n",
        "- os: OS on which the device runs\n",
        "- screen_size: Size of the screen in cm\n",
        "- 4g: Whether 4G is available or not\n",
        "- 5g: Whether 5G is available or not\n",
        "- main_camera_mp: Resolution of the rear camera in megapixels\n",
        "- selfie_camera_mp: Resolution of the front camera in megapixels\n",
        "- int_memory: Amount of internal memory (ROM) in GB\n",
        "- ram: Amount of RAM in GB\n",
        "- battery: Energy capacity of the device battery in mAh\n",
        "- weight: Weight of the device in grams\n",
        "- release_year: Year when the device model was released\n",
        "- days_used: Number of days the used/refurbished device has been used\n",
        "- normalized_new_price: Normalized price of a new device of the same model in euros\n",
        "- normalized_used_price: Normalized price of the used/refurbished device in euros"
      ]
    },
    {
      "cell_type": "markdown",
      "metadata": {
        "id": "v_-uuGqH-qTt"
      },
      "source": [
        "## Importing necessary libraries"
      ]
    },
    {
      "cell_type": "code",
      "execution_count": null,
      "metadata": {
        "id": "zeF8YaNKDPyK"
      },
      "outputs": [],
      "source": [
        "import numpy as np\n",
        "\n",
        "import matplotlib.pyplot as plt\n",
        "import seaborn as sns\n",
        "\n",
        "sns.set()\n",
        "\n",
        "from sklearn.model_selection import train_test_split\n",
        "\n",
        "from sklearn.linear_model import LinearRegression\n",
        "\n",
        "from sklearn.metrics import mean_absolute_error, mean_squared_error, r2_score\n",
        "\n",
        "import statsmodels.api as sm\n",
        "\n",
        "from statsmodels.stats.outliers_influence import variance_inflation_factor"
      ]
    },
    {
      "cell_type": "code",
      "source": [
        "import pandas as pd"
      ],
      "metadata": {
        "id": "qN_OviNyv8CU"
      },
      "execution_count": null,
      "outputs": []
    },
    {
      "cell_type": "code",
      "source": [
        "from google.colab import drive"
      ],
      "metadata": {
        "id": "zauR_m1qENqF"
      },
      "execution_count": null,
      "outputs": []
    },
    {
      "cell_type": "code",
      "source": [
        "drive.mount('/content/drive')"
      ],
      "metadata": {
        "colab": {
          "base_uri": "https://localhost:8080/"
        },
        "id": "CctxAlxieV3R",
        "outputId": "c3ead541-43ae-4698-8300-59b818b9fdd4"
      },
      "execution_count": null,
      "outputs": [
        {
          "output_type": "stream",
          "name": "stdout",
          "text": [
            "Mounted at /content/drive\n"
          ]
        }
      ]
    },
    {
      "cell_type": "markdown",
      "metadata": {
        "id": "xxhpZv9y-qTw"
      },
      "source": [
        "## Loading the dataset"
      ]
    },
    {
      "cell_type": "code",
      "execution_count": null,
      "metadata": {
        "id": "ZJwX9wuc4rqL"
      },
      "outputs": [],
      "source": [
        "data = pd.read_csv('/content/drive/MyDrive/Python Course/used_device_data.csv')"
      ]
    },
    {
      "cell_type": "markdown",
      "metadata": {
        "id": "UvpMDcaaMKtI"
      },
      "source": [
        "## Data Overview"
      ]
    },
    {
      "cell_type": "markdown",
      "source": [
        "- Observations\n",
        "- Sanity checks"
      ],
      "metadata": {
        "id": "tIiCRwqZ54_C"
      }
    },
    {
      "cell_type": "code",
      "execution_count": null,
      "metadata": {
        "id": "01hJQ7EfMKtK",
        "colab": {
          "base_uri": "https://localhost:8080/",
          "height": 268
        },
        "outputId": "d1080e2d-c2e0-43db-87fc-4da4d9cec4ea"
      },
      "outputs": [
        {
          "output_type": "execute_result",
          "data": {
            "text/plain": [
              "  brand_name       os  screen_size   4g   5g  main_camera_mp  \\\n",
              "0      Honor  Android        14.50  yes   no            13.0   \n",
              "1      Honor  Android        17.30  yes  yes            13.0   \n",
              "2      Honor  Android        16.69  yes  yes            13.0   \n",
              "3      Honor  Android        25.50  yes  yes            13.0   \n",
              "4      Honor  Android        15.32  yes   no            13.0   \n",
              "\n",
              "   selfie_camera_mp  int_memory  ram  battery  weight  release_year  \\\n",
              "0               5.0        64.0  3.0   3020.0   146.0          2020   \n",
              "1              16.0       128.0  8.0   4300.0   213.0          2020   \n",
              "2               8.0       128.0  8.0   4200.0   213.0          2020   \n",
              "3               8.0        64.0  6.0   7250.0   480.0          2020   \n",
              "4               8.0        64.0  3.0   5000.0   185.0          2020   \n",
              "\n",
              "   days_used  normalized_used_price  normalized_new_price  \n",
              "0        127               4.307572              4.715100  \n",
              "1        325               5.162097              5.519018  \n",
              "2        162               5.111084              5.884631  \n",
              "3        345               5.135387              5.630961  \n",
              "4        293               4.389995              4.947837  "
            ],
            "text/html": [
              "\n",
              "  <div id=\"df-56fd84c6-f5f5-4501-a9db-36d6963f03e8\">\n",
              "    <div class=\"colab-df-container\">\n",
              "      <div>\n",
              "<style scoped>\n",
              "    .dataframe tbody tr th:only-of-type {\n",
              "        vertical-align: middle;\n",
              "    }\n",
              "\n",
              "    .dataframe tbody tr th {\n",
              "        vertical-align: top;\n",
              "    }\n",
              "\n",
              "    .dataframe thead th {\n",
              "        text-align: right;\n",
              "    }\n",
              "</style>\n",
              "<table border=\"1\" class=\"dataframe\">\n",
              "  <thead>\n",
              "    <tr style=\"text-align: right;\">\n",
              "      <th></th>\n",
              "      <th>brand_name</th>\n",
              "      <th>os</th>\n",
              "      <th>screen_size</th>\n",
              "      <th>4g</th>\n",
              "      <th>5g</th>\n",
              "      <th>main_camera_mp</th>\n",
              "      <th>selfie_camera_mp</th>\n",
              "      <th>int_memory</th>\n",
              "      <th>ram</th>\n",
              "      <th>battery</th>\n",
              "      <th>weight</th>\n",
              "      <th>release_year</th>\n",
              "      <th>days_used</th>\n",
              "      <th>normalized_used_price</th>\n",
              "      <th>normalized_new_price</th>\n",
              "    </tr>\n",
              "  </thead>\n",
              "  <tbody>\n",
              "    <tr>\n",
              "      <th>0</th>\n",
              "      <td>Honor</td>\n",
              "      <td>Android</td>\n",
              "      <td>14.50</td>\n",
              "      <td>yes</td>\n",
              "      <td>no</td>\n",
              "      <td>13.0</td>\n",
              "      <td>5.0</td>\n",
              "      <td>64.0</td>\n",
              "      <td>3.0</td>\n",
              "      <td>3020.0</td>\n",
              "      <td>146.0</td>\n",
              "      <td>2020</td>\n",
              "      <td>127</td>\n",
              "      <td>4.307572</td>\n",
              "      <td>4.715100</td>\n",
              "    </tr>\n",
              "    <tr>\n",
              "      <th>1</th>\n",
              "      <td>Honor</td>\n",
              "      <td>Android</td>\n",
              "      <td>17.30</td>\n",
              "      <td>yes</td>\n",
              "      <td>yes</td>\n",
              "      <td>13.0</td>\n",
              "      <td>16.0</td>\n",
              "      <td>128.0</td>\n",
              "      <td>8.0</td>\n",
              "      <td>4300.0</td>\n",
              "      <td>213.0</td>\n",
              "      <td>2020</td>\n",
              "      <td>325</td>\n",
              "      <td>5.162097</td>\n",
              "      <td>5.519018</td>\n",
              "    </tr>\n",
              "    <tr>\n",
              "      <th>2</th>\n",
              "      <td>Honor</td>\n",
              "      <td>Android</td>\n",
              "      <td>16.69</td>\n",
              "      <td>yes</td>\n",
              "      <td>yes</td>\n",
              "      <td>13.0</td>\n",
              "      <td>8.0</td>\n",
              "      <td>128.0</td>\n",
              "      <td>8.0</td>\n",
              "      <td>4200.0</td>\n",
              "      <td>213.0</td>\n",
              "      <td>2020</td>\n",
              "      <td>162</td>\n",
              "      <td>5.111084</td>\n",
              "      <td>5.884631</td>\n",
              "    </tr>\n",
              "    <tr>\n",
              "      <th>3</th>\n",
              "      <td>Honor</td>\n",
              "      <td>Android</td>\n",
              "      <td>25.50</td>\n",
              "      <td>yes</td>\n",
              "      <td>yes</td>\n",
              "      <td>13.0</td>\n",
              "      <td>8.0</td>\n",
              "      <td>64.0</td>\n",
              "      <td>6.0</td>\n",
              "      <td>7250.0</td>\n",
              "      <td>480.0</td>\n",
              "      <td>2020</td>\n",
              "      <td>345</td>\n",
              "      <td>5.135387</td>\n",
              "      <td>5.630961</td>\n",
              "    </tr>\n",
              "    <tr>\n",
              "      <th>4</th>\n",
              "      <td>Honor</td>\n",
              "      <td>Android</td>\n",
              "      <td>15.32</td>\n",
              "      <td>yes</td>\n",
              "      <td>no</td>\n",
              "      <td>13.0</td>\n",
              "      <td>8.0</td>\n",
              "      <td>64.0</td>\n",
              "      <td>3.0</td>\n",
              "      <td>5000.0</td>\n",
              "      <td>185.0</td>\n",
              "      <td>2020</td>\n",
              "      <td>293</td>\n",
              "      <td>4.389995</td>\n",
              "      <td>4.947837</td>\n",
              "    </tr>\n",
              "  </tbody>\n",
              "</table>\n",
              "</div>\n",
              "      <button class=\"colab-df-convert\" onclick=\"convertToInteractive('df-56fd84c6-f5f5-4501-a9db-36d6963f03e8')\"\n",
              "              title=\"Convert this dataframe to an interactive table.\"\n",
              "              style=\"display:none;\">\n",
              "        \n",
              "  <svg xmlns=\"http://www.w3.org/2000/svg\" height=\"24px\"viewBox=\"0 0 24 24\"\n",
              "       width=\"24px\">\n",
              "    <path d=\"M0 0h24v24H0V0z\" fill=\"none\"/>\n",
              "    <path d=\"M18.56 5.44l.94 2.06.94-2.06 2.06-.94-2.06-.94-.94-2.06-.94 2.06-2.06.94zm-11 1L8.5 8.5l.94-2.06 2.06-.94-2.06-.94L8.5 2.5l-.94 2.06-2.06.94zm10 10l.94 2.06.94-2.06 2.06-.94-2.06-.94-.94-2.06-.94 2.06-2.06.94z\"/><path d=\"M17.41 7.96l-1.37-1.37c-.4-.4-.92-.59-1.43-.59-.52 0-1.04.2-1.43.59L10.3 9.45l-7.72 7.72c-.78.78-.78 2.05 0 2.83L4 21.41c.39.39.9.59 1.41.59.51 0 1.02-.2 1.41-.59l7.78-7.78 2.81-2.81c.8-.78.8-2.07 0-2.86zM5.41 20L4 18.59l7.72-7.72 1.47 1.35L5.41 20z\"/>\n",
              "  </svg>\n",
              "      </button>\n",
              "      \n",
              "  <style>\n",
              "    .colab-df-container {\n",
              "      display:flex;\n",
              "      flex-wrap:wrap;\n",
              "      gap: 12px;\n",
              "    }\n",
              "\n",
              "    .colab-df-convert {\n",
              "      background-color: #E8F0FE;\n",
              "      border: none;\n",
              "      border-radius: 50%;\n",
              "      cursor: pointer;\n",
              "      display: none;\n",
              "      fill: #1967D2;\n",
              "      height: 32px;\n",
              "      padding: 0 0 0 0;\n",
              "      width: 32px;\n",
              "    }\n",
              "\n",
              "    .colab-df-convert:hover {\n",
              "      background-color: #E2EBFA;\n",
              "      box-shadow: 0px 1px 2px rgba(60, 64, 67, 0.3), 0px 1px 3px 1px rgba(60, 64, 67, 0.15);\n",
              "      fill: #174EA6;\n",
              "    }\n",
              "\n",
              "    [theme=dark] .colab-df-convert {\n",
              "      background-color: #3B4455;\n",
              "      fill: #D2E3FC;\n",
              "    }\n",
              "\n",
              "    [theme=dark] .colab-df-convert:hover {\n",
              "      background-color: #434B5C;\n",
              "      box-shadow: 0px 1px 3px 1px rgba(0, 0, 0, 0.15);\n",
              "      filter: drop-shadow(0px 1px 2px rgba(0, 0, 0, 0.3));\n",
              "      fill: #FFFFFF;\n",
              "    }\n",
              "  </style>\n",
              "\n",
              "      <script>\n",
              "        const buttonEl =\n",
              "          document.querySelector('#df-56fd84c6-f5f5-4501-a9db-36d6963f03e8 button.colab-df-convert');\n",
              "        buttonEl.style.display =\n",
              "          google.colab.kernel.accessAllowed ? 'block' : 'none';\n",
              "\n",
              "        async function convertToInteractive(key) {\n",
              "          const element = document.querySelector('#df-56fd84c6-f5f5-4501-a9db-36d6963f03e8');\n",
              "          const dataTable =\n",
              "            await google.colab.kernel.invokeFunction('convertToInteractive',\n",
              "                                                     [key], {});\n",
              "          if (!dataTable) return;\n",
              "\n",
              "          const docLinkHtml = 'Like what you see? Visit the ' +\n",
              "            '<a target=\"_blank\" href=https://colab.research.google.com/notebooks/data_table.ipynb>data table notebook</a>'\n",
              "            + ' to learn more about interactive tables.';\n",
              "          element.innerHTML = '';\n",
              "          dataTable['output_type'] = 'display_data';\n",
              "          await google.colab.output.renderOutput(dataTable, element);\n",
              "          const docLink = document.createElement('div');\n",
              "          docLink.innerHTML = docLinkHtml;\n",
              "          element.appendChild(docLink);\n",
              "        }\n",
              "      </script>\n",
              "    </div>\n",
              "  </div>\n",
              "  "
            ]
          },
          "metadata": {},
          "execution_count": 8
        }
      ],
      "source": [
        "data.head()"
      ]
    },
    {
      "cell_type": "code",
      "source": [
        "data.shape"
      ],
      "metadata": {
        "colab": {
          "base_uri": "https://localhost:8080/"
        },
        "id": "8oTr8Vsrey7T",
        "outputId": "c4bec8c0-236e-497f-babd-908aea10a6c2"
      },
      "execution_count": null,
      "outputs": [
        {
          "output_type": "execute_result",
          "data": {
            "text/plain": [
              "(3454, 15)"
            ]
          },
          "metadata": {},
          "execution_count": 9
        }
      ]
    },
    {
      "cell_type": "code",
      "source": [
        "data.info()"
      ],
      "metadata": {
        "colab": {
          "base_uri": "https://localhost:8080/"
        },
        "id": "_e5WJhote-Fr",
        "outputId": "b5a5c2b5-859d-4b50-ac4c-b89834b0090d"
      },
      "execution_count": null,
      "outputs": [
        {
          "output_type": "stream",
          "name": "stdout",
          "text": [
            "<class 'pandas.core.frame.DataFrame'>\n",
            "RangeIndex: 3454 entries, 0 to 3453\n",
            "Data columns (total 15 columns):\n",
            " #   Column                 Non-Null Count  Dtype  \n",
            "---  ------                 --------------  -----  \n",
            " 0   brand_name             3454 non-null   object \n",
            " 1   os                     3454 non-null   object \n",
            " 2   screen_size            3454 non-null   float64\n",
            " 3   4g                     3454 non-null   object \n",
            " 4   5g                     3454 non-null   object \n",
            " 5   main_camera_mp         3275 non-null   float64\n",
            " 6   selfie_camera_mp       3452 non-null   float64\n",
            " 7   int_memory             3450 non-null   float64\n",
            " 8   ram                    3450 non-null   float64\n",
            " 9   battery                3448 non-null   float64\n",
            " 10  weight                 3447 non-null   float64\n",
            " 11  release_year           3454 non-null   int64  \n",
            " 12  days_used              3454 non-null   int64  \n",
            " 13  normalized_used_price  3454 non-null   float64\n",
            " 14  normalized_new_price   3454 non-null   float64\n",
            "dtypes: float64(9), int64(2), object(4)\n",
            "memory usage: 404.9+ KB\n"
          ]
        }
      ]
    },
    {
      "cell_type": "markdown",
      "source": [
        "\n",
        "\n",
        "*   used_price is dependent variable\n",
        "*   the only categorical types are brand_name, os, 4g and 5g\n",
        "\n"
      ],
      "metadata": {
        "id": "Rna5mb26fbaX"
      }
    },
    {
      "cell_type": "code",
      "source": [
        "data.describe(include='all').T"
      ],
      "metadata": {
        "colab": {
          "base_uri": "https://localhost:8080/",
          "height": 578
        },
        "id": "Q5TC-Bycf4aR",
        "outputId": "57f699d1-df9b-4d73-c9b1-37ad3e546cb5"
      },
      "execution_count": null,
      "outputs": [
        {
          "output_type": "execute_result",
          "data": {
            "text/plain": [
              "                        count unique      top  freq         mean          std  \\\n",
              "brand_name               3454     34   Others   502          NaN          NaN   \n",
              "os                       3454      4  Android  3214          NaN          NaN   \n",
              "screen_size            3454.0    NaN      NaN   NaN    13.713115      3.80528   \n",
              "4g                       3454      2      yes  2335          NaN          NaN   \n",
              "5g                       3454      2       no  3302          NaN          NaN   \n",
              "main_camera_mp         3275.0    NaN      NaN   NaN     9.460208     4.815461   \n",
              "selfie_camera_mp       3452.0    NaN      NaN   NaN     6.554229     6.970372   \n",
              "int_memory             3450.0    NaN      NaN   NaN    54.573099    84.972371   \n",
              "ram                    3450.0    NaN      NaN   NaN     4.036122     1.365105   \n",
              "battery                3448.0    NaN      NaN   NaN  3133.402697  1299.682844   \n",
              "weight                 3447.0    NaN      NaN   NaN   182.751871    88.413228   \n",
              "release_year           3454.0    NaN      NaN   NaN  2015.965258     2.298455   \n",
              "days_used              3454.0    NaN      NaN   NaN   674.869716   248.580166   \n",
              "normalized_used_price  3454.0    NaN      NaN   NaN     4.364712     0.588914   \n",
              "normalized_new_price   3454.0    NaN      NaN   NaN     5.233107     0.683637   \n",
              "\n",
              "                            min       25%       50%       75%       max  \n",
              "brand_name                  NaN       NaN       NaN       NaN       NaN  \n",
              "os                          NaN       NaN       NaN       NaN       NaN  \n",
              "screen_size                5.08      12.7     12.83     15.34     30.71  \n",
              "4g                          NaN       NaN       NaN       NaN       NaN  \n",
              "5g                          NaN       NaN       NaN       NaN       NaN  \n",
              "main_camera_mp             0.08       5.0       8.0      13.0      48.0  \n",
              "selfie_camera_mp            0.0       2.0       5.0       8.0      32.0  \n",
              "int_memory                 0.01      16.0      32.0      64.0    1024.0  \n",
              "ram                        0.02       4.0       4.0       4.0      12.0  \n",
              "battery                   500.0    2100.0    3000.0    4000.0    9720.0  \n",
              "weight                     69.0     142.0     160.0     185.0     855.0  \n",
              "release_year             2013.0    2014.0    2015.5    2018.0    2020.0  \n",
              "days_used                  91.0     533.5     690.5    868.75    1094.0  \n",
              "normalized_used_price  1.536867  4.033931  4.405133    4.7557  6.619433  \n",
              "normalized_new_price   2.901422  4.790342  5.245892  5.673718  7.847841  "
            ],
            "text/html": [
              "\n",
              "  <div id=\"df-cf7015f4-4067-4acb-b3c2-5335b382fd68\">\n",
              "    <div class=\"colab-df-container\">\n",
              "      <div>\n",
              "<style scoped>\n",
              "    .dataframe tbody tr th:only-of-type {\n",
              "        vertical-align: middle;\n",
              "    }\n",
              "\n",
              "    .dataframe tbody tr th {\n",
              "        vertical-align: top;\n",
              "    }\n",
              "\n",
              "    .dataframe thead th {\n",
              "        text-align: right;\n",
              "    }\n",
              "</style>\n",
              "<table border=\"1\" class=\"dataframe\">\n",
              "  <thead>\n",
              "    <tr style=\"text-align: right;\">\n",
              "      <th></th>\n",
              "      <th>count</th>\n",
              "      <th>unique</th>\n",
              "      <th>top</th>\n",
              "      <th>freq</th>\n",
              "      <th>mean</th>\n",
              "      <th>std</th>\n",
              "      <th>min</th>\n",
              "      <th>25%</th>\n",
              "      <th>50%</th>\n",
              "      <th>75%</th>\n",
              "      <th>max</th>\n",
              "    </tr>\n",
              "  </thead>\n",
              "  <tbody>\n",
              "    <tr>\n",
              "      <th>brand_name</th>\n",
              "      <td>3454</td>\n",
              "      <td>34</td>\n",
              "      <td>Others</td>\n",
              "      <td>502</td>\n",
              "      <td>NaN</td>\n",
              "      <td>NaN</td>\n",
              "      <td>NaN</td>\n",
              "      <td>NaN</td>\n",
              "      <td>NaN</td>\n",
              "      <td>NaN</td>\n",
              "      <td>NaN</td>\n",
              "    </tr>\n",
              "    <tr>\n",
              "      <th>os</th>\n",
              "      <td>3454</td>\n",
              "      <td>4</td>\n",
              "      <td>Android</td>\n",
              "      <td>3214</td>\n",
              "      <td>NaN</td>\n",
              "      <td>NaN</td>\n",
              "      <td>NaN</td>\n",
              "      <td>NaN</td>\n",
              "      <td>NaN</td>\n",
              "      <td>NaN</td>\n",
              "      <td>NaN</td>\n",
              "    </tr>\n",
              "    <tr>\n",
              "      <th>screen_size</th>\n",
              "      <td>3454.0</td>\n",
              "      <td>NaN</td>\n",
              "      <td>NaN</td>\n",
              "      <td>NaN</td>\n",
              "      <td>13.713115</td>\n",
              "      <td>3.80528</td>\n",
              "      <td>5.08</td>\n",
              "      <td>12.7</td>\n",
              "      <td>12.83</td>\n",
              "      <td>15.34</td>\n",
              "      <td>30.71</td>\n",
              "    </tr>\n",
              "    <tr>\n",
              "      <th>4g</th>\n",
              "      <td>3454</td>\n",
              "      <td>2</td>\n",
              "      <td>yes</td>\n",
              "      <td>2335</td>\n",
              "      <td>NaN</td>\n",
              "      <td>NaN</td>\n",
              "      <td>NaN</td>\n",
              "      <td>NaN</td>\n",
              "      <td>NaN</td>\n",
              "      <td>NaN</td>\n",
              "      <td>NaN</td>\n",
              "    </tr>\n",
              "    <tr>\n",
              "      <th>5g</th>\n",
              "      <td>3454</td>\n",
              "      <td>2</td>\n",
              "      <td>no</td>\n",
              "      <td>3302</td>\n",
              "      <td>NaN</td>\n",
              "      <td>NaN</td>\n",
              "      <td>NaN</td>\n",
              "      <td>NaN</td>\n",
              "      <td>NaN</td>\n",
              "      <td>NaN</td>\n",
              "      <td>NaN</td>\n",
              "    </tr>\n",
              "    <tr>\n",
              "      <th>main_camera_mp</th>\n",
              "      <td>3275.0</td>\n",
              "      <td>NaN</td>\n",
              "      <td>NaN</td>\n",
              "      <td>NaN</td>\n",
              "      <td>9.460208</td>\n",
              "      <td>4.815461</td>\n",
              "      <td>0.08</td>\n",
              "      <td>5.0</td>\n",
              "      <td>8.0</td>\n",
              "      <td>13.0</td>\n",
              "      <td>48.0</td>\n",
              "    </tr>\n",
              "    <tr>\n",
              "      <th>selfie_camera_mp</th>\n",
              "      <td>3452.0</td>\n",
              "      <td>NaN</td>\n",
              "      <td>NaN</td>\n",
              "      <td>NaN</td>\n",
              "      <td>6.554229</td>\n",
              "      <td>6.970372</td>\n",
              "      <td>0.0</td>\n",
              "      <td>2.0</td>\n",
              "      <td>5.0</td>\n",
              "      <td>8.0</td>\n",
              "      <td>32.0</td>\n",
              "    </tr>\n",
              "    <tr>\n",
              "      <th>int_memory</th>\n",
              "      <td>3450.0</td>\n",
              "      <td>NaN</td>\n",
              "      <td>NaN</td>\n",
              "      <td>NaN</td>\n",
              "      <td>54.573099</td>\n",
              "      <td>84.972371</td>\n",
              "      <td>0.01</td>\n",
              "      <td>16.0</td>\n",
              "      <td>32.0</td>\n",
              "      <td>64.0</td>\n",
              "      <td>1024.0</td>\n",
              "    </tr>\n",
              "    <tr>\n",
              "      <th>ram</th>\n",
              "      <td>3450.0</td>\n",
              "      <td>NaN</td>\n",
              "      <td>NaN</td>\n",
              "      <td>NaN</td>\n",
              "      <td>4.036122</td>\n",
              "      <td>1.365105</td>\n",
              "      <td>0.02</td>\n",
              "      <td>4.0</td>\n",
              "      <td>4.0</td>\n",
              "      <td>4.0</td>\n",
              "      <td>12.0</td>\n",
              "    </tr>\n",
              "    <tr>\n",
              "      <th>battery</th>\n",
              "      <td>3448.0</td>\n",
              "      <td>NaN</td>\n",
              "      <td>NaN</td>\n",
              "      <td>NaN</td>\n",
              "      <td>3133.402697</td>\n",
              "      <td>1299.682844</td>\n",
              "      <td>500.0</td>\n",
              "      <td>2100.0</td>\n",
              "      <td>3000.0</td>\n",
              "      <td>4000.0</td>\n",
              "      <td>9720.0</td>\n",
              "    </tr>\n",
              "    <tr>\n",
              "      <th>weight</th>\n",
              "      <td>3447.0</td>\n",
              "      <td>NaN</td>\n",
              "      <td>NaN</td>\n",
              "      <td>NaN</td>\n",
              "      <td>182.751871</td>\n",
              "      <td>88.413228</td>\n",
              "      <td>69.0</td>\n",
              "      <td>142.0</td>\n",
              "      <td>160.0</td>\n",
              "      <td>185.0</td>\n",
              "      <td>855.0</td>\n",
              "    </tr>\n",
              "    <tr>\n",
              "      <th>release_year</th>\n",
              "      <td>3454.0</td>\n",
              "      <td>NaN</td>\n",
              "      <td>NaN</td>\n",
              "      <td>NaN</td>\n",
              "      <td>2015.965258</td>\n",
              "      <td>2.298455</td>\n",
              "      <td>2013.0</td>\n",
              "      <td>2014.0</td>\n",
              "      <td>2015.5</td>\n",
              "      <td>2018.0</td>\n",
              "      <td>2020.0</td>\n",
              "    </tr>\n",
              "    <tr>\n",
              "      <th>days_used</th>\n",
              "      <td>3454.0</td>\n",
              "      <td>NaN</td>\n",
              "      <td>NaN</td>\n",
              "      <td>NaN</td>\n",
              "      <td>674.869716</td>\n",
              "      <td>248.580166</td>\n",
              "      <td>91.0</td>\n",
              "      <td>533.5</td>\n",
              "      <td>690.5</td>\n",
              "      <td>868.75</td>\n",
              "      <td>1094.0</td>\n",
              "    </tr>\n",
              "    <tr>\n",
              "      <th>normalized_used_price</th>\n",
              "      <td>3454.0</td>\n",
              "      <td>NaN</td>\n",
              "      <td>NaN</td>\n",
              "      <td>NaN</td>\n",
              "      <td>4.364712</td>\n",
              "      <td>0.588914</td>\n",
              "      <td>1.536867</td>\n",
              "      <td>4.033931</td>\n",
              "      <td>4.405133</td>\n",
              "      <td>4.7557</td>\n",
              "      <td>6.619433</td>\n",
              "    </tr>\n",
              "    <tr>\n",
              "      <th>normalized_new_price</th>\n",
              "      <td>3454.0</td>\n",
              "      <td>NaN</td>\n",
              "      <td>NaN</td>\n",
              "      <td>NaN</td>\n",
              "      <td>5.233107</td>\n",
              "      <td>0.683637</td>\n",
              "      <td>2.901422</td>\n",
              "      <td>4.790342</td>\n",
              "      <td>5.245892</td>\n",
              "      <td>5.673718</td>\n",
              "      <td>7.847841</td>\n",
              "    </tr>\n",
              "  </tbody>\n",
              "</table>\n",
              "</div>\n",
              "      <button class=\"colab-df-convert\" onclick=\"convertToInteractive('df-cf7015f4-4067-4acb-b3c2-5335b382fd68')\"\n",
              "              title=\"Convert this dataframe to an interactive table.\"\n",
              "              style=\"display:none;\">\n",
              "        \n",
              "  <svg xmlns=\"http://www.w3.org/2000/svg\" height=\"24px\"viewBox=\"0 0 24 24\"\n",
              "       width=\"24px\">\n",
              "    <path d=\"M0 0h24v24H0V0z\" fill=\"none\"/>\n",
              "    <path d=\"M18.56 5.44l.94 2.06.94-2.06 2.06-.94-2.06-.94-.94-2.06-.94 2.06-2.06.94zm-11 1L8.5 8.5l.94-2.06 2.06-.94-2.06-.94L8.5 2.5l-.94 2.06-2.06.94zm10 10l.94 2.06.94-2.06 2.06-.94-2.06-.94-.94-2.06-.94 2.06-2.06.94z\"/><path d=\"M17.41 7.96l-1.37-1.37c-.4-.4-.92-.59-1.43-.59-.52 0-1.04.2-1.43.59L10.3 9.45l-7.72 7.72c-.78.78-.78 2.05 0 2.83L4 21.41c.39.39.9.59 1.41.59.51 0 1.02-.2 1.41-.59l7.78-7.78 2.81-2.81c.8-.78.8-2.07 0-2.86zM5.41 20L4 18.59l7.72-7.72 1.47 1.35L5.41 20z\"/>\n",
              "  </svg>\n",
              "      </button>\n",
              "      \n",
              "  <style>\n",
              "    .colab-df-container {\n",
              "      display:flex;\n",
              "      flex-wrap:wrap;\n",
              "      gap: 12px;\n",
              "    }\n",
              "\n",
              "    .colab-df-convert {\n",
              "      background-color: #E8F0FE;\n",
              "      border: none;\n",
              "      border-radius: 50%;\n",
              "      cursor: pointer;\n",
              "      display: none;\n",
              "      fill: #1967D2;\n",
              "      height: 32px;\n",
              "      padding: 0 0 0 0;\n",
              "      width: 32px;\n",
              "    }\n",
              "\n",
              "    .colab-df-convert:hover {\n",
              "      background-color: #E2EBFA;\n",
              "      box-shadow: 0px 1px 2px rgba(60, 64, 67, 0.3), 0px 1px 3px 1px rgba(60, 64, 67, 0.15);\n",
              "      fill: #174EA6;\n",
              "    }\n",
              "\n",
              "    [theme=dark] .colab-df-convert {\n",
              "      background-color: #3B4455;\n",
              "      fill: #D2E3FC;\n",
              "    }\n",
              "\n",
              "    [theme=dark] .colab-df-convert:hover {\n",
              "      background-color: #434B5C;\n",
              "      box-shadow: 0px 1px 3px 1px rgba(0, 0, 0, 0.15);\n",
              "      filter: drop-shadow(0px 1px 2px rgba(0, 0, 0, 0.3));\n",
              "      fill: #FFFFFF;\n",
              "    }\n",
              "  </style>\n",
              "\n",
              "      <script>\n",
              "        const buttonEl =\n",
              "          document.querySelector('#df-cf7015f4-4067-4acb-b3c2-5335b382fd68 button.colab-df-convert');\n",
              "        buttonEl.style.display =\n",
              "          google.colab.kernel.accessAllowed ? 'block' : 'none';\n",
              "\n",
              "        async function convertToInteractive(key) {\n",
              "          const element = document.querySelector('#df-cf7015f4-4067-4acb-b3c2-5335b382fd68');\n",
              "          const dataTable =\n",
              "            await google.colab.kernel.invokeFunction('convertToInteractive',\n",
              "                                                     [key], {});\n",
              "          if (!dataTable) return;\n",
              "\n",
              "          const docLinkHtml = 'Like what you see? Visit the ' +\n",
              "            '<a target=\"_blank\" href=https://colab.research.google.com/notebooks/data_table.ipynb>data table notebook</a>'\n",
              "            + ' to learn more about interactive tables.';\n",
              "          element.innerHTML = '';\n",
              "          dataTable['output_type'] = 'display_data';\n",
              "          await google.colab.output.renderOutput(dataTable, element);\n",
              "          const docLink = document.createElement('div');\n",
              "          docLink.innerHTML = docLinkHtml;\n",
              "          element.appendChild(docLink);\n",
              "        }\n",
              "      </script>\n",
              "    </div>\n",
              "  </div>\n",
              "  "
            ]
          },
          "metadata": {},
          "execution_count": 11
        }
      ]
    },
    {
      "cell_type": "markdown",
      "source": [
        "\n",
        "\n",
        "*   Most numerical data types could be more skewed right due to their average values being larger than the median values\n",
        "*   34 different brands and 4 operating systems\n",
        "*   The most popular operating system is Android\n",
        "*   The ram column has very similar average and median values meaning there is not much skewness\n",
        "*   The number of days a used/refurbished device has been used has the average lower than the median meaning it could be skewed left\n",
        "\n",
        "\n",
        "\n",
        "\n",
        "\n"
      ],
      "metadata": {
        "id": "PeaHBrbOgh4W"
      }
    },
    {
      "cell_type": "code",
      "source": [
        "df = data.copy()"
      ],
      "metadata": {
        "id": "XOiLls7dmBJq"
      },
      "execution_count": null,
      "outputs": []
    },
    {
      "cell_type": "markdown",
      "metadata": {
        "id": "__7ciGcIDPyk"
      },
      "source": [
        "## Exploratory Data Analysis (EDA)"
      ]
    },
    {
      "cell_type": "markdown",
      "source": [
        "- EDA is an important part of any project involving data.\n",
        "- It is important to investigate and understand the data better before building a model with it.\n",
        "- A few questions have been mentioned below which will help you approach the analysis in the right manner and generate insights from the data.\n",
        "- A thorough analysis of the data, in addition to the questions mentioned below, should be done."
      ],
      "metadata": {
        "id": "3bGVKmh75ri8"
      }
    },
    {
      "cell_type": "markdown",
      "metadata": {
        "id": "oEyqzdJBb0jU"
      },
      "source": [
        "**Questions**:\n",
        "\n",
        "1. What does the distribution of normalized used device prices look like?\n",
        "2. What percentage of the used device market is dominated by Android devices?\n",
        "3. The amount of RAM is important for the smooth functioning of a device. How does the amount of RAM vary with the brand?\n",
        "4. A large battery often increases a device's weight, making it feel uncomfortable in the hands. How does the weight vary for phones and tablets offering large batteries (more than 4500 mAh)?\n",
        "5. Bigger screens are desirable for entertainment purposes as they offer a better viewing experience. How many phones and tablets are available across different brands with a screen size larger than 6 inches?\n",
        "6. A lot of devices nowadays offer great selfie cameras, allowing us to capture our favorite moments with loved ones. What is the distribution of devices offering greater than 8MP selfie cameras across brands?\n",
        "7. Which attributes are highly correlated with the normalized price of a used device?"
      ]
    },
    {
      "cell_type": "code",
      "execution_count": null,
      "metadata": {
        "id": "cN1lyueHttwW"
      },
      "outputs": [],
      "source": [
        "def histogram_boxplot(data, feature, figsize=(13, 8), kde=False, bins=None):\n",
        "\n",
        "    f2, (ax_box2, ax_hist2) = plt.subplots(\n",
        "        nrows=2,\n",
        "        sharex=True,\n",
        "        gridspec_kw={\"height_ratios\": (0.25, 0.75)},\n",
        "        figsize=figsize,\n",
        "    )\n",
        "    sns.boxplot(\n",
        "        data=data, x=feature, ax=ax_box2, showmeans=True, color=\"violet\"\n",
        "    )\n",
        "    sns.histplot(\n",
        "        data=data, x=feature, kde=kde, ax=ax_hist2, bins=bins\n",
        "    ) if bins else sns.histplot(\n",
        "        data=data, x=feature, kde=kde, ax=ax_hist2\n",
        "    )\n",
        "    ax_hist2.axvline(\n",
        "        data[feature].mean(), color=\"green\", linestyle=\"--\"\n",
        "    )\n",
        "    ax_hist2.axvline(\n",
        "        data[feature].median(), color=\"black\", linestyle=\"-\"\n",
        "    )"
      ]
    },
    {
      "cell_type": "code",
      "source": [
        "def labeled_barplot(data, feature, perc=False, n=None):\n",
        "\n",
        "    total = len(data[feature])\n",
        "    count = data[feature].nunique()\n",
        "    if n is None:\n",
        "        plt.figure(figsize=(count + 2, 6))\n",
        "    else:\n",
        "        plt.figure(figsize=(n + 2, 6))\n",
        "\n",
        "    plt.xticks(rotation=90, fontsize=15)\n",
        "    ax = sns.countplot(\n",
        "        data=data,\n",
        "        x=feature,\n",
        "        palette=\"Paired\",\n",
        "        order=data[feature].value_counts().index[:n],\n",
        "    )\n",
        "\n",
        "    for p in ax.patches:\n",
        "        if perc == True:\n",
        "            label = \"{:.1f}%\".format(\n",
        "                100 * p.get_height() / total\n",
        "            )\n",
        "        else:\n",
        "            label = p.get_height()\n",
        "\n",
        "        x = p.get_x() + p.get_width() / 2\n",
        "        y = p.get_height()\n",
        "\n",
        "        ax.annotate(\n",
        "            label,\n",
        "            (x, y),\n",
        "            ha=\"center\",\n",
        "            va=\"center\",\n",
        "            size=12,\n",
        "            xytext=(0, 5),\n",
        "            textcoords=\"offset points\",\n",
        "        )\n",
        "\n",
        "    plt.show()"
      ],
      "metadata": {
        "id": "rSSDGN1VjmKI"
      },
      "execution_count": null,
      "outputs": []
    },
    {
      "cell_type": "code",
      "source": [
        "\n",
        "histogram_boxplot(data, 'normalized_used_price', kde=True)"
      ],
      "metadata": {
        "colab": {
          "base_uri": "https://localhost:8080/",
          "height": 502
        },
        "id": "fsejirUsjw1h",
        "outputId": "4e421f0a-9fe5-47c6-de7a-7ffbdeac2231"
      },
      "execution_count": null,
      "outputs": [
        {
          "output_type": "display_data",
          "data": {
            "text/plain": [
              "<Figure size 936x576 with 2 Axes>"
            ],
            "image/png": "[encoded data removed]"
          },
          "metadata": {}
        }
      ]
    },
    {
      "cell_type": "markdown",
      "source": [
        "What does the distribution of normalized used device prices look like?\n",
        "\n",
        "*  The distribution of normalized used price is normally distributed, but slightly skewed to the left\n",
        "*   There are many outliers that indicate many used phones have an unusually high price\n",
        "\n"
      ],
      "metadata": {
        "id": "j0oDtP7pmxmA"
      }
    },
    {
      "cell_type": "code",
      "source": [
        "histogram_boxplot(data, 'normalized_new_price', kde=True)"
      ],
      "metadata": {
        "colab": {
          "base_uri": "https://localhost:8080/",
          "height": 502
        },
        "id": "61i_tEpKoLWO",
        "outputId": "3c17d6ad-052d-428f-bbf3-a55c1343d641"
      },
      "execution_count": null,
      "outputs": [
        {
          "output_type": "display_data",
          "data": {
            "text/plain": [
              "<Figure size 936x576 with 2 Axes>"
            ],
            "image/png": "[encoded data removed]"
          },
          "metadata": {}
        }
      ]
    },
    {
      "cell_type": "markdown",
      "source": [
        "\n",
        "\n",
        "*   The noralized new price is normally distributed\n",
        "*   There are many outliers that have unusually low and high prices\n",
        "\n"
      ],
      "metadata": {
        "id": "ZuVKX4Ybqn8E"
      }
    },
    {
      "cell_type": "code",
      "source": [
        "histogram_boxplot(data, 'screen_size', kde=True)"
      ],
      "metadata": {
        "colab": {
          "base_uri": "https://localhost:8080/",
          "height": 502
        },
        "id": "q0m8z2CU6W_8",
        "outputId": "b0e036e6-a4a4-4558-8d98-3ebfdf2d8a33"
      },
      "execution_count": null,
      "outputs": [
        {
          "output_type": "display_data",
          "data": {
            "text/plain": [
              "<Figure size 936x576 with 2 Axes>"
            ],
            "image/png": "[encoded data removed]"
          },
          "metadata": {}
        }
      ]
    },
    {
      "cell_type": "code",
      "source": [
        "labeled_barplot(data, \"os\", perc=True)"
      ],
      "metadata": {
        "colab": {
          "base_uri": "https://localhost:8080/",
          "height": 451
        },
        "id": "rYonLfUZs-Fe",
        "outputId": "055dc210-f553-48dd-c428-0f7c32a9d86f"
      },
      "execution_count": null,
      "outputs": [
        {
          "output_type": "display_data",
          "data": {
            "text/plain": [
              "<Figure size 432x432 with 1 Axes>"
            ],
            "image/png": "[encoded data removed]"
          },
          "metadata": {}
        }
      ]
    },
    {
      "cell_type": "markdown",
      "source": [
        "What percentage of the used device market is dominated by Android devices?\n",
        "\n",
        "*   The used device market is dominated by androids at 93.1%\n",
        "\n",
        "\n",
        "\n"
      ],
      "metadata": {
        "id": "Gq1PjayuvFDR"
      }
    },
    {
      "cell_type": "code",
      "source": [
        "plt.figure(figsize=(22,4))\n",
        "sns.boxplot(data = df.sort_values(\"brand_name\", ascending=True), x = \"brand_name\", y=\"ram\");\n",
        "plt.xticks(rotation=90)\n",
        "plt.show()"
      ],
      "metadata": {
        "colab": {
          "base_uri": "https://localhost:8080/",
          "height": 243
        },
        "id": "qSYoTgydvD5V",
        "outputId": "9daa9d30-893a-42c9-a7a4-8d7cd3f0ea2c"
      },
      "execution_count": null,
      "outputs": [
        {
          "output_type": "display_data",
          "data": {
            "text/plain": [
              "<Figure size 1584x288 with 1 Axes>"
            ],
            "image/png": "[encoded data removed]"
          },
          "metadata": {}
        }
      ]
    },
    {
      "cell_type": "code",
      "source": [
        "df.groupby(\"brand_name\")[\"ram\"].mean()"
      ],
      "metadata": {
        "colab": {
          "base_uri": "https://localhost:8080/"
        },
        "id": "mnA5eC8OxJSR",
        "outputId": "b08b1251-212b-4f6d-d11b-7c86efddc9e1"
      },
      "execution_count": null,
      "outputs": [
        {
          "output_type": "execute_result",
          "data": {
            "text/plain": [
              "brand_name\n",
              "Acer          3.901961\n",
              "Alcatel       3.407025\n",
              "Apple         4.000000\n",
              "Asus          4.049180\n",
              "BlackBerry    3.829545\n",
              "Celkon        1.613636\n",
              "Coolpad       3.954545\n",
              "Gionee        3.933036\n",
              "Google        4.533333\n",
              "HTC           4.000000\n",
              "Honor         4.603448\n",
              "Huawei        4.655378\n",
              "Infinix       2.600000\n",
              "Karbonn       3.353448\n",
              "LG            3.936567\n",
              "Lava          3.277778\n",
              "Lenovo        3.885965\n",
              "Meizu         4.451613\n",
              "Micromax      3.679487\n",
              "Microsoft     4.000000\n",
              "Motorola      3.943396\n",
              "Nokia         2.420294\n",
              "OnePlus       6.363636\n",
              "Oppo          4.961240\n",
              "Others        3.777888\n",
              "Panasonic     4.000000\n",
              "Realme        4.195122\n",
              "Samsung       4.199413\n",
              "Sony          4.069767\n",
              "Spice         3.750000\n",
              "Vivo          4.756410\n",
              "XOLO          4.000000\n",
              "Xiaomi        4.583333\n",
              "ZTE           4.023214\n",
              "Name: ram, dtype: float64"
            ]
          },
          "metadata": {},
          "execution_count": 20
        }
      ]
    },
    {
      "cell_type": "markdown",
      "source": [
        "The amount of RAM is important for the smooth functioning of a device. How does the amount of RAM vary with the brand?\n",
        "*   The average amount of RAM for most brands is close to 4 GB\n",
        "*   Celkon has the lowest average RAM and OnePlus has the highest average RAM\n",
        "*   Microsoft only has 4 GB of RAM for their used devices\n",
        "*   There are many outliers indicating high and low RAM amounts for most brands\n",
        "\n",
        "\n",
        "\n",
        "\n"
      ],
      "metadata": {
        "id": "T82I4fLYwB5H"
      }
    },
    {
      "cell_type": "code",
      "source": [
        "df = df[df[\"battery\"]>4500]\n",
        "print(df.shape)"
      ],
      "metadata": {
        "colab": {
          "base_uri": "https://localhost:8080/"
        },
        "id": "ctUIYLi1zT6N",
        "outputId": "42e8092a-a727-405e-d5d2-3cee2886ab03"
      },
      "execution_count": null,
      "outputs": [
        {
          "output_type": "stream",
          "name": "stdout",
          "text": [
            "(341, 15)\n"
          ]
        }
      ]
    },
    {
      "cell_type": "code",
      "source": [
        "(df.corr()[\"weight\"][\"battery\"] , 2)"
      ],
      "metadata": {
        "colab": {
          "base_uri": "https://localhost:8080/"
        },
        "id": "FcRuZlEu0yg-",
        "outputId": "a0101504-dd72-431b-ce3a-41dc0351db96"
      },
      "execution_count": null,
      "outputs": [
        {
          "output_type": "execute_result",
          "data": {
            "text/plain": [
              "(0.757621634751397, 2)"
            ]
          },
          "metadata": {},
          "execution_count": 22
        }
      ]
    },
    {
      "cell_type": "markdown",
      "source": [
        "A large battery often increases a device's weight, making it feel uncomfortable in the hands. How does the weight vary for phones and tablets offering large batteries (more than 4500 mAh)?\n",
        "*   There are 341 devices that have large batteries with more than 4500 mAh\n",
        "*   The correlation between the devices weight and battery is high at 0.8, meaning we can infer that as the battery size increase so does the weight\n",
        "\n"
      ],
      "metadata": {
        "id": "IVBiVCPfzcle"
      }
    },
    {
      "cell_type": "code",
      "source": [
        "df = df[df[\"screen_size\"]>6]\n",
        "print(df.shape)"
      ],
      "metadata": {
        "colab": {
          "base_uri": "https://localhost:8080/"
        },
        "id": "ziuRhv_83Owh",
        "outputId": "a6b70596-9adb-483f-daab-1263b55af045"
      },
      "execution_count": null,
      "outputs": [
        {
          "output_type": "stream",
          "name": "stdout",
          "text": [
            "(341, 15)\n"
          ]
        }
      ]
    },
    {
      "cell_type": "markdown",
      "source": [
        "Bigger screens are desirable for entertainment purposes as they offer a better viewing experience. How many phones and tablets are available across different brands with a screen size larger than 6 inches?\n",
        "\n",
        "*   There are 300 devices with screens larger than 6 inches\n",
        "\n"
      ],
      "metadata": {
        "id": "i4l9gOsA3QUF"
      }
    },
    {
      "cell_type": "code",
      "source": [
        "df = df[df[\"selfie_camera_mp\"]>8]\n",
        "print(df.shape)"
      ],
      "metadata": {
        "colab": {
          "base_uri": "https://localhost:8080/"
        },
        "id": "CzWhBfc952Hi",
        "outputId": "f52f580b-50d9-4e93-95d9-1d0e573f8234"
      },
      "execution_count": null,
      "outputs": [
        {
          "output_type": "stream",
          "name": "stdout",
          "text": [
            "(73, 15)\n"
          ]
        }
      ]
    },
    {
      "cell_type": "markdown",
      "source": [
        "A lot of devices nowadays offer great selfie cameras, allowing us to capture our favorite moments with loved ones. What is the distribution of devices offering greater than 8MP selfie cameras across brands?\n",
        "\n",
        "\n",
        "*   There are 67 devices with selfie cameras that have more than 8MP\n",
        "\n",
        "\n"
      ],
      "metadata": {
        "id": "RB0mGgwv5ypI"
      }
    },
    {
      "cell_type": "code",
      "source": [
        "plt.figure(figsize=(8,8))\n",
        "sns.heatmap(data.corr(), annot=True, vmin=-1, vmax=1, cmap=\"Spectral\", linewidths=0.05);"
      ],
      "metadata": {
        "colab": {
          "base_uri": "https://localhost:8080/",
          "height": 606
        },
        "id": "JrCLgz9EAf5k",
        "outputId": "fa0c5d3b-2370-4ef4-ac91-4dc2260f4980"
      },
      "execution_count": null,
      "outputs": [
        {
          "output_type": "display_data",
          "data": {
            "text/plain": [
              "<Figure size 576x576 with 2 Axes>"
            ],
            "image/png": "[encoded data removed]"
          },
          "metadata": {}
        }
      ]
    },
    {
      "cell_type": "markdown",
      "source": [
        "Which attributes are highly correlated with the normalized price of a used device?\n",
        "\n",
        "*   New and used price are most correlated, the higher the normalized new price is the higher normalized used price increases\n",
        "*   Used price/screen size/selfie camera mp/battery all share a correlation slightly above average, meaning the better those features are it will increase used price\n",
        "*   Used price an internal memory are not very correlated, meaning low or high memory won't affect the used price much\n",
        "*   Used price and days used are negativley correlated, meaning the more days a device is used, the lower the used price is\n",
        "\n",
        "\n",
        "\n",
        "\n",
        "\n"
      ],
      "metadata": {
        "id": "dFwGn-KT7wHo"
      }
    },
    {
      "cell_type": "markdown",
      "metadata": {
        "id": "pVn5toJ7MKte"
      },
      "source": [
        "## Data Preprocessing"
      ]
    },
    {
      "cell_type": "markdown",
      "source": [
        "- Missing value treatment\n",
        "- Feature engineering (if needed)\n",
        "- Outlier detection and treatment (if needed)\n",
        "- Preparing data for modeling\n",
        "- Any other preprocessing steps (if needed)"
      ],
      "metadata": {
        "id": "YcceZiPd5vGV"
      }
    },
    {
      "cell_type": "code",
      "source": [
        "data = data.copy()"
      ],
      "metadata": {
        "id": "V7M-VpnMHeib"
      },
      "execution_count": null,
      "outputs": []
    },
    {
      "cell_type": "code",
      "source": [
        "data.isnull().sum()"
      ],
      "metadata": {
        "colab": {
          "base_uri": "https://localhost:8080/"
        },
        "id": "OjE1kViuAAdb",
        "outputId": "3affd281-90a5-435b-c9f9-a24adf9d1fe4"
      },
      "execution_count": null,
      "outputs": [
        {
          "output_type": "execute_result",
          "data": {
            "text/plain": [
              "brand_name                 0\n",
              "os                         0\n",
              "screen_size                0\n",
              "4g                         0\n",
              "5g                         0\n",
              "main_camera_mp           179\n",
              "selfie_camera_mp           2\n",
              "int_memory                 4\n",
              "ram                        4\n",
              "battery                    6\n",
              "weight                     7\n",
              "release_year               0\n",
              "days_used                  0\n",
              "normalized_used_price      0\n",
              "normalized_new_price       0\n",
              "dtype: int64"
            ]
          },
          "metadata": {},
          "execution_count": 30
        }
      ]
    },
    {
      "cell_type": "code",
      "source": [
        "cols_impute = [\n",
        "    \"main_camera_mp\",\n",
        "    \"selfie_camera_mp\",\n",
        "    \"int_memory\",\n",
        "    \"ram\",\n",
        "    \"battery\",\n",
        "    \"weight\",\n",
        "]\n",
        "\n",
        "for col in cols_impute:\n",
        "    data[col] = data[col].fillna(\n",
        "        value=data.groupby(['release_year','brand_name'])[col].transform(\"median\"))"
      ],
      "metadata": {
        "id": "8uoTgLnfHsKi"
      },
      "execution_count": null,
      "outputs": []
    },
    {
      "cell_type": "code",
      "source": [
        "cols_impute = [\n",
        "    \"main_camera_mp\",\n",
        "    \"selfie_camera_mp\",\n",
        "    \"battery\",\n",
        "    \"weight\",\n",
        "]\n",
        "\n",
        "for col in cols_impute:\n",
        "    data[col] = data[col].fillna(\n",
        "        value=data.groupby(['brand_name'])[col].transform(\"median\"))"
      ],
      "metadata": {
        "id": "OyZLf8djH4Fn"
      },
      "execution_count": null,
      "outputs": []
    },
    {
      "cell_type": "code",
      "source": [
        "data[\"main_camera_mp\"] = data[\"main_camera_mp\"].fillna(data[\"main_camera_mp\"].fillna)"
      ],
      "metadata": {
        "id": "jVvOc35BIDbv"
      },
      "execution_count": null,
      "outputs": []
    },
    {
      "cell_type": "code",
      "source": [
        "data.isnull().sum()"
      ],
      "metadata": {
        "colab": {
          "base_uri": "https://localhost:8080/"
        },
        "id": "eJEx3W0EIEnS",
        "outputId": "ea391bde-0c0c-4055-8d9f-c6dcbda71cfb"
      },
      "execution_count": null,
      "outputs": [
        {
          "output_type": "execute_result",
          "data": {
            "text/plain": [
              "brand_name               0\n",
              "os                       0\n",
              "screen_size              0\n",
              "4g                       0\n",
              "5g                       0\n",
              "main_camera_mp           0\n",
              "selfie_camera_mp         0\n",
              "int_memory               0\n",
              "ram                      0\n",
              "battery                  0\n",
              "weight                   0\n",
              "release_year             0\n",
              "days_used                0\n",
              "normalized_used_price    0\n",
              "normalized_new_price     0\n",
              "dtype: int64"
            ]
          },
          "metadata": {},
          "execution_count": 34
        }
      ]
    },
    {
      "cell_type": "markdown",
      "source": [
        "**Feature engineering**"
      ],
      "metadata": {
        "id": "N_G6fFdKIZg3"
      }
    },
    {
      "cell_type": "code",
      "source": [
        "data[\"years_since_release\"] = 2021 - data[\"release_year\"]\n",
        "data.drop(\"release_year\", axis=1, inplace=True)\n",
        "data[\"years_since_release\"].describe()"
      ],
      "metadata": {
        "colab": {
          "base_uri": "https://localhost:8080/"
        },
        "id": "rFv-zqkZITzN",
        "outputId": "f1212c8a-78f4-47ca-d097-59735030cc5f"
      },
      "execution_count": null,
      "outputs": [
        {
          "output_type": "execute_result",
          "data": {
            "text/plain": [
              "count    3454.000000\n",
              "mean        5.034742\n",
              "std         2.298455\n",
              "min         1.000000\n",
              "25%         3.000000\n",
              "50%         5.500000\n",
              "75%         7.000000\n",
              "max         8.000000\n",
              "Name: years_since_release, dtype: float64"
            ]
          },
          "metadata": {},
          "execution_count": 35
        }
      ]
    },
    {
      "cell_type": "markdown",
      "source": [
        "**Outliers**"
      ],
      "metadata": {
        "id": "uhzyPEurIgEr"
      }
    },
    {
      "cell_type": "code",
      "source": [
        "num_cols = data.select_dtypes(include=np.number).columns.tolist()\n",
        "\n",
        "plt.figure(figsize=(12, 12))\n",
        "\n",
        "for i, variable in enumerate(num_cols):\n",
        "    plt.subplot(4, 3, i + 1)\n",
        "    sns.boxplot(data=data, x=variable)\n",
        "    plt.tight_layout(pad=2)\n",
        "\n",
        "plt.show()"
      ],
      "metadata": {
        "colab": {
          "base_uri": "https://localhost:8080/",
          "height": 847
        },
        "id": "uG8omEPXIjff",
        "outputId": "14b0d644-57b6-437c-ec7d-d666af3f90f0"
      },
      "execution_count": null,
      "outputs": [
        {
          "output_type": "display_data",
          "data": {
            "text/plain": [
              "<Figure size 864x864 with 10 Axes>"
            ],
            "image/png": "[encoded data removed]"
          },
          "metadata": {}
        }
      ]
    },
    {
      "cell_type": "markdown",
      "source": [
        "**Data preperation**"
      ],
      "metadata": {
        "id": "dsBYnVL7JGJD"
      }
    },
    {
      "cell_type": "code",
      "source": [
        "X = data.drop([\"normalized_used_price\"], axis=1)\n",
        "y = data[\"normalized_used_price\"]\n",
        "\n",
        "print(X.head())\n",
        "print()\n",
        "print(y.head())"
      ],
      "metadata": {
        "colab": {
          "base_uri": "https://localhost:8080/"
        },
        "id": "PuIIe6wVJJfI",
        "outputId": "4694be78-8bb9-434d-ebd2-75302b889899"
      },
      "execution_count": null,
      "outputs": [
        {
          "output_type": "stream",
          "name": "stdout",
          "text": [
            "  brand_name       os  screen_size   4g   5g main_camera_mp  selfie_camera_mp  \\\n",
            "0      Honor  Android        14.50  yes   no           13.0               5.0   \n",
            "1      Honor  Android        17.30  yes  yes           13.0              16.0   \n",
            "2      Honor  Android        16.69  yes  yes           13.0               8.0   \n",
            "3      Honor  Android        25.50  yes  yes           13.0               8.0   \n",
            "4      Honor  Android        15.32  yes   no           13.0               8.0   \n",
            "\n",
            "   int_memory  ram  battery  weight  days_used  normalized_new_price  \\\n",
            "0        64.0  3.0   3020.0   146.0        127              4.715100   \n",
            "1       128.0  8.0   4300.0   213.0        325              5.519018   \n",
            "2       128.0  8.0   4200.0   213.0        162              5.884631   \n",
            "3        64.0  6.0   7250.0   480.0        345              5.630961   \n",
            "4        64.0  3.0   5000.0   185.0        293              4.947837   \n",
            "\n",
            "   years_since_release  \n",
            "0                    1  \n",
            "1                    1  \n",
            "2                    1  \n",
            "3                    1  \n",
            "4                    1  \n",
            "\n",
            "0    4.307572\n",
            "1    5.162097\n",
            "2    5.111084\n",
            "3    5.135387\n",
            "4    4.389995\n",
            "Name: normalized_used_price, dtype: float64\n"
          ]
        }
      ]
    },
    {
      "cell_type": "code",
      "source": [
        "X = sm.add_constant(X)"
      ],
      "metadata": {
        "colab": {
          "base_uri": "https://localhost:8080/"
        },
        "id": "35UdK7seJMo-",
        "outputId": "94978f51-a572-4aec-d14e-42bd667842a9"
      },
      "execution_count": null,
      "outputs": [
        {
          "output_type": "stream",
          "name": "stderr",
          "text": [
            "/usr/local/lib/python3.8/dist-packages/statsmodels/tsa/tsatools.py:142: FutureWarning: In a future version of pandas all arguments of concat except for the argument 'objs' will be keyword-only\n",
            "  x = pd.concat(x[::order], 1)\n"
          ]
        }
      ]
    },
    {
      "cell_type": "code",
      "source": [
        "X = pd.get_dummies(\n",
        "    X,\n",
        "    columns=X.select_dtypes(include=[\"object\", \"category\"]).columns.tolist(),\n",
        "    drop_first=True,)\n",
        "X.head()"
      ],
      "metadata": {
        "colab": {
          "base_uri": "https://localhost:8080/",
          "height": 297
        },
        "id": "TewE1l-nJQO5",
        "outputId": "ffb0e74d-a717-4f18-b430-820eca3c3cf1"
      },
      "execution_count": null,
      "outputs": [
        {
          "output_type": "execute_result",
          "data": {
            "text/plain": [
              "   const  screen_size  selfie_camera_mp  int_memory  ram  battery  weight  \\\n",
              "0    1.0        14.50               5.0        64.0  3.0   3020.0   146.0   \n",
              "1    1.0        17.30              16.0       128.0  8.0   4300.0   213.0   \n",
              "2    1.0        16.69               8.0       128.0  8.0   4200.0   213.0   \n",
              "3    1.0        25.50               8.0        64.0  6.0   7250.0   480.0   \n",
              "4    1.0        15.32               8.0        64.0  3.0   5000.0   185.0   \n",
              "\n",
              "   days_used  normalized_new_price  years_since_release  ...  \\\n",
              "0        127              4.715100                    1  ...   \n",
              "1        325              5.519018                    1  ...   \n",
              "2        162              5.884631                    1  ...   \n",
              "3        345              5.630961                    1  ...   \n",
              "4        293              4.947837                    1  ...   \n",
              "\n",
              "   main_camera_mp_20.1  main_camera_mp_12.6  main_camera_mp_16.3  \\\n",
              "0                    0                    0                    0   \n",
              "1                    0                    0                    0   \n",
              "2                    0                    0                    0   \n",
              "3                    0                    0                    0   \n",
              "4                    0                    0                    0   \n",
              "\n",
              "   main_camera_mp_22.6  main_camera_mp_19.0  main_camera_mp_21.5  \\\n",
              "0                    0                    0                    0   \n",
              "1                    0                    0                    0   \n",
              "2                    0                    0                    0   \n",
              "3                    0                    0                    0   \n",
              "4                    0                    0                    0   \n",
              "\n",
              "   main_camera_mp_21.2  main_camera_mp_8.1  main_camera_mp_1.2  \\\n",
              "0                    0                   0                   0   \n",
              "1                    0                   0                   0   \n",
              "2                    0                   0                   0   \n",
              "3                    0                   0                   0   \n",
              "4                    0                   0                   0   \n",
              "\n",
              "   main_camera_mp_22.5  \n",
              "0                    0  \n",
              "1                    0  \n",
              "2                    0  \n",
              "3                    0  \n",
              "4                    0  \n",
              "\n",
              "[5 rows x 89 columns]"
            ],
            "text/html": [
              "\n",
              "  <div id=\"df-d004f643-08eb-4d6e-be25-862da09f2b3f\">\n",
              "    <div class=\"colab-df-container\">\n",
              "      <div>\n",
              "<style scoped>\n",
              "    .dataframe tbody tr th:only-of-type {\n",
              "        vertical-align: middle;\n",
              "    }\n",
              "\n",
              "    .dataframe tbody tr th {\n",
              "        vertical-align: top;\n",
              "    }\n",
              "\n",
              "    .dataframe thead th {\n",
              "        text-align: right;\n",
              "    }\n",
              "</style>\n",
              "<table border=\"1\" class=\"dataframe\">\n",
              "  <thead>\n",
              "    <tr style=\"text-align: right;\">\n",
              "      <th></th>\n",
              "      <th>const</th>\n",
              "      <th>screen_size</th>\n",
              "      <th>selfie_camera_mp</th>\n",
              "      <th>int_memory</th>\n",
              "      <th>ram</th>\n",
              "      <th>battery</th>\n",
              "      <th>weight</th>\n",
              "      <th>days_used</th>\n",
              "      <th>normalized_new_price</th>\n",
              "      <th>years_since_release</th>\n",
              "      <th>...</th>\n",
              "      <th>main_camera_mp_20.1</th>\n",
              "      <th>main_camera_mp_12.6</th>\n",
              "      <th>main_camera_mp_16.3</th>\n",
              "      <th>main_camera_mp_22.6</th>\n",
              "      <th>main_camera_mp_19.0</th>\n",
              "      <th>main_camera_mp_21.5</th>\n",
              "      <th>main_camera_mp_21.2</th>\n",
              "      <th>main_camera_mp_8.1</th>\n",
              "      <th>main_camera_mp_1.2</th>\n",
              "      <th>main_camera_mp_22.5</th>\n",
              "    </tr>\n",
              "  </thead>\n",
              "  <tbody>\n",
              "    <tr>\n",
              "      <th>0</th>\n",
              "      <td>1.0</td>\n",
              "      <td>14.50</td>\n",
              "      <td>5.0</td>\n",
              "      <td>64.0</td>\n",
              "      <td>3.0</td>\n",
              "      <td>3020.0</td>\n",
              "      <td>146.0</td>\n",
              "      <td>127</td>\n",
              "      <td>4.715100</td>\n",
              "      <td>1</td>\n",
              "      <td>...</td>\n",
              "      <td>0</td>\n",
              "      <td>0</td>\n",
              "      <td>0</td>\n",
              "      <td>0</td>\n",
              "      <td>0</td>\n",
              "      <td>0</td>\n",
              "      <td>0</td>\n",
              "      <td>0</td>\n",
              "      <td>0</td>\n",
              "      <td>0</td>\n",
              "    </tr>\n",
              "    <tr>\n",
              "      <th>1</th>\n",
              "      <td>1.0</td>\n",
              "      <td>17.30</td>\n",
              "      <td>16.0</td>\n",
              "      <td>128.0</td>\n",
              "      <td>8.0</td>\n",
              "      <td>4300.0</td>\n",
              "      <td>213.0</td>\n",
              "      <td>325</td>\n",
              "      <td>5.519018</td>\n",
              "      <td>1</td>\n",
              "      <td>...</td>\n",
              "      <td>0</td>\n",
              "      <td>0</td>\n",
              "      <td>0</td>\n",
              "      <td>0</td>\n",
              "      <td>0</td>\n",
              "      <td>0</td>\n",
              "      <td>0</td>\n",
              "      <td>0</td>\n",
              "      <td>0</td>\n",
              "      <td>0</td>\n",
              "    </tr>\n",
              "    <tr>\n",
              "      <th>2</th>\n",
              "      <td>1.0</td>\n",
              "      <td>16.69</td>\n",
              "      <td>8.0</td>\n",
              "      <td>128.0</td>\n",
              "      <td>8.0</td>\n",
              "      <td>4200.0</td>\n",
              "      <td>213.0</td>\n",
              "      <td>162</td>\n",
              "      <td>5.884631</td>\n",
              "      <td>1</td>\n",
              "      <td>...</td>\n",
              "      <td>0</td>\n",
              "      <td>0</td>\n",
              "      <td>0</td>\n",
              "      <td>0</td>\n",
              "      <td>0</td>\n",
              "      <td>0</td>\n",
              "      <td>0</td>\n",
              "      <td>0</td>\n",
              "      <td>0</td>\n",
              "      <td>0</td>\n",
              "    </tr>\n",
              "    <tr>\n",
              "      <th>3</th>\n",
              "      <td>1.0</td>\n",
              "      <td>25.50</td>\n",
              "      <td>8.0</td>\n",
              "      <td>64.0</td>\n",
              "      <td>6.0</td>\n",
              "      <td>7250.0</td>\n",
              "      <td>480.0</td>\n",
              "      <td>345</td>\n",
              "      <td>5.630961</td>\n",
              "      <td>1</td>\n",
              "      <td>...</td>\n",
              "      <td>0</td>\n",
              "      <td>0</td>\n",
              "      <td>0</td>\n",
              "      <td>0</td>\n",
              "      <td>0</td>\n",
              "      <td>0</td>\n",
              "      <td>0</td>\n",
              "      <td>0</td>\n",
              "      <td>0</td>\n",
              "      <td>0</td>\n",
              "    </tr>\n",
              "    <tr>\n",
              "      <th>4</th>\n",
              "      <td>1.0</td>\n",
              "      <td>15.32</td>\n",
              "      <td>8.0</td>\n",
              "      <td>64.0</td>\n",
              "      <td>3.0</td>\n",
              "      <td>5000.0</td>\n",
              "      <td>185.0</td>\n",
              "      <td>293</td>\n",
              "      <td>4.947837</td>\n",
              "      <td>1</td>\n",
              "      <td>...</td>\n",
              "      <td>0</td>\n",
              "      <td>0</td>\n",
              "      <td>0</td>\n",
              "      <td>0</td>\n",
              "      <td>0</td>\n",
              "      <td>0</td>\n",
              "      <td>0</td>\n",
              "      <td>0</td>\n",
              "      <td>0</td>\n",
              "      <td>0</td>\n",
              "    </tr>\n",
              "  </tbody>\n",
              "</table>\n",
              "<p>5 rows × 89 columns</p>\n",
              "</div>\n",
              "      <button class=\"colab-df-convert\" onclick=\"convertToInteractive('df-d004f643-08eb-4d6e-be25-862da09f2b3f')\"\n",
              "              title=\"Convert this dataframe to an interactive table.\"\n",
              "              style=\"display:none;\">\n",
              "        \n",
              "  <svg xmlns=\"http://www.w3.org/2000/svg\" height=\"24px\"viewBox=\"0 0 24 24\"\n",
              "       width=\"24px\">\n",
              "    <path d=\"M0 0h24v24H0V0z\" fill=\"none\"/>\n",
              "    <path d=\"M18.56 5.44l.94 2.06.94-2.06 2.06-.94-2.06-.94-.94-2.06-.94 2.06-2.06.94zm-11 1L8.5 8.5l.94-2.06 2.06-.94-2.06-.94L8.5 2.5l-.94 2.06-2.06.94zm10 10l.94 2.06.94-2.06 2.06-.94-2.06-.94-.94-2.06-.94 2.06-2.06.94z\"/><path d=\"M17.41 7.96l-1.37-1.37c-.4-.4-.92-.59-1.43-.59-.52 0-1.04.2-1.43.59L10.3 9.45l-7.72 7.72c-.78.78-.78 2.05 0 2.83L4 21.41c.39.39.9.59 1.41.59.51 0 1.02-.2 1.41-.59l7.78-7.78 2.81-2.81c.8-.78.8-2.07 0-2.86zM5.41 20L4 18.59l7.72-7.72 1.47 1.35L5.41 20z\"/>\n",
              "  </svg>\n",
              "      </button>\n",
              "      \n",
              "  <style>\n",
              "    .colab-df-container {\n",
              "      display:flex;\n",
              "      flex-wrap:wrap;\n",
              "      gap: 12px;\n",
              "    }\n",
              "\n",
              "    .colab-df-convert {\n",
              "      background-color: #E8F0FE;\n",
              "      border: none;\n",
              "      border-radius: 50%;\n",
              "      cursor: pointer;\n",
              "      display: none;\n",
              "      fill: #1967D2;\n",
              "      height: 32px;\n",
              "      padding: 0 0 0 0;\n",
              "      width: 32px;\n",
              "    }\n",
              "\n",
              "    .colab-df-convert:hover {\n",
              "      background-color: #E2EBFA;\n",
              "      box-shadow: 0px 1px 2px rgba(60, 64, 67, 0.3), 0px 1px 3px 1px rgba(60, 64, 67, 0.15);\n",
              "      fill: #174EA6;\n",
              "    }\n",
              "\n",
              "    [theme=dark] .colab-df-convert {\n",
              "      background-color: #3B4455;\n",
              "      fill: #D2E3FC;\n",
              "    }\n",
              "\n",
              "    [theme=dark] .colab-df-convert:hover {\n",
              "      background-color: #434B5C;\n",
              "      box-shadow: 0px 1px 3px 1px rgba(0, 0, 0, 0.15);\n",
              "      filter: drop-shadow(0px 1px 2px rgba(0, 0, 0, 0.3));\n",
              "      fill: #FFFFFF;\n",
              "    }\n",
              "  </style>\n",
              "\n",
              "      <script>\n",
              "        const buttonEl =\n",
              "          document.querySelector('#df-d004f643-08eb-4d6e-be25-862da09f2b3f button.colab-df-convert');\n",
              "        buttonEl.style.display =\n",
              "          google.colab.kernel.accessAllowed ? 'block' : 'none';\n",
              "\n",
              "        async function convertToInteractive(key) {\n",
              "          const element = document.querySelector('#df-d004f643-08eb-4d6e-be25-862da09f2b3f');\n",
              "          const dataTable =\n",
              "            await google.colab.kernel.invokeFunction('convertToInteractive',\n",
              "                                                     [key], {});\n",
              "          if (!dataTable) return;\n",
              "\n",
              "          const docLinkHtml = 'Like what you see? Visit the ' +\n",
              "            '<a target=\"_blank\" href=https://colab.research.google.com/notebooks/data_table.ipynb>data table notebook</a>'\n",
              "            + ' to learn more about interactive tables.';\n",
              "          element.innerHTML = '';\n",
              "          dataTable['output_type'] = 'display_data';\n",
              "          await google.colab.output.renderOutput(dataTable, element);\n",
              "          const docLink = document.createElement('div');\n",
              "          docLink.innerHTML = docLinkHtml;\n",
              "          element.appendChild(docLink);\n",
              "        }\n",
              "      </script>\n",
              "    </div>\n",
              "  </div>\n",
              "  "
            ]
          },
          "metadata": {},
          "execution_count": 39
        }
      ]
    },
    {
      "cell_type": "code",
      "source": [
        "x_train, x_test, y_train, y_test = train_test_split(X,y,test_size=0.3, random_state=42)"
      ],
      "metadata": {
        "id": "aHX_OAibJYo9"
      },
      "execution_count": null,
      "outputs": []
    },
    {
      "cell_type": "code",
      "source": [
        "print(\"Number of rows in train data =\", x_train.shape[0])\n",
        "print(\"Number of rows in test data =\", x_test.shape[0])"
      ],
      "metadata": {
        "colab": {
          "base_uri": "https://localhost:8080/"
        },
        "id": "JoIQr-pXJf0x",
        "outputId": "91ba2d64-77f4-4eaa-a3f5-ebc5efb93f67"
      },
      "execution_count": null,
      "outputs": [
        {
          "output_type": "stream",
          "name": "stdout",
          "text": [
            "Number of rows in train data = 2417\n",
            "Number of rows in test data = 1037\n"
          ]
        }
      ]
    },
    {
      "cell_type": "markdown",
      "metadata": {
        "id": "HeUzI1OB4rqM"
      },
      "source": [
        "## Model Building - Linear Regression"
      ]
    },
    {
      "cell_type": "code",
      "execution_count": null,
      "metadata": {
        "id": "ZNRiMg0wMKth",
        "colab": {
          "base_uri": "https://localhost:8080/"
        },
        "outputId": "8435737d-92cc-4b93-dab5-2071f6937ad3"
      },
      "outputs": [
        {
          "output_type": "stream",
          "name": "stdout",
          "text": [
            "                              OLS Regression Results                             \n",
            "=================================================================================\n",
            "Dep. Variable:     normalized_used_price   R-squared:                       0.853\n",
            "Model:                               OLS   Adj. R-squared:                  0.848\n",
            "Method:                    Least Squares   F-statistic:                     167.5\n",
            "Date:                   Tue, 31 Jan 2023   Prob (F-statistic):               0.00\n",
            "Time:                           03:11:58   Log-Likelihood:                 159.73\n",
            "No. Observations:                   2417   AIC:                            -155.5\n",
            "Df Residuals:                       2335   BIC:                             319.3\n",
            "Df Model:                             81                                         \n",
            "Covariance Type:               nonrobust                                         \n",
            "====================================================================================================================================================================================================================================================================================================================\n",
            "                                                                                                                                                                                                                                                       coef    std err          t      P>|t|      [0.025      0.975]\n",
            "--------------------------------------------------------------------------------------------------------------------------------------------------------------------------------------------------------------------------------------------------------------------------------------------------------------------\n",
            "const                                                                                                                                                                                                                                                1.8251      0.081     22.610      0.000       1.667       1.983\n",
            "screen_size                                                                                                                                                                                                                                          0.0284      0.004      7.964      0.000       0.021       0.035\n",
            "selfie_camera_mp                                                                                                                                                                                                                                     0.0119      0.001     10.099      0.000       0.010       0.014\n",
            "int_memory                                                                                                                                                                                                                                           0.0002   6.87e-05      3.149      0.002    8.16e-05       0.000\n",
            "ram                                                                                                                                                                                                                                                  0.0302      0.005      5.691      0.000       0.020       0.041\n",
            "battery                                                                                                                                                                                                                                          -1.756e-05    7.5e-06     -2.340      0.019   -3.23e-05   -2.84e-06\n",
            "weight                                                                                                                                                                                                                                               0.0009      0.000      6.522      0.000       0.001       0.001\n",
            "days_used                                                                                                                                                                                                                                         2.441e-05    3.1e-05      0.788      0.431   -3.64e-05    8.52e-05\n",
            "normalized_new_price                                                                                                                                                                                                                                 0.3955      0.013     30.905      0.000       0.370       0.421\n",
            "years_since_release                                                                                                                                                                                                                                 -0.0231      0.005     -4.906      0.000      -0.032      -0.014\n",
            "brand_name_Alcatel                                                                                                                                                                                                                                  -0.1019      0.050     -2.041      0.041      -0.200      -0.004\n",
            "brand_name_Apple                                                                                                                                                                                                                                    -0.1266      0.148     -0.854      0.393      -0.417       0.164\n",
            "brand_name_Asus                                                                                                                                                                                                                                     -0.0169      0.049     -0.343      0.732      -0.113       0.080\n",
            "brand_name_BlackBerry                                                                                                                                                                                                                               -0.0006      0.074     -0.008      0.994      -0.145       0.144\n",
            "brand_name_Celkon                                                                                                                                                                                                                                   -0.2454      0.069     -3.568      0.000      -0.380      -0.111\n",
            "brand_name_Coolpad                                                                                                                                                                                                                                  -0.0608      0.071     -0.861      0.389      -0.199       0.078\n",
            "brand_name_Gionee                                                                                                                                                                                                                                   -0.0369      0.058     -0.631      0.528      -0.151       0.078\n",
            "brand_name_Google                                                                                                                                                                                                                                   -0.0434      0.174     -0.249      0.804      -0.385       0.299\n",
            "brand_name_HTC                                                                                                                                                                                                                                      -0.0584      0.051     -1.150      0.250      -0.158       0.041\n",
            "brand_name_Honor                                                                                                                                                                                                                                    -0.0739      0.051     -1.454      0.146      -0.173       0.026\n",
            "brand_name_Huawei                                                                                                                                                                                                                                   -0.0979      0.046     -2.112      0.035      -0.189      -0.007\n",
            "brand_name_Infinix                                                                                                                                                                                                                                  -0.0095      0.057     -0.167      0.867      -0.120       0.101\n",
            "brand_name_Karbonn                                                                                                                                                                                                                                  -0.0850      0.068     -1.250      0.211      -0.218       0.048\n",
            "brand_name_LG                                                                                                                                                                                                                                       -0.0781      0.047     -1.662      0.097      -0.170       0.014\n",
            "brand_name_Lava                                                                                                                                                                                                                                     -0.0497      0.063     -0.790      0.430      -0.173       0.074\n",
            "brand_name_Lenovo                                                                                                                                                                                                                                   -0.0620      0.047     -1.313      0.189      -0.155       0.031\n",
            "brand_name_Meizu                                                                                                                                                                                                                                    -0.1117      0.056     -1.986      0.047      -0.222      -0.001\n",
            "brand_name_Micromax                                                                                                                                                                                                                                 -0.0735      0.049     -1.505      0.132      -0.169       0.022\n",
            "brand_name_Microsoft                                                                                                                                                                                                                                 0.0536      0.083      0.648      0.517      -0.109       0.216\n",
            "brand_name_Motorola                                                                                                                                                                                                                                 -0.0798      0.051     -1.562      0.118      -0.180       0.020\n",
            "brand_name_Nokia                                                                                                                                                                                                                                     0.0448      0.053      0.851      0.395      -0.058       0.148\n",
            "brand_name_OnePlus                                                                                                                                                                                                                                  -0.0562      0.073     -0.767      0.443      -0.200       0.087\n",
            "brand_name_Oppo                                                                                                                                                                                                                                     -0.0508      0.049     -1.034      0.301      -0.147       0.046\n",
            "brand_name_Others                                                                                                                                                                                                                                   -0.0827      0.044     -1.899      0.058      -0.168       0.003\n",
            "brand_name_Panasonic                                                                                                                                                                                                                                -0.0721      0.062     -1.169      0.243      -0.193       0.049\n",
            "brand_name_Realme                                                                                                                                                                                                                                   -0.0673      0.063     -1.064      0.288      -0.191       0.057\n",
            "brand_name_Samsung                                                                                                                                                                                                                                  -0.0883      0.045     -1.958      0.050      -0.177       0.000\n",
            "brand_name_Sony                                                                                                                                                                                                                                     -0.0791      0.059     -1.333      0.183      -0.196       0.037\n",
            "brand_name_Spice                                                                                                                                                                                                                                    -0.0580      0.068     -0.848      0.396      -0.192       0.076\n",
            "brand_name_Vivo                                                                                                                                                                                                                                     -0.0883      0.050     -1.749      0.080      -0.187       0.011\n",
            "brand_name_XOLO                                                                                                                                                                                                                                     -0.1038      0.057     -1.815      0.070      -0.216       0.008\n",
            "brand_name_Xiaomi                                                                                                                                                                                                                                   -0.0014      0.050     -0.027      0.978      -0.099       0.097\n",
            "brand_name_ZTE                                                                                                                                                                                                                                      -0.0565      0.049     -1.160      0.246      -0.152       0.039\n",
            "os_Others                                                                                                                                                                                                                                           -0.0105      0.035     -0.300      0.764      -0.079       0.058\n",
            "os_Windows                                                                                                                                                                                                                                          -0.0154      0.045     -0.341      0.733      -0.104       0.073\n",
            "os_iOS                                                                                                                                                                                                                                               0.0422      0.148      0.286      0.775      -0.247       0.331\n",
            "4g_yes                                                                                                                                                                                                                                               0.0393      0.016      2.399      0.017       0.007       0.071\n",
            "5g_yes                                                                                                                                                                                                                                              -0.0904      0.033     -2.766      0.006      -0.155      -0.026\n",
            "main_camera_mp_8.0                                                                                                                                                                                                                                  -0.1261      0.015     -8.502      0.000      -0.155      -0.097\n",
            "main_camera_mp_5.0                                                                                                                                                                                                                                  -0.2171      0.019    -11.326      0.000      -0.255      -0.180\n",
            "main_camera_mp_10.5                                                                                                                                                                                                                                  0.0836      0.063      1.336      0.182      -0.039       0.206\n",
            "main_camera_mp_3.15                                                                                                                                                                                                                                 -0.2538      0.032     -8.004      0.000      -0.316      -0.192\n",
            "main_camera_mp_<bound method Series.fillna of 0       13.0\n",
            "1       13.0\n",
            "2       13.0\n",
            "3       13.0\n",
            "4       13.0\n",
            "        ... \n",
            "3449    13.0\n",
            "3450    13.0\n",
            "3451    13.0\n",
            "3452    13.0\n",
            "3453    13.0\n",
            "Name: main_camera_mp, Length: 3454, dtype: float64>    -0.0095      0.057     -0.167      0.867      -0.120       0.101\n",
            "main_camera_mp_2.0                                                                                                                                                                                                                                  -0.3042      0.029    -10.355      0.000      -0.362      -0.247\n",
            "main_camera_mp_16.0                                                                                                                                                                                                                                  0.0873      0.024      3.646      0.000       0.040       0.134\n",
            "main_camera_mp_0.3                                                                                                                                                                                                                                  -0.4737      0.042    -11.195      0.000      -0.557      -0.391\n",
            "main_camera_mp_12.0                                                                                                                                                                                                                                 -0.0057      0.024     -0.241      0.809      -0.052       0.041\n",
            "main_camera_mp_14.5                                                                                                                                                                                                                                 -0.0710      0.073     -0.966      0.334      -0.215       0.073\n",
            "main_camera_mp_48.0                                                                                                                                                                                                                                  0.2429      0.165      1.476      0.140      -0.080       0.566\n",
            "main_camera_mp_3.0                                                                                                                                                                                                                                   0.0932      0.234      0.398      0.690      -0.366       0.552\n",
            "main_camera_mp_21.0                                                                                                                                                                                                                                  0.0672      0.062      1.091      0.276      -0.054       0.188\n",
            "main_camera_mp_1.3                                                                                                                                                                                                                                  -0.4407      0.059     -7.464      0.000      -0.556      -0.325\n",
            "main_camera_mp_13.1                                                                                                                                                                                                                                 -0.0731      0.118     -0.621      0.535      -0.304       0.158\n",
            "main_camera_mp_24.0                                                                                                                                                                                                                                  0.0416      0.164      0.253      0.800      -0.280       0.363\n",
            "main_camera_mp_0.08                                                                                                                                                                                                                                 -0.4768      0.235     -2.032      0.042      -0.937      -0.017\n",
            "main_camera_mp_20.7                                                                                                                                                                                                                                  0.1748      0.083      2.113      0.035       0.013       0.337\n",
            "main_camera_mp_23.0                                                                                                                                                                                                                                  0.2251      0.065      3.458      0.001       0.097       0.353\n",
            "main_camera_mp_1.0                                                                                                                                                                                                                                4.449e-17   1.09e-16      0.409      0.682   -1.69e-16    2.58e-16\n",
            "main_camera_mp_18.0                                                                                                                                                                                                                                 -0.0734      0.238     -0.308      0.758      -0.541       0.394\n",
            "main_camera_mp_12.2                                                                                                                                                                                                                                 -0.1294      0.187     -0.693      0.489      -0.496       0.237\n",
            "main_camera_mp_12.3                                                                                                                                                                                                                                 -0.0436      0.087     -0.504      0.615      -0.213       0.126\n",
            "main_camera_mp_20.0                                                                                                                                                                                                                                  0.0660      0.072      0.920      0.357      -0.075       0.207\n",
            "main_camera_mp_20.2                                                                                                                                                                                                                              -1.396e-16   8.84e-17     -1.579      0.114   -3.13e-16    3.38e-17\n",
            "main_camera_mp_4.0                                                                                                                                                                                                                                  -0.2347      0.083     -2.842      0.005      -0.397      -0.073\n",
            "main_camera_mp_12.5                                                                                                                                                                                                                                  0.1505      0.117      1.283      0.200      -0.079       0.380\n",
            "main_camera_mp_10.0                                                                                                                                                                                                                                 -0.1619      0.119     -1.364      0.173      -0.395       0.071\n",
            "main_camera_mp_6.5                                                                                                                                                                                                                                  -0.1167      0.135     -0.864      0.388      -0.382       0.148\n",
            "main_camera_mp_6.7                                                                                                                                                                                                                                  -0.4113      0.143     -2.880      0.004      -0.691      -0.131\n",
            "main_camera_mp_41.0                                                                                                                                                                                                                               5.912e-17   7.27e-17      0.813      0.416   -8.35e-17    2.02e-16\n",
            "main_camera_mp_20.1                                                                                                                                                                                                                              -7.213e-18   1.53e-17     -0.472      0.637   -3.72e-17    2.28e-17\n",
            "main_camera_mp_12.6                                                                                                                                                                                                                                 -0.4480      0.232     -1.935      0.053      -0.902       0.006\n",
            "main_camera_mp_16.3                                                                                                                                                                                                                               1.551e-17   2.58e-17      0.602      0.547    -3.5e-17     6.6e-17\n",
            "main_camera_mp_22.6                                                                                                                                                                                                                                       0          0        nan        nan           0           0\n",
            "main_camera_mp_19.0                                                                                                                                                                                                                                 -0.0193      0.104     -0.186      0.853      -0.223       0.184\n",
            "main_camera_mp_21.5                                                                                                                                                                                                                                  0.1035      0.235      0.440      0.660      -0.358       0.564\n",
            "main_camera_mp_21.2                                                                                                                                                                                                                                 -0.0164      0.235     -0.070      0.944      -0.477       0.444\n",
            "main_camera_mp_8.1                                                                                                                                                                                                                                  -0.0492      0.125     -0.393      0.694      -0.294       0.196\n",
            "main_camera_mp_1.2                                                                                                                                                                                                                                  -0.0850      0.235     -0.361      0.718      -0.546       0.376\n",
            "main_camera_mp_22.5                                                                                                                                                                                                                                  0.1810      0.232      0.780      0.435      -0.274       0.636\n",
            "==============================================================================\n",
            "Omnibus:                      228.114   Durbin-Watson:                   1.994\n",
            "Prob(Omnibus):                  0.000   Jarque-Bera (JB):              588.912\n",
            "Skew:                          -0.534   Prob(JB):                    1.32e-128\n",
            "Kurtosis:                       5.170   Cond. No.                     4.25e+19\n",
            "==============================================================================\n",
            "\n",
            "Notes:\n",
            "[1] Standard Errors assume that the covariance matrix of the errors is correctly specified.\n",
            "[2] The smallest eigenvalue is 1.59e-29. This might indicate that there are\n",
            "strong multicollinearity problems or that the design matrix is singular.\n"
          ]
        }
      ],
      "source": [
        "olsmodel1 = sm.OLS(y_train, x_train).fit()\n",
        "print(olsmodel1.summary())"
      ]
    },
    {
      "cell_type": "markdown",
      "metadata": {
        "id": "jvoU3F6oMKti"
      },
      "source": [
        "## Model Performance Check"
      ]
    },
    {
      "cell_type": "code",
      "execution_count": null,
      "metadata": {
        "id": "k3e6gzxdMKti"
      },
      "outputs": [],
      "source": [
        "def adj_r2_score(predictors, targets, predictions):\n",
        "    r2 = r2_score(targets, predictions)\n",
        "    n = predictors.shape[0]\n",
        "    k = predictors.shape[1]\n",
        "    return 1 - ((1 - r2) * (n - 1) / (n - k - 1))\n",
        "\n",
        "\n",
        "def mape_score(targets, predictions):\n",
        "    return np.mean(np.abs(targets - predictions) / targets) * 100\n",
        "\n",
        "\n",
        "def model_performance_regression(model, predictors, target):\n",
        "\n",
        "\n",
        "\n",
        "    pred = model.predict(predictors)\n",
        "\n",
        "    r2 = r2_score(target, pred)\n",
        "    adjr2 = adj_r2_score(predictors, target, pred)\n",
        "    rmse = np.sqrt(mean_squared_error(target, pred))\n",
        "    mae = mean_absolute_error(target, pred)\n",
        "    mape = mape_score(target, pred)\n",
        "\n",
        "\n",
        "    df_perf = pd.DataFrame(\n",
        "        {\n",
        "            \"RMSE\": rmse,\n",
        "            \"MAE\": mae,\n",
        "            \"R-squared\": r2,\n",
        "            \"Adj. R-squared\": adjr2,\n",
        "            \"MAPE\": mape,\n",
        "        },\n",
        "        index=[0],\n",
        "    )\n",
        "\n",
        "    return df_perf"
      ]
    },
    {
      "cell_type": "code",
      "source": [
        "print(\"Training Performance\\n\")\n",
        "olsmodel1_train_perf = model_performance_regression(olsmodel1, x_train, y_train)\n",
        "olsmodel1_train_perf"
      ],
      "metadata": {
        "colab": {
          "base_uri": "https://localhost:8080/",
          "height": 114
        },
        "id": "4ZDD8H5UJ_TW",
        "outputId": "7eca072f-1908-4eb1-c378-e8c47a8b7c38"
      },
      "execution_count": null,
      "outputs": [
        {
          "output_type": "stream",
          "name": "stdout",
          "text": [
            "Training Performance\n",
            "\n"
          ]
        },
        {
          "output_type": "execute_result",
          "data": {
            "text/plain": [
              "       RMSE       MAE  R-squared  Adj. R-squared      MAPE\n",
              "0  0.226496  0.175532    0.85315        0.847533  4.216428"
            ],
            "text/html": [
              "\n",
              "  <div id=\"df-69b85001-1bc4-4c5c-ba91-b8ef73266051\">\n",
              "    <div class=\"colab-df-container\">\n",
              "      <div>\n",
              "<style scoped>\n",
              "    .dataframe tbody tr th:only-of-type {\n",
              "        vertical-align: middle;\n",
              "    }\n",
              "\n",
              "    .dataframe tbody tr th {\n",
              "        vertical-align: top;\n",
              "    }\n",
              "\n",
              "    .dataframe thead th {\n",
              "        text-align: right;\n",
              "    }\n",
              "</style>\n",
              "<table border=\"1\" class=\"dataframe\">\n",
              "  <thead>\n",
              "    <tr style=\"text-align: right;\">\n",
              "      <th></th>\n",
              "      <th>RMSE</th>\n",
              "      <th>MAE</th>\n",
              "      <th>R-squared</th>\n",
              "      <th>Adj. R-squared</th>\n",
              "      <th>MAPE</th>\n",
              "    </tr>\n",
              "  </thead>\n",
              "  <tbody>\n",
              "    <tr>\n",
              "      <th>0</th>\n",
              "      <td>0.226496</td>\n",
              "      <td>0.175532</td>\n",
              "      <td>0.85315</td>\n",
              "      <td>0.847533</td>\n",
              "      <td>4.216428</td>\n",
              "    </tr>\n",
              "  </tbody>\n",
              "</table>\n",
              "</div>\n",
              "      <button class=\"colab-df-convert\" onclick=\"convertToInteractive('df-69b85001-1bc4-4c5c-ba91-b8ef73266051')\"\n",
              "              title=\"Convert this dataframe to an interactive table.\"\n",
              "              style=\"display:none;\">\n",
              "        \n",
              "  <svg xmlns=\"http://www.w3.org/2000/svg\" height=\"24px\"viewBox=\"0 0 24 24\"\n",
              "       width=\"24px\">\n",
              "    <path d=\"M0 0h24v24H0V0z\" fill=\"none\"/>\n",
              "    <path d=\"M18.56 5.44l.94 2.06.94-2.06 2.06-.94-2.06-.94-.94-2.06-.94 2.06-2.06.94zm-11 1L8.5 8.5l.94-2.06 2.06-.94-2.06-.94L8.5 2.5l-.94 2.06-2.06.94zm10 10l.94 2.06.94-2.06 2.06-.94-2.06-.94-.94-2.06-.94 2.06-2.06.94z\"/><path d=\"M17.41 7.96l-1.37-1.37c-.4-.4-.92-.59-1.43-.59-.52 0-1.04.2-1.43.59L10.3 9.45l-7.72 7.72c-.78.78-.78 2.05 0 2.83L4 21.41c.39.39.9.59 1.41.59.51 0 1.02-.2 1.41-.59l7.78-7.78 2.81-2.81c.8-.78.8-2.07 0-2.86zM5.41 20L4 18.59l7.72-7.72 1.47 1.35L5.41 20z\"/>\n",
              "  </svg>\n",
              "      </button>\n",
              "      \n",
              "  <style>\n",
              "    .colab-df-container {\n",
              "      display:flex;\n",
              "      flex-wrap:wrap;\n",
              "      gap: 12px;\n",
              "    }\n",
              "\n",
              "    .colab-df-convert {\n",
              "      background-color: #E8F0FE;\n",
              "      border: none;\n",
              "      border-radius: 50%;\n",
              "      cursor: pointer;\n",
              "      display: none;\n",
              "      fill: #1967D2;\n",
              "      height: 32px;\n",
              "      padding: 0 0 0 0;\n",
              "      width: 32px;\n",
              "    }\n",
              "\n",
              "    .colab-df-convert:hover {\n",
              "      background-color: #E2EBFA;\n",
              "      box-shadow: 0px 1px 2px rgba(60, 64, 67, 0.3), 0px 1px 3px 1px rgba(60, 64, 67, 0.15);\n",
              "      fill: #174EA6;\n",
              "    }\n",
              "\n",
              "    [theme=dark] .colab-df-convert {\n",
              "      background-color: #3B4455;\n",
              "      fill: #D2E3FC;\n",
              "    }\n",
              "\n",
              "    [theme=dark] .colab-df-convert:hover {\n",
              "      background-color: #434B5C;\n",
              "      box-shadow: 0px 1px 3px 1px rgba(0, 0, 0, 0.15);\n",
              "      filter: drop-shadow(0px 1px 2px rgba(0, 0, 0, 0.3));\n",
              "      fill: #FFFFFF;\n",
              "    }\n",
              "  </style>\n",
              "\n",
              "      <script>\n",
              "        const buttonEl =\n",
              "          document.querySelector('#df-69b85001-1bc4-4c5c-ba91-b8ef73266051 button.colab-df-convert');\n",
              "        buttonEl.style.display =\n",
              "          google.colab.kernel.accessAllowed ? 'block' : 'none';\n",
              "\n",
              "        async function convertToInteractive(key) {\n",
              "          const element = document.querySelector('#df-69b85001-1bc4-4c5c-ba91-b8ef73266051');\n",
              "          const dataTable =\n",
              "            await google.colab.kernel.invokeFunction('convertToInteractive',\n",
              "                                                     [key], {});\n",
              "          if (!dataTable) return;\n",
              "\n",
              "          const docLinkHtml = 'Like what you see? Visit the ' +\n",
              "            '<a target=\"_blank\" href=https://colab.research.google.com/notebooks/data_table.ipynb>data table notebook</a>'\n",
              "            + ' to learn more about interactive tables.';\n",
              "          element.innerHTML = '';\n",
              "          dataTable['output_type'] = 'display_data';\n",
              "          await google.colab.output.renderOutput(dataTable, element);\n",
              "          const docLink = document.createElement('div');\n",
              "          docLink.innerHTML = docLinkHtml;\n",
              "          element.appendChild(docLink);\n",
              "        }\n",
              "      </script>\n",
              "    </div>\n",
              "  </div>\n",
              "  "
            ]
          },
          "metadata": {},
          "execution_count": 44
        }
      ]
    },
    {
      "cell_type": "code",
      "source": [
        "print(\"Test Performance\\n\")\n",
        "olsmodel1_test_perf = model_performance_regression(olsmodel1, x_test, y_test)\n",
        "olsmodel1_test_perf"
      ],
      "metadata": {
        "colab": {
          "base_uri": "https://localhost:8080/",
          "height": 114
        },
        "id": "GB7LCHqqLdRm",
        "outputId": "df9d7a43-4682-417f-e491-fae0437ae028"
      },
      "execution_count": null,
      "outputs": [
        {
          "output_type": "stream",
          "name": "stdout",
          "text": [
            "Test Performance\n",
            "\n"
          ]
        },
        {
          "output_type": "execute_result",
          "data": {
            "text/plain": [
              "     RMSE       MAE  R-squared  Adj. R-squared      MAPE\n",
              "0  0.2396  0.188974   0.831419        0.815576  4.521237"
            ],
            "text/html": [
              "\n",
              "  <div id=\"df-fa0e1088-8c2a-40b2-b9e9-833d725b181f\">\n",
              "    <div class=\"colab-df-container\">\n",
              "      <div>\n",
              "<style scoped>\n",
              "    .dataframe tbody tr th:only-of-type {\n",
              "        vertical-align: middle;\n",
              "    }\n",
              "\n",
              "    .dataframe tbody tr th {\n",
              "        vertical-align: top;\n",
              "    }\n",
              "\n",
              "    .dataframe thead th {\n",
              "        text-align: right;\n",
              "    }\n",
              "</style>\n",
              "<table border=\"1\" class=\"dataframe\">\n",
              "  <thead>\n",
              "    <tr style=\"text-align: right;\">\n",
              "      <th></th>\n",
              "      <th>RMSE</th>\n",
              "      <th>MAE</th>\n",
              "      <th>R-squared</th>\n",
              "      <th>Adj. R-squared</th>\n",
              "      <th>MAPE</th>\n",
              "    </tr>\n",
              "  </thead>\n",
              "  <tbody>\n",
              "    <tr>\n",
              "      <th>0</th>\n",
              "      <td>0.2396</td>\n",
              "      <td>0.188974</td>\n",
              "      <td>0.831419</td>\n",
              "      <td>0.815576</td>\n",
              "      <td>4.521237</td>\n",
              "    </tr>\n",
              "  </tbody>\n",
              "</table>\n",
              "</div>\n",
              "      <button class=\"colab-df-convert\" onclick=\"convertToInteractive('df-fa0e1088-8c2a-40b2-b9e9-833d725b181f')\"\n",
              "              title=\"Convert this dataframe to an interactive table.\"\n",
              "              style=\"display:none;\">\n",
              "        \n",
              "  <svg xmlns=\"http://www.w3.org/2000/svg\" height=\"24px\"viewBox=\"0 0 24 24\"\n",
              "       width=\"24px\">\n",
              "    <path d=\"M0 0h24v24H0V0z\" fill=\"none\"/>\n",
              "    <path d=\"M18.56 5.44l.94 2.06.94-2.06 2.06-.94-2.06-.94-.94-2.06-.94 2.06-2.06.94zm-11 1L8.5 8.5l.94-2.06 2.06-.94-2.06-.94L8.5 2.5l-.94 2.06-2.06.94zm10 10l.94 2.06.94-2.06 2.06-.94-2.06-.94-.94-2.06-.94 2.06-2.06.94z\"/><path d=\"M17.41 7.96l-1.37-1.37c-.4-.4-.92-.59-1.43-.59-.52 0-1.04.2-1.43.59L10.3 9.45l-7.72 7.72c-.78.78-.78 2.05 0 2.83L4 21.41c.39.39.9.59 1.41.59.51 0 1.02-.2 1.41-.59l7.78-7.78 2.81-2.81c.8-.78.8-2.07 0-2.86zM5.41 20L4 18.59l7.72-7.72 1.47 1.35L5.41 20z\"/>\n",
              "  </svg>\n",
              "      </button>\n",
              "      \n",
              "  <style>\n",
              "    .colab-df-container {\n",
              "      display:flex;\n",
              "      flex-wrap:wrap;\n",
              "      gap: 12px;\n",
              "    }\n",
              "\n",
              "    .colab-df-convert {\n",
              "      background-color: #E8F0FE;\n",
              "      border: none;\n",
              "      border-radius: 50%;\n",
              "      cursor: pointer;\n",
              "      display: none;\n",
              "      fill: #1967D2;\n",
              "      height: 32px;\n",
              "      padding: 0 0 0 0;\n",
              "      width: 32px;\n",
              "    }\n",
              "\n",
              "    .colab-df-convert:hover {\n",
              "      background-color: #E2EBFA;\n",
              "      box-shadow: 0px 1px 2px rgba(60, 64, 67, 0.3), 0px 1px 3px 1px rgba(60, 64, 67, 0.15);\n",
              "      fill: #174EA6;\n",
              "    }\n",
              "\n",
              "    [theme=dark] .colab-df-convert {\n",
              "      background-color: #3B4455;\n",
              "      fill: #D2E3FC;\n",
              "    }\n",
              "\n",
              "    [theme=dark] .colab-df-convert:hover {\n",
              "      background-color: #434B5C;\n",
              "      box-shadow: 0px 1px 3px 1px rgba(0, 0, 0, 0.15);\n",
              "      filter: drop-shadow(0px 1px 2px rgba(0, 0, 0, 0.3));\n",
              "      fill: #FFFFFF;\n",
              "    }\n",
              "  </style>\n",
              "\n",
              "      <script>\n",
              "        const buttonEl =\n",
              "          document.querySelector('#df-fa0e1088-8c2a-40b2-b9e9-833d725b181f button.colab-df-convert');\n",
              "        buttonEl.style.display =\n",
              "          google.colab.kernel.accessAllowed ? 'block' : 'none';\n",
              "\n",
              "        async function convertToInteractive(key) {\n",
              "          const element = document.querySelector('#df-fa0e1088-8c2a-40b2-b9e9-833d725b181f');\n",
              "          const dataTable =\n",
              "            await google.colab.kernel.invokeFunction('convertToInteractive',\n",
              "                                                     [key], {});\n",
              "          if (!dataTable) return;\n",
              "\n",
              "          const docLinkHtml = 'Like what you see? Visit the ' +\n",
              "            '<a target=\"_blank\" href=https://colab.research.google.com/notebooks/data_table.ipynb>data table notebook</a>'\n",
              "            + ' to learn more about interactive tables.';\n",
              "          element.innerHTML = '';\n",
              "          dataTable['output_type'] = 'display_data';\n",
              "          await google.colab.output.renderOutput(dataTable, element);\n",
              "          const docLink = document.createElement('div');\n",
              "          docLink.innerHTML = docLinkHtml;\n",
              "          element.appendChild(docLink);\n",
              "        }\n",
              "      </script>\n",
              "    </div>\n",
              "  </div>\n",
              "  "
            ]
          },
          "metadata": {},
          "execution_count": 45
        }
      ]
    },
    {
      "cell_type": "markdown",
      "metadata": {
        "id": "a9GxSQf-qH8e"
      },
      "source": [
        "## Checking Linear Regression Assumptions"
      ]
    },
    {
      "cell_type": "markdown",
      "source": [
        "- In order to make statistical inferences from a linear regression model, it is important to ensure that the assumptions of linear regression are satisfied."
      ],
      "metadata": {
        "id": "UdGv3pQF50xP"
      }
    },
    {
      "cell_type": "code",
      "execution_count": null,
      "metadata": {
        "id": "naX-iXItqH-b"
      },
      "outputs": [],
      "source": [
        "def checking_vif(predictors):\n",
        "    vif = pd.DataFrame()\n",
        "    vif[\"feature\"] = predictors.columns\n",
        "\n",
        "    vif[\"VIF\"] = [\n",
        "        variance_inflation_factor(predictors.values, i)\n",
        "        for i in range(len(predictors.columns))\n",
        "    ]\n",
        "    return vif"
      ]
    },
    {
      "cell_type": "code",
      "source": [
        "checking_vif(x_train)"
      ],
      "metadata": {
        "colab": {
          "base_uri": "https://localhost:8080/",
          "height": 507
        },
        "id": "IzRagY7wMah9",
        "outputId": "514ecd3e-d76f-44c6-e346-d9713ba9c168"
      },
      "execution_count": null,
      "outputs": [
        {
          "output_type": "stream",
          "name": "stderr",
          "text": [
            "/usr/local/lib/python3.8/dist-packages/statsmodels/stats/outliers_influence.py:193: RuntimeWarning: divide by zero encountered in double_scalars\n",
            "  vif = 1. / (1. - r_squared_i)\n",
            "/usr/local/lib/python3.8/dist-packages/statsmodels/regression/linear_model.py:1715: RuntimeWarning: invalid value encountered in double_scalars\n",
            "  return 1 - self.ssr/self.centered_tss\n"
          ]
        },
        {
          "output_type": "execute_result",
          "data": {
            "text/plain": [
              "                feature         VIF\n",
              "0                 const  296.584933\n",
              "1           screen_size    8.540319\n",
              "2      selfie_camera_mp    2.950788\n",
              "3            int_memory    1.426252\n",
              "4                   ram    2.356891\n",
              "..                  ...         ...\n",
              "84  main_camera_mp_21.5    1.040245\n",
              "85  main_camera_mp_21.2    1.036323\n",
              "86   main_camera_mp_8.1    1.176746\n",
              "87   main_camera_mp_1.2    1.041848\n",
              "88  main_camera_mp_22.5    1.013546\n",
              "\n",
              "[89 rows x 2 columns]"
            ],
            "text/html": [
              "\n",
              "  <div id=\"df-aeb9a791-0f89-4ba1-acd5-f1acc10a2389\">\n",
              "    <div class=\"colab-df-container\">\n",
              "      <div>\n",
              "<style scoped>\n",
              "    .dataframe tbody tr th:only-of-type {\n",
              "        vertical-align: middle;\n",
              "    }\n",
              "\n",
              "    .dataframe tbody tr th {\n",
              "        vertical-align: top;\n",
              "    }\n",
              "\n",
              "    .dataframe thead th {\n",
              "        text-align: right;\n",
              "    }\n",
              "</style>\n",
              "<table border=\"1\" class=\"dataframe\">\n",
              "  <thead>\n",
              "    <tr style=\"text-align: right;\">\n",
              "      <th></th>\n",
              "      <th>feature</th>\n",
              "      <th>VIF</th>\n",
              "    </tr>\n",
              "  </thead>\n",
              "  <tbody>\n",
              "    <tr>\n",
              "      <th>0</th>\n",
              "      <td>const</td>\n",
              "      <td>296.584933</td>\n",
              "    </tr>\n",
              "    <tr>\n",
              "      <th>1</th>\n",
              "      <td>screen_size</td>\n",
              "      <td>8.540319</td>\n",
              "    </tr>\n",
              "    <tr>\n",
              "      <th>2</th>\n",
              "      <td>selfie_camera_mp</td>\n",
              "      <td>2.950788</td>\n",
              "    </tr>\n",
              "    <tr>\n",
              "      <th>3</th>\n",
              "      <td>int_memory</td>\n",
              "      <td>1.426252</td>\n",
              "    </tr>\n",
              "    <tr>\n",
              "      <th>4</th>\n",
              "      <td>ram</td>\n",
              "      <td>2.356891</td>\n",
              "    </tr>\n",
              "    <tr>\n",
              "      <th>...</th>\n",
              "      <td>...</td>\n",
              "      <td>...</td>\n",
              "    </tr>\n",
              "    <tr>\n",
              "      <th>84</th>\n",
              "      <td>main_camera_mp_21.5</td>\n",
              "      <td>1.040245</td>\n",
              "    </tr>\n",
              "    <tr>\n",
              "      <th>85</th>\n",
              "      <td>main_camera_mp_21.2</td>\n",
              "      <td>1.036323</td>\n",
              "    </tr>\n",
              "    <tr>\n",
              "      <th>86</th>\n",
              "      <td>main_camera_mp_8.1</td>\n",
              "      <td>1.176746</td>\n",
              "    </tr>\n",
              "    <tr>\n",
              "      <th>87</th>\n",
              "      <td>main_camera_mp_1.2</td>\n",
              "      <td>1.041848</td>\n",
              "    </tr>\n",
              "    <tr>\n",
              "      <th>88</th>\n",
              "      <td>main_camera_mp_22.5</td>\n",
              "      <td>1.013546</td>\n",
              "    </tr>\n",
              "  </tbody>\n",
              "</table>\n",
              "<p>89 rows × 2 columns</p>\n",
              "</div>\n",
              "      <button class=\"colab-df-convert\" onclick=\"convertToInteractive('df-aeb9a791-0f89-4ba1-acd5-f1acc10a2389')\"\n",
              "              title=\"Convert this dataframe to an interactive table.\"\n",
              "              style=\"display:none;\">\n",
              "        \n",
              "  <svg xmlns=\"http://www.w3.org/2000/svg\" height=\"24px\"viewBox=\"0 0 24 24\"\n",
              "       width=\"24px\">\n",
              "    <path d=\"M0 0h24v24H0V0z\" fill=\"none\"/>\n",
              "    <path d=\"M18.56 5.44l.94 2.06.94-2.06 2.06-.94-2.06-.94-.94-2.06-.94 2.06-2.06.94zm-11 1L8.5 8.5l.94-2.06 2.06-.94-2.06-.94L8.5 2.5l-.94 2.06-2.06.94zm10 10l.94 2.06.94-2.06 2.06-.94-2.06-.94-.94-2.06-.94 2.06-2.06.94z\"/><path d=\"M17.41 7.96l-1.37-1.37c-.4-.4-.92-.59-1.43-.59-.52 0-1.04.2-1.43.59L10.3 9.45l-7.72 7.72c-.78.78-.78 2.05 0 2.83L4 21.41c.39.39.9.59 1.41.59.51 0 1.02-.2 1.41-.59l7.78-7.78 2.81-2.81c.8-.78.8-2.07 0-2.86zM5.41 20L4 18.59l7.72-7.72 1.47 1.35L5.41 20z\"/>\n",
              "  </svg>\n",
              "      </button>\n",
              "      \n",
              "  <style>\n",
              "    .colab-df-container {\n",
              "      display:flex;\n",
              "      flex-wrap:wrap;\n",
              "      gap: 12px;\n",
              "    }\n",
              "\n",
              "    .colab-df-convert {\n",
              "      background-color: #E8F0FE;\n",
              "      border: none;\n",
              "      border-radius: 50%;\n",
              "      cursor: pointer;\n",
              "      display: none;\n",
              "      fill: #1967D2;\n",
              "      height: 32px;\n",
              "      padding: 0 0 0 0;\n",
              "      width: 32px;\n",
              "    }\n",
              "\n",
              "    .colab-df-convert:hover {\n",
              "      background-color: #E2EBFA;\n",
              "      box-shadow: 0px 1px 2px rgba(60, 64, 67, 0.3), 0px 1px 3px 1px rgba(60, 64, 67, 0.15);\n",
              "      fill: #174EA6;\n",
              "    }\n",
              "\n",
              "    [theme=dark] .colab-df-convert {\n",
              "      background-color: #3B4455;\n",
              "      fill: #D2E3FC;\n",
              "    }\n",
              "\n",
              "    [theme=dark] .colab-df-convert:hover {\n",
              "      background-color: #434B5C;\n",
              "      box-shadow: 0px 1px 3px 1px rgba(0, 0, 0, 0.15);\n",
              "      filter: drop-shadow(0px 1px 2px rgba(0, 0, 0, 0.3));\n",
              "      fill: #FFFFFF;\n",
              "    }\n",
              "  </style>\n",
              "\n",
              "      <script>\n",
              "        const buttonEl =\n",
              "          document.querySelector('#df-aeb9a791-0f89-4ba1-acd5-f1acc10a2389 button.colab-df-convert');\n",
              "        buttonEl.style.display =\n",
              "          google.colab.kernel.accessAllowed ? 'block' : 'none';\n",
              "\n",
              "        async function convertToInteractive(key) {\n",
              "          const element = document.querySelector('#df-aeb9a791-0f89-4ba1-acd5-f1acc10a2389');\n",
              "          const dataTable =\n",
              "            await google.colab.kernel.invokeFunction('convertToInteractive',\n",
              "                                                     [key], {});\n",
              "          if (!dataTable) return;\n",
              "\n",
              "          const docLinkHtml = 'Like what you see? Visit the ' +\n",
              "            '<a target=\"_blank\" href=https://colab.research.google.com/notebooks/data_table.ipynb>data table notebook</a>'\n",
              "            + ' to learn more about interactive tables.';\n",
              "          element.innerHTML = '';\n",
              "          dataTable['output_type'] = 'display_data';\n",
              "          await google.colab.output.renderOutput(dataTable, element);\n",
              "          const docLink = document.createElement('div');\n",
              "          docLink.innerHTML = docLinkHtml;\n",
              "          element.appendChild(docLink);\n",
              "        }\n",
              "      </script>\n",
              "    </div>\n",
              "  </div>\n",
              "  "
            ]
          },
          "metadata": {},
          "execution_count": 47
        }
      ]
    },
    {
      "cell_type": "code",
      "source": [
        "def treating_multicollinearity(predictors, target, high_vif_columns):\n",
        "\n",
        "    adj_r2 = []\n",
        "    rmse = []\n",
        "\n",
        "    for cols in high_vif_columns:\n",
        "        train = predictors.loc[:, ~predictors.columns.str.startswith(cols)]\n",
        "\n",
        "        olsmodel = sm.OLS(target, train).fit()\n",
        "\n",
        "        adj_r2.append(olsmodel.rsquared_adj)\n",
        "        rmse.append(np.sqrt(olsmodel.mse_resid))\n",
        "\n",
        "    temp = pd.DataFrame(\n",
        "        {\n",
        "            \"col\": high_vif_columns,\n",
        "            \"Adj. R-squared after_dropping col\": adj_r2,\n",
        "            \"RMSE after dropping col\": rmse,\n",
        "        }\n",
        "    ).sort_values(by=\"Adj. R-squared after_dropping col\", ascending=False)\n",
        "    temp.reset_index(drop=True, inplace=True)\n",
        "\n",
        "    return temp"
      ],
      "metadata": {
        "id": "dyFAagzSMvTf"
      },
      "execution_count": null,
      "outputs": []
    },
    {
      "cell_type": "code",
      "source": [
        "col_list = [\"normalized_new_price\",\"brand_name_low_range\"]\n",
        "\n",
        "res = treating_multicollinearity(x_train, y_train, col_list)\n",
        "res"
      ],
      "metadata": {
        "colab": {
          "base_uri": "https://localhost:8080/",
          "height": 111
        },
        "id": "ODJbE1HeM_Xv",
        "outputId": "514ef644-c4b9-4fb8-9c4f-841961959586"
      },
      "execution_count": null,
      "outputs": [
        {
          "output_type": "execute_result",
          "data": {
            "text/plain": [
              "                    col  Adj. R-squared after_dropping col  \\\n",
              "0  brand_name_low_range                           0.848056   \n",
              "1  normalized_new_price                           0.785997   \n",
              "\n",
              "   RMSE after dropping col  \n",
              "0                 0.230439  \n",
              "1                 0.273479  "
            ],
            "text/html": [
              "\n",
              "  <div id=\"df-dd5104a6-bf0d-41bf-a8f8-223356f1c61b\">\n",
              "    <div class=\"colab-df-container\">\n",
              "      <div>\n",
              "<style scoped>\n",
              "    .dataframe tbody tr th:only-of-type {\n",
              "        vertical-align: middle;\n",
              "    }\n",
              "\n",
              "    .dataframe tbody tr th {\n",
              "        vertical-align: top;\n",
              "    }\n",
              "\n",
              "    .dataframe thead th {\n",
              "        text-align: right;\n",
              "    }\n",
              "</style>\n",
              "<table border=\"1\" class=\"dataframe\">\n",
              "  <thead>\n",
              "    <tr style=\"text-align: right;\">\n",
              "      <th></th>\n",
              "      <th>col</th>\n",
              "      <th>Adj. R-squared after_dropping col</th>\n",
              "      <th>RMSE after dropping col</th>\n",
              "    </tr>\n",
              "  </thead>\n",
              "  <tbody>\n",
              "    <tr>\n",
              "      <th>0</th>\n",
              "      <td>brand_name_low_range</td>\n",
              "      <td>0.848056</td>\n",
              "      <td>0.230439</td>\n",
              "    </tr>\n",
              "    <tr>\n",
              "      <th>1</th>\n",
              "      <td>normalized_new_price</td>\n",
              "      <td>0.785997</td>\n",
              "      <td>0.273479</td>\n",
              "    </tr>\n",
              "  </tbody>\n",
              "</table>\n",
              "</div>\n",
              "      <button class=\"colab-df-convert\" onclick=\"convertToInteractive('df-dd5104a6-bf0d-41bf-a8f8-223356f1c61b')\"\n",
              "              title=\"Convert this dataframe to an interactive table.\"\n",
              "              style=\"display:none;\">\n",
              "        \n",
              "  <svg xmlns=\"http://www.w3.org/2000/svg\" height=\"24px\"viewBox=\"0 0 24 24\"\n",
              "       width=\"24px\">\n",
              "    <path d=\"M0 0h24v24H0V0z\" fill=\"none\"/>\n",
              "    <path d=\"M18.56 5.44l.94 2.06.94-2.06 2.06-.94-2.06-.94-.94-2.06-.94 2.06-2.06.94zm-11 1L8.5 8.5l.94-2.06 2.06-.94-2.06-.94L8.5 2.5l-.94 2.06-2.06.94zm10 10l.94 2.06.94-2.06 2.06-.94-2.06-.94-.94-2.06-.94 2.06-2.06.94z\"/><path d=\"M17.41 7.96l-1.37-1.37c-.4-.4-.92-.59-1.43-.59-.52 0-1.04.2-1.43.59L10.3 9.45l-7.72 7.72c-.78.78-.78 2.05 0 2.83L4 21.41c.39.39.9.59 1.41.59.51 0 1.02-.2 1.41-.59l7.78-7.78 2.81-2.81c.8-.78.8-2.07 0-2.86zM5.41 20L4 18.59l7.72-7.72 1.47 1.35L5.41 20z\"/>\n",
              "  </svg>\n",
              "      </button>\n",
              "      \n",
              "  <style>\n",
              "    .colab-df-container {\n",
              "      display:flex;\n",
              "      flex-wrap:wrap;\n",
              "      gap: 12px;\n",
              "    }\n",
              "\n",
              "    .colab-df-convert {\n",
              "      background-color: #E8F0FE;\n",
              "      border: none;\n",
              "      border-radius: 50%;\n",
              "      cursor: pointer;\n",
              "      display: none;\n",
              "      fill: #1967D2;\n",
              "      height: 32px;\n",
              "      padding: 0 0 0 0;\n",
              "      width: 32px;\n",
              "    }\n",
              "\n",
              "    .colab-df-convert:hover {\n",
              "      background-color: #E2EBFA;\n",
              "      box-shadow: 0px 1px 2px rgba(60, 64, 67, 0.3), 0px 1px 3px 1px rgba(60, 64, 67, 0.15);\n",
              "      fill: #174EA6;\n",
              "    }\n",
              "\n",
              "    [theme=dark] .colab-df-convert {\n",
              "      background-color: #3B4455;\n",
              "      fill: #D2E3FC;\n",
              "    }\n",
              "\n",
              "    [theme=dark] .colab-df-convert:hover {\n",
              "      background-color: #434B5C;\n",
              "      box-shadow: 0px 1px 3px 1px rgba(0, 0, 0, 0.15);\n",
              "      filter: drop-shadow(0px 1px 2px rgba(0, 0, 0, 0.3));\n",
              "      fill: #FFFFFF;\n",
              "    }\n",
              "  </style>\n",
              "\n",
              "      <script>\n",
              "        const buttonEl =\n",
              "          document.querySelector('#df-dd5104a6-bf0d-41bf-a8f8-223356f1c61b button.colab-df-convert');\n",
              "        buttonEl.style.display =\n",
              "          google.colab.kernel.accessAllowed ? 'block' : 'none';\n",
              "\n",
              "        async function convertToInteractive(key) {\n",
              "          const element = document.querySelector('#df-dd5104a6-bf0d-41bf-a8f8-223356f1c61b');\n",
              "          const dataTable =\n",
              "            await google.colab.kernel.invokeFunction('convertToInteractive',\n",
              "                                                     [key], {});\n",
              "          if (!dataTable) return;\n",
              "\n",
              "          const docLinkHtml = 'Like what you see? Visit the ' +\n",
              "            '<a target=\"_blank\" href=https://colab.research.google.com/notebooks/data_table.ipynb>data table notebook</a>'\n",
              "            + ' to learn more about interactive tables.';\n",
              "          element.innerHTML = '';\n",
              "          dataTable['output_type'] = 'display_data';\n",
              "          await google.colab.output.renderOutput(dataTable, element);\n",
              "          const docLink = document.createElement('div');\n",
              "          docLink.innerHTML = docLinkHtml;\n",
              "          element.appendChild(docLink);\n",
              "        }\n",
              "      </script>\n",
              "    </div>\n",
              "  </div>\n",
              "  "
            ]
          },
          "metadata": {},
          "execution_count": 49
        }
      ]
    },
    {
      "cell_type": "code",
      "source": [
        "col_to_drop = \"brand_name_low_range\"\n",
        "x_train2 = x_train.loc[:, ~x_train.columns.str.startswith(col_to_drop)]\n",
        "x_test2 = x_test.loc[:, ~x_test.columns.str.startswith(col_to_drop)]\n",
        "\n",
        "vif = checking_vif(x_train2)\n",
        "print(\"VIF after dropping \", col_to_drop)\n",
        "vif"
      ],
      "metadata": {
        "colab": {
          "base_uri": "https://localhost:8080/",
          "height": 524
        },
        "id": "65phZr1QOEnL",
        "outputId": "e56496fd-8eed-4361-a111-274eebe375c3"
      },
      "execution_count": null,
      "outputs": [
        {
          "output_type": "stream",
          "name": "stderr",
          "text": [
            "/usr/local/lib/python3.8/dist-packages/statsmodels/stats/outliers_influence.py:193: RuntimeWarning: divide by zero encountered in double_scalars\n",
            "  vif = 1. / (1. - r_squared_i)\n",
            "/usr/local/lib/python3.8/dist-packages/statsmodels/regression/linear_model.py:1715: RuntimeWarning: invalid value encountered in double_scalars\n",
            "  return 1 - self.ssr/self.centered_tss\n"
          ]
        },
        {
          "output_type": "stream",
          "name": "stdout",
          "text": [
            "VIF after dropping  brand_name_low_range\n"
          ]
        },
        {
          "output_type": "execute_result",
          "data": {
            "text/plain": [
              "                feature         VIF\n",
              "0                 const  296.584933\n",
              "1           screen_size    8.540319\n",
              "2      selfie_camera_mp    2.950788\n",
              "3            int_memory    1.426252\n",
              "4                   ram    2.356891\n",
              "..                  ...         ...\n",
              "84  main_camera_mp_21.5    1.040245\n",
              "85  main_camera_mp_21.2    1.036323\n",
              "86   main_camera_mp_8.1    1.176746\n",
              "87   main_camera_mp_1.2    1.041848\n",
              "88  main_camera_mp_22.5    1.013546\n",
              "\n",
              "[89 rows x 2 columns]"
            ],
            "text/html": [
              "\n",
              "  <div id=\"df-88c705e9-53e1-474e-b7c7-7ef0db044f83\">\n",
              "    <div class=\"colab-df-container\">\n",
              "      <div>\n",
              "<style scoped>\n",
              "    .dataframe tbody tr th:only-of-type {\n",
              "        vertical-align: middle;\n",
              "    }\n",
              "\n",
              "    .dataframe tbody tr th {\n",
              "        vertical-align: top;\n",
              "    }\n",
              "\n",
              "    .dataframe thead th {\n",
              "        text-align: right;\n",
              "    }\n",
              "</style>\n",
              "<table border=\"1\" class=\"dataframe\">\n",
              "  <thead>\n",
              "    <tr style=\"text-align: right;\">\n",
              "      <th></th>\n",
              "      <th>feature</th>\n",
              "      <th>VIF</th>\n",
              "    </tr>\n",
              "  </thead>\n",
              "  <tbody>\n",
              "    <tr>\n",
              "      <th>0</th>\n",
              "      <td>const</td>\n",
              "      <td>296.584933</td>\n",
              "    </tr>\n",
              "    <tr>\n",
              "      <th>1</th>\n",
              "      <td>screen_size</td>\n",
              "      <td>8.540319</td>\n",
              "    </tr>\n",
              "    <tr>\n",
              "      <th>2</th>\n",
              "      <td>selfie_camera_mp</td>\n",
              "      <td>2.950788</td>\n",
              "    </tr>\n",
              "    <tr>\n",
              "      <th>3</th>\n",
              "      <td>int_memory</td>\n",
              "      <td>1.426252</td>\n",
              "    </tr>\n",
              "    <tr>\n",
              "      <th>4</th>\n",
              "      <td>ram</td>\n",
              "      <td>2.356891</td>\n",
              "    </tr>\n",
              "    <tr>\n",
              "      <th>...</th>\n",
              "      <td>...</td>\n",
              "      <td>...</td>\n",
              "    </tr>\n",
              "    <tr>\n",
              "      <th>84</th>\n",
              "      <td>main_camera_mp_21.5</td>\n",
              "      <td>1.040245</td>\n",
              "    </tr>\n",
              "    <tr>\n",
              "      <th>85</th>\n",
              "      <td>main_camera_mp_21.2</td>\n",
              "      <td>1.036323</td>\n",
              "    </tr>\n",
              "    <tr>\n",
              "      <th>86</th>\n",
              "      <td>main_camera_mp_8.1</td>\n",
              "      <td>1.176746</td>\n",
              "    </tr>\n",
              "    <tr>\n",
              "      <th>87</th>\n",
              "      <td>main_camera_mp_1.2</td>\n",
              "      <td>1.041848</td>\n",
              "    </tr>\n",
              "    <tr>\n",
              "      <th>88</th>\n",
              "      <td>main_camera_mp_22.5</td>\n",
              "      <td>1.013546</td>\n",
              "    </tr>\n",
              "  </tbody>\n",
              "</table>\n",
              "<p>89 rows × 2 columns</p>\n",
              "</div>\n",
              "      <button class=\"colab-df-convert\" onclick=\"convertToInteractive('df-88c705e9-53e1-474e-b7c7-7ef0db044f83')\"\n",
              "              title=\"Convert this dataframe to an interactive table.\"\n",
              "              style=\"display:none;\">\n",
              "        \n",
              "  <svg xmlns=\"http://www.w3.org/2000/svg\" height=\"24px\"viewBox=\"0 0 24 24\"\n",
              "       width=\"24px\">\n",
              "    <path d=\"M0 0h24v24H0V0z\" fill=\"none\"/>\n",
              "    <path d=\"M18.56 5.44l.94 2.06.94-2.06 2.06-.94-2.06-.94-.94-2.06-.94 2.06-2.06.94zm-11 1L8.5 8.5l.94-2.06 2.06-.94-2.06-.94L8.5 2.5l-.94 2.06-2.06.94zm10 10l.94 2.06.94-2.06 2.06-.94-2.06-.94-.94-2.06-.94 2.06-2.06.94z\"/><path d=\"M17.41 7.96l-1.37-1.37c-.4-.4-.92-.59-1.43-.59-.52 0-1.04.2-1.43.59L10.3 9.45l-7.72 7.72c-.78.78-.78 2.05 0 2.83L4 21.41c.39.39.9.59 1.41.59.51 0 1.02-.2 1.41-.59l7.78-7.78 2.81-2.81c.8-.78.8-2.07 0-2.86zM5.41 20L4 18.59l7.72-7.72 1.47 1.35L5.41 20z\"/>\n",
              "  </svg>\n",
              "      </button>\n",
              "      \n",
              "  <style>\n",
              "    .colab-df-container {\n",
              "      display:flex;\n",
              "      flex-wrap:wrap;\n",
              "      gap: 12px;\n",
              "    }\n",
              "\n",
              "    .colab-df-convert {\n",
              "      background-color: #E8F0FE;\n",
              "      border: none;\n",
              "      border-radius: 50%;\n",
              "      cursor: pointer;\n",
              "      display: none;\n",
              "      fill: #1967D2;\n",
              "      height: 32px;\n",
              "      padding: 0 0 0 0;\n",
              "      width: 32px;\n",
              "    }\n",
              "\n",
              "    .colab-df-convert:hover {\n",
              "      background-color: #E2EBFA;\n",
              "      box-shadow: 0px 1px 2px rgba(60, 64, 67, 0.3), 0px 1px 3px 1px rgba(60, 64, 67, 0.15);\n",
              "      fill: #174EA6;\n",
              "    }\n",
              "\n",
              "    [theme=dark] .colab-df-convert {\n",
              "      background-color: #3B4455;\n",
              "      fill: #D2E3FC;\n",
              "    }\n",
              "\n",
              "    [theme=dark] .colab-df-convert:hover {\n",
              "      background-color: #434B5C;\n",
              "      box-shadow: 0px 1px 3px 1px rgba(0, 0, 0, 0.15);\n",
              "      filter: drop-shadow(0px 1px 2px rgba(0, 0, 0, 0.3));\n",
              "      fill: #FFFFFF;\n",
              "    }\n",
              "  </style>\n",
              "\n",
              "      <script>\n",
              "        const buttonEl =\n",
              "          document.querySelector('#df-88c705e9-53e1-474e-b7c7-7ef0db044f83 button.colab-df-convert');\n",
              "        buttonEl.style.display =\n",
              "          google.colab.kernel.accessAllowed ? 'block' : 'none';\n",
              "\n",
              "        async function convertToInteractive(key) {\n",
              "          const element = document.querySelector('#df-88c705e9-53e1-474e-b7c7-7ef0db044f83');\n",
              "          const dataTable =\n",
              "            await google.colab.kernel.invokeFunction('convertToInteractive',\n",
              "                                                     [key], {});\n",
              "          if (!dataTable) return;\n",
              "\n",
              "          const docLinkHtml = 'Like what you see? Visit the ' +\n",
              "            '<a target=\"_blank\" href=https://colab.research.google.com/notebooks/data_table.ipynb>data table notebook</a>'\n",
              "            + ' to learn more about interactive tables.';\n",
              "          element.innerHTML = '';\n",
              "          dataTable['output_type'] = 'display_data';\n",
              "          await google.colab.output.renderOutput(dataTable, element);\n",
              "          const docLink = document.createElement('div');\n",
              "          docLink.innerHTML = docLinkHtml;\n",
              "          element.appendChild(docLink);\n",
              "        }\n",
              "      </script>\n",
              "    </div>\n",
              "  </div>\n",
              "  "
            ]
          },
          "metadata": {},
          "execution_count": 50
        }
      ]
    },
    {
      "cell_type": "code",
      "source": [
        "df_pred = pd.DataFrame()\n",
        "\n",
        "df_pred[\"Actual Values\"] = y_train\n",
        "df_pred[\"Fitted Values\"] = olsmodel1.fittedvalues\n",
        "df_pred[\"Residuals\"] = olsmodel1.resid\n",
        "\n",
        "df_pred.head()"
      ],
      "metadata": {
        "colab": {
          "base_uri": "https://localhost:8080/",
          "height": 204
        },
        "id": "8lxi0D2cOfGA",
        "outputId": "bcd113f2-2786-418c-d4b6-98768aebd43b"
      },
      "execution_count": null,
      "outputs": [
        {
          "output_type": "execute_result",
          "data": {
            "text/plain": [
              "      Actual Values  Fitted Values  Residuals\n",
              "1744       4.261975       4.308270  -0.046295\n",
              "3141       4.175156       3.900958   0.274198\n",
              "1233       4.117410       4.457527  -0.340117\n",
              "3046       3.782597       3.808115  -0.025518\n",
              "2649       3.981922       3.912426   0.069496"
            ],
            "text/html": [
              "\n",
              "  <div id=\"df-9fc6f26d-78a9-4d4d-81eb-0c7e4b9fe38b\">\n",
              "    <div class=\"colab-df-container\">\n",
              "      <div>\n",
              "<style scoped>\n",
              "    .dataframe tbody tr th:only-of-type {\n",
              "        vertical-align: middle;\n",
              "    }\n",
              "\n",
              "    .dataframe tbody tr th {\n",
              "        vertical-align: top;\n",
              "    }\n",
              "\n",
              "    .dataframe thead th {\n",
              "        text-align: right;\n",
              "    }\n",
              "</style>\n",
              "<table border=\"1\" class=\"dataframe\">\n",
              "  <thead>\n",
              "    <tr style=\"text-align: right;\">\n",
              "      <th></th>\n",
              "      <th>Actual Values</th>\n",
              "      <th>Fitted Values</th>\n",
              "      <th>Residuals</th>\n",
              "    </tr>\n",
              "  </thead>\n",
              "  <tbody>\n",
              "    <tr>\n",
              "      <th>1744</th>\n",
              "      <td>4.261975</td>\n",
              "      <td>4.308270</td>\n",
              "      <td>-0.046295</td>\n",
              "    </tr>\n",
              "    <tr>\n",
              "      <th>3141</th>\n",
              "      <td>4.175156</td>\n",
              "      <td>3.900958</td>\n",
              "      <td>0.274198</td>\n",
              "    </tr>\n",
              "    <tr>\n",
              "      <th>1233</th>\n",
              "      <td>4.117410</td>\n",
              "      <td>4.457527</td>\n",
              "      <td>-0.340117</td>\n",
              "    </tr>\n",
              "    <tr>\n",
              "      <th>3046</th>\n",
              "      <td>3.782597</td>\n",
              "      <td>3.808115</td>\n",
              "      <td>-0.025518</td>\n",
              "    </tr>\n",
              "    <tr>\n",
              "      <th>2649</th>\n",
              "      <td>3.981922</td>\n",
              "      <td>3.912426</td>\n",
              "      <td>0.069496</td>\n",
              "    </tr>\n",
              "  </tbody>\n",
              "</table>\n",
              "</div>\n",
              "      <button class=\"colab-df-convert\" onclick=\"convertToInteractive('df-9fc6f26d-78a9-4d4d-81eb-0c7e4b9fe38b')\"\n",
              "              title=\"Convert this dataframe to an interactive table.\"\n",
              "              style=\"display:none;\">\n",
              "        \n",
              "  <svg xmlns=\"http://www.w3.org/2000/svg\" height=\"24px\"viewBox=\"0 0 24 24\"\n",
              "       width=\"24px\">\n",
              "    <path d=\"M0 0h24v24H0V0z\" fill=\"none\"/>\n",
              "    <path d=\"M18.56 5.44l.94 2.06.94-2.06 2.06-.94-2.06-.94-.94-2.06-.94 2.06-2.06.94zm-11 1L8.5 8.5l.94-2.06 2.06-.94-2.06-.94L8.5 2.5l-.94 2.06-2.06.94zm10 10l.94 2.06.94-2.06 2.06-.94-2.06-.94-.94-2.06-.94 2.06-2.06.94z\"/><path d=\"M17.41 7.96l-1.37-1.37c-.4-.4-.92-.59-1.43-.59-.52 0-1.04.2-1.43.59L10.3 9.45l-7.72 7.72c-.78.78-.78 2.05 0 2.83L4 21.41c.39.39.9.59 1.41.59.51 0 1.02-.2 1.41-.59l7.78-7.78 2.81-2.81c.8-.78.8-2.07 0-2.86zM5.41 20L4 18.59l7.72-7.72 1.47 1.35L5.41 20z\"/>\n",
              "  </svg>\n",
              "      </button>\n",
              "      \n",
              "  <style>\n",
              "    .colab-df-container {\n",
              "      display:flex;\n",
              "      flex-wrap:wrap;\n",
              "      gap: 12px;\n",
              "    }\n",
              "\n",
              "    .colab-df-convert {\n",
              "      background-color: #E8F0FE;\n",
              "      border: none;\n",
              "      border-radius: 50%;\n",
              "      cursor: pointer;\n",
              "      display: none;\n",
              "      fill: #1967D2;\n",
              "      height: 32px;\n",
              "      padding: 0 0 0 0;\n",
              "      width: 32px;\n",
              "    }\n",
              "\n",
              "    .colab-df-convert:hover {\n",
              "      background-color: #E2EBFA;\n",
              "      box-shadow: 0px 1px 2px rgba(60, 64, 67, 0.3), 0px 1px 3px 1px rgba(60, 64, 67, 0.15);\n",
              "      fill: #174EA6;\n",
              "    }\n",
              "\n",
              "    [theme=dark] .colab-df-convert {\n",
              "      background-color: #3B4455;\n",
              "      fill: #D2E3FC;\n",
              "    }\n",
              "\n",
              "    [theme=dark] .colab-df-convert:hover {\n",
              "      background-color: #434B5C;\n",
              "      box-shadow: 0px 1px 3px 1px rgba(0, 0, 0, 0.15);\n",
              "      filter: drop-shadow(0px 1px 2px rgba(0, 0, 0, 0.3));\n",
              "      fill: #FFFFFF;\n",
              "    }\n",
              "  </style>\n",
              "\n",
              "      <script>\n",
              "        const buttonEl =\n",
              "          document.querySelector('#df-9fc6f26d-78a9-4d4d-81eb-0c7e4b9fe38b button.colab-df-convert');\n",
              "        buttonEl.style.display =\n",
              "          google.colab.kernel.accessAllowed ? 'block' : 'none';\n",
              "\n",
              "        async function convertToInteractive(key) {\n",
              "          const element = document.querySelector('#df-9fc6f26d-78a9-4d4d-81eb-0c7e4b9fe38b');\n",
              "          const dataTable =\n",
              "            await google.colab.kernel.invokeFunction('convertToInteractive',\n",
              "                                                     [key], {});\n",
              "          if (!dataTable) return;\n",
              "\n",
              "          const docLinkHtml = 'Like what you see? Visit the ' +\n",
              "            '<a target=\"_blank\" href=https://colab.research.google.com/notebooks/data_table.ipynb>data table notebook</a>'\n",
              "            + ' to learn more about interactive tables.';\n",
              "          element.innerHTML = '';\n",
              "          dataTable['output_type'] = 'display_data';\n",
              "          await google.colab.output.renderOutput(dataTable, element);\n",
              "          const docLink = document.createElement('div');\n",
              "          docLink.innerHTML = docLinkHtml;\n",
              "          element.appendChild(docLink);\n",
              "        }\n",
              "      </script>\n",
              "    </div>\n",
              "  </div>\n",
              "  "
            ]
          },
          "metadata": {},
          "execution_count": 51
        }
      ]
    },
    {
      "cell_type": "code",
      "source": [
        "sns.residplot(\n",
        "    data=df_pred, x=\"Fitted Values\", y=\"Residuals\", color=\"purple\", lowess=True\n",
        ")\n",
        "plt.xlabel(\"Fitted Values\")\n",
        "plt.ylabel(\"Residuals\")\n",
        "plt.title(\"Fitted vs Residual plot\")\n",
        "plt.show()"
      ],
      "metadata": {
        "colab": {
          "base_uri": "https://localhost:8080/",
          "height": 301
        },
        "id": "EQXpXqEwOp4J",
        "outputId": "a0101834-6362-4bac-c98a-7ed793c39831"
      },
      "execution_count": null,
      "outputs": [
        {
          "output_type": "display_data",
          "data": {
            "text/plain": [
              "<Figure size 432x288 with 1 Axes>"
            ],
            "image/png": "[encoded data removed]"
          },
          "metadata": {}
        }
      ]
    },
    {
      "cell_type": "code",
      "source": [
        "sns.histplot(data=df_pred, x=\"Residuals\", kde=True)\n",
        "plt.title(\"Normality of residuals\")\n",
        "plt.show()"
      ],
      "metadata": {
        "colab": {
          "base_uri": "https://localhost:8080/",
          "height": 301
        },
        "id": "feIKYCydOuee",
        "outputId": "c57cc25d-98f4-4d50-f08d-36617c52868e"
      },
      "execution_count": null,
      "outputs": [
        {
          "output_type": "display_data",
          "data": {
            "text/plain": [
              "<Figure size 432x288 with 1 Axes>"
            ],
            "image/png": "[encoded data removed]"
          },
          "metadata": {}
        }
      ]
    },
    {
      "cell_type": "code",
      "source": [
        "import pylab\n",
        "import scipy.stats as stats\n",
        "\n",
        "stats.probplot(df_pred[\"Residuals\"], dist=\"norm\", plot=pylab)\n",
        "plt.show()"
      ],
      "metadata": {
        "colab": {
          "base_uri": "https://localhost:8080/",
          "height": 301
        },
        "id": "-X3NUXImO4Mb",
        "outputId": "c77ca1c9-68b8-48ce-a982-6ad5d590759d"
      },
      "execution_count": null,
      "outputs": [
        {
          "output_type": "display_data",
          "data": {
            "text/plain": [
              "<Figure size 432x288 with 1 Axes>"
            ],
            "image/png": "[encoded data removed]"
          },
          "metadata": {}
        }
      ]
    },
    {
      "cell_type": "code",
      "source": [
        "stats.shapiro(df_pred[\"Residuals\"])"
      ],
      "metadata": {
        "colab": {
          "base_uri": "https://localhost:8080/"
        },
        "id": "qZy7Aaj9O-ov",
        "outputId": "d2b4d752-e1cf-4e70-b885-34b672b687ec"
      },
      "execution_count": null,
      "outputs": [
        {
          "output_type": "execute_result",
          "data": {
            "text/plain": [
              "ShapiroResult(statistic=0.9680156707763672, pvalue=8.98553907358166e-23)"
            ]
          },
          "metadata": {},
          "execution_count": 55
        }
      ]
    },
    {
      "cell_type": "code",
      "source": [
        "import statsmodels.stats.api as sms\n",
        "from statsmodels.compat import lzip\n",
        "\n",
        "name = [\"F statistic\", \"p-value\"]\n",
        "test = sms.het_goldfeldquandt(df_pred[\"Residuals\"], x_train2)\n",
        "lzip(name, test)"
      ],
      "metadata": {
        "colab": {
          "base_uri": "https://localhost:8080/"
        },
        "id": "QERAOb9zPT45",
        "outputId": "88916a40-5408-4951-c185-0e614c6bded5"
      },
      "execution_count": null,
      "outputs": [
        {
          "output_type": "execute_result",
          "data": {
            "text/plain": [
              "[('F statistic', 0.9517792085611969), ('p-value', 0.7970099642091497)]"
            ]
          },
          "metadata": {},
          "execution_count": 56
        }
      ]
    },
    {
      "cell_type": "markdown",
      "source": [
        "\n",
        "\n",
        "*   **Residuals are homoscedastic**\n",
        "\n",
        "\n",
        "\n",
        "\n"
      ],
      "metadata": {
        "id": "PgTfT0rGQFJt"
      }
    },
    {
      "cell_type": "markdown",
      "metadata": {
        "id": "jRYSDgFZMKtm"
      },
      "source": [
        "## Final Model"
      ]
    },
    {
      "cell_type": "code",
      "execution_count": null,
      "metadata": {
        "id": "x_Sqvs4TMKtn",
        "colab": {
          "base_uri": "https://localhost:8080/"
        },
        "outputId": "a4884675-0c7f-4eb4-bf38-5e29c7c2dfeb"
      },
      "outputs": [
        {
          "output_type": "stream",
          "name": "stdout",
          "text": [
            "                              OLS Regression Results                             \n",
            "=================================================================================\n",
            "Dep. Variable:     normalized_used_price   R-squared:                       0.853\n",
            "Model:                               OLS   Adj. R-squared:                  0.848\n",
            "Method:                    Least Squares   F-statistic:                     167.5\n",
            "Date:                   Tue, 31 Jan 2023   Prob (F-statistic):               0.00\n",
            "Time:                           03:13:48   Log-Likelihood:                 159.73\n",
            "No. Observations:                   2417   AIC:                            -155.5\n",
            "Df Residuals:                       2335   BIC:                             319.3\n",
            "Df Model:                             81                                         \n",
            "Covariance Type:               nonrobust                                         \n",
            "====================================================================================================================================================================================================================================================================================================================\n",
            "                                                                                                                                                                                                                                                       coef    std err          t      P>|t|      [0.025      0.975]\n",
            "--------------------------------------------------------------------------------------------------------------------------------------------------------------------------------------------------------------------------------------------------------------------------------------------------------------------\n",
            "const                                                                                                                                                                                                                                                1.8251      0.081     22.610      0.000       1.667       1.983\n",
            "screen_size                                                                                                                                                                                                                                          0.0284      0.004      7.964      0.000       0.021       0.035\n",
            "selfie_camera_mp                                                                                                                                                                                                                                     0.0119      0.001     10.099      0.000       0.010       0.014\n",
            "int_memory                                                                                                                                                                                                                                           0.0002   6.87e-05      3.149      0.002    8.16e-05       0.000\n",
            "ram                                                                                                                                                                                                                                                  0.0302      0.005      5.691      0.000       0.020       0.041\n",
            "battery                                                                                                                                                                                                                                          -1.756e-05    7.5e-06     -2.340      0.019   -3.23e-05   -2.84e-06\n",
            "weight                                                                                                                                                                                                                                               0.0009      0.000      6.522      0.000       0.001       0.001\n",
            "days_used                                                                                                                                                                                                                                         2.441e-05    3.1e-05      0.788      0.431   -3.64e-05    8.52e-05\n",
            "normalized_new_price                                                                                                                                                                                                                                 0.3955      0.013     30.905      0.000       0.370       0.421\n",
            "years_since_release                                                                                                                                                                                                                                 -0.0231      0.005     -4.906      0.000      -0.032      -0.014\n",
            "brand_name_Alcatel                                                                                                                                                                                                                                  -0.1019      0.050     -2.041      0.041      -0.200      -0.004\n",
            "brand_name_Apple                                                                                                                                                                                                                                    -0.1266      0.148     -0.854      0.393      -0.417       0.164\n",
            "brand_name_Asus                                                                                                                                                                                                                                     -0.0169      0.049     -0.343      0.732      -0.113       0.080\n",
            "brand_name_BlackBerry                                                                                                                                                                                                                               -0.0006      0.074     -0.008      0.994      -0.145       0.144\n",
            "brand_name_Celkon                                                                                                                                                                                                                                   -0.2454      0.069     -3.568      0.000      -0.380      -0.111\n",
            "brand_name_Coolpad                                                                                                                                                                                                                                  -0.0608      0.071     -0.861      0.389      -0.199       0.078\n",
            "brand_name_Gionee                                                                                                                                                                                                                                   -0.0369      0.058     -0.631      0.528      -0.151       0.078\n",
            "brand_name_Google                                                                                                                                                                                                                                   -0.0434      0.174     -0.249      0.804      -0.385       0.299\n",
            "brand_name_HTC                                                                                                                                                                                                                                      -0.0584      0.051     -1.150      0.250      -0.158       0.041\n",
            "brand_name_Honor                                                                                                                                                                                                                                    -0.0739      0.051     -1.454      0.146      -0.173       0.026\n",
            "brand_name_Huawei                                                                                                                                                                                                                                   -0.0979      0.046     -2.112      0.035      -0.189      -0.007\n",
            "brand_name_Infinix                                                                                                                                                                                                                                  -0.0095      0.057     -0.167      0.867      -0.120       0.101\n",
            "brand_name_Karbonn                                                                                                                                                                                                                                  -0.0850      0.068     -1.250      0.211      -0.218       0.048\n",
            "brand_name_LG                                                                                                                                                                                                                                       -0.0781      0.047     -1.662      0.097      -0.170       0.014\n",
            "brand_name_Lava                                                                                                                                                                                                                                     -0.0497      0.063     -0.790      0.430      -0.173       0.074\n",
            "brand_name_Lenovo                                                                                                                                                                                                                                   -0.0620      0.047     -1.313      0.189      -0.155       0.031\n",
            "brand_name_Meizu                                                                                                                                                                                                                                    -0.1117      0.056     -1.986      0.047      -0.222      -0.001\n",
            "brand_name_Micromax                                                                                                                                                                                                                                 -0.0735      0.049     -1.505      0.132      -0.169       0.022\n",
            "brand_name_Microsoft                                                                                                                                                                                                                                 0.0536      0.083      0.648      0.517      -0.109       0.216\n",
            "brand_name_Motorola                                                                                                                                                                                                                                 -0.0798      0.051     -1.562      0.118      -0.180       0.020\n",
            "brand_name_Nokia                                                                                                                                                                                                                                     0.0448      0.053      0.851      0.395      -0.058       0.148\n",
            "brand_name_OnePlus                                                                                                                                                                                                                                  -0.0562      0.073     -0.767      0.443      -0.200       0.087\n",
            "brand_name_Oppo                                                                                                                                                                                                                                     -0.0508      0.049     -1.034      0.301      -0.147       0.046\n",
            "brand_name_Others                                                                                                                                                                                                                                   -0.0827      0.044     -1.899      0.058      -0.168       0.003\n",
            "brand_name_Panasonic                                                                                                                                                                                                                                -0.0721      0.062     -1.169      0.243      -0.193       0.049\n",
            "brand_name_Realme                                                                                                                                                                                                                                   -0.0673      0.063     -1.064      0.288      -0.191       0.057\n",
            "brand_name_Samsung                                                                                                                                                                                                                                  -0.0883      0.045     -1.958      0.050      -0.177       0.000\n",
            "brand_name_Sony                                                                                                                                                                                                                                     -0.0791      0.059     -1.333      0.183      -0.196       0.037\n",
            "brand_name_Spice                                                                                                                                                                                                                                    -0.0580      0.068     -0.848      0.396      -0.192       0.076\n",
            "brand_name_Vivo                                                                                                                                                                                                                                     -0.0883      0.050     -1.749      0.080      -0.187       0.011\n",
            "brand_name_XOLO                                                                                                                                                                                                                                     -0.1038      0.057     -1.815      0.070      -0.216       0.008\n",
            "brand_name_Xiaomi                                                                                                                                                                                                                                   -0.0014      0.050     -0.027      0.978      -0.099       0.097\n",
            "brand_name_ZTE                                                                                                                                                                                                                                      -0.0565      0.049     -1.160      0.246      -0.152       0.039\n",
            "os_Others                                                                                                                                                                                                                                           -0.0105      0.035     -0.300      0.764      -0.079       0.058\n",
            "os_Windows                                                                                                                                                                                                                                          -0.0154      0.045     -0.341      0.733      -0.104       0.073\n",
            "os_iOS                                                                                                                                                                                                                                               0.0422      0.148      0.286      0.775      -0.247       0.331\n",
            "4g_yes                                                                                                                                                                                                                                               0.0393      0.016      2.399      0.017       0.007       0.071\n",
            "5g_yes                                                                                                                                                                                                                                              -0.0904      0.033     -2.766      0.006      -0.155      -0.026\n",
            "main_camera_mp_8.0                                                                                                                                                                                                                                  -0.1261      0.015     -8.502      0.000      -0.155      -0.097\n",
            "main_camera_mp_5.0                                                                                                                                                                                                                                  -0.2171      0.019    -11.326      0.000      -0.255      -0.180\n",
            "main_camera_mp_10.5                                                                                                                                                                                                                                  0.0836      0.063      1.336      0.182      -0.039       0.206\n",
            "main_camera_mp_3.15                                                                                                                                                                                                                                 -0.2538      0.032     -8.004      0.000      -0.316      -0.192\n",
            "main_camera_mp_<bound method Series.fillna of 0       13.0\n",
            "1       13.0\n",
            "2       13.0\n",
            "3       13.0\n",
            "4       13.0\n",
            "        ... \n",
            "3449    13.0\n",
            "3450    13.0\n",
            "3451    13.0\n",
            "3452    13.0\n",
            "3453    13.0\n",
            "Name: main_camera_mp, Length: 3454, dtype: float64>    -0.0095      0.057     -0.167      0.867      -0.120       0.101\n",
            "main_camera_mp_2.0                                                                                                                                                                                                                                  -0.3042      0.029    -10.355      0.000      -0.362      -0.247\n",
            "main_camera_mp_16.0                                                                                                                                                                                                                                  0.0873      0.024      3.646      0.000       0.040       0.134\n",
            "main_camera_mp_0.3                                                                                                                                                                                                                                  -0.4737      0.042    -11.195      0.000      -0.557      -0.391\n",
            "main_camera_mp_12.0                                                                                                                                                                                                                                 -0.0057      0.024     -0.241      0.809      -0.052       0.041\n",
            "main_camera_mp_14.5                                                                                                                                                                                                                                 -0.0710      0.073     -0.966      0.334      -0.215       0.073\n",
            "main_camera_mp_48.0                                                                                                                                                                                                                                  0.2429      0.165      1.476      0.140      -0.080       0.566\n",
            "main_camera_mp_3.0                                                                                                                                                                                                                                   0.0932      0.234      0.398      0.690      -0.366       0.552\n",
            "main_camera_mp_21.0                                                                                                                                                                                                                                  0.0672      0.062      1.091      0.276      -0.054       0.188\n",
            "main_camera_mp_1.3                                                                                                                                                                                                                                  -0.4407      0.059     -7.464      0.000      -0.556      -0.325\n",
            "main_camera_mp_13.1                                                                                                                                                                                                                                 -0.0731      0.118     -0.621      0.535      -0.304       0.158\n",
            "main_camera_mp_24.0                                                                                                                                                                                                                                  0.0416      0.164      0.253      0.800      -0.280       0.363\n",
            "main_camera_mp_0.08                                                                                                                                                                                                                                 -0.4768      0.235     -2.032      0.042      -0.937      -0.017\n",
            "main_camera_mp_20.7                                                                                                                                                                                                                                  0.1748      0.083      2.113      0.035       0.013       0.337\n",
            "main_camera_mp_23.0                                                                                                                                                                                                                                  0.2251      0.065      3.458      0.001       0.097       0.353\n",
            "main_camera_mp_1.0                                                                                                                                                                                                                                4.449e-17   1.09e-16      0.409      0.682   -1.69e-16    2.58e-16\n",
            "main_camera_mp_18.0                                                                                                                                                                                                                                 -0.0734      0.238     -0.308      0.758      -0.541       0.394\n",
            "main_camera_mp_12.2                                                                                                                                                                                                                                 -0.1294      0.187     -0.693      0.489      -0.496       0.237\n",
            "main_camera_mp_12.3                                                                                                                                                                                                                                 -0.0436      0.087     -0.504      0.615      -0.213       0.126\n",
            "main_camera_mp_20.0                                                                                                                                                                                                                                  0.0660      0.072      0.920      0.357      -0.075       0.207\n",
            "main_camera_mp_20.2                                                                                                                                                                                                                              -1.396e-16   8.84e-17     -1.579      0.114   -3.13e-16    3.38e-17\n",
            "main_camera_mp_4.0                                                                                                                                                                                                                                  -0.2347      0.083     -2.842      0.005      -0.397      -0.073\n",
            "main_camera_mp_12.5                                                                                                                                                                                                                                  0.1505      0.117      1.283      0.200      -0.079       0.380\n",
            "main_camera_mp_10.0                                                                                                                                                                                                                                 -0.1619      0.119     -1.364      0.173      -0.395       0.071\n",
            "main_camera_mp_6.5                                                                                                                                                                                                                                  -0.1167      0.135     -0.864      0.388      -0.382       0.148\n",
            "main_camera_mp_6.7                                                                                                                                                                                                                                  -0.4113      0.143     -2.880      0.004      -0.691      -0.131\n",
            "main_camera_mp_41.0                                                                                                                                                                                                                               5.912e-17   7.27e-17      0.813      0.416   -8.35e-17    2.02e-16\n",
            "main_camera_mp_20.1                                                                                                                                                                                                                              -7.213e-18   1.53e-17     -0.472      0.637   -3.72e-17    2.28e-17\n",
            "main_camera_mp_12.6                                                                                                                                                                                                                                 -0.4480      0.232     -1.935      0.053      -0.902       0.006\n",
            "main_camera_mp_16.3                                                                                                                                                                                                                               1.551e-17   2.58e-17      0.602      0.547    -3.5e-17     6.6e-17\n",
            "main_camera_mp_22.6                                                                                                                                                                                                                                       0          0        nan        nan           0           0\n",
            "main_camera_mp_19.0                                                                                                                                                                                                                                 -0.0193      0.104     -0.186      0.853      -0.223       0.184\n",
            "main_camera_mp_21.5                                                                                                                                                                                                                                  0.1035      0.235      0.440      0.660      -0.358       0.564\n",
            "main_camera_mp_21.2                                                                                                                                                                                                                                 -0.0164      0.235     -0.070      0.944      -0.477       0.444\n",
            "main_camera_mp_8.1                                                                                                                                                                                                                                  -0.0492      0.125     -0.393      0.694      -0.294       0.196\n",
            "main_camera_mp_1.2                                                                                                                                                                                                                                  -0.0850      0.235     -0.361      0.718      -0.546       0.376\n",
            "main_camera_mp_22.5                                                                                                                                                                                                                                  0.1810      0.232      0.780      0.435      -0.274       0.636\n",
            "==============================================================================\n",
            "Omnibus:                      228.114   Durbin-Watson:                   1.994\n",
            "Prob(Omnibus):                  0.000   Jarque-Bera (JB):              588.912\n",
            "Skew:                          -0.534   Prob(JB):                    1.32e-128\n",
            "Kurtosis:                       5.170   Cond. No.                     4.25e+19\n",
            "==============================================================================\n",
            "\n",
            "Notes:\n",
            "[1] Standard Errors assume that the covariance matrix of the errors is correctly specified.\n",
            "[2] The smallest eigenvalue is 1.59e-29. This might indicate that there are\n",
            "strong multicollinearity problems or that the design matrix is singular.\n"
          ]
        }
      ],
      "source": [
        "olsmodel_final = sm.OLS(y_train, x_train2).fit()\n",
        "print(olsmodel_final.summary())"
      ]
    },
    {
      "cell_type": "markdown",
      "metadata": {
        "id": "2BkZh6eHluZK"
      },
      "source": [
        "## Actionable Insights and Recommendations"
      ]
    },
    {
      "cell_type": "markdown",
      "source": [
        "# Insights\n",
        "\n",
        "*   The new devices have a higher used price because people want better features and technoligical advances that would increase the price of the new or used device. The demand and supply of new and used devices are correlated highly.\n",
        "*  Brand name, release year, new price, and days used all affect the used price. These factors are important because they give details about cosmetic issues and resale value. Originality plays a role and people don't want to buy a fake branded phone.\n",
        "*   Battery and days used are negativley correlated, meaning the battery could be heavily affected by the number of days the device was used.\n",
        "*   The average used price is 110 euros, meaning it is very affordable for the average person.\n",
        "\n",
        "# Reccomendations\n",
        "*   Collecting data on income and device brand preffered should be done to gain a better understanding of the target market. Also age of customers since younger people want the newest technology.\n",
        "*   Phones that are newly released should be focused on the most since they have a high resale value. Battery tests shoudl also be included before purchase since that seems to affect the byers decision.\n",
        "*   Discontinue the sale of Celkon since all of their devices have very low RAM.\n",
        "*   Focus on reselling popular brands such as Apple, Android, and Samsung.\n",
        "\n",
        "\n",
        "\n",
        "\n",
        "\n",
        "\n",
        "\n",
        "\n",
        "\n",
        "\n",
        "\n"
      ],
      "metadata": {
        "id": "QTRwxfBBe5sV"
      }
    },
    {
      "cell_type": "markdown",
      "metadata": {
        "id": "bWXXovuh4rqN"
      },
      "source": [
        "___"
      ]
    }
  ],
  "metadata": {
    "colab": {
      "provenance": []
    },
    "kernelspec": {
      "display_name": "Python 3 (ipykernel)",
      "language": "python",
      "name": "python3"
    },
    "language_info": {
      "codemirror_mode": {
        "name": "ipython",
        "version": 3
      },
      "file_extension": ".py",
      "mimetype": "text/x-python",
      "name": "python",
      "nbconvert_exporter": "python",
      "pygments_lexer": "ipython3",
      "version": "3.8.12"
    }
  },
  "nbformat": 4,
  "nbformat_minor": 0
}