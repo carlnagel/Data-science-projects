{
  "cells": [
    {
      "cell_type": "markdown",
      "id": "AT5OogJVFbwu",
      "metadata": {
        "id": "AT5OogJVFbwu"
      }
        "## Objective:\n",
        "\n",
        "In FY 2016, the OFLC processed 775,979 employer applications for 1,699,957 positions for temporary and permanent labor certifications. This was a nine percent increase in the overall number of processed applications from the previous year. The process of reviewing every case is becoming a tedious task as the number of applicants is increasing every year.\n",
        "\n",
        "The increasing number of applicants every year calls for a Machine Learning based solution that can help in shortlisting the candidates having higher chances of VISA approval. OFLC has hired your firm EasyVisa for data-driven solutions. You as a data scientist have to analyze the data provided and, with the help of a classification model:\n",
        "\n",
        "* Facilitate the process of visa approvals.\n",
        "* Recommend a suitable profile for the applicants for whom the visa should be certified or denied based on the drivers that significantly influence the case status.\n",
        "\n",
        "\n",
        "## Data Description\n",
        "\n",
        "The data contains the different attributes of the employee and the employer. The detailed data dictionary is given below.\n",
        "\n",
        "* case_id: ID of each visa application\n",
        "* continent: Information of continent the employee\n",
        "* education_of_employee: Information of education of the employee\n",
        "* has_job_experience: Does the employee has any job experience? Y= Yes; N = No\n",
        "* requires_job_training: Does the employee require any job training? Y = Yes; N = No\n",
        "* no_of_employees: Number of employees in the employer's company\n",
        "* yr_of_estab: Year in which the employer's company was established\n",
        "* region_of_employment: Information of foreign worker's intended region of employment in the US.\n",
        "* prevailing_wage:  Average wage paid to similarly employed workers in a specific occupation in the area of intended employment. The purpose of the prevailing wage is to ensure that the foreign worker is not underpaid compared to other workers offering the same or similar service in the same area of employment.\n",
        "* unit_of_wage: Unit of prevailing wage. Values include Hourly, Weekly, Monthly, and Yearly.\n",
        "* full_time_position: Is the position of work full-time? Y = Full Time Position; N = Part Time Position\n",
        "* case_status:  Flag indicating if the Visa was certified or denied"
      ]
    },
    {
      "cell_type": "markdown",
      "id": "dirty-island",
      "metadata": {
        "id": "dirty-island"
      },
      "source": [
        "## Importing necessary libraries and data"
      ]
    },
    {
      "cell_type": "code",
      "execution_count": 23,
      "id": "statewide-still",
      "metadata": {
        "id": "statewide-still"
      },
      "outputs": [],
      "source": [
        "import warnings\n",
        "warnings.filterwarnings(\"ignore\")\n",
        "\n",
        "import numpy as np\n",
        "import pandas as pd\n",
        "\n",
        "import seaborn as sns\n",
        "import matplotlib.pyplot as plt\n",
        "\n",
        "import scipy.stats as stats\n",
        "\n",
        "from sklearn.model_selection import train_test_split\n",
        "from sklearn.tree import DecisionTreeClassifier\n",
        "from sklearn import metrics\n",
        "from sklearn.metrics import confusion_matrix, classification_report, accuracy_score, precision_score, recall_score, f1_score, roc_auc_score\n",
        "from sklearn.model_selection import GridSearchCV, RandomizedSearchCV\n",
        "\n",
        "from sklearn.ensemble import BaggingClassifier,RandomForestClassifier, GradientBoostingClassifier, AdaBoostClassifier, StackingClassifier\n",
        "from sklearn.model_selection import GridSearchCV\n",
        "from xgboost import XGBClassifier"
      ]
    },
    {
      "cell_type": "code",
      "execution_count": 19,
      "id": "persistent-juice",
      "metadata": {
        "id": "persistent-juice",
        "colab": {
          "base_uri": "https://localhost:8080/"
        },
        "outputId": "386181b7-c768-46da-ed5c-53807c695f27"
      },
      "outputs": [
        {
          "output_type": "stream",
          "name": "stdout",
          "text": [
            "Mounted at /content/drive\n"
          ]
        }
      ],
      "source": [
        "from google.colab import drive\n",
        "drive.mount('/content/drive')"
      ]
    },
    {
      "cell_type": "code",
      "source": [
        "data= pd.read_csv('/content/drive/MyDrive/Python Course/stock_data.csv')"
      ],
      "metadata": {
        "id": "jvkWCGTqsJWH"
      },
      "id": "jvkWCGTqsJWH",
      "execution_count": 24,
      "outputs": []
    },
    {
      "cell_type": "markdown",
      "id": "desperate-infection",
      "metadata": {
        "id": "desperate-infection"
      },
      "source": [
        "## Data Overview\n",
        "\n",
        "- Observations\n",
        "- Sanity checks"
      ]
    },
    {
      "cell_type": "code",
      "source": [
        "data.head()"
      ],
      "metadata": {
        "colab": {
          "base_uri": "https://localhost:8080/",
          "height": 264
        },
        "id": "jY-vpa7hsWKy",
        "outputId": "f67ad251-a9de-4247-9a5e-7403241afa03"
      },
      "id": "jY-vpa7hsWKy",
      "execution_count": null,
      "outputs": [
        {
          "output_type": "execute_result",
          "data": {
            "text/plain": [
              "  continent education_of_employee has_job_experience requires_job_training  \\\n",
              "0      Asia           High School                  N                     N   \n",
              "1      Asia              Master's                  Y                     N   \n",
              "2      Asia            Bachelor's                  N                     Y   \n",
              "3      Asia            Bachelor's                  N                     N   \n",
              "4    Africa              Master's                  Y                     N   \n",
              "\n",
              "   no_of_employees  yr_of_estab region_of_employment  prevailing_wage  \\\n",
              "0            14513         2007                 West         592.2029   \n",
              "1             2412         2002            Northeast       83425.6500   \n",
              "2            44444         2008                 West      122996.8600   \n",
              "3               98         1897                 West       83434.0300   \n",
              "4             1082         2005                South      149907.3900   \n",
              "\n",
              "  unit_of_wage full_time_position case_status  \n",
              "0         Hour                  Y           0  \n",
              "1         Year                  Y           1  \n",
              "2         Year                  Y           0  \n",
              "3         Year                  Y           0  \n",
              "4         Year                  Y           1  "
            ],
            "text/html": [
              "\n",
              "  <div id=\"df-55ff6839-68b4-49d0-9860-29377a2ca156\">\n",
              "    <div class=\"colab-df-container\">\n",
              "      <div>\n",
              "<style scoped>\n",
              "    .dataframe tbody tr th:only-of-type {\n",
              "        vertical-align: middle;\n",
              "    }\n",
              "\n",
              "    .dataframe tbody tr th {\n",
              "        vertical-align: top;\n",
              "    }\n",
              "\n",
              "    .dataframe thead th {\n",
              "        text-align: right;\n",
              "    }\n",
              "</style>\n",
              "<table border=\"1\" class=\"dataframe\">\n",
              "  <thead>\n",
              "    <tr style=\"text-align: right;\">\n",
              "      <th></th>\n",
              "      <th>continent</th>\n",
              "      <th>education_of_employee</th>\n",
              "      <th>has_job_experience</th>\n",
              "      <th>requires_job_training</th>\n",
              "      <th>no_of_employees</th>\n",
              "      <th>yr_of_estab</th>\n",
              "      <th>region_of_employment</th>\n",
              "      <th>prevailing_wage</th>\n",
              "      <th>unit_of_wage</th>\n",
              "      <th>full_time_position</th>\n",
              "      <th>case_status</th>\n",
              "    </tr>\n",
              "  </thead>\n",
              "  <tbody>\n",
              "    <tr>\n",
              "      <th>0</th>\n",
              "      <td>Asia</td>\n",
              "      <td>High School</td>\n",
              "      <td>N</td>\n",
              "      <td>N</td>\n",
              "      <td>14513</td>\n",
              "      <td>2007</td>\n",
              "      <td>West</td>\n",
              "      <td>592.2029</td>\n",
              "      <td>Hour</td>\n",
              "      <td>Y</td>\n",
              "      <td>0</td>\n",
              "    </tr>\n",
              "    <tr>\n",
              "      <th>1</th>\n",
              "      <td>Asia</td>\n",
              "      <td>Master's</td>\n",
              "      <td>Y</td>\n",
              "      <td>N</td>\n",
              "      <td>2412</td>\n",
              "      <td>2002</td>\n",
              "      <td>Northeast</td>\n",
              "      <td>83425.6500</td>\n",
              "      <td>Year</td>\n",
              "      <td>Y</td>\n",
              "      <td>1</td>\n",
              "    </tr>\n",
              "    <tr>\n",
              "      <th>2</th>\n",
              "      <td>Asia</td>\n",
              "      <td>Bachelor's</td>\n",
              "      <td>N</td>\n",
              "      <td>Y</td>\n",
              "      <td>44444</td>\n",
              "      <td>2008</td>\n",
              "      <td>West</td>\n",
              "      <td>122996.8600</td>\n",
              "      <td>Year</td>\n",
              "      <td>Y</td>\n",
              "      <td>0</td>\n",
              "    </tr>\n",
              "    <tr>\n",
              "      <th>3</th>\n",
              "      <td>Asia</td>\n",
              "      <td>Bachelor's</td>\n",
              "      <td>N</td>\n",
              "      <td>N</td>\n",
              "      <td>98</td>\n",
              "      <td>1897</td>\n",
              "      <td>West</td>\n",
              "      <td>83434.0300</td>\n",
              "      <td>Year</td>\n",
              "      <td>Y</td>\n",
              "      <td>0</td>\n",
              "    </tr>\n",
              "    <tr>\n",
              "      <th>4</th>\n",
              "      <td>Africa</td>\n",
              "      <td>Master's</td>\n",
              "      <td>Y</td>\n",
              "      <td>N</td>\n",
              "      <td>1082</td>\n",
              "      <td>2005</td>\n",
              "      <td>South</td>\n",
              "      <td>149907.3900</td>\n",
              "      <td>Year</td>\n",
              "      <td>Y</td>\n",
              "      <td>1</td>\n",
              "    </tr>\n",
              "  </tbody>\n",
              "</table>\n",
              "</div>\n",
              "      <button class=\"colab-df-convert\" onclick=\"convertToInteractive('df-55ff6839-68b4-49d0-9860-29377a2ca156')\"\n",
              "              title=\"Convert this dataframe to an interactive table.\"\n",
              "              style=\"display:none;\">\n",
              "        \n",
              "  <svg xmlns=\"http://www.w3.org/2000/svg\" height=\"24px\"viewBox=\"0 0 24 24\"\n",
              "       width=\"24px\">\n",
              "    <path d=\"M0 0h24v24H0V0z\" fill=\"none\"/>\n",
              "    <path d=\"M18.56 5.44l.94 2.06.94-2.06 2.06-.94-2.06-.94-.94-2.06-.94 2.06-2.06.94zm-11 1L8.5 8.5l.94-2.06 2.06-.94-2.06-.94L8.5 2.5l-.94 2.06-2.06.94zm10 10l.94 2.06.94-2.06 2.06-.94-2.06-.94-.94-2.06-.94 2.06-2.06.94z\"/><path d=\"M17.41 7.96l-1.37-1.37c-.4-.4-.92-.59-1.43-.59-.52 0-1.04.2-1.43.59L10.3 9.45l-7.72 7.72c-.78.78-.78 2.05 0 2.83L4 21.41c.39.39.9.59 1.41.59.51 0 1.02-.2 1.41-.59l7.78-7.78 2.81-2.81c.8-.78.8-2.07 0-2.86zM5.41 20L4 18.59l7.72-7.72 1.47 1.35L5.41 20z\"/>\n",
              "  </svg>\n",
              "      </button>\n",
              "      \n",
              "  <style>\n",
              "    .colab-df-container {\n",
              "      display:flex;\n",
              "      flex-wrap:wrap;\n",
              "      gap: 12px;\n",
              "    }\n",
              "\n",
              "    .colab-df-convert {\n",
              "      background-color: #E8F0FE;\n",
              "      border: none;\n",
              "      border-radius: 50%;\n",
              "      cursor: pointer;\n",
              "      display: none;\n",
              "      fill: #1967D2;\n",
              "      height: 32px;\n",
              "      padding: 0 0 0 0;\n",
              "      width: 32px;\n",
              "    }\n",
              "\n",
              "    .colab-df-convert:hover {\n",
              "      background-color: #E2EBFA;\n",
              "      box-shadow: 0px 1px 2px rgba(60, 64, 67, 0.3), 0px 1px 3px 1px rgba(60, 64, 67, 0.15);\n",
              "      fill: #174EA6;\n",
              "    }\n",
              "\n",
              "    [theme=dark] .colab-df-convert {\n",
              "      background-color: #3B4455;\n",
              "      fill: #D2E3FC;\n",
              "    }\n",
              "\n",
              "    [theme=dark] .colab-df-convert:hover {\n",
              "      background-color: #434B5C;\n",
              "      box-shadow: 0px 1px 3px 1px rgba(0, 0, 0, 0.15);\n",
              "      filter: drop-shadow(0px 1px 2px rgba(0, 0, 0, 0.3));\n",
              "      fill: #FFFFFF;\n",
              "    }\n",
              "  </style>\n",
              "\n",
              "      <script>\n",
              "        const buttonEl =\n",
              "          document.querySelector('#df-55ff6839-68b4-49d0-9860-29377a2ca156 button.colab-df-convert');\n",
              "        buttonEl.style.display =\n",
              "          google.colab.kernel.accessAllowed ? 'block' : 'none';\n",
              "\n",
              "        async function convertToInteractive(key) {\n",
              "          const element = document.querySelector('#df-55ff6839-68b4-49d0-9860-29377a2ca156');\n",
              "          const dataTable =\n",
              "            await google.colab.kernel.invokeFunction('convertToInteractive',\n",
              "                                                     [key], {});\n",
              "          if (!dataTable) return;\n",
              "\n",
              "          const docLinkHtml = 'Like what you see? Visit the ' +\n",
              "            '<a target=\"_blank\" href=https://colab.research.google.com/notebooks/data_table.ipynb>data table notebook</a>'\n",
              "            + ' to learn more about interactive tables.';\n",
              "          element.innerHTML = '';\n",
              "          dataTable['output_type'] = 'display_data';\n",
              "          await google.colab.output.renderOutput(dataTable, element);\n",
              "          const docLink = document.createElement('div');\n",
              "          docLink.innerHTML = docLinkHtml;\n",
              "          element.appendChild(docLink);\n",
              "        }\n",
              "      </script>\n",
              "    </div>\n",
              "  </div>\n",
              "  "
            ]
          },
          "metadata": {},
          "execution_count": 139
        }
      ]
    },
    {
      "cell_type": "code",
      "source": [
        "data.shape"
      ],
      "metadata": {
        "colab": {
          "base_uri": "https://localhost:8080/"
        },
        "id": "orDdqSplsrrj",
        "outputId": "294682d1-8e3f-4b54-8907-e124e69ce8de"
      },
      "id": "orDdqSplsrrj",
      "execution_count": null,
      "outputs": [
        {
          "output_type": "execute_result",
          "data": {
            "text/plain": [
              "(25480, 11)"
            ]
          },
          "metadata": {},
          "execution_count": 140
        }
      ]
    },
    {
      "cell_type": "code",
      "source": [
        "data.info()"
      ],
      "metadata": {
        "colab": {
          "base_uri": "https://localhost:8080/"
        },
        "id": "xt7VFYmPspGg",
        "outputId": "09c79de1-6c8f-472f-f7bd-14295430d2a0"
      },
      "id": "xt7VFYmPspGg",
      "execution_count": null,
      "outputs": [
        {
          "output_type": "stream",
          "name": "stdout",
          "text": [
            "<class 'pandas.core.frame.DataFrame'>\n",
            "RangeIndex: 25480 entries, 0 to 25479\n",
            "Data columns (total 11 columns):\n",
            " #   Column                 Non-Null Count  Dtype   \n",
            "---  ------                 --------------  -----   \n",
            " 0   continent              25480 non-null  category\n",
            " 1   education_of_employee  25480 non-null  category\n",
            " 2   has_job_experience     25480 non-null  category\n",
            " 3   requires_job_training  25480 non-null  category\n",
            " 4   no_of_employees        25480 non-null  int64   \n",
            " 5   yr_of_estab            25480 non-null  int64   \n",
            " 6   region_of_employment   25480 non-null  category\n",
            " 7   prevailing_wage        25480 non-null  float64 \n",
            " 8   unit_of_wage           25480 non-null  category\n",
            " 9   full_time_position     25480 non-null  category\n",
            " 10  case_status            25480 non-null  category\n",
            "dtypes: category(8), float64(1), int64(2)\n",
            "memory usage: 797.7 KB\n"
          ]
        }
      ]
    },
    {
      "cell_type": "markdown",
      "source": [
        "\n",
        "\n",
        "*   Object data types need to be converted to right data type\n",
        "\n"
      ],
      "metadata": {
        "id": "49jICNAqs47N"
      },
      "id": "49jICNAqs47N"
    },
    {
      "cell_type": "code",
      "source": [
        "data.isna().sum()"
      ],
      "metadata": {
        "colab": {
          "base_uri": "https://localhost:8080/"
        },
        "id": "apDCroCPsvHU",
        "outputId": "7419c7cd-600a-4498-ee67-931df2848bbe"
      },
      "id": "apDCroCPsvHU",
      "execution_count": null,
      "outputs": [
        {
          "output_type": "execute_result",
          "data": {
            "text/plain": [
              "continent                0\n",
              "education_of_employee    0\n",
              "has_job_experience       0\n",
              "requires_job_training    0\n",
              "no_of_employees          0\n",
              "yr_of_estab              0\n",
              "region_of_employment     0\n",
              "prevailing_wage          0\n",
              "unit_of_wage             0\n",
              "full_time_position       0\n",
              "case_status              0\n",
              "dtype: int64"
            ]
          },
          "metadata": {},
          "execution_count": 142
        }
      ]
    },
    {
      "cell_type": "code",
      "source": [
        "data[data.duplicated()].count()"
      ],
      "metadata": {
        "colab": {
          "base_uri": "https://localhost:8080/"
        },
        "id": "8-3ha04c2Hch",
        "outputId": "857a2ada-28e4-45de-e6a4-c9fa65d0f316"
      },
      "id": "8-3ha04c2Hch",
      "execution_count": null,
      "outputs": [
        {
          "output_type": "execute_result",
          "data": {
            "text/plain": [
              "continent                0\n",
              "education_of_employee    0\n",
              "has_job_experience       0\n",
              "requires_job_training    0\n",
              "no_of_employees          0\n",
              "yr_of_estab              0\n",
              "region_of_employment     0\n",
              "prevailing_wage          0\n",
              "unit_of_wage             0\n",
              "full_time_position       0\n",
              "case_status              0\n",
              "dtype: int64"
            ]
          },
          "metadata": {},
          "execution_count": 143
        }
      ]
    },
    {
      "cell_type": "code",
      "source": [
        "cols = data.select_dtypes(['object'])\n",
        "cols.columns\n"
      ],
      "metadata": {
        "colab": {
          "base_uri": "https://localhost:8080/"
        },
        "id": "CJxtmj8stcHW",
        "outputId": "ffa1d58a-1eff-4079-ade1-cc6c03711b7e"
      },
      "id": "CJxtmj8stcHW",
      "execution_count": null,
      "outputs": [
        {
          "output_type": "execute_result",
          "data": {
            "text/plain": [
              "Index(['case_id', 'continent', 'education_of_employee', 'has_job_experience',\n",
              "       'requires_job_training', 'region_of_employment', 'unit_of_wage',\n",
              "       'full_time_position', 'case_status'],\n",
              "      dtype='object')"
            ]
          },
          "metadata": {},
          "execution_count": 4
        }
      ]
    },
    {
      "cell_type": "code",
      "source": [
        "for i in cols.columns:\n",
        "    data[i] = data[i].astype('category')"
      ],
      "metadata": {
        "id": "5FQsMgaGvyb1"
      },
      "id": "5FQsMgaGvyb1",
      "execution_count": null,
      "outputs": []
    },
    {
      "cell_type": "code",
      "source": [
        "data.describe(include=['category']).T"
      ],
      "metadata": {
        "colab": {
          "base_uri": "https://localhost:8080/",
          "height": 291
        },
        "id": "Pf1TV7kJvn_q",
        "outputId": "f6561f99-2777-462d-ad44-588815905643"
      },
      "id": "Pf1TV7kJvn_q",
      "execution_count": null,
      "outputs": [
        {
          "output_type": "execute_result",
          "data": {
            "text/plain": [
              "                       count unique         top   freq\n",
              "continent              25480      6        Asia  16861\n",
              "education_of_employee  25480      4  Bachelor's  10234\n",
              "has_job_experience     25480      2           Y  14802\n",
              "requires_job_training  25480      2           N  22525\n",
              "region_of_employment   25480      5   Northeast   7195\n",
              "unit_of_wage           25480      4        Year  22962\n",
              "full_time_position     25480      2           Y  22773\n",
              "case_status            25480      2           1  17018"
            ],
            "text/html": [
              "\n",
              "  <div id=\"df-84df8102-3c20-4c1d-98aa-8516ddaad6c3\">\n",
              "    <div class=\"colab-df-container\">\n",
              "      <div>\n",
              "<style scoped>\n",
              "    .dataframe tbody tr th:only-of-type {\n",
              "        vertical-align: middle;\n",
              "    }\n",
              "\n",
              "    .dataframe tbody tr th {\n",
              "        vertical-align: top;\n",
              "    }\n",
              "\n",
              "    .dataframe thead th {\n",
              "        text-align: right;\n",
              "    }\n",
              "</style>\n",
              "<table border=\"1\" class=\"dataframe\">\n",
              "  <thead>\n",
              "    <tr style=\"text-align: right;\">\n",
              "      <th></th>\n",
              "      <th>count</th>\n",
              "      <th>unique</th>\n",
              "      <th>top</th>\n",
              "      <th>freq</th>\n",
              "    </tr>\n",
              "  </thead>\n",
              "  <tbody>\n",
              "    <tr>\n",
              "      <th>continent</th>\n",
              "      <td>25480</td>\n",
              "      <td>6</td>\n",
              "      <td>Asia</td>\n",
              "      <td>16861</td>\n",
              "    </tr>\n",
              "    <tr>\n",
              "      <th>education_of_employee</th>\n",
              "      <td>25480</td>\n",
              "      <td>4</td>\n",
              "      <td>Bachelor's</td>\n",
              "      <td>10234</td>\n",
              "    </tr>\n",
              "    <tr>\n",
              "      <th>has_job_experience</th>\n",
              "      <td>25480</td>\n",
              "      <td>2</td>\n",
              "      <td>Y</td>\n",
              "      <td>14802</td>\n",
              "    </tr>\n",
              "    <tr>\n",
              "      <th>requires_job_training</th>\n",
              "      <td>25480</td>\n",
              "      <td>2</td>\n",
              "      <td>N</td>\n",
              "      <td>22525</td>\n",
              "    </tr>\n",
              "    <tr>\n",
              "      <th>region_of_employment</th>\n",
              "      <td>25480</td>\n",
              "      <td>5</td>\n",
              "      <td>Northeast</td>\n",
              "      <td>7195</td>\n",
              "    </tr>\n",
              "    <tr>\n",
              "      <th>unit_of_wage</th>\n",
              "      <td>25480</td>\n",
              "      <td>4</td>\n",
              "      <td>Year</td>\n",
              "      <td>22962</td>\n",
              "    </tr>\n",
              "    <tr>\n",
              "      <th>full_time_position</th>\n",
              "      <td>25480</td>\n",
              "      <td>2</td>\n",
              "      <td>Y</td>\n",
              "      <td>22773</td>\n",
              "    </tr>\n",
              "    <tr>\n",
              "      <th>case_status</th>\n",
              "      <td>25480</td>\n",
              "      <td>2</td>\n",
              "      <td>1</td>\n",
              "      <td>17018</td>\n",
              "    </tr>\n",
              "  </tbody>\n",
              "</table>\n",
              "</div>\n",
              "      <button class=\"colab-df-convert\" onclick=\"convertToInteractive('df-84df8102-3c20-4c1d-98aa-8516ddaad6c3')\"\n",
              "              title=\"Convert this dataframe to an interactive table.\"\n",
              "              style=\"display:none;\">\n",
              "        \n",
              "  <svg xmlns=\"http://www.w3.org/2000/svg\" height=\"24px\"viewBox=\"0 0 24 24\"\n",
              "       width=\"24px\">\n",
              "    <path d=\"M0 0h24v24H0V0z\" fill=\"none\"/>\n",
              "    <path d=\"M18.56 5.44l.94 2.06.94-2.06 2.06-.94-2.06-.94-.94-2.06-.94 2.06-2.06.94zm-11 1L8.5 8.5l.94-2.06 2.06-.94-2.06-.94L8.5 2.5l-.94 2.06-2.06.94zm10 10l.94 2.06.94-2.06 2.06-.94-2.06-.94-.94-2.06-.94 2.06-2.06.94z\"/><path d=\"M17.41 7.96l-1.37-1.37c-.4-.4-.92-.59-1.43-.59-.52 0-1.04.2-1.43.59L10.3 9.45l-7.72 7.72c-.78.78-.78 2.05 0 2.83L4 21.41c.39.39.9.59 1.41.59.51 0 1.02-.2 1.41-.59l7.78-7.78 2.81-2.81c.8-.78.8-2.07 0-2.86zM5.41 20L4 18.59l7.72-7.72 1.47 1.35L5.41 20z\"/>\n",
              "  </svg>\n",
              "      </button>\n",
              "      \n",
              "  <style>\n",
              "    .colab-df-container {\n",
              "      display:flex;\n",
              "      flex-wrap:wrap;\n",
              "      gap: 12px;\n",
              "    }\n",
              "\n",
              "    .colab-df-convert {\n",
              "      background-color: #E8F0FE;\n",
              "      border: none;\n",
              "      border-radius: 50%;\n",
              "      cursor: pointer;\n",
              "      display: none;\n",
              "      fill: #1967D2;\n",
              "      height: 32px;\n",
              "      padding: 0 0 0 0;\n",
              "      width: 32px;\n",
              "    }\n",
              "\n",
              "    .colab-df-convert:hover {\n",
              "      background-color: #E2EBFA;\n",
              "      box-shadow: 0px 1px 2px rgba(60, 64, 67, 0.3), 0px 1px 3px 1px rgba(60, 64, 67, 0.15);\n",
              "      fill: #174EA6;\n",
              "    }\n",
              "\n",
              "    [theme=dark] .colab-df-convert {\n",
              "      background-color: #3B4455;\n",
              "      fill: #D2E3FC;\n",
              "    }\n",
              "\n",
              "    [theme=dark] .colab-df-convert:hover {\n",
              "      background-color: #434B5C;\n",
              "      box-shadow: 0px 1px 3px 1px rgba(0, 0, 0, 0.15);\n",
              "      filter: drop-shadow(0px 1px 2px rgba(0, 0, 0, 0.3));\n",
              "      fill: #FFFFFF;\n",
              "    }\n",
              "  </style>\n",
              "\n",
              "      <script>\n",
              "        const buttonEl =\n",
              "          document.querySelector('#df-84df8102-3c20-4c1d-98aa-8516ddaad6c3 button.colab-df-convert');\n",
              "        buttonEl.style.display =\n",
              "          google.colab.kernel.accessAllowed ? 'block' : 'none';\n",
              "\n",
              "        async function convertToInteractive(key) {\n",
              "          const element = document.querySelector('#df-84df8102-3c20-4c1d-98aa-8516ddaad6c3');\n",
              "          const dataTable =\n",
              "            await google.colab.kernel.invokeFunction('convertToInteractive',\n",
              "                                                     [key], {});\n",
              "          if (!dataTable) return;\n",
              "\n",
              "          const docLinkHtml = 'Like what you see? Visit the ' +\n",
              "            '<a target=\"_blank\" href=https://colab.research.google.com/notebooks/data_table.ipynb>data table notebook</a>'\n",
              "            + ' to learn more about interactive tables.';\n",
              "          element.innerHTML = '';\n",
              "          dataTable['output_type'] = 'display_data';\n",
              "          await google.colab.output.renderOutput(dataTable, element);\n",
              "          const docLink = document.createElement('div');\n",
              "          docLink.innerHTML = docLinkHtml;\n",
              "          element.appendChild(docLink);\n",
              "        }\n",
              "      </script>\n",
              "    </div>\n",
              "  </div>\n",
              "  "
            ]
          },
          "metadata": {},
          "execution_count": 144
        }
      ]
    },
    {
      "cell_type": "markdown",
      "source": [
        "\n",
        "\n",
        "*   Drop case_id since it wont add any helpful inference to overall data\n",
        "*   Out of the 6 cintinents, most people are from Asia\n",
        "\n",
        "\n"
      ],
      "metadata": {
        "id": "Ee0k0EY_v6-h"
      },
      "id": "Ee0k0EY_v6-h"
    },
    {
      "cell_type": "code",
      "source": [
        "data.drop(['case_id'],axis=1,inplace=True)"
      ],
      "metadata": {
        "id": "wEZKz7DH1uk7"
      },
      "id": "wEZKz7DH1uk7",
      "execution_count": null,
      "outputs": []
    },
    {
      "cell_type": "code",
      "source": [
        "data.describe().T"
      ],
      "metadata": {
        "colab": {
          "base_uri": "https://localhost:8080/",
          "height": 183
        },
        "id": "A6BecQILPqxq",
        "outputId": "5d7d309d-117e-4384-b288-78eb8434e67c"
      },
      "id": "A6BecQILPqxq",
      "execution_count": null,
      "outputs": [
        {
          "output_type": "execute_result",
          "data": {
            "text/plain": [
              "                   count          mean           std        min       25%  \\\n",
              "no_of_employees  25480.0   5667.043210  22877.928848   -26.0000   1022.00   \n",
              "yr_of_estab      25480.0   1979.409929     42.366929  1800.0000   1976.00   \n",
              "prevailing_wage  25480.0  74455.814592  52815.942327     2.1367  34015.48   \n",
              "\n",
              "                      50%          75%        max  \n",
              "no_of_employees   2109.00    3504.0000  602069.00  \n",
              "yr_of_estab       1997.00    2005.0000    2016.00  \n",
              "prevailing_wage  70308.21  107735.5125  319210.27  "
            ],
            "text/html": [
              "\n",
              "  <div id=\"df-8995efe2-242b-49d4-93c3-f028adc88bd1\">\n",
              "    <div class=\"colab-df-container\">\n",
              "      <div>\n",
              "<style scoped>\n",
              "    .dataframe tbody tr th:only-of-type {\n",
              "        vertical-align: middle;\n",
              "    }\n",
              "\n",
              "    .dataframe tbody tr th {\n",
              "        vertical-align: top;\n",
              "    }\n",
              "\n",
              "    .dataframe thead th {\n",
              "        text-align: right;\n",
              "    }\n",
              "</style>\n",
              "<table border=\"1\" class=\"dataframe\">\n",
              "  <thead>\n",
              "    <tr style=\"text-align: right;\">\n",
              "      <th></th>\n",
              "      <th>count</th>\n",
              "      <th>mean</th>\n",
              "      <th>std</th>\n",
              "      <th>min</th>\n",
              "      <th>25%</th>\n",
              "      <th>50%</th>\n",
              "      <th>75%</th>\n",
              "      <th>max</th>\n",
              "    </tr>\n",
              "  </thead>\n",
              "  <tbody>\n",
              "    <tr>\n",
              "      <th>no_of_employees</th>\n",
              "      <td>25480.0</td>\n",
              "      <td>5667.043210</td>\n",
              "      <td>22877.928848</td>\n",
              "      <td>-26.0000</td>\n",
              "      <td>1022.00</td>\n",
              "      <td>2109.00</td>\n",
              "      <td>3504.0000</td>\n",
              "      <td>602069.00</td>\n",
              "    </tr>\n",
              "    <tr>\n",
              "      <th>yr_of_estab</th>\n",
              "      <td>25480.0</td>\n",
              "      <td>1979.409929</td>\n",
              "      <td>42.366929</td>\n",
              "      <td>1800.0000</td>\n",
              "      <td>1976.00</td>\n",
              "      <td>1997.00</td>\n",
              "      <td>2005.0000</td>\n",
              "      <td>2016.00</td>\n",
              "    </tr>\n",
              "    <tr>\n",
              "      <th>prevailing_wage</th>\n",
              "      <td>25480.0</td>\n",
              "      <td>74455.814592</td>\n",
              "      <td>52815.942327</td>\n",
              "      <td>2.1367</td>\n",
              "      <td>34015.48</td>\n",
              "      <td>70308.21</td>\n",
              "      <td>107735.5125</td>\n",
              "      <td>319210.27</td>\n",
              "    </tr>\n",
              "  </tbody>\n",
              "</table>\n",
              "</div>\n",
              "      <button class=\"colab-df-convert\" onclick=\"convertToInteractive('df-8995efe2-242b-49d4-93c3-f028adc88bd1')\"\n",
              "              title=\"Convert this dataframe to an interactive table.\"\n",
              "              style=\"display:none;\">\n",
              "        \n",
              "  <svg xmlns=\"http://www.w3.org/2000/svg\" height=\"24px\"viewBox=\"0 0 24 24\"\n",
              "       width=\"24px\">\n",
              "    <path d=\"M0 0h24v24H0V0z\" fill=\"none\"/>\n",
              "    <path d=\"M18.56 5.44l.94 2.06.94-2.06 2.06-.94-2.06-.94-.94-2.06-.94 2.06-2.06.94zm-11 1L8.5 8.5l.94-2.06 2.06-.94-2.06-.94L8.5 2.5l-.94 2.06-2.06.94zm10 10l.94 2.06.94-2.06 2.06-.94-2.06-.94-.94-2.06-.94 2.06-2.06.94z\"/><path d=\"M17.41 7.96l-1.37-1.37c-.4-.4-.92-.59-1.43-.59-.52 0-1.04.2-1.43.59L10.3 9.45l-7.72 7.72c-.78.78-.78 2.05 0 2.83L4 21.41c.39.39.9.59 1.41.59.51 0 1.02-.2 1.41-.59l7.78-7.78 2.81-2.81c.8-.78.8-2.07 0-2.86zM5.41 20L4 18.59l7.72-7.72 1.47 1.35L5.41 20z\"/>\n",
              "  </svg>\n",
              "      </button>\n",
              "      \n",
              "  <style>\n",
              "    .colab-df-container {\n",
              "      display:flex;\n",
              "      flex-wrap:wrap;\n",
              "      gap: 12px;\n",
              "    }\n",
              "\n",
              "    .colab-df-convert {\n",
              "      background-color: #E8F0FE;\n",
              "      border: none;\n",
              "      border-radius: 50%;\n",
              "      cursor: pointer;\n",
              "      display: none;\n",
              "      fill: #1967D2;\n",
              "      height: 32px;\n",
              "      padding: 0 0 0 0;\n",
              "      width: 32px;\n",
              "    }\n",
              "\n",
              "    .colab-df-convert:hover {\n",
              "      background-color: #E2EBFA;\n",
              "      box-shadow: 0px 1px 2px rgba(60, 64, 67, 0.3), 0px 1px 3px 1px rgba(60, 64, 67, 0.15);\n",
              "      fill: #174EA6;\n",
              "    }\n",
              "\n",
              "    [theme=dark] .colab-df-convert {\n",
              "      background-color: #3B4455;\n",
              "      fill: #D2E3FC;\n",
              "    }\n",
              "\n",
              "    [theme=dark] .colab-df-convert:hover {\n",
              "      background-color: #434B5C;\n",
              "      box-shadow: 0px 1px 3px 1px rgba(0, 0, 0, 0.15);\n",
              "      filter: drop-shadow(0px 1px 2px rgba(0, 0, 0, 0.3));\n",
              "      fill: #FFFFFF;\n",
              "    }\n",
              "  </style>\n",
              "\n",
              "      <script>\n",
              "        const buttonEl =\n",
              "          document.querySelector('#df-8995efe2-242b-49d4-93c3-f028adc88bd1 button.colab-df-convert');\n",
              "        buttonEl.style.display =\n",
              "          google.colab.kernel.accessAllowed ? 'block' : 'none';\n",
              "\n",
              "        async function convertToInteractive(key) {\n",
              "          const element = document.querySelector('#df-8995efe2-242b-49d4-93c3-f028adc88bd1');\n",
              "          const dataTable =\n",
              "            await google.colab.kernel.invokeFunction('convertToInteractive',\n",
              "                                                     [key], {});\n",
              "          if (!dataTable) return;\n",
              "\n",
              "          const docLinkHtml = 'Like what you see? Visit the ' +\n",
              "            '<a target=\"_blank\" href=https://colab.research.google.com/notebooks/data_table.ipynb>data table notebook</a>'\n",
              "            + ' to learn more about interactive tables.';\n",
              "          element.innerHTML = '';\n",
              "          dataTable['output_type'] = 'display_data';\n",
              "          await google.colab.output.renderOutput(dataTable, element);\n",
              "          const docLink = document.createElement('div');\n",
              "          docLink.innerHTML = docLinkHtml;\n",
              "          element.appendChild(docLink);\n",
              "        }\n",
              "      </script>\n",
              "    </div>\n",
              "  </div>\n",
              "  "
            ]
          },
          "metadata": {},
          "execution_count": 145
        }
      ]
    },
    {
      "cell_type": "markdown",
      "source": [
        "\n",
        "\n",
        "\n",
        "*   All companies were established in between the years 1800-2016\n",
        "*   Average number of employees is 5667 and median number of employees is 2109 so this has some positive outliers and is right skewed. The negative numberr under minimum needs to be further investigated.\n",
        "\n"
      ],
      "metadata": {
        "id": "uF1PWVM2PwB4"
      },
      "id": "uF1PWVM2PwB4"
    },
    {
      "cell_type": "markdown",
      "id": "seasonal-calibration",
      "metadata": {
        "id": "seasonal-calibration"
      },
      "source": [
        "## Exploratory Data Analysis (EDA)\n",
        "\n",
        "- EDA is an important part of any project involving data.\n",
        "- It is important to investigate and understand the data better before building a model with it.\n",
        "- A few questions have been mentioned below which will help you approach the analysis in the right manner and generate insights from the data.\n",
        "- A thorough analysis of the data, in addition to the questions mentioned below, should be done."
      ]
    },
    {
      "cell_type": "markdown",
      "id": "classified-traveler",
      "metadata": {
        "id": "classified-traveler"
      },
      "source": [
        "**Leading Questions**:\n",
        "1. Those with higher education may want to travel abroad for a well-paid job. Does education play a role in Visa certification?\n",
        "\n",
        "2. How does the visa status vary across different continents?\n",
        "\n",
        "3. Experienced professionals might look abroad for opportunities to improve their lifestyles and career development. Does work experience influence visa status?\n",
        "\n",
        "4. In the United States, employees are paid at different intervals. Which pay unit is most likely to be certified for a visa?\n",
        "\n",
        "5. The US government has established a prevailing wage to protect local talent and foreign workers. How does the visa status change with the prevailing wage?"
      ]
    },
    {
      "cell_type": "markdown",
      "source": [
        "## Univariate"
      ],
      "metadata": {
        "id": "mhnaUwOVSygq"
      },
      "id": "mhnaUwOVSygq"
    },
    {
      "cell_type": "code",
      "execution_count": null,
      "id": "right-permit",
      "metadata": {
        "id": "right-permit"
      },
      "outputs": [],
      "source": [
        "def histogram_boxplot(data, feature, figsize=(12, 8), kde=False, bins=None):\n",
        "\n",
        "    f2, (ax_box2, ax_hist2) = plt.subplots(\n",
        "        nrows=2,\n",
        "        sharex=True,\n",
        "        gridspec_kw={\"height_ratios\": (0.25, 0.75)},\n",
        "        figsize=figsize,\n",
        "    )\n",
        "    sns.boxplot(\n",
        "        data=data, x=feature, ax=ax_box2, showmeans=True, color=\"violet\"\n",
        "    )\n",
        "    sns.histplot(\n",
        "        data=data, x=feature, kde=kde, ax=ax_hist2, bins=bins\n",
        "    ) if bins else sns.histplot(\n",
        "        data=data, x=feature, kde=kde, ax=ax_hist2\n",
        "    )\n",
        "    ax_hist2.axvline(\n",
        "        data[feature].mean(), color=\"green\", linestyle=\"--\"\n",
        "    )\n",
        "    ax_hist2.axvline(\n",
        "        data[feature].median(), color=\"black\", linestyle=\"-\"\n",
        "    )"
      ]
    },
    {
      "cell_type": "code",
      "execution_count": null,
      "id": "mechanical-interference",
      "metadata": {
        "id": "mechanical-interference"
      },
      "outputs": [],
      "source": [
        "data.drop(data[(data[\"no_of_employees\"]<=0)].index, inplace=True)"
      ]
    },
    {
      "cell_type": "code",
      "source": [
        "histogram_boxplot(data, \"no_of_employees\")"
      ],
      "metadata": {
        "colab": {
          "base_uri": "https://localhost:8080/",
          "height": 497
        },
        "id": "P6FS9cEUN3-l",
        "outputId": "2a01a5e3-d287-4453-e855-a4c58c19be90"
      },
      "id": "P6FS9cEUN3-l",
      "execution_count": null,
      "outputs": [
        {
          "output_type": "display_data",
          "data": {
            "text/plain": [
              "<Figure size 864x576 with 2 Axes>"
            ],
            "image/png": "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\n"
          },
          "metadata": {
            "needs_background": "light"
          }
        }
      ]
    },
    {
      "cell_type": "markdown",
      "source": [
        "\n",
        "\n",
        "*   number of employees heavily skewed right\n",
        "\n",
        "\n"
      ],
      "metadata": {
        "id": "FjjoHMsvPXq7"
      },
      "id": "FjjoHMsvPXq7"
    },
    {
      "cell_type": "code",
      "source": [
        "histogram_boxplot(data, \"yr_of_estab\")"
      ],
      "metadata": {
        "colab": {
          "base_uri": "https://localhost:8080/",
          "height": 497
        },
        "id": "ClHvbxtjPpa4",
        "outputId": "55e8bcc6-2b16-4802-a32b-81d5f037011b"
      },
      "id": "ClHvbxtjPpa4",
      "execution_count": null,
      "outputs": [
        {
          "output_type": "display_data",
          "data": {
            "text/plain": [
              "<Figure size 864x576 with 2 Axes>"
            ],
            "image/png": "iVBORw0KGgoAAAANSUhEUgAAAtoAAAHhCAYAAABQuxnAAAAAOXRFWHRTb2Z0d2FyZQBNYXRwbG90bGliIHZlcnNpb24zLjUuMywgaHR0cHM6Ly9tYXRwbG90bGliLm9yZy/NK7nSAAAACXBIWXMAAAsTAAALEwEAmpwYAAA0lUlEQVR4nO3deZxcZZ3v8c8vG9kgQBJJSAgBWbyCMwEiiyIwwyIguSg4gBPAyFyigAKOOIp3HEe8il5xBmEUJqMBuWZYRsLIqizX4DIgBsjNQghEFklCJARZJCELPPePPh2rO9WdU50+fep0f96vV7266jlL/brqdPe3n3rOcyKlhCRJkqTu1a/sAiRJkqTeyKAtSZIkFcCgLUmSJBXAoC1JkiQVwKAtSZIkFcCgLUmSJBVgQNkFFGXUqFFp4sSJZZchSZKkXuzhhx9+MaU0ut6yXhu0J06cyNy5c8suQ5IkSb1YRDzb0TKHjkiSJEkFMGhLkiRJBTBoS5IkSQUwaEuSJEkFMGhLkiRJBTBoS5IkSQUwaEuSJEkF6LXzaEuSJOUxe/Zsli9fXnYZPWLVqlUAjB5d9/oqW23cuHGcdNJJhey7igzakiSpT1u+fDnPPfUcowcVEz6bydp1awF4Y90b3b7vVetXdfs+q86gLUmS+rzRg0Zz6s6nll1G4W5ccSNAId9r6771J47RliRJkgpg0JYkSZIKYNCWJEmSCmDQliRJkgpg0JYkSZIKYNCWJEmSCmDQliRJkgpg0JYkSZIKYNCWJEmSCmDQliRJkgpg0JYkSZIKYNCWJEmSCmDQliRJkgpg0JYkSZIKYNCWJEmSCmDQliRJkgpg0JYkSZIKYNCWJKkTs2fPZvbs2WWXIakTzfpzOqDsAiRJambLly8vuwRJW9CsP6f2aEuSJEkFMGhLkiRJBTBoS5IkSQUwaEuSJEkFMGhLkiRJBTBoS5IkSQUwaEuSJEkFMGhLkiRJBTBoS5IkSQUwaEuSJEkFMGhLkiRJBTBoS5IkSQUwaEuSJEkFMGhLkiRJBRhQdgG9yaWXXsrKlSsZO3Ys2267LU888QTveMc7OOecczZb98tf/jIvvfQSI0eO5B/+4R/q7u/uu+/mjjvuYMqUKRx11FEAzJo1i4ceeoiDDz6Y/fbbj6uvvppzzjmHvffee6vrv+CCCzbdHz58OH/84x/ZdtttGTx4MKtWrWLIkCGsXbuWKVOm8Ic//IFf/vKXHHbYYUycOJHrrruOadOm8dxzz3Hfffdx9NFHM2nSJK688krOP/98xo0b16WaWl+Dfv368dZbbzF48GDe+973bnqOFStWsGjRIt71rnfx+uuv89RTT7HHHnvwqU99CoBrrrmGefPmsf/++/Pyyy9vWr506dK6z7fjjjtuel9GjhzJE088saltypQpPPLIIyxfvpzx48fz2c9+dtN23/nOdza93wceeCDXXXddm/0OHjyYN954g8GDBzN06NBNz7F69eq66wwePJiXX365zT622WYb1q1bt+lrvfdq7NixPPHEE5uWDRgwgKFDh/Lqq68yYsQIJk+eXPe169+//6bX6bHHHuONN97YtI9hw4YREZsdD29729t44YUXOn3/amsG6tZfa9y4cSxfvrxN28CBA9mwYQMDBw5k2LBhvPzyy+ywww6sW7eONWvWMGzYMLbddltWrly5aZtBgwaRUtq03cCBAzetO3To0Fz1DxgwgI0bN3b6/dXT/n0dM2bMpt8LO+6446bX/Le//e2mmtasWUNKqeHnGjp0KGvWrGnTVvt8K1euJKVERLDTTjttan/ttdc2vZ+vvfZap8/R+p6MHz+eZcuWdbjekCFDWLduHW+99Rb9+vVjm222Ye3atQwZMoSNGzfWfS9GjhzJ7373uw73uc8++2x6vRYvXszGjRvrvi+DBg1i/fr1dfcxevTouu93RLR5zfv378+bb7656XHtcbfrrrt2+hpJUkeiK7/cq2Dy5Mlp7ty5PfqctUG11re//e1O1623vKN1attag++QIUP4+te/3qWaO3q+RrT+gWr/h6r1D/6YMWO4+OKLe7Smeq9Xd6t932qfp/3rIKna9thjD4BN/8Cr97nyyit5Y9kbnLrzqZ2u91K8xDeGfYPPvf45dkw79lB13evGFTcCbPF77eq+B48fXMrPypVXXgmU83MaEQ+nlCbXW+bQkW5y6aWXdrjsqquuavP4y1/+cpvHl1xyyWbb3H333W0e33vvvcyaNatN29q1azd9XbJkSUP1trc1gbQ1VLYPl609jCtXrtyslzKP9q9BI6688kquueaaLm+fxze/+U2gpTe7liFb6l06+gRMfc/1g69nUf9F3DD4hrJLUUU4dKSb1H5s3d7jjz/e5vFLL73U5nHtx8yt7rjjjjaPb7vttk6f/5prrumWXu2iXHfddQ33ard/DRrRE38YWz9Grx2qIal3WrZs2aYeM/U+y5YtY8CGziPRS/ES9w66lxSJewbdw2lvnFbZXu2ivLzhZTYu21jKz8qyZcs2DVNsJr2qRzsipkfE3IiYu2rVqrLL6VGtvdvNqrN/RCRJanbXD76et3gLgLd4y15t5dKrerRTSjOAGdAyRrvkcnrUkCFDyi6hU2PGjCm7BEnqsvHjxztGuxdrHaPdkdbe7I3RciLuxthor3Yd2w/cvvQx2s2mV/Vol6mzIPmOd7yjzeMdd2z7Qzly5MjNtvnABz7Q5vGUKVM48MADO3yOj33sY3nKLM2ZZ57Z8DbtX4NG7LHHHkyaNKnL2+cxfvx4APbaa69Cn0eSVK7a3uxW9morD4N2N+ls/HH76f2+9KUvtXlcb3q/Y445ps3jo446iqlTp7Zpa+3FHjJkyFZP79fRzCd59O/fv83XVq3/fIwZM6ZL0/u1fw0a8alPfarwfz5ap/c777zz2rS3fx0kVVvrrCPqux7v//im3uxWG2Mji/svLqkiVYVBuxu1BsuxY8du6uVs35vdqrVXu15vdqvWHt0pU6Zsamvt1T744IOZNm0aEVFIoBw+fDgA2267LaNHjwb+FOynTJnCoYceCsBhhx226R+AM844gyOPPBKAo48+mjPOOIPBgwd3qTe7Vetr0K9fy6E6ePDgNs+xzz77APCud72L3XffHWj7R7G1V3v//fevu7y92vel9T1sbZsyZcqmfxhae7Nb1b7f7f8haq279WtH733tOttvv/1m+2g9yaP9yR6171X73vUBAwaw3XbbATBixIgOX7va16m1jlbDhg2rezy87W1v26zGzmruqP5a9f4hGzhw4Kavra/LDjvswNChQzfV1/4TpUGDBrXZrnbdvPUPGNC1kXXt39fa3wu1r3ltTRHRpedq3UdHz9e634ho0177fm5JR8d8e0OGDNn0c9qvX782HQEdvRcTJkzodJ+1r1fr+1HvfRk0aFCH++jo/W7/mrf/B7m2ZunKP17JHS/fsdntyj8253AFNQ/n0ZYkqRNlzs+rnpF3Hu3ewHm0u5/zaEuSJEk9zKAtSZIkFcCgLUmSJBXAoC1JkiQVwKAtSZIkFcCgLUmSJBXAoC1JkiQVwKAtSZIkFcCgLUmSJBXAoC1JkiQVwKAtSZIkFcCgLUmSJBXAoC1JkiQVwKAtSZIkFWBA2QVIktTMxo0bV3YJkragWX9ODdqSJHXipJNOKrsESVvQrD+nDh2RJEmSCmDQliRJkgpg0JYkSZIKYNCWJEmSCmDQliRJkgpg0JYkSZIKYNCWJEmSCmDQliRJkgpg0JYkSZIKYNCWJEmSCmDQliRJkgpg0JYkSZIKYNCWJEmSCmDQliRJkgpg0JYkSZIKYNCWJEmSCmDQliRJkgowoOwCJEmSyrZq/SpuXHFj2WUU7oV1LwAU8r2uWr+KXdil2/dbZQZtSZLUp40bN67sEnrMkFVDABg8enC373sXdulTr2UeBm1JktSnnXTSSWWXoF7KMdqSJElSAQzakiRJUgEM2pIkSVIBDNqSJElSAQzakiRJUgEM2pIkSVIBDNqSJElSAQzakiRJUgEipVR2DYWIiFXAsyU89SjgxRKeV9XlMaNGecyoUR4zapTHTH67ppRG11vQa4N2WSJibkppctl1qDo8ZtQojxk1ymNGjfKY6R4OHZEkSZIKYNCWJEmSCmDQ7n4zyi5AleMxo0Z5zKhRHjNqlMdMN3CMtiRJklQAe7QlSZKkAhi0JUmSpAIYtCWpD4mI8yNicUTM6oZ9bR8R5+ZYb2JELNza55OkqjFoS1JFRcSALmx2LnB0SmlqN5SwfbY/SVIdBm1JalIRcUlEXFjz+KsRcUFE/CIibgUe62Tbv42IhdntwqztamB34K6I+HQH2w2LiJkR8VBEPBoRJ2bt+2Rt8yJifkTsCXwdeHvW9s2IGB4R90XEIxGxoHXbzICImJX1pv8oIoZu7esjSc3OWUckqUlFxERgdkpp/4joBzwJ/B1wHbBvSunpDrY7ALgWOBgI4NfA6SmlRyPiGWBySqnupZUj4mvAYymlH0bE9sBDwH60hOoHU0qzImIQ0B/YCbg9pbRvtu0AYGhK6dWIGAU8COwJ7Ao8DRyaUvpVRMzMnuOyrXuFJKm52aMtSU0qpfQMsDoi9gOOAR4FVgMPdRSyM4cCt6SUXk8p/RGYDbwv59MeA3w+IuYBc4DBwATgAeALEfE5YNeU0to62wbwtYiYD9wLjKMljAM8l1L6VXb/h1mNktSrdWV8nySp53wPmAaMAWZmba8X+HwBnJxSWtKufXFE/Br4AHBnRHwceKrdOlOB0cABKaUNWe/54GxZ+49P/ThVUq9nj7YkNbdbgGOBdwM/zbnNL4APRsTQiBgGfChry+OnwKciIgCy3nQiYnfgqZTSFcCPgT8DXgO2rdl2BPBCFrL/gpYhI60mRMQh2f2/Bn6Zsx5Jqix7tCWpiaWU1kfEz4CXU0pvZvl3S9s8EhHX0jK+GuB7KaVHcz7lV4DLgfnZuPCngROAU4AzImIDsBL4WkrppYj4VTZ1313AN4DbImIBMBd4vGa/S4DzWsdnA1flrEeSKsuTISWpiWVh9xHgr1JKT5ZdjyQpP4eOSFKTioh3AkuB+wzZklQ99mhLUkVFxEjgvjqLjkwprd7Cth8DLmjX/KuU0nndVZ8k9XUGbUmSJKkADh2RJEmSCmDQliRJkgpg0JYkSZIKYNCWJEmSCmDQliRJkgpg0JYkSZIKYNCWJEmSCmDQliRJkgpg0JYkSZIKYNCWJEmSCmDQliRJkgpg0JYkSZIKYNCWJEmSCmDQliRJkgpg0JYkSZIKYNCWJEmSCmDQliRJkgpg0JYkSZIKYNCWJEmSCjCg7AKKMmrUqDRx4sSyy5AkSb3EktVLANh75N4lV9J1S5Zk38Pe1f0ems3DDz/8YkppdL1lvTZoT5w4kblz55ZdhiRJ6iWOuPYIAOZMm1NqHVvjiCOOAGDOnDml1tGbRMSzHS3rtUFbkiSpO43fbnzZJahiDNqSJEk5/PCkH5ZdgirGkyElSZKkAhi0JUmScrjwJxdy4U8uLLsMVYhDRyRJknKYt3Je2SWoYuzRliRJkgpg0JYkSZIKYNCWJEmSCuAYbUmSpBz2GrlX2SWoYgzakiRJOcyYMqPsElQxDh2RJEmSCmDQliRJymH6bdOZftv0sstQhTh0RJIkKYcnVj9RdgmqGIO2JElSHzD9/ItYsHgJACdMPXtT+84jRzDjisu2et8rVr/Spq079lt1Bm1JkqQ+YMXqV+i//VgAhh9+1p/a75/ZLfuu3Wd37bfqHKMtSZIkFcAebUmSpBwmjZlUdgmqGIO2JElSDpcfe3nZJahiHDoiSZIkFcCgLUmSlMPps0/n9Nmnl12GKsShI5IkSTkse3VZ2SWoYuzRliRJkgpg0JYkSZIKYNCWJEmSCuAYbUmSpBwOGX9I2SWoYgzakiRJOVx61KVll6CKceiIJEmSVACDtiRJUg4n33QyJ990ctllqEIcOiJJkpTD6jWryy5BFWOPtiRJklSAwoJ2RMyMiBciYmFN240RMS+7PRMR87L2iRGxtmbZ1TXbHBARCyJiaURcERFRVM2SJElSdyly6Mi1wL8A17U2pJRObb0fEd8CXqlZ/7cppUl19nMVcDbwa+BO4Fjgru4vV5IkSeo+hQXtlNLPI2JivWVZr/QpwF92to+IGAtsl1J6MHt8HfBBDNqSJKmHHbnbkWWXoIop62TI9wG/Tyk9WdO2W0Q8CrwK/H1K6RfAOGBZzTrLsjZJkqQe9cXDv1h2CaqYsoL2R4Drax4/D0xIKa2OiAOA/4yIfRrdaURMB6YDTJgwoVsKlSRJkrqix2cdiYgBwEnAja1tKaV1KaXV2f2Hgd8CewHLgfE1m4/P2upKKc1IKU1OKU0ePXp0EeVLkqQ+6rhZx3HcrOPKLkMVUsb0fkcBj6eUNg0JiYjREdE/u787sCfwVErpeeDViDg4G9d9JvDjEmqWJEl93NoNa1m7YW3ZZahCipze73rgAWDviFgWEX+TLTqNtsNGAA4D5mfT/f0I+ERK6aVs2bnA94CltPR0eyKkJEmSml6Rs458pIP2aXXabgZu7mD9ucC+3VqcJEmSVDCvDClJkiQVoKxZRyRJkirlhL1OKLsEVYxBW5IkKYeL3nNR2SWoYhw6IkmSJBXAoC1JkpTDEdcewRHXHlF2GaoQg7YkSZJUAIO2JEmSVABPhpQkSerDFi5YwAlTz27TtvPIEcy44rJu32937bsqDNqSJEl92PrUj+GHn9WmbcX9MwvZb3ftuyoM2pIkSTmcss8pZZegijFoS5Ik5XDuu88tuwRVjCdDSpIk5bBmwxrWbFhTdhmqEHu0JUmScjh+1vEAzJk2p9xCVBn2aEuSJEkFMGhLkiRJBTBoS5IkSQUwaEuSJEkF8GRISZKkHKZNmlZ2CaoYg7YkSVIOBm01yqEjkiRJOby45kVeXPNi2WWoQuzRliRJyuHDN30YcB5t5WePtiRJklQAg7YkSZJUAIO2JEmSVACDtiRJklQAT4aUJEnK4ZzJ55RdgirGoC1JkpTDqfueWnYJqhiHjkiSJOXw3CvP8dwrz5VdhiqksKAdETMj4oWIWFjT9o8RsTwi5mW342uWXRwRSyNiSUS8v6b92KxtaUR8vqh6JUmSOnPGLWdwxi1nlF2GKqTIHu1rgWPrtP9zSmlSdrsTICLeCZwG7JNt892I6B8R/YHvAMcB7wQ+kq0rSZIkNbXCxminlH4eERNzrn4icENKaR3wdEQsBQ7Mli1NKT0FEBE3ZOs+1t31SpIkSd2pjDHan4yI+dnQkh2ytnFA7aCnZVlbR+2SJElSU+vpoH0V8HZgEvA88K3u3HlETI+IuRExd9WqVd25a0mSJKkhPTq9X0rp9633I+LfgNuzh8uBXWpWHZ+10Ul7vf3PAGYATJ48OXVDyZIkSQB85pDPlF2CKqZHg3ZEjE0pPZ89/BDQOiPJrcC/R8Q/ATsDewIPAQHsGRG70RKwTwP+uidrliRJApiy95SyS1DFFBa0I+J64AhgVEQsA74EHBERk4AEPAN8HCCltCgibqLlJMeNwHkppTez/XwS+CnQH5iZUlpUVM2SJEkdWfLiEgD2HrV3yZWoKoqcdeQjdZq/38n6XwW+Wqf9TuDObixNkiSpYR+//eMAzJk2p9xCVBleGVKSJEkqgEFbkiRJKkCPngwpSZKk6pp+/kWsWP3KZu2LFi/hoMNLKKjJGbQlSZLUxsIFCzhh6tmbtS9avISDPvGNzdrXzXfqw3oM2pIkSTn8/WF/X3YJPWZ96sfww8/arN1A3RiDtiRJUg5H7X5U2SWoYjwZUpIkKYd5K+cxb+W8sstQhdijLUmSlMOFP7kQcB5t5WePtiRJklQAg7YkSZJUAIO2JEmSVACDtiRJklQAT4aUJEnK4WtHfq3sElQxBm1JkqQc3rPLe8ouoVeod9XJnUeOYMYVl5VUUXEM2pIkSTn813P/BRi4t1a9q06uuH9mSdUUy6AtSZKUwxfu+wLgPNrKz5MhJUmSpAIYtCVJkqQCGLQlSZKkAhi0JUmSpAJ4MqQkSVIOlx97edklqGIM2pIkSTlMGjOp7BJUMQ4dkSRJyuHep+7l3qfuLbsMVYg92pIkSTn8r5//LwCO2v2okitRVdijLUmSJBXAoC1JkiQVwKAtSZIkFcCgLUmSJBXAkyElSZJy+NcT/rXsElQxhfVoR8TMiHghIhbWtH0zIh6PiPkRcUtEbJ+1T4yItRExL7tdXbPNARGxICKWRsQVERFF1SxJktSRvUftzd6j9i67DFVIkUNHrgWObdd2D7BvSunPgCeAi2uW/TalNCm7faKm/SrgbGDP7NZ+n5IkSYW7bclt3LbktrLLUIUUFrRTSj8HXmrXdndKaWP28EFgfGf7iIixwHYppQdTSgm4DvhgAeVKkiR16lsPfItvPfCtsstQhZR5MuRZwF01j3eLiEcj4v6IeF/WNg5YVrPOsqxNkiRJamqlnAwZEf8T2AjMypqeByaklFZHxAHAf0bEPl3Y73RgOsCECRO6q1xJkiSpYT3eox0R04ATgKnZcBBSSutSSquz+w8DvwX2ApbTdnjJ+KytrpTSjJTS5JTS5NGjRxf0HUiSJElb1qNBOyKOBf4O+O8ppTU17aMjon92f3daTnp8KqX0PPBqRByczTZyJvDjnqxZkiRJ6orCho5ExPXAEcCoiFgGfImWWUa2Ae7JZul7MJth5DDgkojYALwFfCKl1Hoi5bm0zGAyhJYx3bXjuiVJknrE//nQ/ym7BFVMYUE7pfSROs3f72Ddm4GbO1g2F9i3G0uTJElq2C4jdim7BFWMl2CXJEnK4caFN3LjwhvLLkMV4iXYJUmScrhq7lUAnLrvqSVXoqqwR1uSJEkqgEFbkiRJKoBBW5IkSSqAQVuSJEkqgCdDSpIk5fCjU35UdgmqGIO2JElSDqOGjiq7BFWMQ0ckSZJyuHbetVw779qyy1CFGLQlSZJyMGirUQZtSZIkqQAGbUmSJKkABm1JkiSpAAZtSZIkqQBO7ydJkpTDnVPvLLsEVYxBW5IkKYehA4eWXYIqxqEjkiRJOXz3N9/lu7/5btllqEIM2pIkSTnctOgmblp0U9llqEIM2pIkSVIBDNqSJElSAXIF7Yh4b542SZIkSS3y9mhfmbNNkiRJEluY3i8iDgHeA4yOiL+tWbQd0L/IwiRJkprJnGlzyi5BFbOlebQHAcOz9bataX8V+HBRRUmSJElV12nQTindD9wfEdemlJ7toZokSZKazmX/dRkAF73nopIrUVXkvTLkNhExA5hYu01K6S+LKEqSJKnZ3P7E7YBBW/nlDdr/AVwNfA94s7hyJEmSpN4hb9DemFK6qtBKJEmSpF4k7/R+t0XEuRExNiJ2bL1taaOImBkRL0TEwpq2HSPinoh4Mvu6Q9YeEXFFRCyNiPkRsX/NNh/N1n8yIj7a8HcpSZIk9bC8QfujwGeB/wIezm5zc2x3LXBsu7bPA/ellPYE7sseAxwH7JndpgNXQUswB74EHAQcCHypNZxLkiT1lCEDhzBk4JCyy1CF5Bo6klLarSs7Tyn9PCImtms+ETgiu/8DYA7wuaz9upRSAh6MiO0jYmy27j0ppZcAIuIeWsL79V2pSZIkqSvumnpX2SWoYnIF7Yg4s157Sum6LjznTiml57P7K4GdsvvjgOdq1luWtXXULkmSpF5g4YIFnDD17M3adx45ghlXXFZCRd0j78mQ7665Pxg4EngE6ErQ3iSllCIibc0+akXEdFqGnTBhwoTu2q0kSRJfuf8rAHzx8C+WXEnvsz71Y/jhZ23WvuL+mSVU031yjdFOKX2q5nY2sD8tV4zsit9nQ0LIvr6QtS8HdqlZb3zW1lF7vTpnpJQmp5Qmjx49uovlSZIkbe6+p+/jvqfvK7sMVUjekyHbex3o0rht4FZaTq4k+/rjmvYzs9lHDgZeyYaY/BQ4JiJ2yE6CPCZrkyRJkppW3jHatwGtQzz6A/8NuCnHdtfTcjLjqIhYRsvsIV8HboqIvwGeBU7JVr8TOB5YCqwBPgaQUnopIr4C/CZb75LWEyMlSZKkZpV3jHbtKPSNwLMppWVb2iil9JEOFh1ZZ90EnNfBfmYC1R6kI0mSpD4l7/R+90fETvzppMgniytJkiSp+YwcOrLsElQxeYeOnAJ8k5Y5rwO4MiI+m1L6UYG1SZIkNY2bT7m57BJUMXmHjvxP4N0ppRcAImI0cC9g0JYkSZLqyDvrSL/WkJ1Z3cC2kiRJlXfxvRdz8b0Xl12GKiRvj/ZPIuKn/Omy56fSMkuIJElSn/DAsgfKLmEz08+/iBWrX9msvepXVOwtOg3aEbEHLZdM/2xEnAQcmi16AJhVdHGSJEnq2IrVr/TKKyr2Flvq0b4cuBggpTQbmA0QEe/Klk0psDZJkiSpsrY0znqnlNKC9o1Z28RCKpIkSZJ6gS31aG/fybIh3ViHJElSUxu/3fiyS1DFbCloz42Is1NK/1bbGBH/A3i4uLIkSZKayw9P+mHZJahithS0LwRuiYip/ClYTwYGAR8qsC5JkiSp0joN2iml3wPviYi/APbNmu9IKf3fwiuTJElqIhf+5EIALj/28lLrUHXkmkc7pfQz4GcF1yJJktS05q2cV3YJqhiv7ihJkiQVwKAtSZIkFcCgLUmSJBUg1xhtSZKkvm6vkXuVXUJuCxcs4ISpZ7dpW7R4SUnV9F0GbUmSpBxmTJlRdgm5rU/9GH74WW3a1s3/TEnV9F0OHZEkSZIKYNCWJEnKYfpt05l+2/Syy1CFOHREkiQphydWP1F2CaoYe7QlSZKkAhi0JUmSpAIYtCVJkqQCOEZbkiQph0ljJpVdgirGoC1JkpTD5cdeXnYJqhiHjkiSJEkFMGhLkiTlcPrs0zl99ulll6EK6fGgHRF7R8S8mturEXFhRPxjRCyvaT++ZpuLI2JpRCyJiPf3dM2SJEnLXl3GsleXlV2GKqTHx2inlJYAkwAioj+wHLgF+Bjwzymly2rXj4h3AqcB+wA7A/dGxF4ppTd7sm5JkiSpEWUPHTkS+G1K6dlO1jkRuCGltC6l9DSwFDiwR6qTJEmSuqjsoH0acH3N409GxPyImBkRO2Rt44DnatZZlrVJkiRJTau0oB0Rg4D/DvxH1nQV8HZahpU8D3yrC/ucHhFzI2LuqlWruqtUSZIkDhl/CIeMP6TsMlQhZc6jfRzwSErp9wCtXwEi4t+A27OHy4FdarYbn7VtJqU0A5gBMHny5FRAzZIkqY+69KhLyy5BFVPm0JGPUDNsJCLG1iz7ELAwu38rcFpEbBMRuwF7Ag/1WJWSJElSF5TSox0Rw4CjgY/XNP/viJgEJOCZ1mUppUURcRPwGLAROM8ZRyRJUk87+aaTAbj5lJtLrkRVUUrQTim9Doxs13ZGJ+t/Ffhq0XVJkiR1ZPWa1WWXoIope9YRSZIkqVcyaEuSJEkFKHPWEUmSJKlDCxcs4ISpZ7dp23nkCGZccVkHWzQXg7YkSVIOR+52ZNkl9DnrUz+GH35Wm7YV988sqZrGGbQlSZJy+OLhXyy7BFWMY7QlSZKkAhi0JUmScjhu1nEcN+u4sstQhTh0RJIkKYe1G9aWXYIqxh5tSZIkqQAGbUmSJKkABm1JkiSpAI7RliRJyuGEvU4ouwRVjEFbkiQph4vec1HZJahiHDoiSZIkFcCgLUmSlMMR1x7BEdceUXYZqhCHjkiSJBVs+vkXsWL1K5u17zxyBDOuuKyEitQTDNqSJEkFW7H6FYYfftbm7ffPLKEa9RSHjkiSJEkFMGhLkiRJBXDoiCRJUg6n7HNK2SWoYgzakiRJOZz77nPLLkEV49ARSZKkHNZsWMOaDWvKLkMVYo+2JElSDsfPOh6AOdPmlFuIKsOgLUmS1EScc7v3MGhLkiQ1Eefc7j0coy1JkiQVwKAtSZIkFcChI5IkSTlMmzSt7BJUMQZtSZKkHIoI2gsXLOCEqWe3aVu0eAkHHd7tT6USlBa0I+IZ4DXgTWBjSmlyROwI3AhMBJ4BTkkp/SEiAvg2cDywBpiWUnqkjLolSVLf9OKaFwEYNXRUt+1zfeq32YmP6+Z/ptv2r3KVPUb7L1JKk1JKk7PHnwfuSyntCdyXPQY4Dtgzu00HrurxSiVJUp/24Zs+zIdv+nDZZahCyg7a7Z0I/CC7/wPggzXt16UWDwLbR8TYEuqTJEmScilzjHYC7o6IBPxrSmkGsFNK6fls+Upgp+z+OOC5mm2XZW3P17QREdNp6fFmwoQJBZYuSZJ6o84uFsP+JRRUw/Hc1VNm0D40pbQ8It4G3BMRj9cuTCmlLITnloX1GQCTJ09uaFtJkqRmvliM47mrp7SgnVJann19ISJuAQ4Efh8RY1NKz2dDQ17IVl8O7FKz+fisTZIkqanU6xW357lvKiVoR8QwoF9K6bXs/jHAJcCtwEeBr2dff5xtcivwyYi4ATgIeKVmiIkkSVLhzpl8Tq716vWK2/PcN5XVo70TcEvLrH0MAP49pfSTiPgNcFNE/A3wLHBKtv6dtEztt5SW6f0+1vMlS5KkvuzUfU8tuwRVTClBO6X0FPDnddpXA0fWaU/AeT1QmiRJUl3PvdIyL8MuI3bZwppSC68MKUmSlMMZt5wBwJxpc8otRJXRbPNoS5IkSb2CQVuSJEkqgEFbkiRJKoBBW5IkSSqAJ0NKkiTl8JlDnAtbjTFoS5Ik5TBl7ylll6CKceiIJElSDkteXMKSF5eUXYYqxB5tSZKkHD5++8cB59FWfvZoS5IkSQUwaEuSJEkFcOiIJElSF0w//yJWrH5ls/ZFi5dw0OElFKSmY9CWJEnagoULFvDa+GcBOGHq2UAWqD/xjc3WXTffaQDVwqAtSZK0BetTP941/mIAhr/93YCBWltm0JYkScphzDbvLrsEVYwnQ0qSJOXwhw1P8IcNT5RdhirEoC1JkpTDo69+m0df/XbZZahCDNqSJElSARyjLUmSmlZHU+jtPHIEM664rISKpPwM2pIkqWmtWP0Kww8/a/P2+2eWUI3UGIeOSJIkSQWwR1uSJCmHP9v2E2WXoIoxaEuSJOUwatC7yi5BFePQEUmSpBxeXL+AF9cvKLsMVYhBW5IkKYf5r13N/NeuLrsMVYhDRyRJUp9Ub+rARYuXcNDhJRWkXsegLUmS+qR6Uweum/+ZkqpRb+TQEUmSJKkAPR60I2KXiPhZRDwWEYsi4oKs/R8jYnlEzMtux9dsc3FELI2IJRHx/p6uWZIkSWpUGUNHNgKfSSk9EhHbAg9HxD3Zsn9OKbW5nmpEvBM4DdgH2Bm4NyL2Sim92aNVS5KkprFwwQJOmHp2m7aiL8u+33YXFLZv9U49HrRTSs8Dz2f3X4uIxcC4TjY5EbghpbQOeDoilgIHAg8UXqwkSWpK61O/zcZXF31Z9h0G7lXo/tX7lHoyZERMBPYDfg28F/hkRJwJzKWl1/sPtITwB2s2W0bnwVySpF6r3kwZRffkqsXKdb8BYMw27y65ElVFaUE7IoYDNwMXppRejYirgK8AKfv6LeCsTnZRb5/TgekAEyZM6N6CJUlqAvVmyii6J1ctHvvjtYBBW/mVErQjYiAtIXtWSmk2QErp9zXL/w24PXu4HNilZvPxWdtmUkozgBkAkydPTt1fuSRJalb1xm2DPf4qT48H7YgI4PvA4pTSP9W0j83GbwN8CFiY3b8V+PeI+CdaTobcE3ioB0uWJEkVUG/cNtjjr/KU0aP9XuAMYEFEzMvavgB8JCIm0TJ05Bng4wAppUURcRPwGC0zlpznjCOSJElqdmXMOvJLIOosurOTbb4KfLWwoiRJkqRu5iXYJUlSr9bR2O1Fi5dw0OH59zN5xN91Y1XqCwzakiSpV+to7Pa6+Z9paD/bDdi1u0pSH9Hjl2CXJEmqouVv/JLlb/yy7DJUIfZoq8+pd7EHcPonSVLnlrx+PQDjBh9aciWqCoO2+px6F3sAp3+SJEndy6EjkiRJUgEM2pIkSVIBHDoiSZK2WiPnv3iujPoKg7YkSdpqjZz/0tG6d//Lpzeb77rRua6LdPD2/1B2CaoYg7YkSWoK9ea7bnSu6yIN7b9T2SWoYhyjLUmSlMPv1t7L79beW3YZqhB7tKWKqjfG0fGNUt/U0SXG/Z3QvZauuQWACUOOKrkSVYVBW6qoemMcnQtc6ps6usS4vxOkchm0JUmd8tMTSeoag7akPs+pxjrnpyeS1DUGbUl9XiPTkklqTL3x4800ZZ9UJIO2JEkqTLNP2deI9+7w1bJLUMUYtCVJknLYpt/2ZZegijFoS5KAjseq95aP+XvypM5mGfdfb9jGU088zu57vWOzdeu1e55CW0+vuQOA3YZ+oORKVBUGbUkS0PFY9Z7+mL+RQNzIuj15UmezjPuvN2zj5fmfqVtbvfaO6q33uveWf8g68/TaOwGDdtmqNG+8QVtSlzVLr516l0YCsTOiFKujQLNo8RIO+sQ32rRVddy1qqdK88YbtCV1WUe9dnf/y6c3++PcW8J3Uf9cdLTfZv04v0o9Suq6jgKNoVrKx6AtqdvV++NcL3xDzwbJRscgdzgtWbuePNj6npSO/mmp93F+R69lT4bc7uhRaoYx4c38D0MzvD6Sto5BW+omjfR09sUhFx0Fs54Mko2OQW7Wacmq9LFpZxp5PzodwrAVobOj17LeMdjRSYSNHJf1vo9GxpRDcxyDkvIxaEvdpJGTn/rikItGVDFINhKgevOJZEX1EDcyhKE7QnkjJxE2clzW228zH9dq67Adv1V2CaoYg3Yf1xd7VptZM/wR7i3HRE+H2Ubeu3r/aHVHL2UjYb8ojfQQF/V+9PS4Yq982HcMiMFll6CKMWj3cfasFq8n/wh3R29iI8dET4eJRuYE7ouzIjQyNr4ZAnhveT968/emtp58/WYA9hx2csmVqCoM2qqrL/asFtUb2JN/hIscctEMYaKRj/MNOi2aoYdZnStq/Lm633Nv/F/AoK38KhO0I+JY4NtAf+B7KaWvl1xSXb3lY/dm0B0XfGhk+EAz/HNRT3f8EW7mmRV6s2YOUM3wj5NaOIWe1HtVImhHRH/gO8DRwDLgNxFxa0rpsXIr21wj4dBQ3jVbe9Z+I3+8miGgdscfYXs1y2GAkqS+rRJBGzgQWJpSegogIm4ATgSaLmg3olku0ZtXR6Gzpy+o0cg41J6c+quKAdVeTUmSilOVoD0OeK7m8TLgoJJqKVwjJ3z1ZMhtZB7knv5noad7Dg2okiRpSyKlVHYNWxQRHwaOTSn9j+zxGcBBKaVPtltvOjA9e7g3sKRHC20xCnixhOdVdXnMqFEeM2qUx4wa5TGT364ppdH1FlSlR3s5sEvN4/FZWxsppRnAjJ4qqp6ImJtSmlxmDaoWjxk1ymNGjfKYUaM8ZrpHv7ILyOk3wJ4RsVtEDAJOA24tuSZJkiSpQ5Xo0U4pbYyITwI/pWV6v5kppUUllyVJkiR1qBJBGyCldCdwZ9l15FDq0BVVkseMGuUxo0Z5zKhRHjPdoBInQ0qSJElVU5Ux2pIkSVKlGLRziIiZEfFCRCysaZsUEQ9GxLyImBsRB2btERFXRMTSiJgfEfvXbPPRiHgyu320jO9FxWvweDkiIl7J2udFxD/UbHNsRCzJjqXPl/G9qGd0cMz8eUQ8EBELIuK2iNiuZtnF2XGxJCLeX9PuMdNHNHLMRMTEiFhb83vm6pptDsjWX5r97Yoyvh8VLyJ2iYifRcRjEbEoIi7I2neMiHuybHJPROyQtZtnukNKydsWbsBhwP7Awpq2u4HjsvvHA3Nq7t8FBHAw8OusfUfgqezrDtn9Hcr+3ryVfrwcAdxeZx/9gd8CuwODgP8HvLPs781bjx4zvwEOz+6fBXwlu//O7HjYBtgtO076e8z0rVuDx8zE2vXa7eeh7G9VZH+7jiv7e/NW2DEzFtg/u78t8ET2++R/A5/P2j8PfCO7b57phps92jmklH4OvNS+GWjtYRoBrMjunwhcl1o8CGwfEWOB9wP3pJReSin9AbgHOLb46tXTGjxeOnIgsDSl9FRKaT1wAy3HlnqhDo6ZvYCfZ/fvAU7O7p8I3JBSWpdSehpYSsvx4jHThzR4zNSV/W3aLqX0YGpJUNcBH+zmUtUkUkrPp5Qeye6/Biym5crbJwI/yFb7AX86Bswz3cCg3XUXAt+MiOeAy4CLs/Z6l4sf10m7+oYLqX+8ABwSEf8vIu6KiH2yNo8XLeJPQfmv+NNFu/wdo450dMwA7BYRj0bE/RHxvqxtHC3HSSuPmT4iIiYC+wG/BnZKKT2fLVoJ7JTd93dNNzBod905wKdTSrsAnwa+X3I9am4dHS+P0HLp1j8HrgT+s5zy1ITOAs6NiIdp+Zh3fcn1qPl1dMw8D0xIKe0H/C3w77Vj/tW3RMRw4GbgwpTSq7XLsk82nI6uGxm0u+6jwOzs/n/Q8rEtdHy5+FyXkVevVfd4SSm9mlL6Y3b/TmBgRIzC46XPSyk9nlI6JqV0AHA9LeOvwd8x6kBHx0w2zGh1dv/hrH0vWo6P8TW78Jjp5SJiIC0he1ZKqfVv0u+zISGtw4leyNr9XdMNDNpdtwI4PLv/l8CT2f1bgTOzs3UPBl7JPpL5KXBMROyQndF7TNamvqHu8RIRY1rP8s9mIukHrKblpKY9I2K3iBgEnEbLsaU+IiLeln3tB/w90DpTxK3AaRGxTUTsBuxJywltHjN9XEfHTESMjoj+2f3daTlmnsr+Nr0aEQdnv4fOBH5cSvEqXPYefx9YnFL6p5pFt9LSGUT29cc17eaZrVSZK0OWKSKup2V2iFERsQz4EnA28O2IGAC8AUzPVr+TljN1lwJrgI8BpJReioiv0PLHEOCSlFL7E1nUCzR4vHwYOCciNgJrgdOyj+42RsQnafnl1R+YmVJa1LPfiXpKB8fM8Ig4L1tlNnANQEppUUTcBDwGbATOSym9me3HY6aPaOSYoWWGkksiYgPwFvCJmr8/5wLXAkNomWHirh75BlSG9wJnAAsiYl7W9gXg68BNEfE3wLPAKdky80w38MqQkiRJUgEcOiJJkiQVwKAtSZIkFcCgLUmSJBXAoC1JkiQVwKAtSZIkFcCgLUmSJBXAoC1JfUhEnB8RiyNiVjfsa/uIODfHehMjYuHWPp8kVY1BW5IqKrsAUqPOBY5OKU3thhK2z/YnSarDoC1JTSoiLomIC2sefzUiLoiIX0TErbRcHbKjbf82IhZmtwuztquB3YG7IuLTHWw3LCJmRsRDEfFoRJyYte+Ttc2LiPkRsSctV5R7e9b2zYgYHhH3RcQjEbGgddvMgIiYlfWm/ygihm7t6yNJzc4rQ0pSk4qIicDslNL+EdEPeBL4O+A6YN+U0tMdbHcALZfVPhgI4NfA6SmlRyPiGWBySunFDrb9GvBYSumHEbE98BCwHy2h+sGU0qyIGETLZd53Am5PKe2bbTsAGJpSejUiRgEPAnsCuwJPA4emlH4VETOz57hs614hSWpu9mhLUpNKKT0DrI6I/YBjgEeB1cBDHYXszKHALSml11NKfwRmA+/L+bTHAJ+PiHnAHGAwMAF4APhCRHwO2DWltLbOtgF8LSLmA/cC42gJ4wDPpZR+ld3/YVajJPVqXRnfJ0nqOd8DpgFjgJlZ2+sFPl8AJ6eUlrRrXxwRvwY+ANwZER8Hnmq3zlRgNHBASmlD1ns+OFvW/uNTP06V1OvZoy1Jze0W4Fjg3cBPc27zC+CDETE0IoYBH8ra8vgp8KmICICsN52I2B14KqV0BfBj4M+A14Bta7YdAbyQhey/oGXISKsJEXFIdv+vgV/mrEeSKssebUlqYiml9RHxM+DllNKbWf7d0jaPRMS1tIyvBvheSunRnE/5FeByYH42Lvxp4ATgFOCMiNgArAS+llJ6KSJ+lU3ddxfwDeC2iFgAzAUer9nvEuC81vHZwFU565GkyvJkSElqYlnYfQT4q5TSk2XXI0nKz6EjktSkIuKdwFLgPkO2JFWPPdqSVFERMRK4r86iI1NKq7ew7ceAC9o1/yqldF531SdJfZ1BW5IkSSqAQ0ckSZKkAhi0JUmSpAIYtCVJkqQCGLQlSZKkAhi0JUmSpAL8f8He+UWQziKlAAAAAElFTkSuQmCC\n"
          },
          "metadata": {
            "needs_background": "light"
          }
        }
      ]
    },
    {
      "cell_type": "markdown",
      "source": [
        "\n",
        "\n",
        "*   year established heavily skewed left\n",
        "\n"
      ],
      "metadata": {
        "id": "uZEOVOPjPswZ"
      },
      "id": "uZEOVOPjPswZ"
    },
    {
      "cell_type": "code",
      "source": [
        "histogram_boxplot(data[(data[\"unit_of_wage\"]==\"Year\")], \"prevailing_wage\")"
      ],
      "metadata": {
        "colab": {
          "base_uri": "https://localhost:8080/",
          "height": 497
        },
        "id": "Zq9jY2E-Qo0N",
        "outputId": "1c7c2f98-ef80-4328-eba4-ebd6d5755564"
      },
      "id": "Zq9jY2E-Qo0N",
      "execution_count": null,
      "outputs": [
        {
          "output_type": "display_data",
          "data": {
            "text/plain": [
              "<Figure size 864x576 with 2 Axes>"
            ],
            "image/png": "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\n"
          },
          "metadata": {
            "needs_background": "light"
          }
        }
      ]
    },
    {
      "cell_type": "markdown",
      "source": [
        "\n",
        "\n",
        "*   Annual salary of around 70,000\n",
        "*   A lot of very low salaries that need to be investigated\n",
        "*   need to turn prevailing wage into yearly only pay to trat these outliers\n",
        "\n",
        "\n"
      ],
      "metadata": {
        "id": "4eNNstA0RU6I"
      },
      "id": "4eNNstA0RU6I"
    },
    {
      "cell_type": "code",
      "source": [
        "data.loc[data[\"unit_of_wage\"]==\"Hour\", \"prevailing_wage\"] = \\\n",
        "data.loc[data[\"unit_of_wage\"]==\"Hour\", \"prevailing_wage\"]*52"
      ],
      "metadata": {
        "id": "TIAJb2aLErkE"
      },
      "id": "TIAJb2aLErkE",
      "execution_count": null,
      "outputs": []
    },
    {
      "cell_type": "code",
      "source": [
        "def labeled_barplot(data, feature, perc=False, n=None):\n",
        "\n",
        "    total = len(data[feature])\n",
        "    count = data[feature].nunique()\n",
        "    if n is None:\n",
        "        plt.figure(figsize=(count + 2, 6))\n",
        "    else:\n",
        "        plt.figure(figsize=(n + 2, 6))\n",
        "\n",
        "    plt.xticks(rotation=90, fontsize=15)\n",
        "    ax = sns.countplot(\n",
        "        data=data,\n",
        "        x=feature,\n",
        "        palette=\"Paired\",\n",
        "        order=data[feature].value_counts().index[:n],\n",
        "    )\n",
        "\n",
        "    for p in ax.patches:\n",
        "        if perc == True:\n",
        "            label = \"{:.1f}%\".format(\n",
        "                100 * p.get_height() / total\n",
        "            )\n",
        "        else:\n",
        "            label = p.get_height()\n",
        "\n",
        "        x = p.get_x() + p.get_width() / 2\n",
        "        y = p.get_height()\n",
        "\n",
        "        ax.annotate(\n",
        "            label,\n",
        "            (x, y),\n",
        "            ha=\"center\",\n",
        "            va=\"center\",\n",
        "            size=12,\n",
        "            xytext=(0, 5),\n",
        "            textcoords=\"offset points\",\n",
        "        )\n",
        "\n",
        "    plt.show()"
      ],
      "metadata": {
        "id": "qoFBwzJKR6SY"
      },
      "id": "qoFBwzJKR6SY",
      "execution_count": null,
      "outputs": []
    },
    {
      "cell_type": "code",
      "source": [
        "labeled_barplot(data, \"continent\", perc=True)"
      ],
      "metadata": {
        "colab": {
          "base_uri": "https://localhost:8080/",
          "height": 488
        },
        "id": "o-pJq1v9SNNV",
        "outputId": "3033715d-6290-446a-b12c-acc8718364f6"
      },
      "id": "o-pJq1v9SNNV",
      "execution_count": null,
      "outputs": [
        {
          "output_type": "display_data",
          "data": {
            "text/plain": [
              "<Figure size 576x432 with 1 Axes>"
            ],
            "image/png": "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\n"
          },
          "metadata": {
            "needs_background": "light"
          }
        }
      ]
    },
    {
      "cell_type": "code",
      "source": [
        "labeled_barplot(data, \"education_of_employee\", perc=True)"
      ],
      "metadata": {
        "colab": {
          "base_uri": "https://localhost:8080/",
          "height": 468
        },
        "id": "2IldhjmjSbSo",
        "outputId": "9a39386b-408a-49a4-d2bc-9fd2ba24e0ce"
      },
      "id": "2IldhjmjSbSo",
      "execution_count": null,
      "outputs": [
        {
          "output_type": "display_data",
          "data": {
            "text/plain": [
              "<Figure size 432x432 with 1 Axes>"
            ],
            "image/png": "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\n"
          },
          "metadata": {
            "needs_background": "light"
          }
        }
      ]
    },
    {
      "cell_type": "code",
      "source": [
        "labeled_barplot(data, \"has_job_experience\", perc=True)"
      ],
      "metadata": {
        "colab": {
          "base_uri": "https://localhost:8080/",
          "height": 389
        },
        "id": "oFlSPDF6ShvJ",
        "outputId": "198331fd-2bae-4b6c-95af-5ad6e0a7300e"
      },
      "id": "oFlSPDF6ShvJ",
      "execution_count": null,
      "outputs": [
        {
          "output_type": "display_data",
          "data": {
            "text/plain": [
              "<Figure size 288x432 with 1 Axes>"
            ],
            "image/png": "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\n"
          },
          "metadata": {
            "needs_background": "light"
          }
        }
      ]
    },
    {
      "cell_type": "code",
      "source": [
        "labeled_barplot(data, \"requires_job_training\", perc=True)"
      ],
      "metadata": {
        "colab": {
          "base_uri": "https://localhost:8080/",
          "height": 389
        },
        "id": "ToFhTNWzSlMe",
        "outputId": "213b2490-63ec-4f40-dfda-e58d8ad4843e"
      },
      "id": "ToFhTNWzSlMe",
      "execution_count": null,
      "outputs": [
        {
          "output_type": "display_data",
          "data": {
            "text/plain": [
              "<Figure size 288x432 with 1 Axes>"
            ],
            "image/png": "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\n"
          },
          "metadata": {
            "needs_background": "light"
          }
        }
      ]
    },
    {
      "cell_type": "code",
      "source": [
        "labeled_barplot(data, \"region_of_employment\", perc=True)"
      ],
      "metadata": {
        "colab": {
          "base_uri": "https://localhost:8080/",
          "height": 452
        },
        "id": "Vt23uGFtSo1U",
        "outputId": "3529aa18-1522-498f-d4c6-b39bbdf14baf"
      },
      "id": "Vt23uGFtSo1U",
      "execution_count": null,
      "outputs": [
        {
          "output_type": "display_data",
          "data": {
            "text/plain": [
              "<Figure size 504x432 with 1 Axes>"
            ],
            "image/png": "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\n"
          },
          "metadata": {
            "needs_background": "light"
          }
        }
      ]
    },
    {
      "cell_type": "code",
      "source": [
        "labeled_barplot(data, \"full_time_position\", perc=True)"
      ],
      "metadata": {
        "colab": {
          "base_uri": "https://localhost:8080/",
          "height": 389
        },
        "id": "DY3FZdnDSsF5",
        "outputId": "87c069b1-0f94-45da-a46b-7bf477e54797"
      },
      "id": "DY3FZdnDSsF5",
      "execution_count": null,
      "outputs": [
        {
          "output_type": "display_data",
          "data": {
            "text/plain": [
              "<Figure size 288x432 with 1 Axes>"
            ],
            "image/png": "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\n"
          },
          "metadata": {
            "needs_background": "light"
          }
        }
      ]
    },
    {
      "cell_type": "code",
      "source": [
        "labeled_barplot(data, \"case_status\", perc=True)"
      ],
      "metadata": {
        "colab": {
          "base_uri": "https://localhost:8080/",
          "height": 387
        },
        "id": "iMms3HlTSvWz",
        "outputId": "9710cec9-904f-40df-bfaa-008a2537856b"
      },
      "id": "iMms3HlTSvWz",
      "execution_count": null,
      "outputs": [
        {
          "output_type": "display_data",
          "data": {
            "text/plain": [
              "<Figure size 288x432 with 1 Axes>"
            ],
            "image/png": "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\n"
          },
          "metadata": {
            "needs_background": "light"
          }
        }
      ]
    },
    {
      "cell_type": "markdown",
      "source": [
        "## Bivariate"
      ],
      "metadata": {
        "id": "CRZL7Hu3S_iv"
      },
      "id": "CRZL7Hu3S_iv"
    },
    {
      "cell_type": "code",
      "source": [
        "cols_list = data.select_dtypes(include=np.number).columns.tolist()\n",
        "\n",
        "plt.figure(figsize=(10, 5))\n",
        "sns.heatmap(\n",
        "    data[cols_list].corr(), annot=True, vmin=-1, vmax=1, fmt=\".2f\", cmap=\"Spectral\"\n",
        ")\n",
        "plt.show()"
      ],
      "metadata": {
        "colab": {
          "base_uri": "https://localhost:8080/",
          "height": 324
        },
        "id": "7Kv4Pi41TD0b",
        "outputId": "cdf24fcd-ddec-4581-a3e8-c288b48ac923"
      },
      "id": "7Kv4Pi41TD0b",
      "execution_count": null,
      "outputs": [
        {
          "output_type": "display_data",
          "data": {
            "text/plain": [
              "<Figure size 720x360 with 2 Axes>"
            ],
            "image/png": "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\n"
          },
          "metadata": {
            "needs_background": "light"
          }
        }
      ]
    },
    {
      "cell_type": "code",
      "source": [
        "def distribution_plot_wrt_target(data, predictor, target):\n",
        "\n",
        "    fig, axs = plt.subplots(2, 2, figsize=(12, 10))\n",
        "\n",
        "    target_uniq = data[target].unique()\n",
        "\n",
        "    axs[0, 0].set_title(\"Distribution of target for target=\" + str(target_uniq[0]))\n",
        "    sns.histplot(\n",
        "        data=data[data[target] == target_uniq[0]],\n",
        "        x=predictor,\n",
        "        kde=True,\n",
        "        ax=axs[0, 0],\n",
        "        color=\"teal\",\n",
        "        stat=\"density\",\n",
        "    )\n",
        "\n",
        "    axs[0, 1].set_title(\"Distribution of target for target=\" + str(target_uniq[1]))\n",
        "    sns.histplot(\n",
        "        data=data[data[target] == target_uniq[1]],\n",
        "        x=predictor,\n",
        "        kde=True,\n",
        "        ax=axs[0, 1],\n",
        "        color=\"orange\",\n",
        "        stat=\"density\",\n",
        "    )\n",
        "\n",
        "    axs[1, 0].set_title(\"Boxplot w.r.t target\")\n",
        "    sns.boxplot(data=data, x=target, y=predictor, ax=axs[1, 0], palette=\"gist_rainbow\")\n",
        "\n",
        "    axs[1, 1].set_title(\"Boxplot (without outliers) w.r.t target\")\n",
        "    sns.boxplot(\n",
        "        data=data,\n",
        "        x=target,\n",
        "        y=predictor,\n",
        "        ax=axs[1, 1],\n",
        "        showfliers=False,\n",
        "        palette=\"gist_rainbow\",\n",
        "    )\n",
        "\n",
        "    plt.tight_layout()\n",
        "    plt.show()"
      ],
      "metadata": {
        "id": "wED9fiIfTqxs"
      },
      "id": "wED9fiIfTqxs",
      "execution_count": null,
      "outputs": []
    },
    {
      "cell_type": "code",
      "source": [
        "def stacked_barplot(data, predictor, target):\n",
        "\n",
        "    count = data[predictor].nunique()\n",
        "    sorter = data[target].value_counts().index[-1]\n",
        "    tab1 = pd.crosstab(data[predictor], data[target], margins=True).sort_values(\n",
        "        by=sorter, ascending=False\n",
        "    )\n",
        "    print(tab1)\n",
        "    print(\"-\" * 120)\n",
        "    tab = pd.crosstab(data[predictor], data[target], normalize=\"index\").sort_values(\n",
        "        by=sorter, ascending=False\n",
        "    )\n",
        "    tab.plot(kind=\"bar\", stacked=True, figsize=(count + 5, 5))\n",
        "    plt.legend(\n",
        "        loc=\"lower left\", frameon=False,\n",
        "    )\n",
        "    plt.legend(loc=\"upper left\", bbox_to_anchor=(1, 1))\n",
        "    plt.show()"
      ],
      "metadata": {
        "id": "IxuSxzxIUOrp"
      },
      "id": "IxuSxzxIUOrp",
      "execution_count": null,
      "outputs": []
    },
    {
      "cell_type": "code",
      "source": [
        "stacked_barplot(data, \"education_of_employee\", \"case_status\")"
      ],
      "metadata": {
        "colab": {
          "base_uri": "https://localhost:8080/",
          "height": 535
        },
        "id": "KzL9bjUgUPsM",
        "outputId": "5cfa30ee-5582-4858-d86e-1cfefbd5506a"
      },
      "id": "KzL9bjUgUPsM",
      "execution_count": null,
      "outputs": [
        {
          "output_type": "stream",
          "name": "stdout",
          "text": [
            "case_status                1     0    All\n",
            "education_of_employee                    \n",
            "All                    17001  8446  25447\n",
            "Bachelor's              6362  3858  10220\n",
            "High School             1164  2252   3416\n",
            "Master's                7565  2057   9622\n",
            "Doctorate               1910   279   2189\n",
            "------------------------------------------------------------------------------------------------------------------------\n"
          ]
        },
        {
          "output_type": "display_data",
          "data": {
            "text/plain": [
              "<Figure size 648x360 with 1 Axes>"
            ],
            "image/png": "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\n"
          },
          "metadata": {
            "needs_background": "light"
          }
        }
      ]
    },
    {
      "cell_type": "markdown",
      "source": [
        "\n",
        "\n",
        "1. Those with higher education may want to travel abroad for a well-paid job. Does education play a role in Visa certification?\n",
        "\n",
        "Education does play a significant role in visa certification. The higher education someone has completed means they are very likely to get their visa certified.\n",
        "\n",
        "\n"
      ],
      "metadata": {
        "id": "Rht1W6c-3CQ0"
      },
      "id": "Rht1W6c-3CQ0"
    },
    {
      "cell_type": "code",
      "source": [
        "stacked_barplot(data, \"continent\", \"case_status\")"
      ],
      "metadata": {
        "colab": {
          "base_uri": "https://localhost:8080/",
          "height": 581
        },
        "id": "UTauXS7L5f1v",
        "outputId": "63ee1fe1-324f-4776-c18a-c136ae70ad8f"
      },
      "id": "UTauXS7L5f1v",
      "execution_count": null,
      "outputs": [
        {
          "output_type": "stream",
          "name": "stdout",
          "text": [
            "case_status        1     0    All\n",
            "continent                        \n",
            "All            17001  8446  25447\n",
            "Asia           11001  5839  16840\n",
            "North America   2037  1250   3287\n",
            "Europe          2953   774   3727\n",
            "South America    492   359    851\n",
            "Africa           396   154    550\n",
            "Oceania          122    70    192\n",
            "------------------------------------------------------------------------------------------------------------------------\n"
          ]
        },
        {
          "output_type": "display_data",
          "data": {
            "text/plain": [
              "<Figure size 792x360 with 1 Axes>"
            ],
            "image/png": "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\n"
          },
          "metadata": {
            "needs_background": "light"
          }
        }
      ]
    },
    {
      "cell_type": "markdown",
      "source": [
        "2. How does the visa status vary across different continents?\n",
        "\n",
        "cases are more certified than denied, regardless of the continent they are from.  "
      ],
      "metadata": {
        "id": "NozaJVpd6p6Z"
      },
      "id": "NozaJVpd6p6Z"
    },
    {
      "cell_type": "code",
      "source": [
        "stacked_barplot(data, \"has_job_experience\", \"case_status\")"
      ],
      "metadata": {
        "colab": {
          "base_uri": "https://localhost:8080/",
          "height": 450
        },
        "id": "j6ZvHovw7b-T",
        "outputId": "ebef073e-5560-4bf0-8f57-8f15634d8755"
      },
      "id": "j6ZvHovw7b-T",
      "execution_count": null,
      "outputs": [
        {
          "output_type": "stream",
          "name": "stdout",
          "text": [
            "case_status             1     0    All\n",
            "has_job_experience                    \n",
            "All                 17001  8446  25447\n",
            "N                    5986  4675  10661\n",
            "Y                   11015  3771  14786\n",
            "------------------------------------------------------------------------------------------------------------------------\n"
          ]
        },
        {
          "output_type": "display_data",
          "data": {
            "text/plain": [
              "<Figure size 504x360 with 1 Axes>"
            ],
            "image/png": "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\n"
          },
          "metadata": {
            "needs_background": "light"
          }
        }
      ]
    },
    {
      "cell_type": "markdown",
      "source": [
        "3. Experienced professionals might look abroad for opportunities to improve their lifestyles and career development. Does work experience influence visa status?\n",
        "\n",
        "If the applicant has work experience they are much more likely to get their visa certified."
      ],
      "metadata": {
        "id": "tpUR0OmD7ZRD"
      },
      "id": "tpUR0OmD7ZRD"
    },
    {
      "cell_type": "code",
      "source": [
        "plt.figure(figsize=(15,5))\n",
        "sns.histplot(data, x=\"prevailing_wage\", hue=\"case_status\");"
      ],
      "metadata": {
        "colab": {
          "base_uri": "https://localhost:8080/",
          "height": 321
        },
        "id": "3Zbdz-G38qMw",
        "outputId": "624384b8-03c8-4992-a865-2f29fbfb7779"
      },
      "id": "3Zbdz-G38qMw",
      "execution_count": null,
      "outputs": [
        {
          "output_type": "display_data",
          "data": {
            "text/plain": [
              "<Figure size 1080x360 with 1 Axes>"
            ],
            "image/png": "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\n"
          },
          "metadata": {
            "needs_background": "light"
          }
        }
      ]
    },
    {
      "cell_type": "markdown",
      "source": [
        "4. In the United States, employees are paid at different intervals. Which pay unit is most likely to be certified for a visa?\n",
        "\n",
        "A prevailing wage of 45,000 to 85,000 are the wages that are most common to get certified for a visa. There are outliers on the lower end that may have to do with compensation for labor in different ways. A prevailing wage under 45,000 is less likely to get certified."
      ],
      "metadata": {
        "id": "iWYiM-RL8qxw"
      },
      "id": "iWYiM-RL8qxw"
    },
    {
      "cell_type": "markdown",
      "source": [
        "5. The US government has established a prevailing wage to protect local talent and foreign workers. How does the visa status change with the prevailing wage?\n",
        "\n",
        "As prevailing wages increase, the visa status decreases overall even if it is certified or not."
      ],
      "metadata": {
        "id": "K8YlKwABKQ6Z"
      },
      "id": "K8YlKwABKQ6Z"
    },
    {
      "cell_type": "markdown",
      "id": "alleged-spirituality",
      "metadata": {
        "id": "alleged-spirituality"
      },
      "source": [
        "## Data Preprocessing\n",
        "\n",
        "- Missing value treatment (if needed)\n",
        "- Feature engineering\n",
        "- Outlier detection and treatment (if needed)\n",
        "- Preparing data for modeling\n",
        "- Any other preprocessing steps (if needed)"
      ]
    },
    {
      "cell_type": "code",
      "source": [
        "data[\"case_status\"] = data[\"case_status\"].apply(lambda x: 0 if x == \"Denied\" else 1)"
      ],
      "metadata": {
        "id": "FSZJdqh-ZS68"
      },
      "id": "FSZJdqh-ZS68",
      "execution_count": null,
      "outputs": []
    },
    {
      "cell_type": "code",
      "source": [
        "X = data.drop(\"case_status\", axis=1)\n",
        "y = data[\"case_status\"]"
      ],
      "metadata": {
        "id": "RGOiOG6vZZ6d"
      },
      "id": "RGOiOG6vZZ6d",
      "execution_count": null,
      "outputs": []
    },
    {
      "cell_type": "code",
      "source": [
        "X = pd.get_dummies(X, drop_first=True)"
      ],
      "metadata": {
        "id": "aN0nMjojZc6B"
      },
      "id": "aN0nMjojZc6B",
      "execution_count": null,
      "outputs": []
    },
    {
      "cell_type": "code",
      "source": [
        "X_train, X_test, y_train, y_test = train_test_split(X, y, test_size=0.30, random_state=1, stratify=y)"
      ],
      "metadata": {
        "id": "c7zaoKBlZf3E"
      },
      "id": "c7zaoKBlZf3E",
      "execution_count": null,
      "outputs": []
    },
    {
      "cell_type": "code",
      "source": [
        "X_train.shape, X_test.shape"
      ],
      "metadata": {
        "colab": {
          "base_uri": "https://localhost:8080/"
        },
        "id": "_CFN8ZIoabCX",
        "outputId": "68d473e7-8886-424f-fc2a-0c54084b71c6"
      },
      "id": "_CFN8ZIoabCX",
      "execution_count": null,
      "outputs": [
        {
          "output_type": "execute_result",
          "data": {
            "text/plain": [
              "((17836, 21), (7644, 21))"
            ]
          },
          "metadata": {},
          "execution_count": 16
        }
      ]
    },
    {
      "cell_type": "code",
      "source": [
        "print(\"Shape of Training set : \", X_train.shape)\n",
        "print(\"Shape of test set : \", X_test.shape)\n",
        "print(\"Percentage of classes in training set:\")\n",
        "print(y_train.value_counts(normalize=True))\n",
        "print(\"Percentage of classes in test set:\")\n",
        "print(y_test.value_counts(normalize=True))"
      ],
      "metadata": {
        "colab": {
          "base_uri": "https://localhost:8080/"
        },
        "id": "e9ep4HFAbF4S",
        "outputId": "afaf86b4-1508-423f-d13d-7ddf3abeae10"
      },
      "id": "e9ep4HFAbF4S",
      "execution_count": null,
      "outputs": [
        {
          "output_type": "stream",
          "name": "stdout",
          "text": [
            "Shape of Training set :  (17836, 21)\n",
            "Shape of test set :  (7644, 21)\n",
            "Percentage of classes in training set:\n",
            "1    0.667919\n",
            "0    0.332081\n",
            "Name: case_status, dtype: float64\n",
            "Percentage of classes in test set:\n",
            "1    0.667844\n",
            "0    0.332156\n",
            "Name: case_status, dtype: float64\n"
          ]
        }
      ]
    },
    {
      "cell_type": "markdown",
      "id": "difficult-union",
      "metadata": {
        "id": "difficult-union"
      },
      "source": [
        "## EDA\n",
        "\n",
        "- It is a good idea to explore the data once again after manipulating it."
      ]
    },
    {
      "cell_type": "markdown",
      "source": [
        "## Model evaluation criterion\n",
        "Model can make wrong predictions as:\n",
        "Model predicts that the visa application will get certified\n",
        "\n",
        "*   Model predicts that the visa application will get certified but in reality, the visa application should get denied.\n",
        "*   Model predicts that the visa application will not get certified but in reality, the visa application should get certified\n",
        "\n",
        "Which case is more important?\n",
        "Both the cases are important as:\n",
        "\n",
        "\n",
        "*   If a visa is certified when it had to be denied a wrong employee will get the job position while US citizens will\n",
        "\n",
        "*   If a visa is certified when it had to be denied a wrong employee will get the job position while US citizens will miss the opportunity to work on that position.\n"
      ],
      "metadata": {
        "id": "4av1HBndazci"
      },
      "id": "4av1HBndazci"
    },
    {
      "cell_type": "code",
      "source": [
        "def confusion_matrix_sklearn(model, predictors, target):\n",
        "    \"\"\"\n",
        "    To plot the confusion_matrix with percentages\n",
        "\n",
        "    model: classifier\n",
        "    predictors: independent variables\n",
        "    target: dependent variable\n",
        "    \"\"\"\n",
        "    y_pred = model.predict(predictors)\n",
        "    cm = confusion_matrix(target, y_pred)\n",
        "    labels = np.asarray(\n",
        "        [\n",
        "            [\"{0:0.0f}\".format(item) + \"\\n{0:.2%}\".format(item / cm.flatten().sum())]\n",
        "            for item in cm.flatten()\n",
        "        ]\n",
        "    ).reshape(2, 2)\n",
        "\n",
        "    plt.figure(figsize=(6, 4))\n",
        "    sns.heatmap(cm, annot=labels, fmt=\"\")\n",
        "    plt.ylabel(\"True label\")\n",
        "    plt.xlabel(\"Predicted label\")"
      ],
      "metadata": {
        "id": "6YhYmCwY07q1"
      },
      "id": "6YhYmCwY07q1",
      "execution_count": null,
      "outputs": []
    },
    {
      "cell_type": "code",
      "source": [
        "def model_performance_classification_sklearn(model, predictors, target):\n",
        "\n",
        "    pred = model.predict(predictors)\n",
        "\n",
        "    acc = accuracy_score(target, pred)\n",
        "    recall = recall_score(target, pred)\n",
        "    precision = precision_score(target, pred)\n",
        "    f1 = f1_score(target, pred)\n",
        "\n",
        "    df_perf = pd.DataFrame(\n",
        "        {\"Accuracy\": acc, \"Recall\": recall, \"Precision\": precision, \"F1\": f1,},\n",
        "        index=[0],\n",
        "    )\n",
        "\n",
        "    return df_perf"
      ],
      "metadata": {
        "id": "aqmBKkyo020t"
      },
      "id": "aqmBKkyo020t",
      "execution_count": null,
      "outputs": []
    },
    {
      "cell_type": "markdown",
      "source": [
        "## Decision Tree model"
      ],
      "metadata": {
        "id": "mYA97RG07ygi"
      },
      "id": "mYA97RG07ygi"
    },
    {
      "cell_type": "code",
      "source": [
        "dtree_estimator = DecisionTreeClassifier(class_weight=\"balanced\", random_state=1)"
      ],
      "metadata": {
        "id": "L0-zq0lGBJ1q"
      },
      "id": "L0-zq0lGBJ1q",
      "execution_count": null,
      "outputs": []
    },
    {
      "cell_type": "code",
      "source": [
        "dtree_estimator.fit(X_train, y_train)"
      ],
      "metadata": {
        "colab": {
          "base_uri": "https://localhost:8080/",
          "height": 72
        },
        "id": "9EQgqu0qDXHx",
        "outputId": "e33f4a7c-cd93-4615-ec58-15a9f1334710"
      },
      "id": "9EQgqu0qDXHx",
      "execution_count": null,
      "outputs": [
        {
          "output_type": "execute_result",
          "data": {
            "text/plain": [
              "DecisionTreeClassifier(class_weight='balanced', random_state=1)"
            ],
            "text/html": [
              "<style>#sk-container-id-1 {color: black;background-color: white;}#sk-container-id-1 pre{padding: 0;}#sk-container-id-1 div.sk-toggleable {background-color: white;}#sk-container-id-1 label.sk-toggleable__label {cursor: pointer;display: block;width: 100%;margin-bottom: 0;padding: 0.3em;box-sizing: border-box;text-align: center;}#sk-container-id-1 label.sk-toggleable__label-arrow:before {content: \"▸\";float: left;margin-right: 0.25em;color: #696969;}#sk-container-id-1 label.sk-toggleable__label-arrow:hover:before {color: black;}#sk-container-id-1 div.sk-estimator:hover label.sk-toggleable__label-arrow:before {color: black;}#sk-container-id-1 div.sk-toggleable__content {max-height: 0;max-width: 0;overflow: hidden;text-align: left;background-color: #f0f8ff;}#sk-container-id-1 div.sk-toggleable__content pre {margin: 0.2em;color: black;border-radius: 0.25em;background-color: #f0f8ff;}#sk-container-id-1 input.sk-toggleable__control:checked~div.sk-toggleable__content {max-height: 200px;max-width: 100%;overflow: auto;}#sk-container-id-1 input.sk-toggleable__control:checked~label.sk-toggleable__label-arrow:before {content: \"▾\";}#sk-container-id-1 div.sk-estimator input.sk-toggleable__control:checked~label.sk-toggleable__label {background-color: #d4ebff;}#sk-container-id-1 div.sk-label input.sk-toggleable__control:checked~label.sk-toggleable__label {background-color: #d4ebff;}#sk-container-id-1 input.sk-hidden--visually {border: 0;clip: rect(1px 1px 1px 1px);clip: rect(1px, 1px, 1px, 1px);height: 1px;margin: -1px;overflow: hidden;padding: 0;position: absolute;width: 1px;}#sk-container-id-1 div.sk-estimator {font-family: monospace;background-color: #f0f8ff;border: 1px dotted black;border-radius: 0.25em;box-sizing: border-box;margin-bottom: 0.5em;}#sk-container-id-1 div.sk-estimator:hover {background-color: #d4ebff;}#sk-container-id-1 div.sk-parallel-item::after {content: \"\";width: 100%;border-bottom: 1px solid gray;flex-grow: 1;}#sk-container-id-1 div.sk-label:hover label.sk-toggleable__label {background-color: #d4ebff;}#sk-container-id-1 div.sk-serial::before {content: \"\";position: absolute;border-left: 1px solid gray;box-sizing: border-box;top: 0;bottom: 0;left: 50%;z-index: 0;}#sk-container-id-1 div.sk-serial {display: flex;flex-direction: column;align-items: center;background-color: white;padding-right: 0.2em;padding-left: 0.2em;position: relative;}#sk-container-id-1 div.sk-item {position: relative;z-index: 1;}#sk-container-id-1 div.sk-parallel {display: flex;align-items: stretch;justify-content: center;background-color: white;position: relative;}#sk-container-id-1 div.sk-item::before, #sk-container-id-1 div.sk-parallel-item::before {content: \"\";position: absolute;border-left: 1px solid gray;box-sizing: border-box;top: 0;bottom: 0;left: 50%;z-index: -1;}#sk-container-id-1 div.sk-parallel-item {display: flex;flex-direction: column;z-index: 1;position: relative;background-color: white;}#sk-container-id-1 div.sk-parallel-item:first-child::after {align-self: flex-end;width: 50%;}#sk-container-id-1 div.sk-parallel-item:last-child::after {align-self: flex-start;width: 50%;}#sk-container-id-1 div.sk-parallel-item:only-child::after {width: 0;}#sk-container-id-1 div.sk-dashed-wrapped {border: 1px dashed gray;margin: 0 0.4em 0.5em 0.4em;box-sizing: border-box;padding-bottom: 0.4em;background-color: white;}#sk-container-id-1 div.sk-label label {font-family: monospace;font-weight: bold;display: inline-block;line-height: 1.2em;}#sk-container-id-1 div.sk-label-container {text-align: center;}#sk-container-id-1 div.sk-container {/* jupyter's `normalize.less` sets `[hidden] { display: none; }` but bootstrap.min.css set `[hidden] { display: none !important; }` so we also need the `!important` here to be able to override the default hidden behavior on the sphinx rendered scikit-learn.org. See: https://github.com/scikit-learn/scikit-learn/issues/21755 */display: inline-block !important;position: relative;}#sk-container-id-1 div.sk-text-repr-fallback {display: none;}</style><div id=\"sk-container-id-1\" class=\"sk-top-container\"><div class=\"sk-text-repr-fallback\"><pre>DecisionTreeClassifier(class_weight=&#x27;balanced&#x27;, random_state=1)</pre><b>In a Jupyter environment, please rerun this cell to show the HTML representation or trust the notebook. <br />On GitHub, the HTML representation is unable to render, please try loading this page with nbviewer.org.</b></div><div class=\"sk-container\" hidden><div class=\"sk-item\"><div class=\"sk-estimator sk-toggleable\"><input class=\"sk-toggleable__control sk-hidden--visually\" id=\"sk-estimator-id-1\" type=\"checkbox\" checked><label for=\"sk-estimator-id-1\" class=\"sk-toggleable__label sk-toggleable__label-arrow\">DecisionTreeClassifier</label><div class=\"sk-toggleable__content\"><pre>DecisionTreeClassifier(class_weight=&#x27;balanced&#x27;, random_state=1)</pre></div></div></div></div></div>"
            ]
          },
          "metadata": {},
          "execution_count": 21
        }
      ]
    },
    {
      "cell_type": "code",
      "source": [
        "dtree_estimator_model_train_perf=model_performance_classification_sklearn(dtree_estimator,X_train,y_train)\n",
        "print(\"Training performance:\\n\",dtree_estimator_model_train_perf)\n",
        "dtree_estimator_model_test_perf=model_performance_classification_sklearn(dtree_estimator,X_test,y_test)\n",
        "print(\"Testing performance:\\n\",dtree_estimator_model_test_perf)\n",
        "\n",
        "confusion_matrix_sklearn(dtree_estimator,X_test,y_test)"
      ],
      "metadata": {
        "colab": {
          "base_uri": "https://localhost:8080/",
          "height": 377
        },
        "id": "0NYV3gSvG6OT",
        "outputId": "91983fe7-3fb3-4767-dde9-cba65bf5248b"
      },
      "id": "0NYV3gSvG6OT",
      "execution_count": null,
      "outputs": [
        {
          "output_type": "stream",
          "name": "stdout",
          "text": [
            "Training performance:\n",
            "    Accuracy    Recall  Precision        F1\n",
            "0  0.729816  0.910602   0.742912  0.818254\n",
            "Testing performance:\n",
            "    Accuracy    Recall  Precision        F1\n",
            "0  0.722397  0.910088   0.736408  0.814088\n"
          ]
        },
        {
          "output_type": "display_data",
          "data": {
            "text/plain": [
              "<Figure size 432x288 with 2 Axes>"
            ],
            "image/png": "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\n"
          },
          "metadata": {
            "needs_background": "light"
          }
        }
      ]
    },
    {
      "cell_type": "markdown",
      "source": [
        "\n",
        "\n",
        "*   Decision tree is overfitting the data, where training performance is performing well but testing performance is not. Hyperparameter tuning is needed.\n",
        "\n"
      ],
      "metadata": {
        "id": "TAW5ddALAydD"
      },
      "id": "TAW5ddALAydD"
    },
    {
      "cell_type": "markdown",
      "source": [
        "# Tuning decision tree"
      ],
      "metadata": {
        "id": "fTSSAeGupfs_"
      },
      "id": "fTSSAeGupfs_"
    },
    {
      "cell_type": "code",
      "source": [
        "decision_tree_perf_train = DecisionTreeClassifier(random_state=1)\n",
        "\n",
        "parameters = {'max_depth': np.arange(5,30,5),\n",
        "              'min_samples_leaf': [3, 5, 7],\n",
        "              'max_leaf_nodes' : [2, 4, 6],\n",
        "              'min_impurity_decrease': [0.0001,0.001,0.01,0.1]\n",
        "             }\n",
        "\n",
        "scorer = metrics.make_scorer(metrics.f1_score)\n",
        "\n",
        "grid_obj = GridSearchCV(decision_tree_perf_train, parameters, scoring=scorer, cv=5)\n",
        "grid_obj = grid_obj.fit(X_train, y_train)\n",
        "\n",
        "decision_tree_perf_train = grid_obj.best_estimator_\n",
        "\n",
        "decision_tree_perf_train.fit(X_train, y_train)"
      ],
      "metadata": {
        "colab": {
          "base_uri": "https://localhost:8080/",
          "height": 105
        },
        "id": "PSKxp61_plFP",
        "outputId": "b9fbace4-39a5-47ae-d994-b93df1a43508"
      },
      "id": "PSKxp61_plFP",
      "execution_count": null,
      "outputs": [
        {
          "output_type": "execute_result",
          "data": {
            "text/plain": [
              "DecisionTreeClassifier(max_depth=5, max_leaf_nodes=4,\n",
              "                       min_impurity_decrease=0.0001, min_samples_leaf=3,\n",
              "                       random_state=1)"
            ],
            "text/html": [
              "<style>#sk-container-id-14 {color: black;background-color: white;}#sk-container-id-14 pre{padding: 0;}#sk-container-id-14 div.sk-toggleable {background-color: white;}#sk-container-id-14 label.sk-toggleable__label {cursor: pointer;display: block;width: 100%;margin-bottom: 0;padding: 0.3em;box-sizing: border-box;text-align: center;}#sk-container-id-14 label.sk-toggleable__label-arrow:before {content: \"▸\";float: left;margin-right: 0.25em;color: #696969;}#sk-container-id-14 label.sk-toggleable__label-arrow:hover:before {color: black;}#sk-container-id-14 div.sk-estimator:hover label.sk-toggleable__label-arrow:before {color: black;}#sk-container-id-14 div.sk-toggleable__content {max-height: 0;max-width: 0;overflow: hidden;text-align: left;background-color: #f0f8ff;}#sk-container-id-14 div.sk-toggleable__content pre {margin: 0.2em;color: black;border-radius: 0.25em;background-color: #f0f8ff;}#sk-container-id-14 input.sk-toggleable__control:checked~div.sk-toggleable__content {max-height: 200px;max-width: 100%;overflow: auto;}#sk-container-id-14 input.sk-toggleable__control:checked~label.sk-toggleable__label-arrow:before {content: \"▾\";}#sk-container-id-14 div.sk-estimator input.sk-toggleable__control:checked~label.sk-toggleable__label {background-color: #d4ebff;}#sk-container-id-14 div.sk-label input.sk-toggleable__control:checked~label.sk-toggleable__label {background-color: #d4ebff;}#sk-container-id-14 input.sk-hidden--visually {border: 0;clip: rect(1px 1px 1px 1px);clip: rect(1px, 1px, 1px, 1px);height: 1px;margin: -1px;overflow: hidden;padding: 0;position: absolute;width: 1px;}#sk-container-id-14 div.sk-estimator {font-family: monospace;background-color: #f0f8ff;border: 1px dotted black;border-radius: 0.25em;box-sizing: border-box;margin-bottom: 0.5em;}#sk-container-id-14 div.sk-estimator:hover {background-color: #d4ebff;}#sk-container-id-14 div.sk-parallel-item::after {content: \"\";width: 100%;border-bottom: 1px solid gray;flex-grow: 1;}#sk-container-id-14 div.sk-label:hover label.sk-toggleable__label {background-color: #d4ebff;}#sk-container-id-14 div.sk-serial::before {content: \"\";position: absolute;border-left: 1px solid gray;box-sizing: border-box;top: 0;bottom: 0;left: 50%;z-index: 0;}#sk-container-id-14 div.sk-serial {display: flex;flex-direction: column;align-items: center;background-color: white;padding-right: 0.2em;padding-left: 0.2em;position: relative;}#sk-container-id-14 div.sk-item {position: relative;z-index: 1;}#sk-container-id-14 div.sk-parallel {display: flex;align-items: stretch;justify-content: center;background-color: white;position: relative;}#sk-container-id-14 div.sk-item::before, #sk-container-id-14 div.sk-parallel-item::before {content: \"\";position: absolute;border-left: 1px solid gray;box-sizing: border-box;top: 0;bottom: 0;left: 50%;z-index: -1;}#sk-container-id-14 div.sk-parallel-item {display: flex;flex-direction: column;z-index: 1;position: relative;background-color: white;}#sk-container-id-14 div.sk-parallel-item:first-child::after {align-self: flex-end;width: 50%;}#sk-container-id-14 div.sk-parallel-item:last-child::after {align-self: flex-start;width: 50%;}#sk-container-id-14 div.sk-parallel-item:only-child::after {width: 0;}#sk-container-id-14 div.sk-dashed-wrapped {border: 1px dashed gray;margin: 0 0.4em 0.5em 0.4em;box-sizing: border-box;padding-bottom: 0.4em;background-color: white;}#sk-container-id-14 div.sk-label label {font-family: monospace;font-weight: bold;display: inline-block;line-height: 1.2em;}#sk-container-id-14 div.sk-label-container {text-align: center;}#sk-container-id-14 div.sk-container {/* jupyter's `normalize.less` sets `[hidden] { display: none; }` but bootstrap.min.css set `[hidden] { display: none !important; }` so we also need the `!important` here to be able to override the default hidden behavior on the sphinx rendered scikit-learn.org. See: https://github.com/scikit-learn/scikit-learn/issues/21755 */display: inline-block !important;position: relative;}#sk-container-id-14 div.sk-text-repr-fallback {display: none;}</style><div id=\"sk-container-id-14\" class=\"sk-top-container\"><div class=\"sk-text-repr-fallback\"><pre>DecisionTreeClassifier(max_depth=5, max_leaf_nodes=4,\n",
              "                       min_impurity_decrease=0.0001, min_samples_leaf=3,\n",
              "                       random_state=1)</pre><b>In a Jupyter environment, please rerun this cell to show the HTML representation or trust the notebook. <br />On GitHub, the HTML representation is unable to render, please try loading this page with nbviewer.org.</b></div><div class=\"sk-container\" hidden><div class=\"sk-item\"><div class=\"sk-estimator sk-toggleable\"><input class=\"sk-toggleable__control sk-hidden--visually\" id=\"sk-estimator-id-16\" type=\"checkbox\" checked><label for=\"sk-estimator-id-16\" class=\"sk-toggleable__label sk-toggleable__label-arrow\">DecisionTreeClassifier</label><div class=\"sk-toggleable__content\"><pre>DecisionTreeClassifier(max_depth=5, max_leaf_nodes=4,\n",
              "                       min_impurity_decrease=0.0001, min_samples_leaf=3,\n",
              "                       random_state=1)</pre></div></div></div></div></div>"
            ]
          },
          "metadata": {},
          "execution_count": 87
        }
      ]
    },
    {
      "cell_type": "code",
      "source": [
        "decision_tree_perf_train.fit(X_train, y_train)"
      ],
      "metadata": {
        "colab": {
          "base_uri": "https://localhost:8080/",
          "height": 72
        },
        "id": "lYjynB_PTBBb",
        "outputId": "d2a1f309-8d0e-4020-fef1-956ffa8288ec"
      },
      "id": "lYjynB_PTBBb",
      "execution_count": null,
      "outputs": [
        {
          "output_type": "execute_result",
          "data": {
            "text/plain": [
              "DecisionTreeClassifier(class_weight='balanced', random_state=1)"
            ],
            "text/html": [
              "<style>#sk-container-id-15 {color: black;background-color: white;}#sk-container-id-15 pre{padding: 0;}#sk-container-id-15 div.sk-toggleable {background-color: white;}#sk-container-id-15 label.sk-toggleable__label {cursor: pointer;display: block;width: 100%;margin-bottom: 0;padding: 0.3em;box-sizing: border-box;text-align: center;}#sk-container-id-15 label.sk-toggleable__label-arrow:before {content: \"▸\";float: left;margin-right: 0.25em;color: #696969;}#sk-container-id-15 label.sk-toggleable__label-arrow:hover:before {color: black;}#sk-container-id-15 div.sk-estimator:hover label.sk-toggleable__label-arrow:before {color: black;}#sk-container-id-15 div.sk-toggleable__content {max-height: 0;max-width: 0;overflow: hidden;text-align: left;background-color: #f0f8ff;}#sk-container-id-15 div.sk-toggleable__content pre {margin: 0.2em;color: black;border-radius: 0.25em;background-color: #f0f8ff;}#sk-container-id-15 input.sk-toggleable__control:checked~div.sk-toggleable__content {max-height: 200px;max-width: 100%;overflow: auto;}#sk-container-id-15 input.sk-toggleable__control:checked~label.sk-toggleable__label-arrow:before {content: \"▾\";}#sk-container-id-15 div.sk-estimator input.sk-toggleable__control:checked~label.sk-toggleable__label {background-color: #d4ebff;}#sk-container-id-15 div.sk-label input.sk-toggleable__control:checked~label.sk-toggleable__label {background-color: #d4ebff;}#sk-container-id-15 input.sk-hidden--visually {border: 0;clip: rect(1px 1px 1px 1px);clip: rect(1px, 1px, 1px, 1px);height: 1px;margin: -1px;overflow: hidden;padding: 0;position: absolute;width: 1px;}#sk-container-id-15 div.sk-estimator {font-family: monospace;background-color: #f0f8ff;border: 1px dotted black;border-radius: 0.25em;box-sizing: border-box;margin-bottom: 0.5em;}#sk-container-id-15 div.sk-estimator:hover {background-color: #d4ebff;}#sk-container-id-15 div.sk-parallel-item::after {content: \"\";width: 100%;border-bottom: 1px solid gray;flex-grow: 1;}#sk-container-id-15 div.sk-label:hover label.sk-toggleable__label {background-color: #d4ebff;}#sk-container-id-15 div.sk-serial::before {content: \"\";position: absolute;border-left: 1px solid gray;box-sizing: border-box;top: 0;bottom: 0;left: 50%;z-index: 0;}#sk-container-id-15 div.sk-serial {display: flex;flex-direction: column;align-items: center;background-color: white;padding-right: 0.2em;padding-left: 0.2em;position: relative;}#sk-container-id-15 div.sk-item {position: relative;z-index: 1;}#sk-container-id-15 div.sk-parallel {display: flex;align-items: stretch;justify-content: center;background-color: white;position: relative;}#sk-container-id-15 div.sk-item::before, #sk-container-id-15 div.sk-parallel-item::before {content: \"\";position: absolute;border-left: 1px solid gray;box-sizing: border-box;top: 0;bottom: 0;left: 50%;z-index: -1;}#sk-container-id-15 div.sk-parallel-item {display: flex;flex-direction: column;z-index: 1;position: relative;background-color: white;}#sk-container-id-15 div.sk-parallel-item:first-child::after {align-self: flex-end;width: 50%;}#sk-container-id-15 div.sk-parallel-item:last-child::after {align-self: flex-start;width: 50%;}#sk-container-id-15 div.sk-parallel-item:only-child::after {width: 0;}#sk-container-id-15 div.sk-dashed-wrapped {border: 1px dashed gray;margin: 0 0.4em 0.5em 0.4em;box-sizing: border-box;padding-bottom: 0.4em;background-color: white;}#sk-container-id-15 div.sk-label label {font-family: monospace;font-weight: bold;display: inline-block;line-height: 1.2em;}#sk-container-id-15 div.sk-label-container {text-align: center;}#sk-container-id-15 div.sk-container {/* jupyter's `normalize.less` sets `[hidden] { display: none; }` but bootstrap.min.css set `[hidden] { display: none !important; }` so we also need the `!important` here to be able to override the default hidden behavior on the sphinx rendered scikit-learn.org. See: https://github.com/scikit-learn/scikit-learn/issues/21755 */display: inline-block !important;position: relative;}#sk-container-id-15 div.sk-text-repr-fallback {display: none;}</style><div id=\"sk-container-id-15\" class=\"sk-top-container\"><div class=\"sk-text-repr-fallback\"><pre>DecisionTreeClassifier(class_weight=&#x27;balanced&#x27;, random_state=1)</pre><b>In a Jupyter environment, please rerun this cell to show the HTML representation or trust the notebook. <br />On GitHub, the HTML representation is unable to render, please try loading this page with nbviewer.org.</b></div><div class=\"sk-container\" hidden><div class=\"sk-item\"><div class=\"sk-estimator sk-toggleable\"><input class=\"sk-toggleable__control sk-hidden--visually\" id=\"sk-estimator-id-17\" type=\"checkbox\" checked><label for=\"sk-estimator-id-17\" class=\"sk-toggleable__label sk-toggleable__label-arrow\">DecisionTreeClassifier</label><div class=\"sk-toggleable__content\"><pre>DecisionTreeClassifier(class_weight=&#x27;balanced&#x27;, random_state=1)</pre></div></div></div></div></div>"
            ]
          },
          "metadata": {},
          "execution_count": 121
        }
      ]
    },
    {
      "cell_type": "code",
      "source": [
        "decision_tree_perf_train = DecisionTreeClassifier(class_weight=\"balanced\", random_state=1)"
      ],
      "metadata": {
        "id": "_yo6zxGmPtN9"
      },
      "id": "_yo6zxGmPtN9",
      "execution_count": null,
      "outputs": []
    },
    {
      "cell_type": "code",
      "source": [
        "decision_tree_perf_train = model_performance_classification_sklearn(decision_tree_perf_train, X_train, y_train) ## Complete the code to check performance for train data on tuned estimator\n",
        "decision_tree_perf_train"
      ],
      "metadata": {
        "colab": {
          "base_uri": "https://localhost:8080/",
          "height": 78
        },
        "id": "ctse2oosSrhH",
        "outputId": "0648bac7-e71a-4767-ab0f-a34f42cf0112"
      },
      "id": "ctse2oosSrhH",
      "execution_count": null,
      "outputs": [
        {
          "output_type": "execute_result",
          "data": {
            "text/plain": [
              "   Accuracy  Recall  Precision   F1\n",
              "0       1.0     1.0        1.0  1.0"
            ],
            "text/html": [
              "\n",
              "  <div id=\"df-615d203d-75f9-481c-a0fd-1f2989817f1d\">\n",
              "    <div class=\"colab-df-container\">\n",
              "      <div>\n",
              "<style scoped>\n",
              "    .dataframe tbody tr th:only-of-type {\n",
              "        vertical-align: middle;\n",
              "    }\n",
              "\n",
              "    .dataframe tbody tr th {\n",
              "        vertical-align: top;\n",
              "    }\n",
              "\n",
              "    .dataframe thead th {\n",
              "        text-align: right;\n",
              "    }\n",
              "</style>\n",
              "<table border=\"1\" class=\"dataframe\">\n",
              "  <thead>\n",
              "    <tr style=\"text-align: right;\">\n",
              "      <th></th>\n",
              "      <th>Accuracy</th>\n",
              "      <th>Recall</th>\n",
              "      <th>Precision</th>\n",
              "      <th>F1</th>\n",
              "    </tr>\n",
              "  </thead>\n",
              "  <tbody>\n",
              "    <tr>\n",
              "      <th>0</th>\n",
              "      <td>1.0</td>\n",
              "      <td>1.0</td>\n",
              "      <td>1.0</td>\n",
              "      <td>1.0</td>\n",
              "    </tr>\n",
              "  </tbody>\n",
              "</table>\n",
              "</div>\n",
              "      <button class=\"colab-df-convert\" onclick=\"convertToInteractive('df-615d203d-75f9-481c-a0fd-1f2989817f1d')\"\n",
              "              title=\"Convert this dataframe to an interactive table.\"\n",
              "              style=\"display:none;\">\n",
              "        \n",
              "  <svg xmlns=\"http://www.w3.org/2000/svg\" height=\"24px\"viewBox=\"0 0 24 24\"\n",
              "       width=\"24px\">\n",
              "    <path d=\"M0 0h24v24H0V0z\" fill=\"none\"/>\n",
              "    <path d=\"M18.56 5.44l.94 2.06.94-2.06 2.06-.94-2.06-.94-.94-2.06-.94 2.06-2.06.94zm-11 1L8.5 8.5l.94-2.06 2.06-.94-2.06-.94L8.5 2.5l-.94 2.06-2.06.94zm10 10l.94 2.06.94-2.06 2.06-.94-2.06-.94-.94-2.06-.94 2.06-2.06.94z\"/><path d=\"M17.41 7.96l-1.37-1.37c-.4-.4-.92-.59-1.43-.59-.52 0-1.04.2-1.43.59L10.3 9.45l-7.72 7.72c-.78.78-.78 2.05 0 2.83L4 21.41c.39.39.9.59 1.41.59.51 0 1.02-.2 1.41-.59l7.78-7.78 2.81-2.81c.8-.78.8-2.07 0-2.86zM5.41 20L4 18.59l7.72-7.72 1.47 1.35L5.41 20z\"/>\n",
              "  </svg>\n",
              "      </button>\n",
              "      \n",
              "  <style>\n",
              "    .colab-df-container {\n",
              "      display:flex;\n",
              "      flex-wrap:wrap;\n",
              "      gap: 12px;\n",
              "    }\n",
              "\n",
              "    .colab-df-convert {\n",
              "      background-color: #E8F0FE;\n",
              "      border: none;\n",
              "      border-radius: 50%;\n",
              "      cursor: pointer;\n",
              "      display: none;\n",
              "      fill: #1967D2;\n",
              "      height: 32px;\n",
              "      padding: 0 0 0 0;\n",
              "      width: 32px;\n",
              "    }\n",
              "\n",
              "    .colab-df-convert:hover {\n",
              "      background-color: #E2EBFA;\n",
              "      box-shadow: 0px 1px 2px rgba(60, 64, 67, 0.3), 0px 1px 3px 1px rgba(60, 64, 67, 0.15);\n",
              "      fill: #174EA6;\n",
              "    }\n",
              "\n",
              "    [theme=dark] .colab-df-convert {\n",
              "      background-color: #3B4455;\n",
              "      fill: #D2E3FC;\n",
              "    }\n",
              "\n",
              "    [theme=dark] .colab-df-convert:hover {\n",
              "      background-color: #434B5C;\n",
              "      box-shadow: 0px 1px 3px 1px rgba(0, 0, 0, 0.15);\n",
              "      filter: drop-shadow(0px 1px 2px rgba(0, 0, 0, 0.3));\n",
              "      fill: #FFFFFF;\n",
              "    }\n",
              "  </style>\n",
              "\n",
              "      <script>\n",
              "        const buttonEl =\n",
              "          document.querySelector('#df-615d203d-75f9-481c-a0fd-1f2989817f1d button.colab-df-convert');\n",
              "        buttonEl.style.display =\n",
              "          google.colab.kernel.accessAllowed ? 'block' : 'none';\n",
              "\n",
              "        async function convertToInteractive(key) {\n",
              "          const element = document.querySelector('#df-615d203d-75f9-481c-a0fd-1f2989817f1d');\n",
              "          const dataTable =\n",
              "            await google.colab.kernel.invokeFunction('convertToInteractive',\n",
              "                                                     [key], {});\n",
              "          if (!dataTable) return;\n",
              "\n",
              "          const docLinkHtml = 'Like what you see? Visit the ' +\n",
              "            '<a target=\"_blank\" href=https://colab.research.google.com/notebooks/data_table.ipynb>data table notebook</a>'\n",
              "            + ' to learn more about interactive tables.';\n",
              "          element.innerHTML = '';\n",
              "          dataTable['output_type'] = 'display_data';\n",
              "          await google.colab.output.renderOutput(dataTable, element);\n",
              "          const docLink = document.createElement('div');\n",
              "          docLink.innerHTML = docLinkHtml;\n",
              "          element.appendChild(docLink);\n",
              "        }\n",
              "      </script>\n",
              "    </div>\n",
              "  </div>\n",
              "  "
            ]
          },
          "metadata": {},
          "execution_count": 122
        }
      ]
    },
    {
      "cell_type": "markdown",
      "id": "domestic-iceland",
      "metadata": {
        "id": "domestic-iceland"
      },
      "source": [
        "## Building bagging and boosting models"
      ]
    },
    {
      "cell_type": "code",
      "source": [
        "bagging_classifier = BaggingClassifier(random_state=1)\n",
        "bagging_classifier.fit(X_train,y_train)"
      ],
      "metadata": {
        "colab": {
          "base_uri": "https://localhost:8080/",
          "height": 72
        },
        "id": "qFEERCNnPL4B",
        "outputId": "61f06f83-c519-495b-d600-bccc7f53749b"
      },
      "id": "qFEERCNnPL4B",
      "execution_count": null,
      "outputs": [
        {
          "output_type": "execute_result",
          "data": {
            "text/plain": [
              "BaggingClassifier(random_state=1)"
            ],
            "text/html": [
              "<style>#sk-container-id-3 {color: black;background-color: white;}#sk-container-id-3 pre{padding: 0;}#sk-container-id-3 div.sk-toggleable {background-color: white;}#sk-container-id-3 label.sk-toggleable__label {cursor: pointer;display: block;width: 100%;margin-bottom: 0;padding: 0.3em;box-sizing: border-box;text-align: center;}#sk-container-id-3 label.sk-toggleable__label-arrow:before {content: \"▸\";float: left;margin-right: 0.25em;color: #696969;}#sk-container-id-3 label.sk-toggleable__label-arrow:hover:before {color: black;}#sk-container-id-3 div.sk-estimator:hover label.sk-toggleable__label-arrow:before {color: black;}#sk-container-id-3 div.sk-toggleable__content {max-height: 0;max-width: 0;overflow: hidden;text-align: left;background-color: #f0f8ff;}#sk-container-id-3 div.sk-toggleable__content pre {margin: 0.2em;color: black;border-radius: 0.25em;background-color: #f0f8ff;}#sk-container-id-3 input.sk-toggleable__control:checked~div.sk-toggleable__content {max-height: 200px;max-width: 100%;overflow: auto;}#sk-container-id-3 input.sk-toggleable__control:checked~label.sk-toggleable__label-arrow:before {content: \"▾\";}#sk-container-id-3 div.sk-estimator input.sk-toggleable__control:checked~label.sk-toggleable__label {background-color: #d4ebff;}#sk-container-id-3 div.sk-label input.sk-toggleable__control:checked~label.sk-toggleable__label {background-color: #d4ebff;}#sk-container-id-3 input.sk-hidden--visually {border: 0;clip: rect(1px 1px 1px 1px);clip: rect(1px, 1px, 1px, 1px);height: 1px;margin: -1px;overflow: hidden;padding: 0;position: absolute;width: 1px;}#sk-container-id-3 div.sk-estimator {font-family: monospace;background-color: #f0f8ff;border: 1px dotted black;border-radius: 0.25em;box-sizing: border-box;margin-bottom: 0.5em;}#sk-container-id-3 div.sk-estimator:hover {background-color: #d4ebff;}#sk-container-id-3 div.sk-parallel-item::after {content: \"\";width: 100%;border-bottom: 1px solid gray;flex-grow: 1;}#sk-container-id-3 div.sk-label:hover label.sk-toggleable__label {background-color: #d4ebff;}#sk-container-id-3 div.sk-serial::before {content: \"\";position: absolute;border-left: 1px solid gray;box-sizing: border-box;top: 0;bottom: 0;left: 50%;z-index: 0;}#sk-container-id-3 div.sk-serial {display: flex;flex-direction: column;align-items: center;background-color: white;padding-right: 0.2em;padding-left: 0.2em;position: relative;}#sk-container-id-3 div.sk-item {position: relative;z-index: 1;}#sk-container-id-3 div.sk-parallel {display: flex;align-items: stretch;justify-content: center;background-color: white;position: relative;}#sk-container-id-3 div.sk-item::before, #sk-container-id-3 div.sk-parallel-item::before {content: \"\";position: absolute;border-left: 1px solid gray;box-sizing: border-box;top: 0;bottom: 0;left: 50%;z-index: -1;}#sk-container-id-3 div.sk-parallel-item {display: flex;flex-direction: column;z-index: 1;position: relative;background-color: white;}#sk-container-id-3 div.sk-parallel-item:first-child::after {align-self: flex-end;width: 50%;}#sk-container-id-3 div.sk-parallel-item:last-child::after {align-self: flex-start;width: 50%;}#sk-container-id-3 div.sk-parallel-item:only-child::after {width: 0;}#sk-container-id-3 div.sk-dashed-wrapped {border: 1px dashed gray;margin: 0 0.4em 0.5em 0.4em;box-sizing: border-box;padding-bottom: 0.4em;background-color: white;}#sk-container-id-3 div.sk-label label {font-family: monospace;font-weight: bold;display: inline-block;line-height: 1.2em;}#sk-container-id-3 div.sk-label-container {text-align: center;}#sk-container-id-3 div.sk-container {/* jupyter's `normalize.less` sets `[hidden] { display: none; }` but bootstrap.min.css set `[hidden] { display: none !important; }` so we also need the `!important` here to be able to override the default hidden behavior on the sphinx rendered scikit-learn.org. See: https://github.com/scikit-learn/scikit-learn/issues/21755 */display: inline-block !important;position: relative;}#sk-container-id-3 div.sk-text-repr-fallback {display: none;}</style><div id=\"sk-container-id-3\" class=\"sk-top-container\"><div class=\"sk-text-repr-fallback\"><pre>BaggingClassifier(random_state=1)</pre><b>In a Jupyter environment, please rerun this cell to show the HTML representation or trust the notebook. <br />On GitHub, the HTML representation is unable to render, please try loading this page with nbviewer.org.</b></div><div class=\"sk-container\" hidden><div class=\"sk-item\"><div class=\"sk-estimator sk-toggleable\"><input class=\"sk-toggleable__control sk-hidden--visually\" id=\"sk-estimator-id-3\" type=\"checkbox\" checked><label for=\"sk-estimator-id-3\" class=\"sk-toggleable__label sk-toggleable__label-arrow\">BaggingClassifier</label><div class=\"sk-toggleable__content\"><pre>BaggingClassifier(random_state=1)</pre></div></div></div></div></div>"
            ]
          },
          "metadata": {},
          "execution_count": 24
        }
      ]
    },
    {
      "cell_type": "code",
      "source": [
        "confusion_matrix_sklearn(bagging_classifier,X_train,y_train)"
      ],
      "metadata": {
        "colab": {
          "base_uri": "https://localhost:8080/",
          "height": 278
        },
        "id": "G8ldVwU8gC2k",
        "outputId": "3a2db094-07f6-4319-ec36-fe4ffbf9a4ee"
      },
      "id": "G8ldVwU8gC2k",
      "execution_count": null,
      "outputs": [
        {
          "output_type": "display_data",
          "data": {
            "text/plain": [
              "<Figure size 432x288 with 2 Axes>"
            ],
            "image/png": "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\n"
          },
          "metadata": {
            "needs_background": "light"
          }
        }
      ]
    },
    {
      "cell_type": "code",
      "source": [
        "bagging_classifier_model_train_perf=model_performance_classification_sklearn(bagging_classifier,X_train,y_train)\n",
        "print(\"Training performance:\\n\", bagging_classifier_model_train_perf)"
      ],
      "metadata": {
        "colab": {
          "base_uri": "https://localhost:8080/"
        },
        "id": "K3OTeNDefkvZ",
        "outputId": "f8da6074-aba9-4707-f6ac-f0e14a470246"
      },
      "id": "K3OTeNDefkvZ",
      "execution_count": null,
      "outputs": [
        {
          "output_type": "stream",
          "name": "stdout",
          "text": [
            "Training performance:\n",
            "    Accuracy    Recall  Precision        F1\n",
            "0  0.985367  0.986317   0.991729  0.989016\n"
          ]
        }
      ]
    },
    {
      "cell_type": "code",
      "source": [
        "confusion_matrix_sklearn(bagging_classifier,X_test,y_test)"
      ],
      "metadata": {
        "colab": {
          "base_uri": "https://localhost:8080/",
          "height": 278
        },
        "id": "tlpJ9CCogbnL",
        "outputId": "26252ede-2f24-464e-8e28-545cb63743a9"
      },
      "id": "tlpJ9CCogbnL",
      "execution_count": null,
      "outputs": [
        {
          "output_type": "display_data",
          "data": {
            "text/plain": [
              "<Figure size 432x288 with 2 Axes>"
            ],
            "image/png": "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\n"
          },
          "metadata": {
            "needs_background": "light"
          }
        }
      ]
    },
    {
      "cell_type": "code",
      "source": [
        "bagging_classifier_model_test_perf=model_performance_classification_sklearn(bagging_classifier,X_test,y_test)\n",
        "print(\"Testing performance:\\n\",bagging_classifier_model_test_perf)"
      ],
      "metadata": {
        "colab": {
          "base_uri": "https://localhost:8080/"
        },
        "id": "gpn8k7stgt3C",
        "outputId": "26bd3496-e30c-4227-db8c-dfb3a3904e1f"
      },
      "id": "gpn8k7stgt3C",
      "execution_count": null,
      "outputs": [
        {
          "output_type": "stream",
          "name": "stdout",
          "text": [
            "Testing performance:\n",
            "    Accuracy    Recall  Precision        F1\n",
            "0  0.692177  0.766112     0.7714  0.768747\n"
          ]
        }
      ]
    },
    {
      "cell_type": "markdown",
      "source": [
        "\n",
        "\n",
        "*   Bagging classifier has a higher F1 score than decision tree model but is still overfitting the training dataset\n",
        "\n"
      ],
      "metadata": {
        "id": "8PungiP-PUEj"
      },
      "id": "8PungiP-PUEj"
    },
    {
      "cell_type": "markdown",
      "source": [
        "# Tuning bagging and boosting model"
      ],
      "metadata": {
        "id": "ek3r9K7nqa_2"
      },
      "id": "ek3r9K7nqa_2"
    },
    {
      "cell_type": "code",
      "source": [
        "parameters = {'max_samples': [0.7,0.8,0.9,1],\n",
        "              'max_features': [0.7,0.8,0.9,1],\n",
        "              'n_estimators' : np.arange(50, 100, 10)\n",
        "             }\n",
        "\n",
        "rand_bag = RandomizedSearchCV(BaggingClassifier(random_state=1,bootstrap=True),\n",
        "                              parameters, scoring = 'f1', cv = 5, random_state=1)\n",
        "rand_bag = rand_bag.fit(X_train, y_train)\n",
        "\n",
        "bag_tuned = rand_bag.best_estimator_\n",
        "\n",
        "bag_tuned.fit(X_train, y_train)"
      ],
      "metadata": {
        "colab": {
          "base_uri": "https://localhost:8080/",
          "height": 89
        },
        "id": "gyDjXmg2qixy",
        "outputId": "fe95ea9e-75df-4702-fbd5-3e5881ae8071"
      },
      "id": "gyDjXmg2qixy",
      "execution_count": null,
      "outputs": [
        {
          "output_type": "execute_result",
          "data": {
            "text/plain": [
              "BaggingClassifier(max_features=0.8, max_samples=0.8, n_estimators=70,\n",
              "                  random_state=1)"
            ],
            "text/html": [
              "<style>#sk-container-id-11 {color: black;background-color: white;}#sk-container-id-11 pre{padding: 0;}#sk-container-id-11 div.sk-toggleable {background-color: white;}#sk-container-id-11 label.sk-toggleable__label {cursor: pointer;display: block;width: 100%;margin-bottom: 0;padding: 0.3em;box-sizing: border-box;text-align: center;}#sk-container-id-11 label.sk-toggleable__label-arrow:before {content: \"▸\";float: left;margin-right: 0.25em;color: #696969;}#sk-container-id-11 label.sk-toggleable__label-arrow:hover:before {color: black;}#sk-container-id-11 div.sk-estimator:hover label.sk-toggleable__label-arrow:before {color: black;}#sk-container-id-11 div.sk-toggleable__content {max-height: 0;max-width: 0;overflow: hidden;text-align: left;background-color: #f0f8ff;}#sk-container-id-11 div.sk-toggleable__content pre {margin: 0.2em;color: black;border-radius: 0.25em;background-color: #f0f8ff;}#sk-container-id-11 input.sk-toggleable__control:checked~div.sk-toggleable__content {max-height: 200px;max-width: 100%;overflow: auto;}#sk-container-id-11 input.sk-toggleable__control:checked~label.sk-toggleable__label-arrow:before {content: \"▾\";}#sk-container-id-11 div.sk-estimator input.sk-toggleable__control:checked~label.sk-toggleable__label {background-color: #d4ebff;}#sk-container-id-11 div.sk-label input.sk-toggleable__control:checked~label.sk-toggleable__label {background-color: #d4ebff;}#sk-container-id-11 input.sk-hidden--visually {border: 0;clip: rect(1px 1px 1px 1px);clip: rect(1px, 1px, 1px, 1px);height: 1px;margin: -1px;overflow: hidden;padding: 0;position: absolute;width: 1px;}#sk-container-id-11 div.sk-estimator {font-family: monospace;background-color: #f0f8ff;border: 1px dotted black;border-radius: 0.25em;box-sizing: border-box;margin-bottom: 0.5em;}#sk-container-id-11 div.sk-estimator:hover {background-color: #d4ebff;}#sk-container-id-11 div.sk-parallel-item::after {content: \"\";width: 100%;border-bottom: 1px solid gray;flex-grow: 1;}#sk-container-id-11 div.sk-label:hover label.sk-toggleable__label {background-color: #d4ebff;}#sk-container-id-11 div.sk-serial::before {content: \"\";position: absolute;border-left: 1px solid gray;box-sizing: border-box;top: 0;bottom: 0;left: 50%;z-index: 0;}#sk-container-id-11 div.sk-serial {display: flex;flex-direction: column;align-items: center;background-color: white;padding-right: 0.2em;padding-left: 0.2em;position: relative;}#sk-container-id-11 div.sk-item {position: relative;z-index: 1;}#sk-container-id-11 div.sk-parallel {display: flex;align-items: stretch;justify-content: center;background-color: white;position: relative;}#sk-container-id-11 div.sk-item::before, #sk-container-id-11 div.sk-parallel-item::before {content: \"\";position: absolute;border-left: 1px solid gray;box-sizing: border-box;top: 0;bottom: 0;left: 50%;z-index: -1;}#sk-container-id-11 div.sk-parallel-item {display: flex;flex-direction: column;z-index: 1;position: relative;background-color: white;}#sk-container-id-11 div.sk-parallel-item:first-child::after {align-self: flex-end;width: 50%;}#sk-container-id-11 div.sk-parallel-item:last-child::after {align-self: flex-start;width: 50%;}#sk-container-id-11 div.sk-parallel-item:only-child::after {width: 0;}#sk-container-id-11 div.sk-dashed-wrapped {border: 1px dashed gray;margin: 0 0.4em 0.5em 0.4em;box-sizing: border-box;padding-bottom: 0.4em;background-color: white;}#sk-container-id-11 div.sk-label label {font-family: monospace;font-weight: bold;display: inline-block;line-height: 1.2em;}#sk-container-id-11 div.sk-label-container {text-align: center;}#sk-container-id-11 div.sk-container {/* jupyter's `normalize.less` sets `[hidden] { display: none; }` but bootstrap.min.css set `[hidden] { display: none !important; }` so we also need the `!important` here to be able to override the default hidden behavior on the sphinx rendered scikit-learn.org. See: https://github.com/scikit-learn/scikit-learn/issues/21755 */display: inline-block !important;position: relative;}#sk-container-id-11 div.sk-text-repr-fallback {display: none;}</style><div id=\"sk-container-id-11\" class=\"sk-top-container\"><div class=\"sk-text-repr-fallback\"><pre>BaggingClassifier(max_features=0.8, max_samples=0.8, n_estimators=70,\n",
              "                  random_state=1)</pre><b>In a Jupyter environment, please rerun this cell to show the HTML representation or trust the notebook. <br />On GitHub, the HTML representation is unable to render, please try loading this page with nbviewer.org.</b></div><div class=\"sk-container\" hidden><div class=\"sk-item\"><div class=\"sk-estimator sk-toggleable\"><input class=\"sk-toggleable__control sk-hidden--visually\" id=\"sk-estimator-id-11\" type=\"checkbox\" checked><label for=\"sk-estimator-id-11\" class=\"sk-toggleable__label sk-toggleable__label-arrow\">BaggingClassifier</label><div class=\"sk-toggleable__content\"><pre>BaggingClassifier(max_features=0.8, max_samples=0.8, n_estimators=70,\n",
              "                  random_state=1)</pre></div></div></div></div></div>"
            ]
          },
          "metadata": {},
          "execution_count": 61
        }
      ]
    },
    {
      "cell_type": "code",
      "source": [
        "bagging_estimator_tuned_model_train_perf = model_performance_classification_sklearn(bag_tuned, X_train, y_train) ## Complete the code to check performance for train data on tuned estimator\n",
        "bagging_estimator_tuned_model_train_perf"
      ],
      "metadata": {
        "colab": {
          "base_uri": "https://localhost:8080/",
          "height": 78
        },
        "id": "vXUBjkA3NdtB",
        "outputId": "e48d0473-bc05-4d5c-a7b1-b150414c47c2"
      },
      "id": "vXUBjkA3NdtB",
      "execution_count": null,
      "outputs": [
        {
          "output_type": "execute_result",
          "data": {
            "text/plain": [
              "   Accuracy    Recall  Precision        F1\n",
              "0  0.998767  0.999832   0.998324  0.999077"
            ],
            "text/html": [
              "\n",
              "  <div id=\"df-cfa57df8-2148-4d35-a19d-22317963bed5\">\n",
              "    <div class=\"colab-df-container\">\n",
              "      <div>\n",
              "<style scoped>\n",
              "    .dataframe tbody tr th:only-of-type {\n",
              "        vertical-align: middle;\n",
              "    }\n",
              "\n",
              "    .dataframe tbody tr th {\n",
              "        vertical-align: top;\n",
              "    }\n",
              "\n",
              "    .dataframe thead th {\n",
              "        text-align: right;\n",
              "    }\n",
              "</style>\n",
              "<table border=\"1\" class=\"dataframe\">\n",
              "  <thead>\n",
              "    <tr style=\"text-align: right;\">\n",
              "      <th></th>\n",
              "      <th>Accuracy</th>\n",
              "      <th>Recall</th>\n",
              "      <th>Precision</th>\n",
              "      <th>F1</th>\n",
              "    </tr>\n",
              "  </thead>\n",
              "  <tbody>\n",
              "    <tr>\n",
              "      <th>0</th>\n",
              "      <td>0.998767</td>\n",
              "      <td>0.999832</td>\n",
              "      <td>0.998324</td>\n",
              "      <td>0.999077</td>\n",
              "    </tr>\n",
              "  </tbody>\n",
              "</table>\n",
              "</div>\n",
              "      <button class=\"colab-df-convert\" onclick=\"convertToInteractive('df-cfa57df8-2148-4d35-a19d-22317963bed5')\"\n",
              "              title=\"Convert this dataframe to an interactive table.\"\n",
              "              style=\"display:none;\">\n",
              "        \n",
              "  <svg xmlns=\"http://www.w3.org/2000/svg\" height=\"24px\"viewBox=\"0 0 24 24\"\n",
              "       width=\"24px\">\n",
              "    <path d=\"M0 0h24v24H0V0z\" fill=\"none\"/>\n",
              "    <path d=\"M18.56 5.44l.94 2.06.94-2.06 2.06-.94-2.06-.94-.94-2.06-.94 2.06-2.06.94zm-11 1L8.5 8.5l.94-2.06 2.06-.94-2.06-.94L8.5 2.5l-.94 2.06-2.06.94zm10 10l.94 2.06.94-2.06 2.06-.94-2.06-.94-.94-2.06-.94 2.06-2.06.94z\"/><path d=\"M17.41 7.96l-1.37-1.37c-.4-.4-.92-.59-1.43-.59-.52 0-1.04.2-1.43.59L10.3 9.45l-7.72 7.72c-.78.78-.78 2.05 0 2.83L4 21.41c.39.39.9.59 1.41.59.51 0 1.02-.2 1.41-.59l7.78-7.78 2.81-2.81c.8-.78.8-2.07 0-2.86zM5.41 20L4 18.59l7.72-7.72 1.47 1.35L5.41 20z\"/>\n",
              "  </svg>\n",
              "      </button>\n",
              "      \n",
              "  <style>\n",
              "    .colab-df-container {\n",
              "      display:flex;\n",
              "      flex-wrap:wrap;\n",
              "      gap: 12px;\n",
              "    }\n",
              "\n",
              "    .colab-df-convert {\n",
              "      background-color: #E8F0FE;\n",
              "      border: none;\n",
              "      border-radius: 50%;\n",
              "      cursor: pointer;\n",
              "      display: none;\n",
              "      fill: #1967D2;\n",
              "      height: 32px;\n",
              "      padding: 0 0 0 0;\n",
              "      width: 32px;\n",
              "    }\n",
              "\n",
              "    .colab-df-convert:hover {\n",
              "      background-color: #E2EBFA;\n",
              "      box-shadow: 0px 1px 2px rgba(60, 64, 67, 0.3), 0px 1px 3px 1px rgba(60, 64, 67, 0.15);\n",
              "      fill: #174EA6;\n",
              "    }\n",
              "\n",
              "    [theme=dark] .colab-df-convert {\n",
              "      background-color: #3B4455;\n",
              "      fill: #D2E3FC;\n",
              "    }\n",
              "\n",
              "    [theme=dark] .colab-df-convert:hover {\n",
              "      background-color: #434B5C;\n",
              "      box-shadow: 0px 1px 3px 1px rgba(0, 0, 0, 0.15);\n",
              "      filter: drop-shadow(0px 1px 2px rgba(0, 0, 0, 0.3));\n",
              "      fill: #FFFFFF;\n",
              "    }\n",
              "  </style>\n",
              "\n",
              "      <script>\n",
              "        const buttonEl =\n",
              "          document.querySelector('#df-cfa57df8-2148-4d35-a19d-22317963bed5 button.colab-df-convert');\n",
              "        buttonEl.style.display =\n",
              "          google.colab.kernel.accessAllowed ? 'block' : 'none';\n",
              "\n",
              "        async function convertToInteractive(key) {\n",
              "          const element = document.querySelector('#df-cfa57df8-2148-4d35-a19d-22317963bed5');\n",
              "          const dataTable =\n",
              "            await google.colab.kernel.invokeFunction('convertToInteractive',\n",
              "                                                     [key], {});\n",
              "          if (!dataTable) return;\n",
              "\n",
              "          const docLinkHtml = 'Like what you see? Visit the ' +\n",
              "            '<a target=\"_blank\" href=https://colab.research.google.com/notebooks/data_table.ipynb>data table notebook</a>'\n",
              "            + ' to learn more about interactive tables.';\n",
              "          element.innerHTML = '';\n",
              "          dataTable['output_type'] = 'display_data';\n",
              "          await google.colab.output.renderOutput(dataTable, element);\n",
              "          const docLink = document.createElement('div');\n",
              "          docLink.innerHTML = docLinkHtml;\n",
              "          element.appendChild(docLink);\n",
              "        }\n",
              "      </script>\n",
              "    </div>\n",
              "  </div>\n",
              "  "
            ]
          },
          "metadata": {},
          "execution_count": 80
        }
      ]
    },
    {
      "cell_type": "markdown",
      "source": [
        "##Random Forest model"
      ],
      "metadata": {
        "id": "fkwfEcDSQY0k"
      },
      "id": "fkwfEcDSQY0k"
    },
    {
      "cell_type": "code",
      "source": [
        "rf_estimator = RandomForestClassifier(class_weight=\"balanced\", random_state=1)\n",
        "rf_estimator.fit(X_train,y_train)"
      ],
      "metadata": {
        "colab": {
          "base_uri": "https://localhost:8080/",
          "height": 72
        },
        "id": "UX_3AsDmQiVL",
        "outputId": "f16d3847-1362-4524-af3e-4a8750087101"
      },
      "id": "UX_3AsDmQiVL",
      "execution_count": null,
      "outputs": [
        {
          "output_type": "execute_result",
          "data": {
            "text/plain": [
              "RandomForestClassifier(class_weight='balanced', random_state=1)"
            ],
            "text/html": [
              "<style>#sk-container-id-12 {color: black;background-color: white;}#sk-container-id-12 pre{padding: 0;}#sk-container-id-12 div.sk-toggleable {background-color: white;}#sk-container-id-12 label.sk-toggleable__label {cursor: pointer;display: block;width: 100%;margin-bottom: 0;padding: 0.3em;box-sizing: border-box;text-align: center;}#sk-container-id-12 label.sk-toggleable__label-arrow:before {content: \"▸\";float: left;margin-right: 0.25em;color: #696969;}#sk-container-id-12 label.sk-toggleable__label-arrow:hover:before {color: black;}#sk-container-id-12 div.sk-estimator:hover label.sk-toggleable__label-arrow:before {color: black;}#sk-container-id-12 div.sk-toggleable__content {max-height: 0;max-width: 0;overflow: hidden;text-align: left;background-color: #f0f8ff;}#sk-container-id-12 div.sk-toggleable__content pre {margin: 0.2em;color: black;border-radius: 0.25em;background-color: #f0f8ff;}#sk-container-id-12 input.sk-toggleable__control:checked~div.sk-toggleable__content {max-height: 200px;max-width: 100%;overflow: auto;}#sk-container-id-12 input.sk-toggleable__control:checked~label.sk-toggleable__label-arrow:before {content: \"▾\";}#sk-container-id-12 div.sk-estimator input.sk-toggleable__control:checked~label.sk-toggleable__label {background-color: #d4ebff;}#sk-container-id-12 div.sk-label input.sk-toggleable__control:checked~label.sk-toggleable__label {background-color: #d4ebff;}#sk-container-id-12 input.sk-hidden--visually {border: 0;clip: rect(1px 1px 1px 1px);clip: rect(1px, 1px, 1px, 1px);height: 1px;margin: -1px;overflow: hidden;padding: 0;position: absolute;width: 1px;}#sk-container-id-12 div.sk-estimator {font-family: monospace;background-color: #f0f8ff;border: 1px dotted black;border-radius: 0.25em;box-sizing: border-box;margin-bottom: 0.5em;}#sk-container-id-12 div.sk-estimator:hover {background-color: #d4ebff;}#sk-container-id-12 div.sk-parallel-item::after {content: \"\";width: 100%;border-bottom: 1px solid gray;flex-grow: 1;}#sk-container-id-12 div.sk-label:hover label.sk-toggleable__label {background-color: #d4ebff;}#sk-container-id-12 div.sk-serial::before {content: \"\";position: absolute;border-left: 1px solid gray;box-sizing: border-box;top: 0;bottom: 0;left: 50%;z-index: 0;}#sk-container-id-12 div.sk-serial {display: flex;flex-direction: column;align-items: center;background-color: white;padding-right: 0.2em;padding-left: 0.2em;position: relative;}#sk-container-id-12 div.sk-item {position: relative;z-index: 1;}#sk-container-id-12 div.sk-parallel {display: flex;align-items: stretch;justify-content: center;background-color: white;position: relative;}#sk-container-id-12 div.sk-item::before, #sk-container-id-12 div.sk-parallel-item::before {content: \"\";position: absolute;border-left: 1px solid gray;box-sizing: border-box;top: 0;bottom: 0;left: 50%;z-index: -1;}#sk-container-id-12 div.sk-parallel-item {display: flex;flex-direction: column;z-index: 1;position: relative;background-color: white;}#sk-container-id-12 div.sk-parallel-item:first-child::after {align-self: flex-end;width: 50%;}#sk-container-id-12 div.sk-parallel-item:last-child::after {align-self: flex-start;width: 50%;}#sk-container-id-12 div.sk-parallel-item:only-child::after {width: 0;}#sk-container-id-12 div.sk-dashed-wrapped {border: 1px dashed gray;margin: 0 0.4em 0.5em 0.4em;box-sizing: border-box;padding-bottom: 0.4em;background-color: white;}#sk-container-id-12 div.sk-label label {font-family: monospace;font-weight: bold;display: inline-block;line-height: 1.2em;}#sk-container-id-12 div.sk-label-container {text-align: center;}#sk-container-id-12 div.sk-container {/* jupyter's `normalize.less` sets `[hidden] { display: none; }` but bootstrap.min.css set `[hidden] { display: none !important; }` so we also need the `!important` here to be able to override the default hidden behavior on the sphinx rendered scikit-learn.org. See: https://github.com/scikit-learn/scikit-learn/issues/21755 */display: inline-block !important;position: relative;}#sk-container-id-12 div.sk-text-repr-fallback {display: none;}</style><div id=\"sk-container-id-12\" class=\"sk-top-container\"><div class=\"sk-text-repr-fallback\"><pre>RandomForestClassifier(class_weight=&#x27;balanced&#x27;, random_state=1)</pre><b>In a Jupyter environment, please rerun this cell to show the HTML representation or trust the notebook. <br />On GitHub, the HTML representation is unable to render, please try loading this page with nbviewer.org.</b></div><div class=\"sk-container\" hidden><div class=\"sk-item\"><div class=\"sk-estimator sk-toggleable\"><input class=\"sk-toggleable__control sk-hidden--visually\" id=\"sk-estimator-id-12\" type=\"checkbox\" checked><label for=\"sk-estimator-id-12\" class=\"sk-toggleable__label sk-toggleable__label-arrow\">RandomForestClassifier</label><div class=\"sk-toggleable__content\"><pre>RandomForestClassifier(class_weight=&#x27;balanced&#x27;, random_state=1)</pre></div></div></div></div></div>"
            ]
          },
          "metadata": {},
          "execution_count": 62
        }
      ]
    },
    {
      "cell_type": "code",
      "source": [
        "confusion_matrix_sklearn(rf_estimator,X_test,y_test)"
      ],
      "metadata": {
        "colab": {
          "base_uri": "https://localhost:8080/",
          "height": 278
        },
        "id": "DZEWMt0VTwxi",
        "outputId": "40ea1b7c-4704-4e1f-8ef7-a8b3c051d7ff"
      },
      "id": "DZEWMt0VTwxi",
      "execution_count": null,
      "outputs": [
        {
          "output_type": "display_data",
          "data": {
            "text/plain": [
              "<Figure size 432x288 with 2 Axes>"
            ],
            "image/png": "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\n"
          },
          "metadata": {
            "needs_background": "light"
          }
        }
      ]
    },
    {
      "cell_type": "code",
      "source": [
        "rf_model_test_perf=model_performance_classification_sklearn(rf_estimator,X_test,y_test)\n",
        "print(\"Testing performance \\n\",rf_model_test_perf)"
      ],
      "metadata": {
        "colab": {
          "base_uri": "https://localhost:8080/"
        },
        "id": "5pOB8naoUdfN",
        "outputId": "2a53b2a7-4cd0-4e61-b631-21c2a5587c6d"
      },
      "id": "5pOB8naoUdfN",
      "execution_count": null,
      "outputs": [
        {
          "output_type": "stream",
          "name": "stdout",
          "text": [
            "Testing performance \n",
            "    Accuracy    Recall  Precision       F1\n",
            "0  0.723312  0.843095   0.766109  0.80276\n"
          ]
        }
      ]
    },
    {
      "cell_type": "code",
      "source": [
        "confusion_matrix_sklearn(rf_estimator,X_train,y_train)"
      ],
      "metadata": {
        "colab": {
          "base_uri": "https://localhost:8080/",
          "height": 278
        },
        "id": "H6PfUuFzUTvy",
        "outputId": "75de9244-c253-42d7-91b7-c60322624867"
      },
      "id": "H6PfUuFzUTvy",
      "execution_count": null,
      "outputs": [
        {
          "output_type": "display_data",
          "data": {
            "text/plain": [
              "<Figure size 432x288 with 2 Axes>"
            ],
            "image/png": "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\n"
          },
          "metadata": {
            "needs_background": "light"
          }
        }
      ]
    },
    {
      "cell_type": "code",
      "source": [
        "rf_model_train_perf=model_performance_classification_sklearn(rf_estimator,X_train,y_train)\n",
        "print(\"Training performance \\n\",rf_model_train_perf)"
      ],
      "metadata": {
        "colab": {
          "base_uri": "https://localhost:8080/"
        },
        "id": "OcE76_uIUA3J",
        "outputId": "e87d7985-d371-4392-bc84-30129c6a6a80"
      },
      "id": "OcE76_uIUA3J",
      "execution_count": null,
      "outputs": [
        {
          "output_type": "stream",
          "name": "stdout",
          "text": [
            "Training performance \n",
            "    Accuracy    Recall  Precision        F1\n",
            "0  0.729816  0.910602   0.742912  0.818254\n"
          ]
        }
      ]
    },
    {
      "cell_type": "markdown",
      "source": [
        "\n",
        "\n",
        "*   Random forest model has the highest F1 score so far but is still overfitiing the data like the others.\n",
        "\n"
      ],
      "metadata": {
        "id": "s9xVmhfqUq0j"
      },
      "id": "s9xVmhfqUq0j"
    },
    {
      "cell_type": "markdown",
      "source": [
        "# Tuning random forest\n",
        "\n"
      ],
      "metadata": {
        "id": "bwaXX2Q3yDks"
      },
      "id": "bwaXX2Q3yDks"
    },
    {
      "cell_type": "code",
      "source": [
        "rf_estimator = RandomForestClassifier(random_state=1)\n",
        "\n",
        "parameters = {\"n_estimators\": np.arange(10, 40, 10),\n",
        "              \"min_samples_leaf\": np.arange(5, 10),\n",
        "              \"min_samples_split\": [3, 5, 7],\n",
        "              \"max_features\": [\"sqrt\", \"log2\"],\n",
        "              \"max_samples\": np.arange(0.3, 0.7, 0.1),\n",
        "}\n",
        "\n",
        "rand_rf = RandomizedSearchCV(rf_estimator, parameters, scoring='f1', cv=5, n_jobs=-1, random_state=1)\n",
        "rand_rf = grid_obj.fit(X_train, y_train)\n",
        "\n",
        "rf_estimator = rand_rf.best_estimator_\n",
        "\n",
        "rf_estimator.fit(X_train, y_train)"
      ],
      "metadata": {
        "colab": {
          "base_uri": "https://localhost:8080/",
          "height": 105
        },
        "id": "4N_a6yz8yDNj",
        "outputId": "aab9f283-b56f-40a1-badd-029710b44332"
      },
      "id": "4N_a6yz8yDNj",
      "execution_count": null,
      "outputs": [
        {
          "output_type": "execute_result",
          "data": {
            "text/plain": [
              "DecisionTreeClassifier(max_depth=5, max_leaf_nodes=4,\n",
              "                       min_impurity_decrease=0.0001, min_samples_leaf=3,\n",
              "                       random_state=1)"
            ],
            "text/html": [
              "<style>#sk-container-id-7 {color: black;background-color: white;}#sk-container-id-7 pre{padding: 0;}#sk-container-id-7 div.sk-toggleable {background-color: white;}#sk-container-id-7 label.sk-toggleable__label {cursor: pointer;display: block;width: 100%;margin-bottom: 0;padding: 0.3em;box-sizing: border-box;text-align: center;}#sk-container-id-7 label.sk-toggleable__label-arrow:before {content: \"▸\";float: left;margin-right: 0.25em;color: #696969;}#sk-container-id-7 label.sk-toggleable__label-arrow:hover:before {color: black;}#sk-container-id-7 div.sk-estimator:hover label.sk-toggleable__label-arrow:before {color: black;}#sk-container-id-7 div.sk-toggleable__content {max-height: 0;max-width: 0;overflow: hidden;text-align: left;background-color: #f0f8ff;}#sk-container-id-7 div.sk-toggleable__content pre {margin: 0.2em;color: black;border-radius: 0.25em;background-color: #f0f8ff;}#sk-container-id-7 input.sk-toggleable__control:checked~div.sk-toggleable__content {max-height: 200px;max-width: 100%;overflow: auto;}#sk-container-id-7 input.sk-toggleable__control:checked~label.sk-toggleable__label-arrow:before {content: \"▾\";}#sk-container-id-7 div.sk-estimator input.sk-toggleable__control:checked~label.sk-toggleable__label {background-color: #d4ebff;}#sk-container-id-7 div.sk-label input.sk-toggleable__control:checked~label.sk-toggleable__label {background-color: #d4ebff;}#sk-container-id-7 input.sk-hidden--visually {border: 0;clip: rect(1px 1px 1px 1px);clip: rect(1px, 1px, 1px, 1px);height: 1px;margin: -1px;overflow: hidden;padding: 0;position: absolute;width: 1px;}#sk-container-id-7 div.sk-estimator {font-family: monospace;background-color: #f0f8ff;border: 1px dotted black;border-radius: 0.25em;box-sizing: border-box;margin-bottom: 0.5em;}#sk-container-id-7 div.sk-estimator:hover {background-color: #d4ebff;}#sk-container-id-7 div.sk-parallel-item::after {content: \"\";width: 100%;border-bottom: 1px solid gray;flex-grow: 1;}#sk-container-id-7 div.sk-label:hover label.sk-toggleable__label {background-color: #d4ebff;}#sk-container-id-7 div.sk-serial::before {content: \"\";position: absolute;border-left: 1px solid gray;box-sizing: border-box;top: 0;bottom: 0;left: 50%;z-index: 0;}#sk-container-id-7 div.sk-serial {display: flex;flex-direction: column;align-items: center;background-color: white;padding-right: 0.2em;padding-left: 0.2em;position: relative;}#sk-container-id-7 div.sk-item {position: relative;z-index: 1;}#sk-container-id-7 div.sk-parallel {display: flex;align-items: stretch;justify-content: center;background-color: white;position: relative;}#sk-container-id-7 div.sk-item::before, #sk-container-id-7 div.sk-parallel-item::before {content: \"\";position: absolute;border-left: 1px solid gray;box-sizing: border-box;top: 0;bottom: 0;left: 50%;z-index: -1;}#sk-container-id-7 div.sk-parallel-item {display: flex;flex-direction: column;z-index: 1;position: relative;background-color: white;}#sk-container-id-7 div.sk-parallel-item:first-child::after {align-self: flex-end;width: 50%;}#sk-container-id-7 div.sk-parallel-item:last-child::after {align-self: flex-start;width: 50%;}#sk-container-id-7 div.sk-parallel-item:only-child::after {width: 0;}#sk-container-id-7 div.sk-dashed-wrapped {border: 1px dashed gray;margin: 0 0.4em 0.5em 0.4em;box-sizing: border-box;padding-bottom: 0.4em;background-color: white;}#sk-container-id-7 div.sk-label label {font-family: monospace;font-weight: bold;display: inline-block;line-height: 1.2em;}#sk-container-id-7 div.sk-label-container {text-align: center;}#sk-container-id-7 div.sk-container {/* jupyter's `normalize.less` sets `[hidden] { display: none; }` but bootstrap.min.css set `[hidden] { display: none !important; }` so we also need the `!important` here to be able to override the default hidden behavior on the sphinx rendered scikit-learn.org. See: https://github.com/scikit-learn/scikit-learn/issues/21755 */display: inline-block !important;position: relative;}#sk-container-id-7 div.sk-text-repr-fallback {display: none;}</style><div id=\"sk-container-id-7\" class=\"sk-top-container\"><div class=\"sk-text-repr-fallback\"><pre>DecisionTreeClassifier(max_depth=5, max_leaf_nodes=4,\n",
              "                       min_impurity_decrease=0.0001, min_samples_leaf=3,\n",
              "                       random_state=1)</pre><b>In a Jupyter environment, please rerun this cell to show the HTML representation or trust the notebook. <br />On GitHub, the HTML representation is unable to render, please try loading this page with nbviewer.org.</b></div><div class=\"sk-container\" hidden><div class=\"sk-item\"><div class=\"sk-estimator sk-toggleable\"><input class=\"sk-toggleable__control sk-hidden--visually\" id=\"sk-estimator-id-7\" type=\"checkbox\" checked><label for=\"sk-estimator-id-7\" class=\"sk-toggleable__label sk-toggleable__label-arrow\">DecisionTreeClassifier</label><div class=\"sk-toggleable__content\"><pre>DecisionTreeClassifier(max_depth=5, max_leaf_nodes=4,\n",
              "                       min_impurity_decrease=0.0001, min_samples_leaf=3,\n",
              "                       random_state=1)</pre></div></div></div></div></div>"
            ]
          },
          "metadata": {},
          "execution_count": 35
        }
      ]
    },
    {
      "cell_type": "code",
      "source": [
        "rf_tuned_model_train_perf=model_performance_classification_sklearn(rf_estimator,X_train,y_train)\n",
        "print(\"Training performance \\n\",rf_model_train_perf)"
      ],
      "metadata": {
        "colab": {
          "base_uri": "https://localhost:8080/"
        },
        "id": "CrLsBWamQGx7",
        "outputId": "c6193792-1f35-4ecf-b7e4-915556e4a47a"
      },
      "id": "CrLsBWamQGx7",
      "execution_count": null,
      "outputs": [
        {
          "output_type": "stream",
          "name": "stdout",
          "text": [
            "Training performance \n",
            "    Accuracy    Recall  Precision        F1\n",
            "0  0.729816  0.910602   0.742912  0.818254\n"
          ]
        }
      ]
    },
    {
      "cell_type": "markdown",
      "id": "prime-athletics",
      "metadata": {
        "id": "prime-athletics"
      },
      "source": [
        "##  Adaboost model"
      ]
    },
    {
      "cell_type": "code",
      "source": [
        "ab_classifier = AdaBoostClassifier(random_state=1)\n",
        "ab_classifier.fit(X_train,y_train)\n"
      ],
      "metadata": {
        "colab": {
          "base_uri": "https://localhost:8080/",
          "height": 72
        },
        "id": "yiTNtOUUgZu8",
        "outputId": "d2881b81-12a1-42d7-bbc1-0fc8dc3c5e07"
      },
      "id": "yiTNtOUUgZu8",
      "execution_count": null,
      "outputs": [
        {
          "output_type": "execute_result",
          "data": {
            "text/plain": [
              "AdaBoostClassifier(random_state=1)"
            ],
            "text/html": [
              "<style>#sk-container-id-4 {color: black;background-color: white;}#sk-container-id-4 pre{padding: 0;}#sk-container-id-4 div.sk-toggleable {background-color: white;}#sk-container-id-4 label.sk-toggleable__label {cursor: pointer;display: block;width: 100%;margin-bottom: 0;padding: 0.3em;box-sizing: border-box;text-align: center;}#sk-container-id-4 label.sk-toggleable__label-arrow:before {content: \"▸\";float: left;margin-right: 0.25em;color: #696969;}#sk-container-id-4 label.sk-toggleable__label-arrow:hover:before {color: black;}#sk-container-id-4 div.sk-estimator:hover label.sk-toggleable__label-arrow:before {color: black;}#sk-container-id-4 div.sk-toggleable__content {max-height: 0;max-width: 0;overflow: hidden;text-align: left;background-color: #f0f8ff;}#sk-container-id-4 div.sk-toggleable__content pre {margin: 0.2em;color: black;border-radius: 0.25em;background-color: #f0f8ff;}#sk-container-id-4 input.sk-toggleable__control:checked~div.sk-toggleable__content {max-height: 200px;max-width: 100%;overflow: auto;}#sk-container-id-4 input.sk-toggleable__control:checked~label.sk-toggleable__label-arrow:before {content: \"▾\";}#sk-container-id-4 div.sk-estimator input.sk-toggleable__control:checked~label.sk-toggleable__label {background-color: #d4ebff;}#sk-container-id-4 div.sk-label input.sk-toggleable__control:checked~label.sk-toggleable__label {background-color: #d4ebff;}#sk-container-id-4 input.sk-hidden--visually {border: 0;clip: rect(1px 1px 1px 1px);clip: rect(1px, 1px, 1px, 1px);height: 1px;margin: -1px;overflow: hidden;padding: 0;position: absolute;width: 1px;}#sk-container-id-4 div.sk-estimator {font-family: monospace;background-color: #f0f8ff;border: 1px dotted black;border-radius: 0.25em;box-sizing: border-box;margin-bottom: 0.5em;}#sk-container-id-4 div.sk-estimator:hover {background-color: #d4ebff;}#sk-container-id-4 div.sk-parallel-item::after {content: \"\";width: 100%;border-bottom: 1px solid gray;flex-grow: 1;}#sk-container-id-4 div.sk-label:hover label.sk-toggleable__label {background-color: #d4ebff;}#sk-container-id-4 div.sk-serial::before {content: \"\";position: absolute;border-left: 1px solid gray;box-sizing: border-box;top: 0;bottom: 0;left: 50%;z-index: 0;}#sk-container-id-4 div.sk-serial {display: flex;flex-direction: column;align-items: center;background-color: white;padding-right: 0.2em;padding-left: 0.2em;position: relative;}#sk-container-id-4 div.sk-item {position: relative;z-index: 1;}#sk-container-id-4 div.sk-parallel {display: flex;align-items: stretch;justify-content: center;background-color: white;position: relative;}#sk-container-id-4 div.sk-item::before, #sk-container-id-4 div.sk-parallel-item::before {content: \"\";position: absolute;border-left: 1px solid gray;box-sizing: border-box;top: 0;bottom: 0;left: 50%;z-index: -1;}#sk-container-id-4 div.sk-parallel-item {display: flex;flex-direction: column;z-index: 1;position: relative;background-color: white;}#sk-container-id-4 div.sk-parallel-item:first-child::after {align-self: flex-end;width: 50%;}#sk-container-id-4 div.sk-parallel-item:last-child::after {align-self: flex-start;width: 50%;}#sk-container-id-4 div.sk-parallel-item:only-child::after {width: 0;}#sk-container-id-4 div.sk-dashed-wrapped {border: 1px dashed gray;margin: 0 0.4em 0.5em 0.4em;box-sizing: border-box;padding-bottom: 0.4em;background-color: white;}#sk-container-id-4 div.sk-label label {font-family: monospace;font-weight: bold;display: inline-block;line-height: 1.2em;}#sk-container-id-4 div.sk-label-container {text-align: center;}#sk-container-id-4 div.sk-container {/* jupyter's `normalize.less` sets `[hidden] { display: none; }` but bootstrap.min.css set `[hidden] { display: none !important; }` so we also need the `!important` here to be able to override the default hidden behavior on the sphinx rendered scikit-learn.org. See: https://github.com/scikit-learn/scikit-learn/issues/21755 */display: inline-block !important;position: relative;}#sk-container-id-4 div.sk-text-repr-fallback {display: none;}</style><div id=\"sk-container-id-4\" class=\"sk-top-container\"><div class=\"sk-text-repr-fallback\"><pre>AdaBoostClassifier(random_state=1)</pre><b>In a Jupyter environment, please rerun this cell to show the HTML representation or trust the notebook. <br />On GitHub, the HTML representation is unable to render, please try loading this page with nbviewer.org.</b></div><div class=\"sk-container\" hidden><div class=\"sk-item\"><div class=\"sk-estimator sk-toggleable\"><input class=\"sk-toggleable__control sk-hidden--visually\" id=\"sk-estimator-id-4\" type=\"checkbox\" checked><label for=\"sk-estimator-id-4\" class=\"sk-toggleable__label sk-toggleable__label-arrow\">AdaBoostClassifier</label><div class=\"sk-toggleable__content\"><pre>AdaBoostClassifier(random_state=1)</pre></div></div></div></div></div>"
            ]
          },
          "metadata": {},
          "execution_count": 28
        }
      ]
    },
    {
      "cell_type": "code",
      "execution_count": null,
      "id": "banned-difficulty",
      "metadata": {
        "id": "banned-difficulty",
        "colab": {
          "base_uri": "https://localhost:8080/",
          "height": 281
        },
        "outputId": "1fad83fe-8e01-4fe1-eb7e-4904da3101f6"
      },
      "outputs": [
        {
          "output_type": "display_data",
          "data": {
            "text/plain": [
              "<Figure size 432x288 with 2 Axes>"
            ],
            "image/png": "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\n"
          },
          "metadata": {
            "needs_background": "light"
          }
        }
      ],
      "source": [
        "confusion_matrix_sklearn(ab_classifier, X_test,y_test)"
      ]
    },
    {
      "cell_type": "code",
      "source": [
        "ab_classifier_model_test_perf = model_performance_classification_sklearn(ab_classifier,X_test,y_test)\n",
        "print(\"Testing performance \\n\",ab_classifier_model_test_perf)"
      ],
      "metadata": {
        "colab": {
          "base_uri": "https://localhost:8080/"
        },
        "id": "lC4uWZ-VYeGA",
        "outputId": "ec396629-1e2b-467d-b38a-f37b1885bbe8"
      },
      "id": "lC4uWZ-VYeGA",
      "execution_count": null,
      "outputs": [
        {
          "output_type": "stream",
          "name": "stdout",
          "text": [
            "Testing performance \n",
            "    Accuracy    Recall  Precision        F1\n",
            "0  0.732993  0.885015    0.75653  0.815744\n"
          ]
        }
      ]
    },
    {
      "cell_type": "code",
      "source": [
        "confusion_matrix_sklearn(ab_classifier, X_train,y_train)"
      ],
      "metadata": {
        "colab": {
          "base_uri": "https://localhost:8080/",
          "height": 278
        },
        "id": "Aow3eEtFYge4",
        "outputId": "657759e8-000a-4390-83df-d29eb919d194"
      },
      "id": "Aow3eEtFYge4",
      "execution_count": null,
      "outputs": [
        {
          "output_type": "display_data",
          "data": {
            "text/plain": [
              "<Figure size 432x288 with 2 Axes>"
            ],
            "image/png": "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\n"
          },
          "metadata": {
            "needs_background": "light"
          }
        }
      ]
    },
    {
      "cell_type": "code",
      "source": [
        "ab_classifier_model_train_perf = model_performance_classification_sklearn(ab_classifier,X_train,y_train)\n",
        "print(\"Training performance \\n\",ab_classifier_model_train_perf)"
      ],
      "metadata": {
        "colab": {
          "base_uri": "https://localhost:8080/"
        },
        "id": "q79aY_fuYoen",
        "outputId": "1bcde373-f04f-4f75-b30c-4d5ed3eac15c"
      },
      "id": "q79aY_fuYoen",
      "execution_count": null,
      "outputs": [
        {
          "output_type": "stream",
          "name": "stdout",
          "text": [
            "Training performance \n",
            "    Accuracy    Recall  Precision        F1\n",
            "0  0.738058  0.887434   0.760411  0.819027\n"
          ]
        }
      ]
    },
    {
      "cell_type": "markdown",
      "source": [
        "\n",
        "\n",
        "*   Adaboost classifier performs very eual in regards to their testing and trainings datasets, meaning the model is not overfit\n",
        "*   Best F1 score out of every model so far for testing data\n",
        "\n"
      ],
      "metadata": {
        "id": "1EruYbkRZIdd"
      },
      "id": "1EruYbkRZIdd"
    },
    {
      "cell_type": "markdown",
      "source": [
        "# Adaboost tuning"
      ],
      "metadata": {
        "id": "GORUKbi2yRS1"
      },
      "id": "GORUKbi2yRS1"
    },
    {
      "cell_type": "code",
      "source": [
        "ab_tuned = AdaBoostClassifier(random_state=1)\n",
        "\n",
        "parameters = {\n",
        "    \"base_estimator\":[DecisionTreeClassifier(max_depth=1, random_state=1, class_weight='balanced'),\n",
        "                      DecisionTreeClassifier(max_depth=2, random_state=1, class_weight='balanced'),\n",
        "                      DecisionTreeClassifier(max_depth=3, random_state=1, class_weight='balanced')],\n",
        "    \"n_estimators\": np.arange(10,110,10),\n",
        "    \"learning_rate\":np.arange(0.1,2,0.1)\n",
        "}\n",
        "\n",
        "acc_scorer = metrics.make_scorer(metrics.f1_score)\n",
        "\n",
        "rand_abc = RandomizedSearchCV(ab_tuned, parameters, scoring=acc_scorer,cv=5, n_jobs=-1, random_state=1)\n",
        "rand_abc = rand_abc.fit(X_train, y_train)\n",
        "\n",
        "abc_tuned = rand_abc.best_estimator_\n",
        "\n",
        "abc_tuned.fit(X_train, y_train)"
      ],
      "metadata": {
        "colab": {
          "base_uri": "https://localhost:8080/",
          "height": 116
        },
        "id": "rKkbZlK2yZ3f",
        "outputId": "373c2e75-8d7f-43cf-a6e1-b05af2839390"
      },
      "id": "rKkbZlK2yZ3f",
      "execution_count": null,
      "outputs": [
        {
          "output_type": "execute_result",
          "data": {
            "text/plain": [
              "AdaBoostClassifier(base_estimator=DecisionTreeClassifier(class_weight='balanced',\n",
              "                                                         max_depth=1,\n",
              "                                                         random_state=1),\n",
              "                   learning_rate=0.5, n_estimators=20, random_state=1)"
            ],
            "text/html": [
              "<style>#sk-container-id-13 {color: black;background-color: white;}#sk-container-id-13 pre{padding: 0;}#sk-container-id-13 div.sk-toggleable {background-color: white;}#sk-container-id-13 label.sk-toggleable__label {cursor: pointer;display: block;width: 100%;margin-bottom: 0;padding: 0.3em;box-sizing: border-box;text-align: center;}#sk-container-id-13 label.sk-toggleable__label-arrow:before {content: \"▸\";float: left;margin-right: 0.25em;color: #696969;}#sk-container-id-13 label.sk-toggleable__label-arrow:hover:before {color: black;}#sk-container-id-13 div.sk-estimator:hover label.sk-toggleable__label-arrow:before {color: black;}#sk-container-id-13 div.sk-toggleable__content {max-height: 0;max-width: 0;overflow: hidden;text-align: left;background-color: #f0f8ff;}#sk-container-id-13 div.sk-toggleable__content pre {margin: 0.2em;color: black;border-radius: 0.25em;background-color: #f0f8ff;}#sk-container-id-13 input.sk-toggleable__control:checked~div.sk-toggleable__content {max-height: 200px;max-width: 100%;overflow: auto;}#sk-container-id-13 input.sk-toggleable__control:checked~label.sk-toggleable__label-arrow:before {content: \"▾\";}#sk-container-id-13 div.sk-estimator input.sk-toggleable__control:checked~label.sk-toggleable__label {background-color: #d4ebff;}#sk-container-id-13 div.sk-label input.sk-toggleable__control:checked~label.sk-toggleable__label {background-color: #d4ebff;}#sk-container-id-13 input.sk-hidden--visually {border: 0;clip: rect(1px 1px 1px 1px);clip: rect(1px, 1px, 1px, 1px);height: 1px;margin: -1px;overflow: hidden;padding: 0;position: absolute;width: 1px;}#sk-container-id-13 div.sk-estimator {font-family: monospace;background-color: #f0f8ff;border: 1px dotted black;border-radius: 0.25em;box-sizing: border-box;margin-bottom: 0.5em;}#sk-container-id-13 div.sk-estimator:hover {background-color: #d4ebff;}#sk-container-id-13 div.sk-parallel-item::after {content: \"\";width: 100%;border-bottom: 1px solid gray;flex-grow: 1;}#sk-container-id-13 div.sk-label:hover label.sk-toggleable__label {background-color: #d4ebff;}#sk-container-id-13 div.sk-serial::before {content: \"\";position: absolute;border-left: 1px solid gray;box-sizing: border-box;top: 0;bottom: 0;left: 50%;z-index: 0;}#sk-container-id-13 div.sk-serial {display: flex;flex-direction: column;align-items: center;background-color: white;padding-right: 0.2em;padding-left: 0.2em;position: relative;}#sk-container-id-13 div.sk-item {position: relative;z-index: 1;}#sk-container-id-13 div.sk-parallel {display: flex;align-items: stretch;justify-content: center;background-color: white;position: relative;}#sk-container-id-13 div.sk-item::before, #sk-container-id-13 div.sk-parallel-item::before {content: \"\";position: absolute;border-left: 1px solid gray;box-sizing: border-box;top: 0;bottom: 0;left: 50%;z-index: -1;}#sk-container-id-13 div.sk-parallel-item {display: flex;flex-direction: column;z-index: 1;position: relative;background-color: white;}#sk-container-id-13 div.sk-parallel-item:first-child::after {align-self: flex-end;width: 50%;}#sk-container-id-13 div.sk-parallel-item:last-child::after {align-self: flex-start;width: 50%;}#sk-container-id-13 div.sk-parallel-item:only-child::after {width: 0;}#sk-container-id-13 div.sk-dashed-wrapped {border: 1px dashed gray;margin: 0 0.4em 0.5em 0.4em;box-sizing: border-box;padding-bottom: 0.4em;background-color: white;}#sk-container-id-13 div.sk-label label {font-family: monospace;font-weight: bold;display: inline-block;line-height: 1.2em;}#sk-container-id-13 div.sk-label-container {text-align: center;}#sk-container-id-13 div.sk-container {/* jupyter's `normalize.less` sets `[hidden] { display: none; }` but bootstrap.min.css set `[hidden] { display: none !important; }` so we also need the `!important` here to be able to override the default hidden behavior on the sphinx rendered scikit-learn.org. See: https://github.com/scikit-learn/scikit-learn/issues/21755 */display: inline-block !important;position: relative;}#sk-container-id-13 div.sk-text-repr-fallback {display: none;}</style><div id=\"sk-container-id-13\" class=\"sk-top-container\"><div class=\"sk-text-repr-fallback\"><pre>AdaBoostClassifier(base_estimator=DecisionTreeClassifier(class_weight=&#x27;balanced&#x27;,\n",
              "                                                         max_depth=1,\n",
              "                                                         random_state=1),\n",
              "                   learning_rate=0.5, n_estimators=20, random_state=1)</pre><b>In a Jupyter environment, please rerun this cell to show the HTML representation or trust the notebook. <br />On GitHub, the HTML representation is unable to render, please try loading this page with nbviewer.org.</b></div><div class=\"sk-container\" hidden><div class=\"sk-item sk-dashed-wrapped\"><div class=\"sk-label-container\"><div class=\"sk-label sk-toggleable\"><input class=\"sk-toggleable__control sk-hidden--visually\" id=\"sk-estimator-id-13\" type=\"checkbox\" ><label for=\"sk-estimator-id-13\" class=\"sk-toggleable__label sk-toggleable__label-arrow\">AdaBoostClassifier</label><div class=\"sk-toggleable__content\"><pre>AdaBoostClassifier(base_estimator=DecisionTreeClassifier(class_weight=&#x27;balanced&#x27;,\n",
              "                                                         max_depth=1,\n",
              "                                                         random_state=1),\n",
              "                   learning_rate=0.5, n_estimators=20, random_state=1)</pre></div></div></div><div class=\"sk-parallel\"><div class=\"sk-parallel-item\"><div class=\"sk-item\"><div class=\"sk-label-container\"><div class=\"sk-label sk-toggleable\"><input class=\"sk-toggleable__control sk-hidden--visually\" id=\"sk-estimator-id-14\" type=\"checkbox\" ><label for=\"sk-estimator-id-14\" class=\"sk-toggleable__label sk-toggleable__label-arrow\">base_estimator: DecisionTreeClassifier</label><div class=\"sk-toggleable__content\"><pre>DecisionTreeClassifier(class_weight=&#x27;balanced&#x27;, max_depth=1, random_state=1)</pre></div></div></div><div class=\"sk-serial\"><div class=\"sk-item\"><div class=\"sk-estimator sk-toggleable\"><input class=\"sk-toggleable__control sk-hidden--visually\" id=\"sk-estimator-id-15\" type=\"checkbox\" ><label for=\"sk-estimator-id-15\" class=\"sk-toggleable__label sk-toggleable__label-arrow\">DecisionTreeClassifier</label><div class=\"sk-toggleable__content\"><pre>DecisionTreeClassifier(class_weight=&#x27;balanced&#x27;, max_depth=1, random_state=1)</pre></div></div></div></div></div></div></div></div></div></div>"
            ]
          },
          "metadata": {},
          "execution_count": 78
        }
      ]
    },
    {
      "cell_type": "code",
      "source": [
        "abc_tuned_model_train_perf = model_performance_classification_sklearn(abc_tuned,X_train,y_train)\n",
        "print(\"Training performance \\n\",abc_tuned_model_train_perf)"
      ],
      "metadata": {
        "colab": {
          "base_uri": "https://localhost:8080/"
        },
        "id": "XIpTubW9QVM1",
        "outputId": "d565b9e1-d6ee-419f-d73a-8fe74a9555b2"
      },
      "id": "XIpTubW9QVM1",
      "execution_count": null,
      "outputs": [
        {
          "output_type": "stream",
          "name": "stdout",
          "text": [
            "Training performance \n",
            "    Accuracy    Recall  Precision        F1\n",
            "0  0.718603  0.781583   0.793912  0.787699\n"
          ]
        }
      ]
    },
    {
      "cell_type": "code",
      "source": [
        "abc_tuned.fit(X_test, y_test)"
      ],
      "metadata": {
        "colab": {
          "base_uri": "https://localhost:8080/",
          "height": 116
        },
        "id": "J71GSLBJUDpy",
        "outputId": "5156aef4-fa3b-472a-9b3b-07c6beddf44a"
      },
      "id": "J71GSLBJUDpy",
      "execution_count": null,
      "outputs": [
        {
          "output_type": "execute_result",
          "data": {
            "text/plain": [
              "AdaBoostClassifier(base_estimator=DecisionTreeClassifier(class_weight='balanced',\n",
              "                                                         max_depth=1,\n",
              "                                                         random_state=1),\n",
              "                   learning_rate=0.5, n_estimators=20, random_state=1)"
            ],
            "text/html": [
              "<style>#sk-container-id-16 {color: black;background-color: white;}#sk-container-id-16 pre{padding: 0;}#sk-container-id-16 div.sk-toggleable {background-color: white;}#sk-container-id-16 label.sk-toggleable__label {cursor: pointer;display: block;width: 100%;margin-bottom: 0;padding: 0.3em;box-sizing: border-box;text-align: center;}#sk-container-id-16 label.sk-toggleable__label-arrow:before {content: \"▸\";float: left;margin-right: 0.25em;color: #696969;}#sk-container-id-16 label.sk-toggleable__label-arrow:hover:before {color: black;}#sk-container-id-16 div.sk-estimator:hover label.sk-toggleable__label-arrow:before {color: black;}#sk-container-id-16 div.sk-toggleable__content {max-height: 0;max-width: 0;overflow: hidden;text-align: left;background-color: #f0f8ff;}#sk-container-id-16 div.sk-toggleable__content pre {margin: 0.2em;color: black;border-radius: 0.25em;background-color: #f0f8ff;}#sk-container-id-16 input.sk-toggleable__control:checked~div.sk-toggleable__content {max-height: 200px;max-width: 100%;overflow: auto;}#sk-container-id-16 input.sk-toggleable__control:checked~label.sk-toggleable__label-arrow:before {content: \"▾\";}#sk-container-id-16 div.sk-estimator input.sk-toggleable__control:checked~label.sk-toggleable__label {background-color: #d4ebff;}#sk-container-id-16 div.sk-label input.sk-toggleable__control:checked~label.sk-toggleable__label {background-color: #d4ebff;}#sk-container-id-16 input.sk-hidden--visually {border: 0;clip: rect(1px 1px 1px 1px);clip: rect(1px, 1px, 1px, 1px);height: 1px;margin: -1px;overflow: hidden;padding: 0;position: absolute;width: 1px;}#sk-container-id-16 div.sk-estimator {font-family: monospace;background-color: #f0f8ff;border: 1px dotted black;border-radius: 0.25em;box-sizing: border-box;margin-bottom: 0.5em;}#sk-container-id-16 div.sk-estimator:hover {background-color: #d4ebff;}#sk-container-id-16 div.sk-parallel-item::after {content: \"\";width: 100%;border-bottom: 1px solid gray;flex-grow: 1;}#sk-container-id-16 div.sk-label:hover label.sk-toggleable__label {background-color: #d4ebff;}#sk-container-id-16 div.sk-serial::before {content: \"\";position: absolute;border-left: 1px solid gray;box-sizing: border-box;top: 0;bottom: 0;left: 50%;z-index: 0;}#sk-container-id-16 div.sk-serial {display: flex;flex-direction: column;align-items: center;background-color: white;padding-right: 0.2em;padding-left: 0.2em;position: relative;}#sk-container-id-16 div.sk-item {position: relative;z-index: 1;}#sk-container-id-16 div.sk-parallel {display: flex;align-items: stretch;justify-content: center;background-color: white;position: relative;}#sk-container-id-16 div.sk-item::before, #sk-container-id-16 div.sk-parallel-item::before {content: \"\";position: absolute;border-left: 1px solid gray;box-sizing: border-box;top: 0;bottom: 0;left: 50%;z-index: -1;}#sk-container-id-16 div.sk-parallel-item {display: flex;flex-direction: column;z-index: 1;position: relative;background-color: white;}#sk-container-id-16 div.sk-parallel-item:first-child::after {align-self: flex-end;width: 50%;}#sk-container-id-16 div.sk-parallel-item:last-child::after {align-self: flex-start;width: 50%;}#sk-container-id-16 div.sk-parallel-item:only-child::after {width: 0;}#sk-container-id-16 div.sk-dashed-wrapped {border: 1px dashed gray;margin: 0 0.4em 0.5em 0.4em;box-sizing: border-box;padding-bottom: 0.4em;background-color: white;}#sk-container-id-16 div.sk-label label {font-family: monospace;font-weight: bold;display: inline-block;line-height: 1.2em;}#sk-container-id-16 div.sk-label-container {text-align: center;}#sk-container-id-16 div.sk-container {/* jupyter's `normalize.less` sets `[hidden] { display: none; }` but bootstrap.min.css set `[hidden] { display: none !important; }` so we also need the `!important` here to be able to override the default hidden behavior on the sphinx rendered scikit-learn.org. See: https://github.com/scikit-learn/scikit-learn/issues/21755 */display: inline-block !important;position: relative;}#sk-container-id-16 div.sk-text-repr-fallback {display: none;}</style><div id=\"sk-container-id-16\" class=\"sk-top-container\"><div class=\"sk-text-repr-fallback\"><pre>AdaBoostClassifier(base_estimator=DecisionTreeClassifier(class_weight=&#x27;balanced&#x27;,\n",
              "                                                         max_depth=1,\n",
              "                                                         random_state=1),\n",
              "                   learning_rate=0.5, n_estimators=20, random_state=1)</pre><b>In a Jupyter environment, please rerun this cell to show the HTML representation or trust the notebook. <br />On GitHub, the HTML representation is unable to render, please try loading this page with nbviewer.org.</b></div><div class=\"sk-container\" hidden><div class=\"sk-item sk-dashed-wrapped\"><div class=\"sk-label-container\"><div class=\"sk-label sk-toggleable\"><input class=\"sk-toggleable__control sk-hidden--visually\" id=\"sk-estimator-id-18\" type=\"checkbox\" ><label for=\"sk-estimator-id-18\" class=\"sk-toggleable__label sk-toggleable__label-arrow\">AdaBoostClassifier</label><div class=\"sk-toggleable__content\"><pre>AdaBoostClassifier(base_estimator=DecisionTreeClassifier(class_weight=&#x27;balanced&#x27;,\n",
              "                                                         max_depth=1,\n",
              "                                                         random_state=1),\n",
              "                   learning_rate=0.5, n_estimators=20, random_state=1)</pre></div></div></div><div class=\"sk-parallel\"><div class=\"sk-parallel-item\"><div class=\"sk-item\"><div class=\"sk-label-container\"><div class=\"sk-label sk-toggleable\"><input class=\"sk-toggleable__control sk-hidden--visually\" id=\"sk-estimator-id-19\" type=\"checkbox\" ><label for=\"sk-estimator-id-19\" class=\"sk-toggleable__label sk-toggleable__label-arrow\">base_estimator: DecisionTreeClassifier</label><div class=\"sk-toggleable__content\"><pre>DecisionTreeClassifier(class_weight=&#x27;balanced&#x27;, max_depth=1, random_state=1)</pre></div></div></div><div class=\"sk-serial\"><div class=\"sk-item\"><div class=\"sk-estimator sk-toggleable\"><input class=\"sk-toggleable__control sk-hidden--visually\" id=\"sk-estimator-id-20\" type=\"checkbox\" ><label for=\"sk-estimator-id-20\" class=\"sk-toggleable__label sk-toggleable__label-arrow\">DecisionTreeClassifier</label><div class=\"sk-toggleable__content\"><pre>DecisionTreeClassifier(class_weight=&#x27;balanced&#x27;, max_depth=1, random_state=1)</pre></div></div></div></div></div></div></div></div></div></div>"
            ]
          },
          "metadata": {},
          "execution_count": 128
        }
      ]
    },
    {
      "cell_type": "code",
      "source": [
        "abc_tuned_model_test_perf = model_performance_classification_sklearn(abc_tuned,X_test,y_test)\n",
        "print(\"Training performance \\n\",abc_tuned_model_test_perf)"
      ],
      "metadata": {
        "colab": {
          "base_uri": "https://localhost:8080/"
        },
        "id": "OzeAiF5KUN_k",
        "outputId": "adede33f-693e-4222-a0ee-9f8584069eeb"
      },
      "id": "OzeAiF5KUN_k",
      "execution_count": null,
      "outputs": [
        {
          "output_type": "stream",
          "name": "stdout",
          "text": [
            "Training performance \n",
            "    Accuracy    Recall  Precision        F1\n",
            "0  0.712585  0.751616   0.805078  0.777429\n"
          ]
        }
      ]
    },
    {
      "cell_type": "markdown",
      "source": [
        "## Gradient Boosting model"
      ],
      "metadata": {
        "id": "yl8KvaXYY-y9"
      },
      "id": "yl8KvaXYY-y9"
    },
    {
      "cell_type": "code",
      "source": [
        "gb_classifier = GradientBoostingClassifier(random_state=1)\n",
        "gb_classifier.fit(X_train,y_train)"
      ],
      "metadata": {
        "colab": {
          "base_uri": "https://localhost:8080/",
          "height": 72
        },
        "id": "8qQNd7SlZiER",
        "outputId": "1e109772-c493-467e-fd41-cbea13d862c0"
      },
      "id": "8qQNd7SlZiER",
      "execution_count": null,
      "outputs": [
        {
          "output_type": "execute_result",
          "data": {
            "text/plain": [
              "GradientBoostingClassifier(random_state=1)"
            ],
            "text/html": [
              "<style>#sk-container-id-5 {color: black;background-color: white;}#sk-container-id-5 pre{padding: 0;}#sk-container-id-5 div.sk-toggleable {background-color: white;}#sk-container-id-5 label.sk-toggleable__label {cursor: pointer;display: block;width: 100%;margin-bottom: 0;padding: 0.3em;box-sizing: border-box;text-align: center;}#sk-container-id-5 label.sk-toggleable__label-arrow:before {content: \"▸\";float: left;margin-right: 0.25em;color: #696969;}#sk-container-id-5 label.sk-toggleable__label-arrow:hover:before {color: black;}#sk-container-id-5 div.sk-estimator:hover label.sk-toggleable__label-arrow:before {color: black;}#sk-container-id-5 div.sk-toggleable__content {max-height: 0;max-width: 0;overflow: hidden;text-align: left;background-color: #f0f8ff;}#sk-container-id-5 div.sk-toggleable__content pre {margin: 0.2em;color: black;border-radius: 0.25em;background-color: #f0f8ff;}#sk-container-id-5 input.sk-toggleable__control:checked~div.sk-toggleable__content {max-height: 200px;max-width: 100%;overflow: auto;}#sk-container-id-5 input.sk-toggleable__control:checked~label.sk-toggleable__label-arrow:before {content: \"▾\";}#sk-container-id-5 div.sk-estimator input.sk-toggleable__control:checked~label.sk-toggleable__label {background-color: #d4ebff;}#sk-container-id-5 div.sk-label input.sk-toggleable__control:checked~label.sk-toggleable__label {background-color: #d4ebff;}#sk-container-id-5 input.sk-hidden--visually {border: 0;clip: rect(1px 1px 1px 1px);clip: rect(1px, 1px, 1px, 1px);height: 1px;margin: -1px;overflow: hidden;padding: 0;position: absolute;width: 1px;}#sk-container-id-5 div.sk-estimator {font-family: monospace;background-color: #f0f8ff;border: 1px dotted black;border-radius: 0.25em;box-sizing: border-box;margin-bottom: 0.5em;}#sk-container-id-5 div.sk-estimator:hover {background-color: #d4ebff;}#sk-container-id-5 div.sk-parallel-item::after {content: \"\";width: 100%;border-bottom: 1px solid gray;flex-grow: 1;}#sk-container-id-5 div.sk-label:hover label.sk-toggleable__label {background-color: #d4ebff;}#sk-container-id-5 div.sk-serial::before {content: \"\";position: absolute;border-left: 1px solid gray;box-sizing: border-box;top: 0;bottom: 0;left: 50%;z-index: 0;}#sk-container-id-5 div.sk-serial {display: flex;flex-direction: column;align-items: center;background-color: white;padding-right: 0.2em;padding-left: 0.2em;position: relative;}#sk-container-id-5 div.sk-item {position: relative;z-index: 1;}#sk-container-id-5 div.sk-parallel {display: flex;align-items: stretch;justify-content: center;background-color: white;position: relative;}#sk-container-id-5 div.sk-item::before, #sk-container-id-5 div.sk-parallel-item::before {content: \"\";position: absolute;border-left: 1px solid gray;box-sizing: border-box;top: 0;bottom: 0;left: 50%;z-index: -1;}#sk-container-id-5 div.sk-parallel-item {display: flex;flex-direction: column;z-index: 1;position: relative;background-color: white;}#sk-container-id-5 div.sk-parallel-item:first-child::after {align-self: flex-end;width: 50%;}#sk-container-id-5 div.sk-parallel-item:last-child::after {align-self: flex-start;width: 50%;}#sk-container-id-5 div.sk-parallel-item:only-child::after {width: 0;}#sk-container-id-5 div.sk-dashed-wrapped {border: 1px dashed gray;margin: 0 0.4em 0.5em 0.4em;box-sizing: border-box;padding-bottom: 0.4em;background-color: white;}#sk-container-id-5 div.sk-label label {font-family: monospace;font-weight: bold;display: inline-block;line-height: 1.2em;}#sk-container-id-5 div.sk-label-container {text-align: center;}#sk-container-id-5 div.sk-container {/* jupyter's `normalize.less` sets `[hidden] { display: none; }` but bootstrap.min.css set `[hidden] { display: none !important; }` so we also need the `!important` here to be able to override the default hidden behavior on the sphinx rendered scikit-learn.org. See: https://github.com/scikit-learn/scikit-learn/issues/21755 */display: inline-block !important;position: relative;}#sk-container-id-5 div.sk-text-repr-fallback {display: none;}</style><div id=\"sk-container-id-5\" class=\"sk-top-container\"><div class=\"sk-text-repr-fallback\"><pre>GradientBoostingClassifier(random_state=1)</pre><b>In a Jupyter environment, please rerun this cell to show the HTML representation or trust the notebook. <br />On GitHub, the HTML representation is unable to render, please try loading this page with nbviewer.org.</b></div><div class=\"sk-container\" hidden><div class=\"sk-item\"><div class=\"sk-estimator sk-toggleable\"><input class=\"sk-toggleable__control sk-hidden--visually\" id=\"sk-estimator-id-5\" type=\"checkbox\" checked><label for=\"sk-estimator-id-5\" class=\"sk-toggleable__label sk-toggleable__label-arrow\">GradientBoostingClassifier</label><div class=\"sk-toggleable__content\"><pre>GradientBoostingClassifier(random_state=1)</pre></div></div></div></div></div>"
            ]
          },
          "metadata": {},
          "execution_count": 30
        }
      ]
    },
    {
      "cell_type": "code",
      "source": [
        "confusion_matrix_sklearn(gb_classifier, X_train,y_train)"
      ],
      "metadata": {
        "colab": {
          "base_uri": "https://localhost:8080/",
          "height": 278
        },
        "id": "HYboCd8CZx6r",
        "outputId": "05cfed42-8901-4ff4-ebf3-bcb80be3d49b"
      },
      "id": "HYboCd8CZx6r",
      "execution_count": null,
      "outputs": [
        {
          "output_type": "display_data",
          "data": {
            "text/plain": [
              "<Figure size 432x288 with 2 Axes>"
            ],
            "image/png": "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\n"
          },
          "metadata": {
            "needs_background": "light"
          }
        }
      ]
    },
    {
      "cell_type": "code",
      "source": [
        "gb_classifier_model_train_perf = model_performance_classification_sklearn(gb_classifier,X_train,y_train)\n",
        "print(\"Training performance \\n\",gb_classifier_model_train_perf)"
      ],
      "metadata": {
        "colab": {
          "base_uri": "https://localhost:8080/"
        },
        "id": "AswRj84sZ6Tl",
        "outputId": "90062d3f-b10d-4b1e-9d6b-c0ff6bc0828e"
      },
      "id": "AswRj84sZ6Tl",
      "execution_count": null,
      "outputs": [
        {
          "output_type": "stream",
          "name": "stdout",
          "text": [
            "Training performance \n",
            "    Accuracy    Recall  Precision        F1\n",
            "0  0.759419  0.882901   0.784106  0.830576\n"
          ]
        }
      ]
    },
    {
      "cell_type": "code",
      "source": [
        "confusion_matrix_sklearn(gb_classifier, X_test, y_test)"
      ],
      "metadata": {
        "colab": {
          "base_uri": "https://localhost:8080/",
          "height": 278
        },
        "id": "SlmyrOXwaVbi",
        "outputId": "d3ae2488-a570-4259-bedc-9287fb61398f"
      },
      "id": "SlmyrOXwaVbi",
      "execution_count": null,
      "outputs": [
        {
          "output_type": "display_data",
          "data": {
            "text/plain": [
              "<Figure size 432x288 with 2 Axes>"
            ],
            "image/png": "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\n"
          },
          "metadata": {
            "needs_background": "light"
          }
        }
      ]
    },
    {
      "cell_type": "code",
      "source": [
        "gb_classifier_model_test_perf = model_performance_classification_sklearn(gb_classifier,X_test,y_test)\n",
        "print(\"Training performance \\n\",gb_classifier_model_test_perf)"
      ],
      "metadata": {
        "colab": {
          "base_uri": "https://localhost:8080/"
        },
        "id": "f3zHX7Uiac4F",
        "outputId": "2e68e080-fc5f-4dbe-ba07-5b89a7d9a899"
      },
      "id": "f3zHX7Uiac4F",
      "execution_count": null,
      "outputs": [
        {
          "output_type": "stream",
          "name": "stdout",
          "text": [
            "Training performance \n",
            "    Accuracy    Recall  Precision       F1\n",
            "0  0.744636  0.873262   0.773555  0.82039\n"
          ]
        }
      ]
    },
    {
      "cell_type": "markdown",
      "source": [
        "\n",
        "\n",
        "\n",
        "*   Performs better than the Adaboost model above, showing of trend of improvement using the next classifier\n",
        "*   Equally performs on training and testing data, meaning this model is not overfit\n",
        "\n"
      ],
      "metadata": {
        "id": "vwtyqcu6am0J"
      },
      "id": "vwtyqcu6am0J"
    },
    {
      "cell_type": "markdown",
      "source": [
        "# Gradient Boost tuning"
      ],
      "metadata": {
        "id": "ydhMFOFmy1-Q"
      },
      "id": "ydhMFOFmy1-Q"
    },
    {
      "cell_type": "code",
      "source": [
        "gb_tuned = GradientBoostingClassifier(random_state=1)\n",
        "\n",
        "parameters = {\"n_estimators\": [150,200,250,300],\n",
        "              \"subsample\":[0.8,0.9,1],\n",
        "              \"max_features\":[0.7,0.8,0.9,1],\n",
        "              \"learning_rate\": np.arange(0.1, 0.4, 0.1)}\n",
        "\n",
        "scorer = metrics.make_scorer(metrics.f1_score)\n",
        "\n",
        "rand_gb = RandomizedSearchCV(gb_tuned, parameters, scoring=scorer,cv=5, n_jobs=-1, random_state=1)\n",
        "rand_gb = rand_gb.fit(X_train, y_train)\n",
        "\n",
        "gb_tuned = rand_gb.best_estimator_\n",
        "\n",
        "gb_tuned.fit(X_train, y_train)"
      ],
      "metadata": {
        "colab": {
          "base_uri": "https://localhost:8080/",
          "height": 89
        },
        "id": "eik4Kxd0y8KF",
        "outputId": "889ac296-b187-41cf-8d21-9cdc997351b9"
      },
      "id": "eik4Kxd0y8KF",
      "execution_count": null,
      "outputs": [
        {
          "output_type": "execute_result",
          "data": {
            "text/plain": [
              "GradientBoostingClassifier(max_features=0.7, n_estimators=300, random_state=1,\n",
              "                           subsample=1)"
            ],
            "text/html": [
              "<style>#sk-container-id-6 {color: black;background-color: white;}#sk-container-id-6 pre{padding: 0;}#sk-container-id-6 div.sk-toggleable {background-color: white;}#sk-container-id-6 label.sk-toggleable__label {cursor: pointer;display: block;width: 100%;margin-bottom: 0;padding: 0.3em;box-sizing: border-box;text-align: center;}#sk-container-id-6 label.sk-toggleable__label-arrow:before {content: \"▸\";float: left;margin-right: 0.25em;color: #696969;}#sk-container-id-6 label.sk-toggleable__label-arrow:hover:before {color: black;}#sk-container-id-6 div.sk-estimator:hover label.sk-toggleable__label-arrow:before {color: black;}#sk-container-id-6 div.sk-toggleable__content {max-height: 0;max-width: 0;overflow: hidden;text-align: left;background-color: #f0f8ff;}#sk-container-id-6 div.sk-toggleable__content pre {margin: 0.2em;color: black;border-radius: 0.25em;background-color: #f0f8ff;}#sk-container-id-6 input.sk-toggleable__control:checked~div.sk-toggleable__content {max-height: 200px;max-width: 100%;overflow: auto;}#sk-container-id-6 input.sk-toggleable__control:checked~label.sk-toggleable__label-arrow:before {content: \"▾\";}#sk-container-id-6 div.sk-estimator input.sk-toggleable__control:checked~label.sk-toggleable__label {background-color: #d4ebff;}#sk-container-id-6 div.sk-label input.sk-toggleable__control:checked~label.sk-toggleable__label {background-color: #d4ebff;}#sk-container-id-6 input.sk-hidden--visually {border: 0;clip: rect(1px 1px 1px 1px);clip: rect(1px, 1px, 1px, 1px);height: 1px;margin: -1px;overflow: hidden;padding: 0;position: absolute;width: 1px;}#sk-container-id-6 div.sk-estimator {font-family: monospace;background-color: #f0f8ff;border: 1px dotted black;border-radius: 0.25em;box-sizing: border-box;margin-bottom: 0.5em;}#sk-container-id-6 div.sk-estimator:hover {background-color: #d4ebff;}#sk-container-id-6 div.sk-parallel-item::after {content: \"\";width: 100%;border-bottom: 1px solid gray;flex-grow: 1;}#sk-container-id-6 div.sk-label:hover label.sk-toggleable__label {background-color: #d4ebff;}#sk-container-id-6 div.sk-serial::before {content: \"\";position: absolute;border-left: 1px solid gray;box-sizing: border-box;top: 0;bottom: 0;left: 50%;z-index: 0;}#sk-container-id-6 div.sk-serial {display: flex;flex-direction: column;align-items: center;background-color: white;padding-right: 0.2em;padding-left: 0.2em;position: relative;}#sk-container-id-6 div.sk-item {position: relative;z-index: 1;}#sk-container-id-6 div.sk-parallel {display: flex;align-items: stretch;justify-content: center;background-color: white;position: relative;}#sk-container-id-6 div.sk-item::before, #sk-container-id-6 div.sk-parallel-item::before {content: \"\";position: absolute;border-left: 1px solid gray;box-sizing: border-box;top: 0;bottom: 0;left: 50%;z-index: -1;}#sk-container-id-6 div.sk-parallel-item {display: flex;flex-direction: column;z-index: 1;position: relative;background-color: white;}#sk-container-id-6 div.sk-parallel-item:first-child::after {align-self: flex-end;width: 50%;}#sk-container-id-6 div.sk-parallel-item:last-child::after {align-self: flex-start;width: 50%;}#sk-container-id-6 div.sk-parallel-item:only-child::after {width: 0;}#sk-container-id-6 div.sk-dashed-wrapped {border: 1px dashed gray;margin: 0 0.4em 0.5em 0.4em;box-sizing: border-box;padding-bottom: 0.4em;background-color: white;}#sk-container-id-6 div.sk-label label {font-family: monospace;font-weight: bold;display: inline-block;line-height: 1.2em;}#sk-container-id-6 div.sk-label-container {text-align: center;}#sk-container-id-6 div.sk-container {/* jupyter's `normalize.less` sets `[hidden] { display: none; }` but bootstrap.min.css set `[hidden] { display: none !important; }` so we also need the `!important` here to be able to override the default hidden behavior on the sphinx rendered scikit-learn.org. See: https://github.com/scikit-learn/scikit-learn/issues/21755 */display: inline-block !important;position: relative;}#sk-container-id-6 div.sk-text-repr-fallback {display: none;}</style><div id=\"sk-container-id-6\" class=\"sk-top-container\"><div class=\"sk-text-repr-fallback\"><pre>GradientBoostingClassifier(max_features=0.7, n_estimators=300, random_state=1,\n",
              "                           subsample=1)</pre><b>In a Jupyter environment, please rerun this cell to show the HTML representation or trust the notebook. <br />On GitHub, the HTML representation is unable to render, please try loading this page with nbviewer.org.</b></div><div class=\"sk-container\" hidden><div class=\"sk-item\"><div class=\"sk-estimator sk-toggleable\"><input class=\"sk-toggleable__control sk-hidden--visually\" id=\"sk-estimator-id-6\" type=\"checkbox\" checked><label for=\"sk-estimator-id-6\" class=\"sk-toggleable__label sk-toggleable__label-arrow\">GradientBoostingClassifier</label><div class=\"sk-toggleable__content\"><pre>GradientBoostingClassifier(max_features=0.7, n_estimators=300, random_state=1,\n",
              "                           subsample=1)</pre></div></div></div></div></div>"
            ]
          },
          "metadata": {},
          "execution_count": 33
        }
      ]
    },
    {
      "cell_type": "code",
      "source": [
        "gbc_tuned_model_train_perf = model_performance_classification_sklearn(gb_tuned,X_train,y_train)\n",
        "print(\"Training performance \\n\",gb_tuned)"
      ],
      "metadata": {
        "colab": {
          "base_uri": "https://localhost:8080/"
        },
        "id": "mE8EUl6WQsAT",
        "outputId": "737ff615-8245-4041-da4f-ac11736d7919"
      },
      "id": "mE8EUl6WQsAT",
      "execution_count": null,
      "outputs": [
        {
          "output_type": "stream",
          "name": "stdout",
          "text": [
            "Training performance \n",
            " GradientBoostingClassifier(max_features=0.7, n_estimators=300, random_state=1,\n",
            "                           subsample=1)\n"
          ]
        }
      ]
    },
    {
      "cell_type": "code",
      "source": [
        "gb_tuned.fit(X_test, y_test)"
      ],
      "metadata": {
        "colab": {
          "base_uri": "https://localhost:8080/",
          "height": 89
        },
        "id": "kNKRbT9fUdY7",
        "outputId": "ba322dbd-925a-49d5-fea5-b3591b4c90c9"
      },
      "id": "kNKRbT9fUdY7",
      "execution_count": null,
      "outputs": [
        {
          "output_type": "execute_result",
          "data": {
            "text/plain": [
              "GradientBoostingClassifier(max_features=0.7, n_estimators=300, random_state=1,\n",
              "                           subsample=1)"
            ],
            "text/html": [
              "<style>#sk-container-id-17 {color: black;background-color: white;}#sk-container-id-17 pre{padding: 0;}#sk-container-id-17 div.sk-toggleable {background-color: white;}#sk-container-id-17 label.sk-toggleable__label {cursor: pointer;display: block;width: 100%;margin-bottom: 0;padding: 0.3em;box-sizing: border-box;text-align: center;}#sk-container-id-17 label.sk-toggleable__label-arrow:before {content: \"▸\";float: left;margin-right: 0.25em;color: #696969;}#sk-container-id-17 label.sk-toggleable__label-arrow:hover:before {color: black;}#sk-container-id-17 div.sk-estimator:hover label.sk-toggleable__label-arrow:before {color: black;}#sk-container-id-17 div.sk-toggleable__content {max-height: 0;max-width: 0;overflow: hidden;text-align: left;background-color: #f0f8ff;}#sk-container-id-17 div.sk-toggleable__content pre {margin: 0.2em;color: black;border-radius: 0.25em;background-color: #f0f8ff;}#sk-container-id-17 input.sk-toggleable__control:checked~div.sk-toggleable__content {max-height: 200px;max-width: 100%;overflow: auto;}#sk-container-id-17 input.sk-toggleable__control:checked~label.sk-toggleable__label-arrow:before {content: \"▾\";}#sk-container-id-17 div.sk-estimator input.sk-toggleable__control:checked~label.sk-toggleable__label {background-color: #d4ebff;}#sk-container-id-17 div.sk-label input.sk-toggleable__control:checked~label.sk-toggleable__label {background-color: #d4ebff;}#sk-container-id-17 input.sk-hidden--visually {border: 0;clip: rect(1px 1px 1px 1px);clip: rect(1px, 1px, 1px, 1px);height: 1px;margin: -1px;overflow: hidden;padding: 0;position: absolute;width: 1px;}#sk-container-id-17 div.sk-estimator {font-family: monospace;background-color: #f0f8ff;border: 1px dotted black;border-radius: 0.25em;box-sizing: border-box;margin-bottom: 0.5em;}#sk-container-id-17 div.sk-estimator:hover {background-color: #d4ebff;}#sk-container-id-17 div.sk-parallel-item::after {content: \"\";width: 100%;border-bottom: 1px solid gray;flex-grow: 1;}#sk-container-id-17 div.sk-label:hover label.sk-toggleable__label {background-color: #d4ebff;}#sk-container-id-17 div.sk-serial::before {content: \"\";position: absolute;border-left: 1px solid gray;box-sizing: border-box;top: 0;bottom: 0;left: 50%;z-index: 0;}#sk-container-id-17 div.sk-serial {display: flex;flex-direction: column;align-items: center;background-color: white;padding-right: 0.2em;padding-left: 0.2em;position: relative;}#sk-container-id-17 div.sk-item {position: relative;z-index: 1;}#sk-container-id-17 div.sk-parallel {display: flex;align-items: stretch;justify-content: center;background-color: white;position: relative;}#sk-container-id-17 div.sk-item::before, #sk-container-id-17 div.sk-parallel-item::before {content: \"\";position: absolute;border-left: 1px solid gray;box-sizing: border-box;top: 0;bottom: 0;left: 50%;z-index: -1;}#sk-container-id-17 div.sk-parallel-item {display: flex;flex-direction: column;z-index: 1;position: relative;background-color: white;}#sk-container-id-17 div.sk-parallel-item:first-child::after {align-self: flex-end;width: 50%;}#sk-container-id-17 div.sk-parallel-item:last-child::after {align-self: flex-start;width: 50%;}#sk-container-id-17 div.sk-parallel-item:only-child::after {width: 0;}#sk-container-id-17 div.sk-dashed-wrapped {border: 1px dashed gray;margin: 0 0.4em 0.5em 0.4em;box-sizing: border-box;padding-bottom: 0.4em;background-color: white;}#sk-container-id-17 div.sk-label label {font-family: monospace;font-weight: bold;display: inline-block;line-height: 1.2em;}#sk-container-id-17 div.sk-label-container {text-align: center;}#sk-container-id-17 div.sk-container {/* jupyter's `normalize.less` sets `[hidden] { display: none; }` but bootstrap.min.css set `[hidden] { display: none !important; }` so we also need the `!important` here to be able to override the default hidden behavior on the sphinx rendered scikit-learn.org. See: https://github.com/scikit-learn/scikit-learn/issues/21755 */display: inline-block !important;position: relative;}#sk-container-id-17 div.sk-text-repr-fallback {display: none;}</style><div id=\"sk-container-id-17\" class=\"sk-top-container\"><div class=\"sk-text-repr-fallback\"><pre>GradientBoostingClassifier(max_features=0.7, n_estimators=300, random_state=1,\n",
              "                           subsample=1)</pre><b>In a Jupyter environment, please rerun this cell to show the HTML representation or trust the notebook. <br />On GitHub, the HTML representation is unable to render, please try loading this page with nbviewer.org.</b></div><div class=\"sk-container\" hidden><div class=\"sk-item\"><div class=\"sk-estimator sk-toggleable\"><input class=\"sk-toggleable__control sk-hidden--visually\" id=\"sk-estimator-id-21\" type=\"checkbox\" checked><label for=\"sk-estimator-id-21\" class=\"sk-toggleable__label sk-toggleable__label-arrow\">GradientBoostingClassifier</label><div class=\"sk-toggleable__content\"><pre>GradientBoostingClassifier(max_features=0.7, n_estimators=300, random_state=1,\n",
              "                           subsample=1)</pre></div></div></div></div></div>"
            ]
          },
          "metadata": {},
          "execution_count": 131
        }
      ]
    },
    {
      "cell_type": "code",
      "source": [
        "gb_tuned_model_test_perf = model_performance_classification_sklearn(gb_tuned,X_test,y_test)\n",
        "print(\"Testifg performance \\n\",gb_tuned)"
      ],
      "metadata": {
        "colab": {
          "base_uri": "https://localhost:8080/"
        },
        "id": "eoK6WCVAUb4m",
        "outputId": "3e6177a8-56e6-4212-b22c-8a9c50cd4e58"
      },
      "id": "eoK6WCVAUb4m",
      "execution_count": null,
      "outputs": [
        {
          "output_type": "stream",
          "name": "stdout",
          "text": [
            "Testifg performance \n",
            " GradientBoostingClassifier(max_features=0.7, n_estimators=300, random_state=1,\n",
            "                           subsample=1)\n"
          ]
        }
      ]
    },
    {
      "cell_type": "markdown",
      "source": [
        "## XGBoost model"
      ],
      "metadata": {
        "id": "VblcOW60bRgU"
      },
      "id": "VblcOW60bRgU"
    },
    {
      "cell_type": "code",
      "source": [
        "xgb_classifier = XGBClassifier(random_state=1,eval_metric='logloss')\n",
        "xgb_classifier.fit(X_train,y_train)"
      ],
      "metadata": {
        "colab": {
          "base_uri": "https://localhost:8080/",
          "height": 237
        },
        "id": "dCh6cegibalW",
        "outputId": "152c6be2-29a0-449a-99d4-dcbbe23d4893"
      },
      "id": "dCh6cegibalW",
      "execution_count": null,
      "outputs": [
        {
          "output_type": "execute_result",
          "data": {
            "text/plain": [
              "XGBClassifier(base_score=None, booster=None, callbacks=None,\n",
              "              colsample_bylevel=None, colsample_bynode=None,\n",
              "              colsample_bytree=None, early_stopping_rounds=None,\n",
              "              enable_categorical=False, eval_metric='logloss',\n",
              "              feature_types=None, gamma=None, gpu_id=None, grow_policy=None,\n",
              "              importance_type=None, interaction_constraints=None,\n",
              "              learning_rate=None, max_bin=None, max_cat_threshold=None,\n",
              "              max_cat_to_onehot=None, max_delta_step=None, max_depth=None,\n",
              "              max_leaves=None, min_child_weight=None, missing=nan,\n",
              "              monotone_constraints=None, n_estimators=100, n_jobs=None,\n",
              "              num_parallel_tree=None, predictor=None, random_state=1, ...)"
            ],
            "text/html": [
              "<style>#sk-container-id-10 {color: black;background-color: white;}#sk-container-id-10 pre{padding: 0;}#sk-container-id-10 div.sk-toggleable {background-color: white;}#sk-container-id-10 label.sk-toggleable__label {cursor: pointer;display: block;width: 100%;margin-bottom: 0;padding: 0.3em;box-sizing: border-box;text-align: center;}#sk-container-id-10 label.sk-toggleable__label-arrow:before {content: \"▸\";float: left;margin-right: 0.25em;color: #696969;}#sk-container-id-10 label.sk-toggleable__label-arrow:hover:before {color: black;}#sk-container-id-10 div.sk-estimator:hover label.sk-toggleable__label-arrow:before {color: black;}#sk-container-id-10 div.sk-toggleable__content {max-height: 0;max-width: 0;overflow: hidden;text-align: left;background-color: #f0f8ff;}#sk-container-id-10 div.sk-toggleable__content pre {margin: 0.2em;color: black;border-radius: 0.25em;background-color: #f0f8ff;}#sk-container-id-10 input.sk-toggleable__control:checked~div.sk-toggleable__content {max-height: 200px;max-width: 100%;overflow: auto;}#sk-container-id-10 input.sk-toggleable__control:checked~label.sk-toggleable__label-arrow:before {content: \"▾\";}#sk-container-id-10 div.sk-estimator input.sk-toggleable__control:checked~label.sk-toggleable__label {background-color: #d4ebff;}#sk-container-id-10 div.sk-label input.sk-toggleable__control:checked~label.sk-toggleable__label {background-color: #d4ebff;}#sk-container-id-10 input.sk-hidden--visually {border: 0;clip: rect(1px 1px 1px 1px);clip: rect(1px, 1px, 1px, 1px);height: 1px;margin: -1px;overflow: hidden;padding: 0;position: absolute;width: 1px;}#sk-container-id-10 div.sk-estimator {font-family: monospace;background-color: #f0f8ff;border: 1px dotted black;border-radius: 0.25em;box-sizing: border-box;margin-bottom: 0.5em;}#sk-container-id-10 div.sk-estimator:hover {background-color: #d4ebff;}#sk-container-id-10 div.sk-parallel-item::after {content: \"\";width: 100%;border-bottom: 1px solid gray;flex-grow: 1;}#sk-container-id-10 div.sk-label:hover label.sk-toggleable__label {background-color: #d4ebff;}#sk-container-id-10 div.sk-serial::before {content: \"\";position: absolute;border-left: 1px solid gray;box-sizing: border-box;top: 0;bottom: 0;left: 50%;z-index: 0;}#sk-container-id-10 div.sk-serial {display: flex;flex-direction: column;align-items: center;background-color: white;padding-right: 0.2em;padding-left: 0.2em;position: relative;}#sk-container-id-10 div.sk-item {position: relative;z-index: 1;}#sk-container-id-10 div.sk-parallel {display: flex;align-items: stretch;justify-content: center;background-color: white;position: relative;}#sk-container-id-10 div.sk-item::before, #sk-container-id-10 div.sk-parallel-item::before {content: \"\";position: absolute;border-left: 1px solid gray;box-sizing: border-box;top: 0;bottom: 0;left: 50%;z-index: -1;}#sk-container-id-10 div.sk-parallel-item {display: flex;flex-direction: column;z-index: 1;position: relative;background-color: white;}#sk-container-id-10 div.sk-parallel-item:first-child::after {align-self: flex-end;width: 50%;}#sk-container-id-10 div.sk-parallel-item:last-child::after {align-self: flex-start;width: 50%;}#sk-container-id-10 div.sk-parallel-item:only-child::after {width: 0;}#sk-container-id-10 div.sk-dashed-wrapped {border: 1px dashed gray;margin: 0 0.4em 0.5em 0.4em;box-sizing: border-box;padding-bottom: 0.4em;background-color: white;}#sk-container-id-10 div.sk-label label {font-family: monospace;font-weight: bold;display: inline-block;line-height: 1.2em;}#sk-container-id-10 div.sk-label-container {text-align: center;}#sk-container-id-10 div.sk-container {/* jupyter's `normalize.less` sets `[hidden] { display: none; }` but bootstrap.min.css set `[hidden] { display: none !important; }` so we also need the `!important` here to be able to override the default hidden behavior on the sphinx rendered scikit-learn.org. See: https://github.com/scikit-learn/scikit-learn/issues/21755 */display: inline-block !important;position: relative;}#sk-container-id-10 div.sk-text-repr-fallback {display: none;}</style><div id=\"sk-container-id-10\" class=\"sk-top-container\"><div class=\"sk-text-repr-fallback\"><pre>XGBClassifier(base_score=None, booster=None, callbacks=None,\n",
              "              colsample_bylevel=None, colsample_bynode=None,\n",
              "              colsample_bytree=None, early_stopping_rounds=None,\n",
              "              enable_categorical=False, eval_metric=&#x27;logloss&#x27;,\n",
              "              feature_types=None, gamma=None, gpu_id=None, grow_policy=None,\n",
              "              importance_type=None, interaction_constraints=None,\n",
              "              learning_rate=None, max_bin=None, max_cat_threshold=None,\n",
              "              max_cat_to_onehot=None, max_delta_step=None, max_depth=None,\n",
              "              max_leaves=None, min_child_weight=None, missing=nan,\n",
              "              monotone_constraints=None, n_estimators=100, n_jobs=None,\n",
              "              num_parallel_tree=None, predictor=None, random_state=1, ...)</pre><b>In a Jupyter environment, please rerun this cell to show the HTML representation or trust the notebook. <br />On GitHub, the HTML representation is unable to render, please try loading this page with nbviewer.org.</b></div><div class=\"sk-container\" hidden><div class=\"sk-item\"><div class=\"sk-estimator sk-toggleable\"><input class=\"sk-toggleable__control sk-hidden--visually\" id=\"sk-estimator-id-10\" type=\"checkbox\" checked><label for=\"sk-estimator-id-10\" class=\"sk-toggleable__label sk-toggleable__label-arrow\">XGBClassifier</label><div class=\"sk-toggleable__content\"><pre>XGBClassifier(base_score=None, booster=None, callbacks=None,\n",
              "              colsample_bylevel=None, colsample_bynode=None,\n",
              "              colsample_bytree=None, early_stopping_rounds=None,\n",
              "              enable_categorical=False, eval_metric=&#x27;logloss&#x27;,\n",
              "              feature_types=None, gamma=None, gpu_id=None, grow_policy=None,\n",
              "              importance_type=None, interaction_constraints=None,\n",
              "              learning_rate=None, max_bin=None, max_cat_threshold=None,\n",
              "              max_cat_to_onehot=None, max_delta_step=None, max_depth=None,\n",
              "              max_leaves=None, min_child_weight=None, missing=nan,\n",
              "              monotone_constraints=None, n_estimators=100, n_jobs=None,\n",
              "              num_parallel_tree=None, predictor=None, random_state=1, ...)</pre></div></div></div></div></div>"
            ]
          },
          "metadata": {},
          "execution_count": 55
        }
      ]
    },
    {
      "cell_type": "code",
      "source": [
        "confusion_matrix_sklearn(xgb_classifier, X_test,y_test)"
      ],
      "metadata": {
        "colab": {
          "base_uri": "https://localhost:8080/",
          "height": 278
        },
        "id": "wqhPQbSwbrFp",
        "outputId": "3ca1b7f9-9eeb-460b-f113-4eeb645d0dab"
      },
      "id": "wqhPQbSwbrFp",
      "execution_count": null,
      "outputs": [
        {
          "output_type": "display_data",
          "data": {
            "text/plain": [
              "<Figure size 432x288 with 2 Axes>"
            ],
            "image/png": "iVBORw0KGgoAAAANSUhEUgAAAXUAAAEGCAYAAACaSwWnAAAAOXRFWHRTb2Z0d2FyZQBNYXRwbG90bGliIHZlcnNpb24zLjUuMywgaHR0cHM6Ly9tYXRwbG90bGliLm9yZy/NK7nSAAAACXBIWXMAAAsTAAALEwEAmpwYAAArMklEQVR4nO3deZyP5f7H8ddnZjD2bEmoKOWkRRItciT76SSlkk5JDmkTKZVzSmnToahz2ojQJh0VyZIl0a9jK2WtaEWy7/vMfH5/fG/TYMx8p2bm+53b++lxP9zf67ru+75uj/H5XnNd133d5u6IiEg4JMS6AiIiknsU1EVEQkRBXUQkRBTURURCREFdRCREkmJdgSM57/iGmpYjhymRUCTWVZA49PGqKfZHz7F/w/dRx5xC5av/4evllbgN6iIi+SotNdY1yBUK6iIiAJ4W6xrkCgV1ERGANAV1EZHQcLXURURCJDUl1jXIFQrqIiKggVIRkVBR94uISIhooFREJDw0UCoiEiZqqYuIhEjq/ljXIFcoqIuIgAZKRURCRd0vIiIhopa6iEiIqKUuIhIenqaBUhGR8FBLXUQkRNSnLiISIlrQS0QkRELSUk+IdQVEROJCWlr0WxTMLNHMFpjZ+OBzNTObY2YrzOxtMyscpBcJPq8I8k/KcI4HgvRvzKx5NNdVUBcRgchLMqLdonMXsCzD56eAge5+CrAZ6BSkdwI2B+kDg3KY2elAO6AW0AJ4wcwSs7uogrqICORqS93MqgB/AV4JPhvQGPhvUGQEcEWw3zr4TJB/aVC+NTDK3fe6+w/ACqBedtdWUBcRAdxTo97MrIuZzc+wdTnkdIOAXsCBb4BywBZ3P9DMXwVUDvYrAysjdfAUYGtQPj09k2OOSAOlIiKQo3nq7j4YGJxZnpldBqxz98/NrFGu1C0HFNRFRCA3Z79cBFxuZq2AZKAU8CxwjJklBa3xKsDqoPxqoCqwysySgNLAxgzpB2Q85ojU/SIiArnWp+7uD7h7FXc/ichA53R3vx74GGgbFOsAjA32xwWfCfKnu7sH6e2C2THVgBrA3OxuQy11ERHIyayW3+s+YJSZPQYsAIYG6UOB18xsBbCJyBcB7r7EzEYDS4EU4HZ3z/YJKQV1ERHIk4eP3H0GMCPY/55MZq+4+x7g6iMc/zjweE6uqaAuIgJa0EtEJFQU1EVEQiQka78oqIuIQH4MlOYLBXUREVD3i4hIqKj7RUQkRNRSFxEJEQV1EZEQcY91DXKFgrqICECKZr+IiISHBkpFREJEfeoiIiGiPnURkRBRS11EJEQU1OWPePCZ+2jQ5EI2b9hMu8Y3AdDtwVu5uOmF7N+XwqqfVtO3Rz92bNtB6TKl6De4L6fXrsn40ZPo/49Bh53v6eFPUvmESunnkoKp14CenN+kPls2bOHmJpF3GXe8pwMXNb8QT3M2b9jCU3f3Z+PajTRp05h2t12LmbFrxy4GPfAc3y37HoC3/vcau3buJi01jdSUVLr+5fZY3laB4KnZvn+iQNDr7GJk/NuT6Hb9vQelzZk5n3aX3ET7Jh35+ftV3HTn3wDYu2cfL/UfyrN9X8j0XJe0bMiunbvyvM6S9ya98xH3/a33QWlvv/QOf296C52bd2X2tNnc2D3yc7Hm51/p3rYnnZp04bVn36Dnv7ofdFyPq++hc/OuCujRyqXX2cWagnqMLJjzFds2bzsobc4n80gNWguLP19CxUoVANizew9fzV3Evr37DjtP0WJFaX/LNQwbNDLvKy15buGcRWzbsv2gtF07fvvCTi6ajAcDeks+X8qOrTsAWPrFMsoHPy/yO3la9FscU/dLnLr8ulZMGTs923Jde3XijZfeZs/uvflQK4mVTr060qxtE3Zu20mPa+49LL9VuxbM/Xhe+md3p/+b/cCdD974kPFvTMjP6hZMaeGY/aKWehzq2O0GUlJSmfjulCzLnVrrFKqcVJkZk2blU80kVob+61WurXc9U9+bTpuOrQ/Kq33h2bRq15LBjw9JT+t2ZQ9uaXkb993wD67ocDln1T8zv6tc8Kj7RfLCZde0oEGTC3jwjkezLXvmubX401mnMXbO2wx5/z+cUL0qL/332XyopcTK1Pem0bBlg/TP1f9UjXv+dTf/vPmhg7ptNvy6EYAtG7cwa9L/UbP2afle1wInNTX6LQtmlmxmc83sKzNbYmaPBOnDzewHM/sy2GoH6WZmz5nZCjNbaGZ1Mpyrg5ktD7YO0dyGul/iyAWN6nHDbe255co72RtFd8qYkWMZM3IsAJWqHMfAkf3o2vauvK6m5LPK1Sqz+ofVAFzU/EJ+/m4lAMceX4G+Q/rw5F1PsSrIh0i/uyUYu3fuJrloMnUbnsvIQa/HpO4FSu61wPcCjd19h5kVAj41s4lB3r3u/t9DyrcEagRbfeBFoL6ZlQX6AHUBBz43s3Huvjmriyuox8hjLzzEuRecwzFlSzN+/n8Z/PSr3HTH9RQuUpjn334GgEWfL6Xf/U8DMHbO2xQvUZxChZP4c/MG3HldT35Y/lMsb0HywD//05vaF5xF6bKlGT3vTYY/PZL6jetRtXoV0txZu2otAx+I/DZ2Y48bKHVMKbo/0Q0gfepimQrH8OgrDwOQmJjI1Pc/Zt6M+bG6pYIjl/rUPTKSvSP4WCjYsjp5a2BkcNxsMzvGzCoBjYAp7r4JwMymAC2At7K6vnmcPhp73vEN47NiElMlEorEugoShz5eNcX+6Dl29b856phT7N5hWV7PzBKBz4FTgOfd/T4zGw5cQKQlPw243933mtl4oJ+7fxocOw24j0hQT3b3x4L0B4Hd7j4gq2vnWUvdzGoS+QaqHCStBsa5+7K8uqaIyO+Wg5a6mXUBumRIGuzugw98cPdUoLaZHQO8Z2ZnAA8AvwKFgcFEAnffP17xg+XJQKmZ3QeMAgyYG2wGvGVm92dxXBczm29m89fvWpMXVRMRyZSnpUW/uQ9297oZtsGZntN9C/Ax0MLd13jEXuBVoF5QbDVQNcNhVYK0I6VnKa9a6p2AWu6+P2OimT0DLAH6ZXZQ8A8zGMLR/ZLZUgCde3bkivaXsWXTFgCef3IIn02ffdix13W+mivaX4a7s+Lr7+nbox/79u7jvAZ16PbgbSQkGLt27uaR7k+y6sfVXHPzlVz5t8v5dfU67rm5Nyn7Uzi73pk0bvVnBj78n3y8a8lOZksBPPTCP6h6cuT/b4lSxdmxbSedm3c96LhCRQrx7JhnKFy4EImJiXwyYRbDn448dHbvgLs57axTwYxV36+iX4/+7Nm1hzYdW/PX6//C2l/W82CnPqTsT+GM82rRsNXFvPDIS/l74/Eul5YJMLMKwH5332JmRYGmwFNmVsnd15iZAVcAi4NDxgF3mNkoIgOlW4Nyk4EnzKxMUK4ZkdZ+lvJqSmMacHwm6ZWCvKNCZksBALw15B2ub9qJ65t2yjSgVziuPNd2asuNLTvTrvFNJCQk0Kx1YwDue7InD97+KNc37cTk96bS6a4bAWjRpinXXdqRhfMXc0GjSAOgU/cODB00Ig/vUH6PzJYC6Hvb43Ru3pXOzbsyc8KnzJr46WHH7d+7n7uvuZe/N+vK35t3pV6juvypzp8AeP7hlyLpTW9h3ep16XPZm7S5lE5Nb2HJ/CWc9+e6ANx419947dk38vguC6A0j37LWiXgYzNbCMwjMtg5HnjDzBYBi4DywGNB+QnA98AKYAhwG0AwQPpocI55QN8Dg6ZZyauWendgmpktB1YGaScQGTS4I4+uGXcWzPmKSlWO+13HJiUlUiS5CCn7U0kumsz6tRuDHKd4yWIAlChZnPVrNwBgZiQVSiK5aBFS9qfQ8qpm/G/6nMMeOZfYWzhnERWrVDxifqO/NuTua3tlmrdn1x4AkpKSSExKSl8DPONSAoWTi6QvDW5G8HORTEpKCk2vasKcj+eyXT8Xh8ulKY3uvhA4J5P0xkco70CmC/S4+zBgWE6unydB3d0nmdmpRPqMMg6UzgsGEI5qV3dsQ6u2zVm28GsGPfI827fuOCh//a8beP3FUXww7x327tnHnE/mMeeTyCPgj/X8F4Ne+xd79+xl545d3HxZ5Ff00a++y6vjX+T7b37kq3mLGPDqk9zZvme+35v8MWfVP5PN67ekz0s/VEJCAi9PfIHKJx3P+yPGsWzB1+l5vZ6+h/qN6/HT8p94se/LALw3fBzPj3uOH7/9kcXzlvDYsEfodX22v8EfnbRMQNbcPc3dZ7v7mGCbrYAOY0a8T5sLruP6pjezYe1Guvc5/Au6ZOkSNGzegNb1r6XlOW1ILpZMyyubAtC+yzV0v6EXl9VtywdvT6D7w5FffCaO+Yi/Nfs7D935GO27XMPbw/7LRY3Pp9/gvvR4+A4i3XgS7xq3voRpYz8+Yn5aWhqdm3fl6vOuo2bt0zjptJPS8/7VcwBXn9uOn5f/zCWXNwJgypipdGlxK090e4qrO1/Fu8Pep/4l9Xj45Qe5rU9X/VxkFJIFvbRMQD7btGEzaZHRc95/Yzy1av/psDL1Lq7LLyvXsGXTVlJTUvl4wkzOqnsGx5QtTY3TT2bJgsis0CnjpnNW3TMOOrZ8xXKcXvtPfDLpU66/5Vp6d32Y7dt2cN7F5+bL/cnvl5CYwMUtG/DxBzOyLbtz206+/Owr6jWqe1B6Wloa08fNoGGrBgell6tYjpq1T+P/Jn/GNbe0pe+tj7Nj2w7qNDisl+DolXt96jGloJ7Pyh1bLn2/UcuL+e6bHw4r8+vqtZxZ53SKFI08aHNeg3P5YcVPbN+6gxKlinNC9SoA1G94Hj8e8lRp115/5+UBkS64IslFcHc8LY3kosl5dUuSS869uA4rv1vJhjUbMs0vXbY0xUsVB6BwcmHOvbgOP6+IDFkdf9Jv8xIubHpBevoBN9/bgVcHjEg/NvJz4SQX1cNcB3hKatRbPNMyAXkos6UAzr2gNqfWqoG7s2bVrzzRK/JwWPmK5fjngPvofkMvlixYxrQPZ/D65FdITUnlm8XLee/1D0hNTeXxe/rz1JDHSEtLY/vW7Tx692+zQ089owYA3yz6FoDJ701l1PThrP1lHSNfyPLJYslHmS0FMGHUJBpffgnT3j+466VcxXLc0/9uHrjxH5SrWJb7B/YiITGBBDNmjJ/J7GlzMDMeGNiLYiWLYcB3y75n4APPpZ/jlFonA7B88QoApr03nWFTB7NuzXpGvTg63+477sV5CzxaWiZAChQtEyCZyY1lAnbc0zrqmFNiwNi4HYxQS11EBELTUldQFxEBXEFdRCRE4nwANFoK6iIioO4XEZFQUVAXEQmPeJ0JmFMK6iIioJa6iEioKKiLiISHp8T3Ql3RUlAXEYHQvL5HQV1EBD18JCISLgrqIiIhou4XEZHwUPeLiEiIeEo4grrefCQiApHul2i3LJhZspnNNbOvzGyJmT0SpFczszlmtsLM3jazwkF6keDziiD/pAzneiBI/8bMmkdzGwrqIiLk6nun9wKN3f1soDbQwszOB54CBrr7KcBmoFNQvhOwOUgfGJTDzE4H2gG1gBbAC2aWmN3FFdRFRCDXWuoesSP4WCjYHGgM/DdIHwFcEey3Dj4T5F9qZhakj3L3ve7+A7ACqJfdbSioi4iQs5a6mXUxs/kZti4Zz2VmiWb2JbAOmAJ8B2xx95SgyCqgcrBfGVgJEORvBcplTM/kmCPSQKmICJAebqMp6z4YGJxFfipQ28yOAd4Dav7B6kVNLXUREXK1T/23c7pvAT4GLgCOMbMDDekqwOpgfzVQFSDILw1szJieyTFHpKAuIkLuBXUzqxC00DGzokBTYBmR4N42KNYBGBvsjws+E+RP98ji7uOAdsHsmGpADWBudvdxxO4XM/s3kc79TLl7t+xOLiJSYLjl1pkqASOCmSoJwGh3H29mS4FRZvYYsAAYGpQfCrxmZiuATURmvODuS8xsNLAUSAFuD7p1spRVn/r833tHIiIFTU66VbI8j/tC4JxM0r8nk9kr7r4HuPoI53oceDwn1z9iUHf3ERk/m1kxd9+Vk5OLiBQUnpZrLfWYyrZP3cwuCH5t+Dr4fLaZvZDnNRMRyUdpqRb1Fs+iGSgdBDQnMhqLu38FNMzDOomI5Lu8mP0SC1HNU3f3lZEHnNJl21kvIlKQhKX7JZqgvtLMLgTczAoBdxGZniMiEhoejkUaowrqXYFniTye+gswGbg9LyslIpLfjpqWurtvAK7Ph7qIiMRMvA+ARiua2S/VzewDM1tvZuvMbKyZVc+PyomI5BdPs6i3eBbN7Jc3gdFEnpI6HngHeCsvKyUikt/cLeotnkUT1Iu5+2vunhJsrwPJeV0xEZH8FPopjWZWNtidaGb3A6OIrAVzLTAhH+omIpJv0uK8BR6trAZKPycSxA/c6S0Z8hx4IK8qJSKS3+K9WyVaWa39Ui0/KyIiEkthmf0S1ROlZnYGcDoZ+tLdfWReVUpEJL/F+6yWaGUb1M2sD9CISFCfALQEPgUU1EUkNMLSpx7N7Je2wKXAr+7eETibyOuWRERCIyxTGqPpftnt7mlmlmJmpYi8HbtqdgeJiBQkR9PaL/OD9+0NITIjZgfwv7yslIhIfgtL90s0a7/cFuy+ZGaTgFLB65pEREIjLewDpWZWJ6s8d/8ib6okIpL/joaW+tNZ5DnQOJfrcpAFG77Ly9NLAbX7l1mxroKEVG4NgJpZVSKzAysSiZWD3f1ZM3sY6AysD4r2dvcJwTEPAJ2IvICom7tPDtJbEFn6PBF4xd37ZXf9rB4+uuT33pSISEGTiy31FKCnu39hZiWBz81sSpA30N0HZCxsZqcD7YBaRBZNnGpmpwbZzwNNgVXAPDMb5+5Ls7p4VA8fiYiEXW5NfnH3NcCaYH+7mS0j8pKhI2kNjHL3vcAPZrYCqBfkrXD37wHMbFRQNsugHs08dRGR0EtNS4h6M7MuZjY/w9Yls3Oa2UnAOcCcIOkOM1toZsPMrEyQVhlYmeGwVUHakdKzpKAuIgKk5WBz98HuXjfDNvjQ85lZCWAM0N3dtwEvAicDtYm05LMat/zdonnzkZnZ38zsoeDzCWZWL7vjREQKEsei3rJjZoWIBPQ33P1dAHdf6+6p7p5G5LmfA3F0NQc/0FklSDtSepaiaam/AFwAXBd83k6k815EJDTSPPotK2ZmwFBgmbs/kyG9UoZibYDFwf44oJ2ZFTGzakANYC4wD6hhZtXMrDCRwdRx2d1HNAOl9d29jpktAHD3zcEFRERCIy2KFniULgJuABaZ2ZdBWm/gOjOrTWRM9keCd1S4+xIzG01kADQFuN3dUwHM7A5gMpEpjcPcfUl2F48mqO83s8SgIphZBSLdSiIioRFNt0pU53H/FDI92RHfGOfujwOPZ5I+IavjMhNNUH8OeA841sweJ7Jq4z9zchERkXiXmnst9ZiKZu2XN8zscyLL7xpwhbsvy/OaiYjko7B0P0TzkowTgF3ABxnT3P3nvKyYiEh+OmqCOvAhv72AOhmoBnxD5JFWEZFQyK0+9ViLpvvlzIyfg9UbbztCcRGRAikkK+/mfO2XYJGa+nlRGRGRWMnFKY0xFU2f+t0ZPiYAdYBf8qxGIiIxkBrrCuSSaFrqJTPspxDpYx+TN9UREYmNNDsKWurBQ0cl3f2efKqPiEhMhOS901m+zi7J3VPM7KL8rJCISCwcDVMa5xLpP//SzMYB7wA7D2QeWHlMRCQMjqbZL8nARiLvJD0wX90BBXURCY2jYZmAY4OZL4v5LZgfEJbuJxER4OhoqScCJch8tTEFdREJlaOhT32Nu/fNt5qIiMRQWFqqWQX1kPwyIiKSvaOh++XSfKuFiEiMhb77xd035WdFRERiKfUoaKmLiBw1Qt9SFxE5moQlqCfEugIiIvHAc7BlxcyqmtnHZrbUzJaY2V1Belkzm2Jmy4O/ywTpZmbPmdkKM1sYvLPiwLk6BOWXm1mHaO5DQV1EhMjsl2i3bKQAPd39dOB84HYzOx24H5jm7jWAacFngJZAjWDrArwIkS8BoA9QH6gH9DnwRZAVBXURESLdL9FuWXH3Ne7+RbC/HVgGVAZaAyOCYiOAK4L91sBIj5gNHGNmlYDmwBR33+Tum4EpQIvs7kNBXUSEyEsyot3MrIuZzc+wdcnsnGZ2EnAOMAeo6O5rgqxfgYrBfmVgZYbDVgVpR0rPkgZKRUTI2cNH7j4YGJxVGTMrQeSFQt3dfZtleAmHu7uZ5clDrGqpi4iQe90vAGZWiEhAfyPDMuVrg24Vgr/XBemrgaoZDq8SpB0pPUsK6iIi5OrsFwOGAsvc/ZkMWeOAAzNYOgBjM6TfGMyCOR/YGnTTTAaamVmZYIC0WZCWJXW/iIgAabm3pNdFwA3AIjP7MkjrDfQDRptZJ+An4JogbwLQClgB7AI6QuSpfjN7FJgXlOsbzZP+CuoiIkQGQHODu3/KkRdEPGxNLXd34PYjnGsYMCwn11dQFxEhPE+UKqiLiHB0LL0rInLUyMU+9ZhSUBcR4eh485GIyFFDfeoiIiGSGpK2uh4+igOlS5fi7VGDWbzoExYtnMH59c/lrLNO59OZ41jwxVTef284JUuWACApKYlhQwex4IupLFo4g/t63RHj2ktuS01Npe1Nt3PbvX0OSn9i4Iuc16RN+ud9+/bR88EnaXnNzVzXuTur16wFYPzk6VzV4fb07cwGrfj62+/y9R4Kotx8ojSWFNTjwMBn+jJ58secceafqXNuU5Z9vZyXX+pP7388wTl1mvD++xO5p+etALRtexlFihTmnDpNqFe/BZ3//jdOPLFKjO9ActPr74yl+kknHJS2eNm3bNu+46C0d8d/RKmSJZg4ehg3XHsFz7wQmc58WfPGjBnxPGNGPM+TD91D5UoVqXnqyflW/4IqDY96i2cK6jFWqlRJLm5Qn2GvvgXA/v372bp1G6fWqM7MWbMBmDptFm3atALA3SlevBiJiYkULVqUffv3s23bjiOeXwqWX9etZ+Znc7nqr83T01JTU3n6+aH0vK3TQWWnz/ofrVs1AaBZo4uZ8/mXRJ5j+c2EKZ/Qssmf877iIZBbywTEmoJ6jFWrdgIbNmxk6CsDmTd3Mi+/1J9ixYqydOm3XH555D9226suo2qV4wEYM+ZDdu7cxaqfF/DDd3N55pmX2Lx5SwzvQHLTU8++zN23dcLst/+ab475gEsanE+F8mUPKrtu/UaOO7Y8AElJiZQoXowtW7cdVGbStE9o1bRRntc7DNT9IrkiKTGRc845k5dfHsl59Zqzc+cu7ut1B3/vcje33tKBObMnUrJkcfbt2w9AvfNqk5qaStUT63DKqefTo8ctVKt2QjZXkYJgxv/NoWyZY6hVs0Z62rr1G/no41m0b3t5js+3cMnXFE1Opkb1k3KxluGVike9xTPNfomxVavXsGrVGubOWwDAu+9+SK9776DPw/1p+Zf2ANSoUZ1WLSNLRrRr14bJH80gJSWF9es38tln8zj33LP54YefY3YPkjsWLFzKjE9nM+t/89i7bz87d+7iihu6UqhQIVpdezMAe/bspeU1NzNx9DCOrVCOX9dt4LhjK5CSksqOnbs4pnSp9PNNnKqul5yI977yaKmlHmNr165n1apfODUYyGrcuAHLln1LhQrlADAzej9wFy8Pfg2AlStXc0mjiwAoVqwo9evX4ZtvVsSm8pKretzakWnvv85HY0bQ/5H7qXfu2Xw26R0++eBNPhozgo/GjCA5uQgTR0cGRC9pcD5jJ0wF4KMZs6h/7tkceBFDWloak6fPUlDPAfWpS665q8eDjBzxb774fApnn12LJ5/6N+2uvYKlS2axZPFM1qz5leEj3gbghReHU6JEcb76cjqz/zeBESPeZtGiZTG+A4mFKy9rztZt22h5zc2MHPUe3bt2TM+b/+Vijju2PFUrV4phDQuWsMx+sUNHy+NFUuHK8Vkxiandv8yKdRUkDhUqX/0PL8fV+aSro445Q358J26X/1KfuogI4HHeAo9Wvne/mFnHLPLS39CdlrYzP6slIke5sMx+iUWf+iNHynD3we5e193rJiQUz886ichRLizz1POk+8XMFh4pC6iYF9csCO68oxOdOrXHzBg69E2e+/crB+WfdtrJDB0ykHPOOYMHH3qKZwa+DECRIkWYMX0MhYsUISkpkXff/ZBH+j4NwMgR/+aMM2oyYcI0/vlgPwB6P3AXi5d8zbhx2b6jVmKk2VUdKF6sGAkJCSQmJjJ62HP0fPBJfvx5FQDbd+ygZIkSjBnx/GHHbtu+gz79BrHi+5/AjEd796D2GX/i+aGvM2bcJMocUxqAu27pQMML6/HFwiU8OuA/FEoqRP9H7uPEqpXZtn0HPR98gpefeYyEBM2XAEiL0/HFnMqrPvWKQHNg8yHpBnyWR9eMa7VqnUanTu254MK/sG/ffiaMf4MPJ0zlu+9+TC+zadMWuvd4kNatWxx07N69e2nS7Bp27txFUlISM2e8x6RJH7Nr9252795DnXObMmnCW5QqVZJixYpSr945PPHks/l8h5JTw/7dLz0AAzz96APp+/3/PYQSxYtlely/QS9xUf26DHz8n+zfv5/de/am591w7RV0bN/2oPIj3nqXFwf05Zc1axn9/gTuvbMzL494i843tlNAzyAcIT3vul/GAyXc/adDth+BGXl0zbhWs2YN5s5dwO7de0hNTWXmrNm0uaLlQWXWr9/I/M+/Yv/+/Ycdv3PnLgAKFUoiqVAh3J39+/dTtGgyZkahQkmkpqbycJ97eOSRAflyT5I33J1J02dm+nj/9h07+fyrxelrwxQqVIhSwQqeR5KUlMSePXvZvWcvSUmJ/LzqF35du4F6dc7Ki+oXWGGZ0pgnQd3dOwVv1M4sr31eXDPeLVnyNQ0a1Kds2TIULZpMyxaNqRKs5xKNhIQE5s/7iDWrFzJt2kzmzlvA11+vYP36TcybO5nxH07llFOqkZCQwIIvF+fhnUhuMDO69PgH19x8J++MnXBQ3udfLaZcmTKcWLXyYcet/uVXyhxTmn8+/gxtb7qdh54cxK7de9Lz3xrzAW1uvJV/PvEMW7dtB6DzDdfQ+9EBvPLaaK676q88N3gE3brcmLc3WAB5Dv5kx8yGmdk6M1ucIe1hM1ttZl8GW6sMeQ+Y2Qoz+8bMmmdIbxGkrTCz+6O5D01pzCdff72C/v2fZ+KEN9m1cxdffrWE1NToh1zS0tKoe14zSpcuxZh3hlKr1mksWfINPe/5bc3t998bzq233ccD93fjrLNOZ+rUmQwd9mZe3I78QSNfHEDFCuXZuHkLnbv3ptqJValb+0wAJkyZQaummT8JmpKayrJvV9C7x62cVasmTw56iaGvjebOLjdybZu/0PWm6zAz/j1kJP3/M4THet9NzVNP5s0hgwCY/+UiKpQri7vT88EnSUpK5N47O1O+bJn8uvW4lZK7LfDhwH+AkYekD3T3g36VNrPTgXZALeB4YKqZnRpkPw80BVYB88xsnLsvzerC6lDLR68OH0X981tyyaVXsWXLVpYv/z7H59i6dRszPvk/mjdrdFD6X//ajC++WEiJEsWpXv1Ermvflauu/AtFiybnUu0lN1WsEFldsVyZY7i04YUsWvoNACkpqUz95DNaXNow0+OOO7Y8FSuU56xaNQFo1qgBS7+NLBNRvmwZEhMTSUhIoO3lLVm89NuDjnV3Xh7+Fl07tufFYW/Q8/abaXt5C954Z2xe3WaBkpstdXefCWyK8tKtgVHuvtfdfwBWAPWCbYW7f+/u+4BRQdksKajnowPruVStejxXXNGSt0a9F9Vx5cuXpXSwUFNycjJNLm3IN9/89iabpKQk7rqzM/0HvEDRosnpa2onJiZSuHDhXL4L+aN27d6TPkaya/cePpv7RfpKirPnL6D6iVU47tgKmR5bvlxZjju2Aj/8FJklM/vzLzk5eKHG+g2/xZBpn3zGKdVPPOjYcROn0vCC8yhdqiS79+7FLIEES2BPhoHWo1lOpjRmfKYm2LpEeZk7zGxh0D1z4NejysDKDGVWBWlHSs+Sul/y0TtvD6FsuTLs359Ct27/YOvWbXTpfAMAg4e8RsWKFZjzv4mUKlWCtLQ0ut3ZmTPPbkSlShUZNnQQiYkJJCQk8N//fsCHwUJOALfdehMjX3uH3bv3sHDhUooVK8qCL6YyadJ0th6yvrbE3sZNm7mr96MApKak0qpZIxqcXxc4sLJio4PKr1u/kT79BvHi05Fjeve4lfse+Rf7U/ZT9fhKPNq7BwBPvzCUb5Z/DwaVj6tIn17d0s+xe88e3p8wlcGDHgegw7VXcts9D1GoUBJP9bkvr2+5QMjJkinuPhgYnMNLvAg8SmSizaPA08DNOTxHtrT2ixQoWvtFMpMba7+0PuGyqGPO2J/HZ3s9MzsJGO/uZ2SVZ2YPALj7k0HeZODhoOjD7t48SD+o3JGo+0VEhLxfJsDMMi6Z2QY4MDNmHNDOzIqYWTWgBjAXmAfUMLNqZlaYyGDquOyuo+4XERFy9yUZZvYW0Agob2argD5AIzOrTaT75UfgFgB3X2Jmo4GlQApwu7unBue5A5gMJALD3H1JttdW94sUJOp+kczkRvdLy6oto445E1dO1NK7IiLxLN4X6oqWgrqICOFZT11BXUSE8Lx4WkFdRARI9XB0wCioi4ig7hcRkVDRSzJEREIkHCFdQV1EBNBAqYhIqCioi4iEiGa/iIiEiGa/iIiESLyug5VTCuoiIqhPXUQkVNRSFxEJkdSQrNOooC4igp4oFREJFc1+EREJEbXURURCRC11EZEQCUtLPSHWFRARiQepnhb1lh0zG2Zm68xscYa0smY2xcyWB3+XCdLNzJ4zsxVmttDM6mQ4pkNQfrmZdYjmPhTURUSIdL9E+ycKw4EWh6TdD0xz9xrAtOAzQEugRrB1AV6EyJcA0AeoD9QD+hz4IsiKgrqICOCeFvWW/bl8JrDpkOTWwIhgfwRwRYb0kR4xGzjGzCoBzYEp7r7J3TcDUzj8i+IwCuoiIkSWCYh2M7MuZjY/w9YliktUdPc1wf6vQMVgvzKwMkO5VUHakdKzpIFSERFytkyAuw8GBv+Ba7mZ5cnIrFrqIiLkrKX+O60NulUI/l4XpK8GqmYoVyVIO1J6lhTURUSA1LS0qLffaRxwYAZLB2BshvQbg1kw5wNbg26ayUAzMysTDJA2C9KypO4XERFy9+EjM3sLaASUN7NVRGax9ANGm1kn4CfgmqD4BKAVsALYBXQEcPdNZvYoMC8o19fdDx18Pfza8brcZFLhyvFZMYmp3b/MinUVJA4VKl/d/ug5KpauGXXMWbv16z98vbyilrqICHpJhohIqMRrr0VOKaiLiMAfGQCNKwrqIiKo+0VEJFTU/SIiEiJhWXpXQV1EBL0kQ0QkVNRSFxEJkbQoltQtCBTURUTQQKmISKgoqIuIhEg4QnocL+glvzGzLsGi/CLp9HMhmdF66gVDNK/KkqOPfi7kMArqIiIhoqAuIhIiCuoFg/pNJTP6uZDDaKBURCRE1FIXEQkRBXURkRBRUI9zZtbCzL4xsxVmdn+s6yOxZ2bDzGydmS2OdV0k/iioxzEzSwSeB1oCpwPXmdnpsa2VxIHhQItYV0Lik4J6fKsHrHD37919HzAKaB3jOkmMuftMYFOs6yHxSUE9vlUGVmb4vCpIExHJlIK6iEiIKKjHt9VA1QyfqwRpIiKZUlCPb/OAGmZWzcwKA+2AcTGuk4jEMQX1OObuKcAdwGRgGTDa3ZfEtlYSa2b2FvA/4DQzW2VmnWJdJ4kfWiZARCRE1FIXEQkRBXURkRBRUBcRCREFdRGREFFQFxEJEQV1yZKZpZrZl2a22MzeMbNif+Bcw82sbbD/SlaLk5lZIzO78Hdc40czKx9t+iFlduTwWg+b2T05raNIXlJQl+zsdvfa7n4GsA/omjHTzJJ+z0nd/e/uvjSLIo2AHAd1kaOdgrrkxCzglKAVPcvMxgFLzSzRzPqb2TwzW2hmtwBYxH+C9eCnAsceOJGZzTCzusF+CzP7wsy+MrNpZnYSkS+PHsFvCRebWQUzGxNcY56ZXRQcW87MPjKzJWb2CmDZ3YSZvW9mnwfHdDkkb2CQPs3MKgRpJ5vZpOCYWWZWM1f+NUXywO9qZcnRJ2iRtwQmBUl1gDPc/YcgMG519/PMrAjwf2b2EXAOcBqRteArAkuBYYectwIwBGgYnKusu28ys5eAHe4+ICj3JjDQ3T81sxOIPGX7J6AP8Km79zWzvwDRPF15c3CNosA8Mxvj7huB4sB8d+9hZg8F576DyAueu7r7cjOrD7wANP4d/4wieU5BXbJT1My+DPZnAUOJdIvMdfcfgvRmwFkH+suB0kANoCHwlrunAr+Y2fRMzn8+MPPAudz9SOuENwFON0tviJcysxLBNa4Mjv3QzDZHcU/dzKxNsF81qOtGIA14O0h/HXg3uMaFwDsZrl0kimuIxISCumRnt7vXzpgQBLedGZOAO9198iHlWuViPRKA8919TyZ1iZqZNSLyBXGBu+8ysxlA8hGKe3DdLYf+G4jEK/WpS26YDNxqZoUAzOxUMysOzASuDfrcKwGXZHLsbKChmVULji0bpG8HSmYo9xFw54EPZlY72J0JtA/SWgJlsqlraWBzENBrEvlN4YAE4MBvG+2JdOtsA34ws6uDa5iZnZ3NNURiRkFdcsMrRPrLvwhehvwykd8C3wOWB3kjiawseBB3Xw90IdLV8RW/dX98ALQ5MFAKdAPqBgOxS/ltFs4jRL4UlhDphvk5m7pOApLMbBnQj8iXygE7gXrBPTQG+gbp1wOdgvotQa8UlDimVRpFREJELXURkRBRUBcRCREFdRGREFFQFxEJEQV1EZEQUVAXEQkRBXURkRD5f1BMy0qlDsC0AAAAAElFTkSuQmCC\n"
          },
          "metadata": {
            "needs_background": "light"
          }
        }
      ]
    },
    {
      "cell_type": "code",
      "source": [
        "xgb_classifier_model_test_perf = model_performance_classification_sklearn(xgb_classifier,X_test,y_test)\n",
        "print(\"Testing performance \\n\",xgb_classifier_model_test_perf)"
      ],
      "metadata": {
        "colab": {
          "base_uri": "https://localhost:8080/"
        },
        "id": "PwfkGn2hbLBh",
        "outputId": "6e278c67-8c00-40e4-8916-17ec3f72b462"
      },
      "id": "PwfkGn2hbLBh",
      "execution_count": null,
      "outputs": [
        {
          "output_type": "stream",
          "name": "stdout",
          "text": [
            "Testing performance \n",
            "    Accuracy    Recall  Precision        F1\n",
            "0  0.735348  0.863271   0.768842  0.813325\n"
          ]
        }
      ]
    },
    {
      "cell_type": "code",
      "source": [
        "confusion_matrix_sklearn(xgb_classifier, X_train,y_train)"
      ],
      "metadata": {
        "colab": {
          "base_uri": "https://localhost:8080/",
          "height": 278
        },
        "id": "jT_ugwjEdEI3",
        "outputId": "61a0a816-0e40-4c67-e650-e7c27dc03297"
      },
      "id": "jT_ugwjEdEI3",
      "execution_count": null,
      "outputs": [
        {
          "output_type": "display_data",
          "data": {
            "text/plain": [
              "<Figure size 432x288 with 2 Axes>"
            ],
            "image/png": "iVBORw0KGgoAAAANSUhEUgAAAXsAAAEGCAYAAACEgjUUAAAAOXRFWHRTb2Z0d2FyZQBNYXRwbG90bGliIHZlcnNpb24zLjUuMywgaHR0cHM6Ly9tYXRwbG90bGliLm9yZy/NK7nSAAAACXBIWXMAAAsTAAALEwEAmpwYAAApfUlEQVR4nO3deZyN5f/H8ddn5mBG9n0Pkb4qRZI2Ka1KtJNKiKSE8q200aLlW0kqW1GoSKlosybbL2UnS5F9X4axx8xcvz/ObYwa48yYM2fOOe9nj/sx97nu7bo9ps+55nNd93Wbcw4REYlsMaGugIiIBJ+CvYhIFFCwFxGJAgr2IiJRQMFeRCQK+EJdgRPpVrmFhgnJv0w4tCbUVZBcaNGWX+xUz3Fkx6qAY06eElVP+Xo5LdcGexGRHJWSHOoaBJWCvYgIgEsJdQ2CSsFeRAQgRcFeRCTiObXsRUSiQHJSqGsQVAr2IiKgDloRkaigNI6ISBRQB62ISORTB62ISDRQy15EJAokHwl1DYJKwV5EBNRBKyISFZTGERGJAmrZi4hEAbXsRUQin0tRB62ISORTy15EJAooZy8iEgUifCI0vXBcRAT8LftAl5MwsyFmts3Mfk9TVszMJprZCu9nUa/czKyvma00s0VmVifNMa28/VeYWas05ReY2WLvmL5mdtJ34irYi4iAP2cf6HJyHwPX/6PsKWCyc646MNn7DHADUN1b2gP9wf/lAPQALgLqAT2OfkF4+7RLc9w/r/UvCvYiIuB/eUmgy0k456YBCf8obgoM9daHAs3SlA9zfrOAImZWFrgOmOicS3DO7QImAtd72wo552Y55xwwLM25Tkg5exERyNRoHDNrj78VftQg59ygkxxW2jm32VvfApT21ssD69Pst8Ery6h8QzrlGVKwFxEBnAu8g9YL7CcL7hkd78zMZfX4rFAaR0QEsjtnn56tXgoG7+c2r3wjUDHNfhW8sozKK6RTniEFexERyNbROCcwFjg6oqYVMCZN+X3eqJz6QKKX7hkPXGtmRb2O2WuB8d62PWZW3xuFc1+ac52Q0jgiIpCtT9Ca2QigIVDCzDbgH1XzGjDKzNoCa4E7vd1/ABoDK4EDQGsA51yCmb0EzPb2e9E5d7TTtyP+ET/xwI/ekiEFexERCGiUTaCccy1OsKlROvs64OETnGcIMCSd8jnAOZmpk4K9iAhougQRkaigidBERKKAgr2ISBRQGkdEJApkYwdtbqRgLyICSuOIiEQFpXFERKKAWvYiIlFAwV5EJAq4HJ2EMscp2IuIACRpNI6ISORTB62ISBRQzl5EJAooZy8iEgXUshcRiQIK9pLdfPny0PHz5/Hly0NMbCyLfvyVCW9/SbVLzuamp1tiMcbh/YcY2W0AO9duBeC8G+tzbZfbcA42LVvLZ53fA6DubQ1o9EgzACa/9w1zRk8L1W3JKSpdrhS93n2e4iWL4Zxj9PAxfPrhKAoVKcQbA1+iXMWybFq/mW7tn2Vv4l4A6l5Smyde7IIvj4/dCYm0uaUjefPl5aNv+pM3bx5ifbFM+m4K/d74MMR3l/u55MBfOB6OFOxDIOnvIwy4+2UOH/ibGF8sj3zZk+U/L+C2l9vyUbs32fbXJi655xqu7nQLn3cbQInKZbiqY1Peu60nB/fsp0DxQgDEFz6NazrfSp8mz4CDLt/1YsnEuRzcsz/EdyhZkZyUzFs9+7Js8Z/kPy0/Iyd8xC/TfqPpXTfy6/Q5DHlvOG0euZe2ne6lz8v9KFioAM+89l8eatGVLRu3UqxEUQAO/32YB257hIMHDuLzxTJ07EBmTP6FRfOWhPgOc7kIb9nrheMhcvjA3wDE+mKJ8cWCczjniCsYD0Bcofzs2boLgIuaX8XMYRNSg/i+nXsAqHHFefw5YzEHE/dzcM9+/pyxmBoNzwvB3Uh22LFtJ8sW/wnAgf0HWL1iDaXKlOTK6y5n7KgfABg76geuur4BAI1vvZbJ3//Mlo3+v/4SduxKPdfBAwcB8OXx4fP5cBHe+Zgtgv/C8ZBSyz5ELMbo8t0rlDi9DP83fALrFvzFF08Nou1HT3Lk0GH+3neQvrc8D0DJqmUAePjLnsTExjChz2j+mLqQwqWLsntTQuo5EzcnULh00ZDcj2SvchXLcNY5Z7J43hKKlSzGjm07Af8XQrGSxQA4vWolfHl8DP7qfU47LT+ffjiKb7/wv3c6JiaGkRM+olKVCoz8aDSL5y8N2b2EjZTI/kJUyz5EXIrj7cbdeenih6l43hmUObMCDdo2ZnDr13n54keY/cVUbn72HgBiYmMpUaUM/Zu/xKed3uWOV9sRVyh/iO9AgiU+fzy9P3yV/z3fh/37Dvx7B6+VHuuLpWatGjxyz+N0aNGF9l1bc3rVigCkpKRw59WtuKZ2U86pXZNqZ1XNyVsITykpgS9hSME+xA7tOcBfvyzlrIbnU/Y/p7NuwV8ALPjuFypfcCYAiVsSWDppLilJySRs2M721ZspWbkMiVt3UaRcsdRzFS5bjMStu9K9joQHny+W3oNf4fuvxjP5h6kAJGxPoESp4gCUKFU8NV2zddM2/u/nXzl44BC7ExKZO2sBZ55d/bjz7d2zj9kz53HplfVz9kbCUXJy4EsYUrAPgdOKFUxtmfvy5aH6ZeeydeVG4gvmp0QVf8rmTK8M4PcJczijfk0A8hctSMkqZdm5bht/TF1IjctrEV/oNOILnUaNy2vxx9SFobkpyRYvvP0Mq1esZfjAkallP0+Ywc13Ngbg5jsbM2X8dACmjJ9G7XrnERsbS1x8PmrVqcnqFWsoWrwIBQsVACBfXD4ubnAhq1euzfmbCTcR3rJXzj4ECpUqSvO3HsJiYoiJMRZ+P4tlP83ni+6DaNW/K845Dibu5/P/DgTgj6kLOfPyc/nvxDdISU7hu1c/5cDufQBM7Ps1nce+7K1/xcFEjcQJV7Xr1aLJHTfw59KVjJo0FIC+rw5g8LvDeHNQL265uwmbN2yhW/tnAVi9Yi0zp8ziyynDcSkpfPXpt6xcvorq/zmDl/s+T2ys//dr/NifmDZxZihvLTxEeM7ecmsvfbfKLXJnxSSkJhxaE+oqSC60aMsvdqrnOPBGm4BjTv7/Djnl6+W0oLXszewsoClQ3ivaCIx1zi0L1jVFRLIswlv2QcnZm9mTwEjAgN+8xYARZvZUBse1N7M5ZjZn0d6VwaiaiEi6XEpKwEs4ClbLvi1wtnPuSNpCM+sNLAFeS+8g59wgYBBERhqncNlitOjdkYIlCuMczBoxmRkfjaNW44u4tsvtlKpWjr5Nn2PD4lXpHh9XKD93vtaeMjUq4ByMemIga+etSN1+xQM30uTZe3i+dnsO7NrLudfX47rH7uDA7n183P4tDuzeR/FKpbjhieZ88kjfnLptOYkX3n6GK665hIQdu7i1oX947TVNruKhbm2pWr0yd9/QlqULl6d77I+zv+LAvgMkJyeTnJxMi+vaAPC/gS9R+YxKABQsXJC9iXu58+pWnH9hLZ59/b8cOXKEJzs8z7rVGyhYqABvDHqZh1p01cNWaYXpKJtABSvYpwDlgH8OASjrbYsKKUkpfPvyJ2xcsoZ8p8XR5dtXWDF9MVv+WM/QDr25/ZUHMjy+WY9WLJ+6kGEd+xCbJ5Y88flStxUuW4wzG5zLrg3bU8suu/863rn5Gc69vh61m17KzKHjub7bXYx7c1TQ7lEyb+zn3zNyyBf0evf51LKVy//isTbdee6NJ096fNvbHmZ3QuJxZU88+Fzq+uM9O7HPe9r6vg4teLjlY5SrWJY7Wt3CWz3fpX3X1nzYd6gC/T9FeBonWMG+CzDZzFYA672ySkA14JEgXTPX2bt9N3u37wbg7/2H2PrXRgqVKcaKGYtPemxcwXiq1juLkY/3ByD5SDLJR449YNP0ufv47tXPaP1Bt9Qyl+Lw5c1Dnvi8pCQlU+XCGuzdvpsda7Zk743JKZk7awHlKpY5rmz1iuwbGnldk0Y8cLv/f7OkpCTi4uOIi48j6UgSFU4vT+lypZjzf/Oz7XoRI0zTM4EKSrB3zo0zszOBehzfQTvbORfZfyudQNEKJShfszLrFgTWF1GsYin27dzDXW92oNx/TmfD4lWMeWEYhw/+zdnXXEDi1gQ2L1t33DGT+43hwU+fZs/WXXzW9X3ufb8Ln3RS+iaiOMfAke/gnOOL4d8w+pMxx22+oP757NyRwLrVGwAY3HcYvd59nkOH/uaZR17gsR6deO+1gaGoee6nln3WOOdSgFnBOn84yZs/H636d2XMi8P4e9/BgI6JiY2l/DlV+Kbnx6xb8BdNe9zHlQ/dzE/9xtDo4WYMuveVfx2zYsZi+nh/NVxw6+Us/3kBJauWpWG7mziQuJ8xLwzlyKHD2XpvkrNa3dyBbVu2U6xEUQZ+/g5rVq5l7qwFqdtvuOUafvx6YurnP5as4J4b2wH+L4IdW3diZvxv4EskHUnizZ59j5tALaqF6QRngdITtEEW44ul1YCuzPtmJr+Pnx3wcYlbdpK4JSF1+oRFP/xKhXOqUPz00hSrUJLHfnydp2f0pXCZYnT97hUKliycemyeuLxcePsVzBw2geu63s7Ix/uzZs4f1Gl2Wbbfn+SsbVv8fTQJO3bx049TOad2zdRtsbGxNGrckPFjJqV7bLsu9zPw7Y/o8Hhb3n7pfUZ/OpaWD9yZI/UOCyku8CUM6QnaILvz9fZsXbmJaYN/yNRxe7cnsnvTTkpWLcv2VZupfuk5bF2xgS1/rKdn3Q6p+z09oy99mjzDgV17U8saPtiE6R+PIyUpmTz58uKcIyUlhbj4vNl2X5Lz4vPHYRbDgf0HiM8fx8VXXMTA3kNSt9f3pkXYunn7v469+c7GzJj8C3t27yEuPo4UbwhhXHxcTt5CruaSIjvDrGAfRJXr1qDubQ3YtGwdXX94FYAf//c5vnw+mvW8nwLFCtF2yBNsWraGD+57jUKlinLH6+0Y3Pp/AHzT82Pu7vMIsXl8JKzfyufdTp5rLVSqKJXOO4OJ74wGYMbQ8XQe24uDe/bzcfu3gnezErDX+79A3UvqUKRYESbOG0O/Nz4kcfceuvd6jKLFi/D+J2+x/Pc/eahFV0qWLkHP3t15uOXjFCtRjD4f+Uctx/pi+fGrCcyccixTen2zq49L4RwVF5+Pm+9qTIe7OgMwfOAI+n3amyOHj/BUxx45c9PhIBtb7GbWFXgAcMBioDX+0YgjgeLAXOBe59xhM8sHDAMuAHYCdznn1njn6Y5/KHsy8KhzbnyW65Rbh19Fwjh7yX6aLkHSkx3TJezr1jTgmFPgzTEnvJ6ZlQdmADWdcwfNbBTwA9AY+Mo5N9LMBgALnXP9zawjUMs518HMmgO3OOfuMrOawAj8A13KAZOAM7M6yEU5exERyO6cvQ+INzMfkB/YDFwFfOltHwo089abep/xtjcyM/PKRzrn/nbOrQZW4g/8WaJgLyKC/zmVQJe0U7t4S/vU8zi3EXgTWIc/yCfiT9vsds4lebtt4Niw9PJ4zyN52xPxp3pSy9M5JtOUsxcRAchEB23aqV3+ycyK4m+VVwF2A18A1596BU+NWvYiIpCdaZyrgdXOue3e/GBfAZcCRby0DkAF/A+a4v2sCOBtL4y/oza1PJ1jMk3BXkQEsjPYrwPqm1l+L/feCFgKTAFu9/ZpBRx9/Hms9xlv+0/OP3JmLNDczPKZWRWgOv4ZhLNEaRwREci2ieGcc7+a2ZfAPCAJmI8/5fM9MNLMXvbKBnuHDAaGm9lKIAFo7p1niTeSZ6l3nodPZboZBXsREcjWcfbOuR7APx9iWEU6o2mcc4eAO05wnl5Ar+yok4K9iAiE7TQIgVKwFxEBXFJkT4SmYC8iAhH/WiUFexER/A9VRTIFexERUM5eRCQqKI0jIhL5lMYREYkCLknBXkQk8imNIyIS+SL8feMK9iIigFr2IiLRQC17EZEokPoOqQilYC8iglr2IiJRIWqDvZm9C5xw4Klz7tGg1EhEJBSchboGQZVRy35OjtVCRCTEorZl75wbmvazmeV3zh0IfpVERHKeS4nslv1JXzhuZheb2VJguff5PDPrF/SaiYjkoJRkC3gJRycN9kAf4DpgJ4BzbiHQIIh1EhHJcS4l8CUcBTQaxzm33uy4b7Msv+FcRCQ3ivQ0TiDBfr2ZXQI4M8sDdAaWBbdaIiI5y0X2pJcBBfsOwDtAeWATMB54OJiVEhHJaVHfsnfO7QBa5kBdRERCJlw7XgMVyGicqmb2rZltN7NtZjbGzKrmROVERHKKS7GAl3AUyGicz4BRQFmgHPAFMCKYlRIRyWnOWcBLOAok2Od3zg13ziV5yydAXLArJiKSk6J26KWZFfNWfzSzp4CR+OfKuQv4IQfqJiKSY1LCtMUeqIw6aOfiD+5H/wUeTLPNAd2DVSkRkZwWrumZQGU0N06VnKyIiEgoRfponICeoDWzc4CapMnVO+eGBatSIiI5LVxH2QTqpMHezHoADfEH+x+AG4AZgIK9iESMSM/ZBzIa53agEbDFOdcaOA8oHNRaiYjkMA29hIPOuRQgycwKAduAisGtlohIznIu8OVkzKyImX1pZsvNbJk3VXwxM5toZiu8n0W9fc3M+prZSjNbZGZ10pynlbf/CjNrdSr3F0iwn2NmRYAP8I/QmQf8cioXFRHJbVKcBbwE4B1gnHPuLPzZkGXAU8Bk51x1YLL3Gfyp8ere0h7oD6nD33sAFwH1gB5HvyCyIpC5cTp6qwPMbBxQyDm3KKsXFBHJjVKyqYPWzArjf+fH/QDOucPAYTNrir//E2Ao8DPwJNAUGOacc8As76+Cst6+E51zCd55JwLXk8UZDDJ6qKpORtucc/OyckERkdwoMx20ZtYefyv8qEHOuUHeehVgO/CRmZ2HPyPSGSjtnNvs7bMFKO2tlwfWpznXBq/sROVZklHL/q0MtjngqqxeNBB9Nk0L5uklTB3cND3UVZAIlZmOVy+wDzrBZh9QB+jknPvVzN7hWMrm6PHOzHJ0Bv2MHqq6MicrIiISStk49HIDsME596v3+Uv8wX6rmZV1zm320jTbvO0bOX7QSwWvbCPH0j5Hy3/OaqUC6aAVEYl4LhNLhudxbgv+N/zV8IoaAUuBscDRETWtgDHe+ljgPm9UTn0g0Uv3jAeuNbOiXsfstV5ZlgT0BK2ISKRLTsnWtm8n4FMzywusAlrjb1yPMrO2wFrgTm/fH4DGwErggLcvzrkEM3sJmO3t9+LRztqsULAXEQGyc+Zi59wCoG46mxqls6/jBK96dc4NAYZkR50CeVOVmdk9Zva897mSmdXLjouLiOQWDgt4CUeB/N3SD7gYaOF93gu8H7QaiYiEQIoLfAlHgaRxLnLO1TGz+QDOuV1eHkpEJGKkhGmLPVCBBPsjZhaL1wltZiXJ3vSWiEjIhWt6JlCBBPu+wNdAKTPrhX8WzGeDWisRkRyWHO3B3jn3qZnNxd+LbEAz59yyoNdMRCQHRXq6IpCXl1TCP/bz27Rlzrl1wayYiEhOivpgD3zPsRePx+Gf5OcP4Owg1ktEJEdFfc7eOXdu2s/ebJgdT7C7iEhYivBX0Gb+CVrn3DwzuygYlRERCZWoH3ppZo+l+RiDf+rOTUGrkYhICCSHugJBFkjLvmCa9ST8OfzRwamOiEhopFgUt+y9h6kKOue65VB9RERCIkxnQQhYRq8l9Dnnkszs0pyskIhIKETz0Mvf8OfnF5jZWOALYP/Rjc65r4JcNxGRHKPROP6x9Tvxv3P26Hh7ByjYi0jEiObpEkp5I3F+51iQPyrS01siEmWiuWUfCxSAdL/uFOxFJKJEc85+s3PuxRyriYhICEV6CzajYB/hf9SIiBwTzWmcf70YV0QkUkVtGsc5l5CTFRERCaXkKG7Zi4hEjaht2YuIRBMFexGRKBDNo3FERKJGNI/GERGJGkrjiIhEAb28REQkCiiNIyISBZTGERGJAhqNIyISBVIiPNwr2IuIEPkdtDGhroCISG6QkoklEGYWa2bzzew773MVM/vVzFaa2edmltcrz+d9Xultr5zmHN298j/M7LpTuT8FexER/KNxAl0C1BlYlubz68DbzrlqwC6grVfeFtjllb/t7YeZ1QSaA2cD1wP9zCw2q/enYC8igj9nH+hyMmZWAbgR+ND7bPjf4/2lt8tQoJm33tT7jLe9kbd/U2Ckc+5v59xqYCVQL6v3p2AvIoJ/NE6gSwD6AE9wLOtTHNjtnEvyPm8Aynvr5YH1AN72RG//1PJ0jsk0BXsRETKXszez9mY2J83S/uh5zOwmYJtzbm5O30NGNBpHRARIzsTQS+fcIGDQCTZfCtxsZo2BOKAQ8A5QxMx8Xuu9ArDR238jUBHYYGY+oDCwM035UWmPyTS17HOBzo+2Y+GCn1gwfzKfDH+ffPnyMWzouyz5fRoL5k/mg0Fv4fP5v5dbtLiFeXMnMn/eJKZPHUOtWjVDXHs5Fc++0psGNzan2T0dUsvG/zSdpi0f5NzLGvP7sj+P2/+DYZ9zw51tuKn5A8z89VjDcfiob2h2TweatnyQ4Z9/HdC55HjZNRrHOdfdOVfBOVcZfwfrT865lsAU4HZvt1bAGG99rPcZb/tPzjnnlTf3RutUAaoDv2X1/hTsQ6xcuTI88nAbLqrfmPNrNyI2Npa77mzKiBFfc/Y5DTi/diPi4+No2+ZuANasXs9VjW6ndp2r6fVKHwb0ez3EdyCnolnjaxjQ++XjyqpVPZ0+rzzHBeefc1z5X6vX8uPkqYz5ZAADer/MS2++R3JyMitWrWH02HGM+LAPo4f2Y+r//ca6DZsyPJf8W3Z20J7Ak8BjZrYSf05+sFc+GCjulT8GPAXgnFsCjAKWAuOAh51zWX4cQGmcXMDn8xEfH8eRI0fIHx/P5s1bmDhpWur22bMXUKFCWQB+mTUntXzWr/MoX75sjtdXsk/d889l4+atx5WdUblSuvv+NH0WNzS6grx581KhXBkqVSjH4mV/snXbDs49uwbxcXGp55w0dSZtWt5xwnPJvwXj+Vnn3M/Az976KtIZTeOcOwTccYLjewG9sqMuatmH2KZNW+j99gBW//UbG9bNJ3HPnuMCvc/no2XL2xg/fsq/jm3Tujnj0imXyLRt+07KlC6Z+rl0qRJs276DalVPZ97CJexO3MPBQ4eY/ststmzdHsKahqfsfqgqt1HLPsSKFCnMzU2uo9qZ9dm9ew+fjxzI3XffymeffQXAe+++wvTpvzJj5vGpuoZXXELr1i24ouEtoai25CJnVK5Em5Z30L7rM8THxVGjelViYtSOy6zMdNCGI/1GhFijRpezes06duxIICkpia+/+ZGL69cF4Llnu1KyZHG6/bfnccece+5/GDjgDW69rQ0JCbtCUGsJhVIlix/XYt+6bQelSpYA4LYm1zFqyLsM7fcGhQoWpHKlCqGqZtjKgZx9SCnYh9j6dRu56KI6xMf7861XXXkZy5evoE3rFlx7TUNa3vMw/o55v4oVy/HF5x9wf+vOrFixKlTVlhC48rL6/Dh5KocPH2bDpi2s27CJc/9zJgA7d+0GYPOWbUyeOpPG1zQMXUXDVDY/VJXrWNpAkpv48pbPnRULgh7PP84dd9xMUlISCxYsof2D3dizewVr125g7779AHzzzQ+83KuPv0V/S2PWrvMPt01KSqL+xY1DWf0cdXDT9FBXIVv9t8drzJ6/iN2791C8WBE6tr2XwoUK8Orb/UnYnUjBAgU4q3pVBr3t76MbOHQEX383AV9sLE92fpDLL74QgPse6sbuPXvw+Xw80akd9evWBmDS1JknPFckyVOi6im/Z+rByncEHHMGrvki7N5rpWAvYSXSgr1kj+wI9u0yEew/CMNgrw5aERHAhW2CJjA5nrM3s9YZbEudbyIlZX9OVktEolwyLuAlHIWig/aFE21wzg1yztV1ztWNiTktJ+skIlEu0sfZByXYm9miEyyLgdLBuGa4iImJYfZv4xnz9dB0t99+exMWLZzCwgU/MXzYe6nl33/7CTu2Lf3XccOGvsu8uRN5+aWnUsue7t6Zm28+pZfaSJDt2buPrs+8TJMW7Whyd3sW/L6MN9/7kCYt2nHLfQ/xaPcX2bN3X7rHpjefDsDyP//i7nZduK3Vw9zZ5lEWL/0DgIlTZtC05YP+TtzEPQCs27CJx597Nbg3GWZSnAt4CUfBatmXBu4DmqSz7AzSNcPCo50eYPnyFeluq1atCk8+8QgNrmjGeedfxWOP90jd9lbvAdzfuvNx+5977n84ePAQdS64hroXnEehQgUpU6YU9erVZuzY8UG9Dzk1r/UZwKUX1eXbER/w1dD3qXp6RS6+sDZfDx/A18P6U7lieT4c/nm6x6Y3nw7AW/0G81Cblowe+j6PPHAPb/XzT73y6eixjBz8Dnc0a8z3E/xPXL/7wTAebX9f8G4wDEX60MtgBfvvgALOubX/WNbgzRMRjcqXL0vjGxoxZMiIdLc/0PZu+vf/mN27EwHYvv3Y9+JPU2aw9x8tvSNHjhAfH4eZkSePj+TkZHr26MYLL7wZvJuQU7Z3337mLvyd25r4//rKkycPhQoW4NKLLsDn8791rtbZZ7F12450j697/rkULlTwX+Vmxr79BwDYt/8ApUoUByDGYjh8+AiHDh3C5/Mxd8HvlChWlNMrZvk9GBEp0h+qCspoHOdc2wy23R2Ma4aD3m+9wFPdX6ZgwQLpbq9evSoA037+htjYWF586S3GT/j5hOdbvnwl27cnMPu38Xz66WiqVatCTEwM8xf8HozqSzbZuGkLRYsU5tlevflj5Spq1qjOU106kN97sA7g6+8ncH2jKzJ13ic7P8iDjz3Lm+9/iEtxfDLwLQAeuPdO2nV5mpIlivHa80/w2LO9ePPF7tl6T5Eg0kfjaOhlDrmx8dVs27aDefMXc0WDi9Pdxxfro1q1Klx19e1UqFCWKZO/4vw6jUj08qzpebzbsVTPN19/zEMdn6T7U49Sq1ZNJk2axuAhn2X7vcipSUpOZtmfK3m660PUOvssXu0zgMHDR9HJS6sMHDqC2NhYbrr2ykyd9/Ovv+fJTu255srLGDd5Gs+/2ocP33mVS+rV4ZJ6dQAY8+MkGlx8IWvWbeDjEaMpVLAgT3V5MHXGzGiWFOHBXtMl5JBLLqlLk5uuZeWfs/j0k35ceeWlDP2473H7bNi4mW+/nUBSUhJr1qxnxYpVVK9WJaDzN2lyLfPmLaJAgdOoWvV0WtzdgdtuvTF1GgbJPcqUKkHpkiWodfZZAFzb8DKW/rkSgG++n8i0mb/xeo8n8L9zOnBjf5zE1Q0vBeC6qy5P7aA96uChQ4z5YRLNb2vC+4M/odez3ahTq2ZqHj/auUz8F44U7HPIM8++RuWqdal2Zn1a3tORKVNm0ur+R4/bZ+zYcVxxxSUAFC9elOrVq7Jq9bqTntvn89G5UzveeLMf8fFxqXPpxMbGkjdv3uy/GTklJYoXo0ypkqxeuwGAWXMXcEblSsyYNYchn33Bu6/3yFJLu2SJ4syevxiAX+cu+FdO/qPPRtPyjpvJ4/Px99+HMQOLieHgob9P/aYiQKQPvVQaJ8R69ujGnLkL+e67iYyf8DPXXH0FixZOITk5mSe7v5Q6q+XPP31FjRrVKFAgP2tWzaH9g48zYeJUADo+dD/Dhn/BwYOHWLRoKfnzxzN/3iTGjfspwxSQhM7TXR/iyRf+x5GkI1QsV5aXnu5K8wc6c/jIEdp1eQbwd9L2eKIT27bvpMdrfej/1kvA8fPpNGp2Dx3b3sttTa7jhScf5bV3BpKUnEy+vHnp8cSxxsS27TtZvPQPOrZpCcDdt99M87adKViwAH1ffS7n/wFyodw6dUx20dw4ElY0N46kJzvmxmla6aaAY86Ydd9pbhwRkXAUrtMgBErBXkQEwnb8fKAU7EVEiPycvYK9iAjhO8omUAr2IiLoCVoRkaignL2ISBRIdpGdyFGwFxFBaRwRkagQri8lCZSCvYgI4ftSkkAp2IuIoA5aEZGooGAvIhIFNBpHRCQKaDSOiEgU0Nw4IiJRINJz9notoYgI/pZ9oEtGzKyimU0xs6VmtsTMOnvlxcxsopmt8H4W9crNzPqa2UozW2RmddKcq5W3/woza3Uq96dgLyICJJMS8HISScDjzrmaQH3gYTOrCTwFTHbOVQcme58BbgCqe0t7oD/4vxyAHsBFQD2gx9EviKxQsBcRwf8EbaBLRpxzm51z87z1vcAyoDzQFBjq7TYUaOatNwWGOb9ZQBEzKwtcB0x0ziU453YBE4Hrs3p/CvYiIvhH4wT6n5m1N7M5aZb26Z3TzCoDtYFfgdLOuc3epi1AaW+9PLA+zWEbvLITlWeJOmhFRMjc3DjOuUHAoIz2MbMCwGigi3Nuj9mxd5Q755yZ5WiPsFr2IiJkrmV/MmaWB3+g/9Q595VXvNVLz+D93OaVbwQqpjm8gld2ovIsUbAXESH7cvbmb8IPBpY553qn2TQWODqiphUwJk35fd6onPpAopfuGQ9ca2ZFvY7Za72yLFEaR0SEbJ0u4VLgXmCxmS3wyp4GXgNGmVlbYC1wp7ftB6AxsBI4ALQGcM4lmNlLwGxvvxedcwlZrZTl1qfGfHnL586KSUgd3DQ91FWQXChPiap28r0yVrVE7YBjzqod80/5ejlNLXsREcBpIjQRkcgX6dMlKNiLiKCJ0EREooJa9iIiUSA5RTl7EZGIp5eXiIhEAeXsRUSigHL2IiJRQC17EZEooA5aEZEooDSOiEgUUBpHRCQKZOblJeFIwV5EBI2zFxGJCmrZi4hEgRRNcSwiEvnUQSsiEgUU7EVEokBkh/pc/A5aOcbM2jvnBoW6HpK76PdCMiMm1BWQgLQPdQUkV9LvhQRMwV5EJAoo2IuIRAEF+/CgvKykR78XEjB10IqIRAG17EVEooCCvYhIFFCwz+XM7Hoz+8PMVprZU6Guj4SemQ0xs21m9nuo6yLhQ8E+FzOzWOB94AagJtDCzGqGtlaSC3wMXB/qSkh4UbDP3eoBK51zq5xzh4GRQNMQ10lCzDk3DUgIdT0kvCjY527lgfVpPm/wykREMkXBXkQkCijY524bgYppPlfwykREMkXBPnebDVQ3sypmlhdoDowNcZ1EJAwp2Odizrkk4BFgPLAMGOWcWxLaWkmomdkI4BeghpltMLO2oa6T5H6aLkFEJAqoZS8iEgUU7EVEooCCvYhIFFCwFxGJAgr2IiJRQMFeMmRmyWa2wMx+N7MvzCz/KZzrYzO73Vv/MKNJ3cysoZldkoVrrDGzEoGW/2OffZm8Vk8z65bZOoqEgoK9nMxB59z5zrlzgMNAh7QbzcyXlZM65x5wzi3NYJeGQKaDvYikT8FeMmM6UM1rdU83s7HAUjOLNbM3zGy2mS0yswcBzO89bz7+SUCpoycys5/NrK63fr2ZzTOzhWY22cwq4/9S6er9VXG5mZU0s9HeNWab2aXescXNbIKZLTGzDwE72U2Y2TdmNtc7pv0/tr3tlU82s5Je2RlmNs47ZrqZnZUt/5oiOShLrTKJPl4L/gZgnFdUBzjHObfaC5iJzrkLzSwfMNPMJgC1gRr45+IvDSwFhvzjvCWBD4AG3rmKOecSzGwAsM8596a332fA2865GWZWCf9Txf8BegAznHMvmtmNQCBPk7bxrhEPzDaz0c65ncBpwBznXFcze9479yP4X+zdwTm3wswuAvoBV2Xhn1EkZBTs5WTizWyBtz4dGIw/vfKbc261V34tUOtoPh4oDFQHGgAjnHPJwCYz+ymd89cHph09l3PuRPO0Xw3UNEttuBcyswLeNW71jv3ezHYFcE+Pmtkt3npFr647gRTgc6/8E+Ar7xqXAF+kuXa+AK4hkqso2MvJHHTOnZ+2wAt6+9MWAZ2cc+P/sV/jbKxHDFDfOXconboEzMwa4v/iuNg5d8DMfgbiTrC78667+5//BiLhRjl7yQ7jgYfMLA+AmZ1pZqcB04C7vJx+WeDKdI6dBTQwsyrescW88r1AwTT7TQA6Hf1gZud7q9OAu72yG4CiJ6lrYWCXF+jPwv+XxVExwNG/Tu7Gnx7aA6w2szu8a5iZnXeSa4jkOgr2kh0+xJ+Pn+e9BHsg/r8avwZWeNuG4Z+p8TjOue1Ae/wpk4UcS6N8C9xytIMWeBSo63UAL+XYqKAX8H9ZLMGfzll3krqOA3xmtgx4Df+XzVH7gXrePVwFvOiVtwTaevVbgl4NKWFIs16KiEQBtexFRKKAgr2ISBRQsBcRiQIK9iIiUUDBXkQkCijYi4hEAQV7EZEo8P9T5pWMmWU25wAAAABJRU5ErkJggg==\n"
          },
          "metadata": {
            "needs_background": "light"
          }
        }
      ]
    },
    {
      "cell_type": "code",
      "source": [
        "xgb_classifier_model_train_perf = model_performance_classification_sklearn(xgb_classifier,X_train,y_train)\n",
        "print(\"Training performance \\n\",xgb_classifier_model_train_perf)"
      ],
      "metadata": {
        "colab": {
          "base_uri": "https://localhost:8080/"
        },
        "id": "uTYcgYgPdPag",
        "outputId": "3ece0d86-79ea-451f-c9d4-eb179997ea1c"
      },
      "id": "uTYcgYgPdPag",
      "execution_count": null,
      "outputs": [
        {
          "output_type": "stream",
          "name": "stdout",
          "text": [
            "Training performance \n",
            "    Accuracy  Recall  Precision        F1\n",
            "0  0.838248   0.931   0.843166  0.884908\n"
          ]
        }
      ]
    },
    {
      "cell_type": "markdown",
      "source": [
        "\n",
        "\n",
        "*   XGBoost classifier is not over fit but the model performs as equal as adaboost but a little bit worse than the gradient boost model\n"
      ],
      "metadata": {
        "id": "REXtgWjQdfvU"
      },
      "id": "REXtgWjQdfvU"
    },
    {
      "cell_type": "markdown",
      "source": [
        "# XGBoost tuning"
      ],
      "metadata": {
        "id": "kuPD9KkGzW5x"
      },
      "id": "kuPD9KkGzW5x"
    },
    {
      "cell_type": "code",
      "source": [
        "xgb_tuned = XGBClassifier(random_state=1, eval_metric='logloss')\n",
        "\n",
        "parameters = {\"n_estimators\": np.arange(10,100,20),\n",
        "              \"scale_pos_weight\":[0,1,2,5],\n",
        "              \"subsample\":[0.5,0.7,0.9,1],\n",
        "              \"learning_rate\":[0.01,0.1,0.2,0.05],\n",
        "              \"gamma\":[0,1,3],\n",
        "              \"colsample_bytree\":[0.5,0.7,0.9,1],\n",
        "              \"colsample_bylevel\":[0.5,0.7,0.9,1]}\n",
        "\n",
        "scorer = metrics.make_scorer(metrics.f1_score)\n",
        "\n",
        "rand_xgb = RandomizedSearchCV(xgb_tuned, parameters, scoring=scorer,cv=5, n_jobs=-1, random_state=1)\n",
        "rand_xgb = rand_xgb.fit(X_train, y_train)\n",
        "\n",
        "xgb_tuned = rand_xgb.best_estimator_\n",
        "\n",
        "xgb_tuned.fit(X_train, y_train)"
      ],
      "metadata": {
        "colab": {
          "base_uri": "https://localhost:8080/",
          "height": 237
        },
        "id": "gj9S3Vrzzc-W",
        "outputId": "1f225c01-ccd7-4812-f955-aa2e27c3c62f"
      },
      "id": "gj9S3Vrzzc-W",
      "execution_count": null,
      "outputs": [
        {
          "output_type": "execute_result",
          "data": {
            "text/plain": [
              "XGBClassifier(base_score=None, booster=None, callbacks=None,\n",
              "              colsample_bylevel=0.9, colsample_bynode=None,\n",
              "              colsample_bytree=0.5, early_stopping_rounds=None,\n",
              "              enable_categorical=False, eval_metric='logloss',\n",
              "              feature_types=None, gamma=0, gpu_id=None, grow_policy=None,\n",
              "              importance_type=None, interaction_constraints=None,\n",
              "              learning_rate=0.1, max_bin=None, max_cat_threshold=None,\n",
              "              max_cat_to_onehot=None, max_delta_step=None, max_depth=None,\n",
              "              max_leaves=None, min_child_weight=None, missing=nan,\n",
              "              monotone_constraints=None, n_estimators=70, n_jobs=None,\n",
              "              num_parallel_tree=None, predictor=None, random_state=1, ...)"
            ],
            "text/html": [
              "<style>#sk-container-id-8 {color: black;background-color: white;}#sk-container-id-8 pre{padding: 0;}#sk-container-id-8 div.sk-toggleable {background-color: white;}#sk-container-id-8 label.sk-toggleable__label {cursor: pointer;display: block;width: 100%;margin-bottom: 0;padding: 0.3em;box-sizing: border-box;text-align: center;}#sk-container-id-8 label.sk-toggleable__label-arrow:before {content: \"▸\";float: left;margin-right: 0.25em;color: #696969;}#sk-container-id-8 label.sk-toggleable__label-arrow:hover:before {color: black;}#sk-container-id-8 div.sk-estimator:hover label.sk-toggleable__label-arrow:before {color: black;}#sk-container-id-8 div.sk-toggleable__content {max-height: 0;max-width: 0;overflow: hidden;text-align: left;background-color: #f0f8ff;}#sk-container-id-8 div.sk-toggleable__content pre {margin: 0.2em;color: black;border-radius: 0.25em;background-color: #f0f8ff;}#sk-container-id-8 input.sk-toggleable__control:checked~div.sk-toggleable__content {max-height: 200px;max-width: 100%;overflow: auto;}#sk-container-id-8 input.sk-toggleable__control:checked~label.sk-toggleable__label-arrow:before {content: \"▾\";}#sk-container-id-8 div.sk-estimator input.sk-toggleable__control:checked~label.sk-toggleable__label {background-color: #d4ebff;}#sk-container-id-8 div.sk-label input.sk-toggleable__control:checked~label.sk-toggleable__label {background-color: #d4ebff;}#sk-container-id-8 input.sk-hidden--visually {border: 0;clip: rect(1px 1px 1px 1px);clip: rect(1px, 1px, 1px, 1px);height: 1px;margin: -1px;overflow: hidden;padding: 0;position: absolute;width: 1px;}#sk-container-id-8 div.sk-estimator {font-family: monospace;background-color: #f0f8ff;border: 1px dotted black;border-radius: 0.25em;box-sizing: border-box;margin-bottom: 0.5em;}#sk-container-id-8 div.sk-estimator:hover {background-color: #d4ebff;}#sk-container-id-8 div.sk-parallel-item::after {content: \"\";width: 100%;border-bottom: 1px solid gray;flex-grow: 1;}#sk-container-id-8 div.sk-label:hover label.sk-toggleable__label {background-color: #d4ebff;}#sk-container-id-8 div.sk-serial::before {content: \"\";position: absolute;border-left: 1px solid gray;box-sizing: border-box;top: 0;bottom: 0;left: 50%;z-index: 0;}#sk-container-id-8 div.sk-serial {display: flex;flex-direction: column;align-items: center;background-color: white;padding-right: 0.2em;padding-left: 0.2em;position: relative;}#sk-container-id-8 div.sk-item {position: relative;z-index: 1;}#sk-container-id-8 div.sk-parallel {display: flex;align-items: stretch;justify-content: center;background-color: white;position: relative;}#sk-container-id-8 div.sk-item::before, #sk-container-id-8 div.sk-parallel-item::before {content: \"\";position: absolute;border-left: 1px solid gray;box-sizing: border-box;top: 0;bottom: 0;left: 50%;z-index: -1;}#sk-container-id-8 div.sk-parallel-item {display: flex;flex-direction: column;z-index: 1;position: relative;background-color: white;}#sk-container-id-8 div.sk-parallel-item:first-child::after {align-self: flex-end;width: 50%;}#sk-container-id-8 div.sk-parallel-item:last-child::after {align-self: flex-start;width: 50%;}#sk-container-id-8 div.sk-parallel-item:only-child::after {width: 0;}#sk-container-id-8 div.sk-dashed-wrapped {border: 1px dashed gray;margin: 0 0.4em 0.5em 0.4em;box-sizing: border-box;padding-bottom: 0.4em;background-color: white;}#sk-container-id-8 div.sk-label label {font-family: monospace;font-weight: bold;display: inline-block;line-height: 1.2em;}#sk-container-id-8 div.sk-label-container {text-align: center;}#sk-container-id-8 div.sk-container {/* jupyter's `normalize.less` sets `[hidden] { display: none; }` but bootstrap.min.css set `[hidden] { display: none !important; }` so we also need the `!important` here to be able to override the default hidden behavior on the sphinx rendered scikit-learn.org. See: https://github.com/scikit-learn/scikit-learn/issues/21755 */display: inline-block !important;position: relative;}#sk-container-id-8 div.sk-text-repr-fallback {display: none;}</style><div id=\"sk-container-id-8\" class=\"sk-top-container\"><div class=\"sk-text-repr-fallback\"><pre>XGBClassifier(base_score=None, booster=None, callbacks=None,\n",
              "              colsample_bylevel=0.9, colsample_bynode=None,\n",
              "              colsample_bytree=0.5, early_stopping_rounds=None,\n",
              "              enable_categorical=False, eval_metric=&#x27;logloss&#x27;,\n",
              "              feature_types=None, gamma=0, gpu_id=None, grow_policy=None,\n",
              "              importance_type=None, interaction_constraints=None,\n",
              "              learning_rate=0.1, max_bin=None, max_cat_threshold=None,\n",
              "              max_cat_to_onehot=None, max_delta_step=None, max_depth=None,\n",
              "              max_leaves=None, min_child_weight=None, missing=nan,\n",
              "              monotone_constraints=None, n_estimators=70, n_jobs=None,\n",
              "              num_parallel_tree=None, predictor=None, random_state=1, ...)</pre><b>In a Jupyter environment, please rerun this cell to show the HTML representation or trust the notebook. <br />On GitHub, the HTML representation is unable to render, please try loading this page with nbviewer.org.</b></div><div class=\"sk-container\" hidden><div class=\"sk-item\"><div class=\"sk-estimator sk-toggleable\"><input class=\"sk-toggleable__control sk-hidden--visually\" id=\"sk-estimator-id-8\" type=\"checkbox\" checked><label for=\"sk-estimator-id-8\" class=\"sk-toggleable__label sk-toggleable__label-arrow\">XGBClassifier</label><div class=\"sk-toggleable__content\"><pre>XGBClassifier(base_score=None, booster=None, callbacks=None,\n",
              "              colsample_bylevel=0.9, colsample_bynode=None,\n",
              "              colsample_bytree=0.5, early_stopping_rounds=None,\n",
              "              enable_categorical=False, eval_metric=&#x27;logloss&#x27;,\n",
              "              feature_types=None, gamma=0, gpu_id=None, grow_policy=None,\n",
              "              importance_type=None, interaction_constraints=None,\n",
              "              learning_rate=0.1, max_bin=None, max_cat_threshold=None,\n",
              "              max_cat_to_onehot=None, max_delta_step=None, max_depth=None,\n",
              "              max_leaves=None, min_child_weight=None, missing=nan,\n",
              "              monotone_constraints=None, n_estimators=70, n_jobs=None,\n",
              "              num_parallel_tree=None, predictor=None, random_state=1, ...)</pre></div></div></div></div></div>"
            ]
          },
          "metadata": {},
          "execution_count": 39
        }
      ]
    },
    {
      "cell_type": "code",
      "source": [
        " xgb_tuned_model_train_perf = model_performance_classification_sklearn(xgb_tuned,X_train,y_train)\n",
        "print(\"Training performance \\n\",xgb_tuned)"
      ],
      "metadata": {
        "colab": {
          "base_uri": "https://localhost:8080/"
        },
        "id": "4KUipBGfQ-Pa",
        "outputId": "8e7413c1-37e9-4128-e0c1-30d9afb22e77"
      },
      "id": "4KUipBGfQ-Pa",
      "execution_count": null,
      "outputs": [
        {
          "output_type": "stream",
          "name": "stdout",
          "text": [
            "Training performance \n",
            " XGBClassifier(base_score=None, booster=None, callbacks=None,\n",
            "              colsample_bylevel=0.9, colsample_bynode=None,\n",
            "              colsample_bytree=0.5, early_stopping_rounds=None,\n",
            "              enable_categorical=False, eval_metric='logloss',\n",
            "              feature_types=None, gamma=0, gpu_id=None, grow_policy=None,\n",
            "              importance_type=None, interaction_constraints=None,\n",
            "              learning_rate=0.1, max_bin=None, max_cat_threshold=None,\n",
            "              max_cat_to_onehot=None, max_delta_step=None, max_depth=None,\n",
            "              max_leaves=None, min_child_weight=None, missing=nan,\n",
            "              monotone_constraints=None, n_estimators=70, n_jobs=None,\n",
            "              num_parallel_tree=None, predictor=None, random_state=1, ...)\n"
          ]
        }
      ]
    },
    {
      "cell_type": "code",
      "source": [
        "xgb_tuned.fit(X_test, y_test)"
      ],
      "metadata": {
        "colab": {
          "base_uri": "https://localhost:8080/",
          "height": 237
        },
        "id": "l4k9d_9UU4aY",
        "outputId": "55684372-53ae-4f06-99e8-d37bebd25b2a"
      },
      "id": "l4k9d_9UU4aY",
      "execution_count": null,
      "outputs": [
        {
          "output_type": "execute_result",
          "data": {
            "text/plain": [
              "XGBClassifier(base_score=None, booster=None, callbacks=None,\n",
              "              colsample_bylevel=0.9, colsample_bynode=None,\n",
              "              colsample_bytree=0.5, early_stopping_rounds=None,\n",
              "              enable_categorical=False, eval_metric='logloss',\n",
              "              feature_types=None, gamma=0, gpu_id=None, grow_policy=None,\n",
              "              importance_type=None, interaction_constraints=None,\n",
              "              learning_rate=0.1, max_bin=None, max_cat_threshold=None,\n",
              "              max_cat_to_onehot=None, max_delta_step=None, max_depth=None,\n",
              "              max_leaves=None, min_child_weight=None, missing=nan,\n",
              "              monotone_constraints=None, n_estimators=70, n_jobs=None,\n",
              "              num_parallel_tree=None, predictor=None, random_state=1, ...)"
            ],
            "text/html": [
              "<style>#sk-container-id-18 {color: black;background-color: white;}#sk-container-id-18 pre{padding: 0;}#sk-container-id-18 div.sk-toggleable {background-color: white;}#sk-container-id-18 label.sk-toggleable__label {cursor: pointer;display: block;width: 100%;margin-bottom: 0;padding: 0.3em;box-sizing: border-box;text-align: center;}#sk-container-id-18 label.sk-toggleable__label-arrow:before {content: \"▸\";float: left;margin-right: 0.25em;color: #696969;}#sk-container-id-18 label.sk-toggleable__label-arrow:hover:before {color: black;}#sk-container-id-18 div.sk-estimator:hover label.sk-toggleable__label-arrow:before {color: black;}#sk-container-id-18 div.sk-toggleable__content {max-height: 0;max-width: 0;overflow: hidden;text-align: left;background-color: #f0f8ff;}#sk-container-id-18 div.sk-toggleable__content pre {margin: 0.2em;color: black;border-radius: 0.25em;background-color: #f0f8ff;}#sk-container-id-18 input.sk-toggleable__control:checked~div.sk-toggleable__content {max-height: 200px;max-width: 100%;overflow: auto;}#sk-container-id-18 input.sk-toggleable__control:checked~label.sk-toggleable__label-arrow:before {content: \"▾\";}#sk-container-id-18 div.sk-estimator input.sk-toggleable__control:checked~label.sk-toggleable__label {background-color: #d4ebff;}#sk-container-id-18 div.sk-label input.sk-toggleable__control:checked~label.sk-toggleable__label {background-color: #d4ebff;}#sk-container-id-18 input.sk-hidden--visually {border: 0;clip: rect(1px 1px 1px 1px);clip: rect(1px, 1px, 1px, 1px);height: 1px;margin: -1px;overflow: hidden;padding: 0;position: absolute;width: 1px;}#sk-container-id-18 div.sk-estimator {font-family: monospace;background-color: #f0f8ff;border: 1px dotted black;border-radius: 0.25em;box-sizing: border-box;margin-bottom: 0.5em;}#sk-container-id-18 div.sk-estimator:hover {background-color: #d4ebff;}#sk-container-id-18 div.sk-parallel-item::after {content: \"\";width: 100%;border-bottom: 1px solid gray;flex-grow: 1;}#sk-container-id-18 div.sk-label:hover label.sk-toggleable__label {background-color: #d4ebff;}#sk-container-id-18 div.sk-serial::before {content: \"\";position: absolute;border-left: 1px solid gray;box-sizing: border-box;top: 0;bottom: 0;left: 50%;z-index: 0;}#sk-container-id-18 div.sk-serial {display: flex;flex-direction: column;align-items: center;background-color: white;padding-right: 0.2em;padding-left: 0.2em;position: relative;}#sk-container-id-18 div.sk-item {position: relative;z-index: 1;}#sk-container-id-18 div.sk-parallel {display: flex;align-items: stretch;justify-content: center;background-color: white;position: relative;}#sk-container-id-18 div.sk-item::before, #sk-container-id-18 div.sk-parallel-item::before {content: \"\";position: absolute;border-left: 1px solid gray;box-sizing: border-box;top: 0;bottom: 0;left: 50%;z-index: -1;}#sk-container-id-18 div.sk-parallel-item {display: flex;flex-direction: column;z-index: 1;position: relative;background-color: white;}#sk-container-id-18 div.sk-parallel-item:first-child::after {align-self: flex-end;width: 50%;}#sk-container-id-18 div.sk-parallel-item:last-child::after {align-self: flex-start;width: 50%;}#sk-container-id-18 div.sk-parallel-item:only-child::after {width: 0;}#sk-container-id-18 div.sk-dashed-wrapped {border: 1px dashed gray;margin: 0 0.4em 0.5em 0.4em;box-sizing: border-box;padding-bottom: 0.4em;background-color: white;}#sk-container-id-18 div.sk-label label {font-family: monospace;font-weight: bold;display: inline-block;line-height: 1.2em;}#sk-container-id-18 div.sk-label-container {text-align: center;}#sk-container-id-18 div.sk-container {/* jupyter's `normalize.less` sets `[hidden] { display: none; }` but bootstrap.min.css set `[hidden] { display: none !important; }` so we also need the `!important` here to be able to override the default hidden behavior on the sphinx rendered scikit-learn.org. See: https://github.com/scikit-learn/scikit-learn/issues/21755 */display: inline-block !important;position: relative;}#sk-container-id-18 div.sk-text-repr-fallback {display: none;}</style><div id=\"sk-container-id-18\" class=\"sk-top-container\"><div class=\"sk-text-repr-fallback\"><pre>XGBClassifier(base_score=None, booster=None, callbacks=None,\n",
              "              colsample_bylevel=0.9, colsample_bynode=None,\n",
              "              colsample_bytree=0.5, early_stopping_rounds=None,\n",
              "              enable_categorical=False, eval_metric=&#x27;logloss&#x27;,\n",
              "              feature_types=None, gamma=0, gpu_id=None, grow_policy=None,\n",
              "              importance_type=None, interaction_constraints=None,\n",
              "              learning_rate=0.1, max_bin=None, max_cat_threshold=None,\n",
              "              max_cat_to_onehot=None, max_delta_step=None, max_depth=None,\n",
              "              max_leaves=None, min_child_weight=None, missing=nan,\n",
              "              monotone_constraints=None, n_estimators=70, n_jobs=None,\n",
              "              num_parallel_tree=None, predictor=None, random_state=1, ...)</pre><b>In a Jupyter environment, please rerun this cell to show the HTML representation or trust the notebook. <br />On GitHub, the HTML representation is unable to render, please try loading this page with nbviewer.org.</b></div><div class=\"sk-container\" hidden><div class=\"sk-item\"><div class=\"sk-estimator sk-toggleable\"><input class=\"sk-toggleable__control sk-hidden--visually\" id=\"sk-estimator-id-22\" type=\"checkbox\" checked><label for=\"sk-estimator-id-22\" class=\"sk-toggleable__label sk-toggleable__label-arrow\">XGBClassifier</label><div class=\"sk-toggleable__content\"><pre>XGBClassifier(base_score=None, booster=None, callbacks=None,\n",
              "              colsample_bylevel=0.9, colsample_bynode=None,\n",
              "              colsample_bytree=0.5, early_stopping_rounds=None,\n",
              "              enable_categorical=False, eval_metric=&#x27;logloss&#x27;,\n",
              "              feature_types=None, gamma=0, gpu_id=None, grow_policy=None,\n",
              "              importance_type=None, interaction_constraints=None,\n",
              "              learning_rate=0.1, max_bin=None, max_cat_threshold=None,\n",
              "              max_cat_to_onehot=None, max_delta_step=None, max_depth=None,\n",
              "              max_leaves=None, min_child_weight=None, missing=nan,\n",
              "              monotone_constraints=None, n_estimators=70, n_jobs=None,\n",
              "              num_parallel_tree=None, predictor=None, random_state=1, ...)</pre></div></div></div></div></div>"
            ]
          },
          "metadata": {},
          "execution_count": 136
        }
      ]
    },
    {
      "cell_type": "code",
      "source": [
        "xgb_tuned_model_test_perf = model_performance_classification_sklearn(xgb_tuned,X_test,y_test)\n",
        "print(\"Testing performance \\n\",xgb_tuned)"
      ],
      "metadata": {
        "colab": {
          "base_uri": "https://localhost:8080/"
        },
        "id": "mXcDWsflU2Ux",
        "outputId": "92ac305d-d85c-4e1e-d0cd-1de2886e9b4a"
      },
      "id": "mXcDWsflU2Ux",
      "execution_count": null,
      "outputs": [
        {
          "output_type": "stream",
          "name": "stdout",
          "text": [
            "Testing performance \n",
            " XGBClassifier(base_score=None, booster=None, callbacks=None,\n",
            "              colsample_bylevel=0.9, colsample_bynode=None,\n",
            "              colsample_bytree=0.5, early_stopping_rounds=None,\n",
            "              enable_categorical=False, eval_metric='logloss',\n",
            "              feature_types=None, gamma=0, gpu_id=None, grow_policy=None,\n",
            "              importance_type=None, interaction_constraints=None,\n",
            "              learning_rate=0.1, max_bin=None, max_cat_threshold=None,\n",
            "              max_cat_to_onehot=None, max_delta_step=None, max_depth=None,\n",
            "              max_leaves=None, min_child_weight=None, missing=nan,\n",
            "              monotone_constraints=None, n_estimators=70, n_jobs=None,\n",
            "              num_parallel_tree=None, predictor=None, random_state=1, ...)\n"
          ]
        }
      ]
    },
    {
      "cell_type": "markdown",
      "source": [
        "## Stacking Classifier"
      ],
      "metadata": {
        "id": "m8vpkPbJghuy"
      },
      "id": "m8vpkPbJghuy"
    },
    {
      "cell_type": "code",
      "source": [
        "estimators = [\n",
        "    (\"AdaBoost\", ab_classifier),\n",
        "    (\"Gradient Boosting\", gb_tuned),\n",
        "    (\"Random Forest\", rf_estimator),\n",
        "]\n",
        "\n",
        "final_estimator = xgb_tuned\n"
      ],
      "metadata": {
        "id": "0197HMgwCZnK"
      },
      "id": "0197HMgwCZnK",
      "execution_count": null,
      "outputs": []
    },
    {
      "cell_type": "code",
      "source": [
        "stacking_classifier = xgb_tuned\n",
        "\n",
        "stacking_classifier.fit(X_train,y_train)"
      ],
      "metadata": {
        "colab": {
          "base_uri": "https://localhost:8080/",
          "height": 237
        },
        "id": "kqr746BJGdUR",
        "outputId": "23a493a9-2bda-47fb-9881-0799206e80a4"
      },
      "id": "kqr746BJGdUR",
      "execution_count": null,
      "outputs": [
        {
          "output_type": "execute_result",
          "data": {
            "text/plain": [
              "XGBClassifier(base_score=None, booster=None, callbacks=None,\n",
              "              colsample_bylevel=0.9, colsample_bynode=None,\n",
              "              colsample_bytree=0.5, early_stopping_rounds=None,\n",
              "              enable_categorical=False, eval_metric='logloss',\n",
              "              feature_types=None, gamma=0, gpu_id=None, grow_policy=None,\n",
              "              importance_type=None, interaction_constraints=None,\n",
              "              learning_rate=0.1, max_bin=None, max_cat_threshold=None,\n",
              "              max_cat_to_onehot=None, max_delta_step=None, max_depth=None,\n",
              "              max_leaves=None, min_child_weight=None, missing=nan,\n",
              "              monotone_constraints=None, n_estimators=70, n_jobs=None,\n",
              "              num_parallel_tree=None, predictor=None, random_state=1, ...)"
            ],
            "text/html": [
              "<style>#sk-container-id-19 {color: black;background-color: white;}#sk-container-id-19 pre{padding: 0;}#sk-container-id-19 div.sk-toggleable {background-color: white;}#sk-container-id-19 label.sk-toggleable__label {cursor: pointer;display: block;width: 100%;margin-bottom: 0;padding: 0.3em;box-sizing: border-box;text-align: center;}#sk-container-id-19 label.sk-toggleable__label-arrow:before {content: \"▸\";float: left;margin-right: 0.25em;color: #696969;}#sk-container-id-19 label.sk-toggleable__label-arrow:hover:before {color: black;}#sk-container-id-19 div.sk-estimator:hover label.sk-toggleable__label-arrow:before {color: black;}#sk-container-id-19 div.sk-toggleable__content {max-height: 0;max-width: 0;overflow: hidden;text-align: left;background-color: #f0f8ff;}#sk-container-id-19 div.sk-toggleable__content pre {margin: 0.2em;color: black;border-radius: 0.25em;background-color: #f0f8ff;}#sk-container-id-19 input.sk-toggleable__control:checked~div.sk-toggleable__content {max-height: 200px;max-width: 100%;overflow: auto;}#sk-container-id-19 input.sk-toggleable__control:checked~label.sk-toggleable__label-arrow:before {content: \"▾\";}#sk-container-id-19 div.sk-estimator input.sk-toggleable__control:checked~label.sk-toggleable__label {background-color: #d4ebff;}#sk-container-id-19 div.sk-label input.sk-toggleable__control:checked~label.sk-toggleable__label {background-color: #d4ebff;}#sk-container-id-19 input.sk-hidden--visually {border: 0;clip: rect(1px 1px 1px 1px);clip: rect(1px, 1px, 1px, 1px);height: 1px;margin: -1px;overflow: hidden;padding: 0;position: absolute;width: 1px;}#sk-container-id-19 div.sk-estimator {font-family: monospace;background-color: #f0f8ff;border: 1px dotted black;border-radius: 0.25em;box-sizing: border-box;margin-bottom: 0.5em;}#sk-container-id-19 div.sk-estimator:hover {background-color: #d4ebff;}#sk-container-id-19 div.sk-parallel-item::after {content: \"\";width: 100%;border-bottom: 1px solid gray;flex-grow: 1;}#sk-container-id-19 div.sk-label:hover label.sk-toggleable__label {background-color: #d4ebff;}#sk-container-id-19 div.sk-serial::before {content: \"\";position: absolute;border-left: 1px solid gray;box-sizing: border-box;top: 0;bottom: 0;left: 50%;z-index: 0;}#sk-container-id-19 div.sk-serial {display: flex;flex-direction: column;align-items: center;background-color: white;padding-right: 0.2em;padding-left: 0.2em;position: relative;}#sk-container-id-19 div.sk-item {position: relative;z-index: 1;}#sk-container-id-19 div.sk-parallel {display: flex;align-items: stretch;justify-content: center;background-color: white;position: relative;}#sk-container-id-19 div.sk-item::before, #sk-container-id-19 div.sk-parallel-item::before {content: \"\";position: absolute;border-left: 1px solid gray;box-sizing: border-box;top: 0;bottom: 0;left: 50%;z-index: -1;}#sk-container-id-19 div.sk-parallel-item {display: flex;flex-direction: column;z-index: 1;position: relative;background-color: white;}#sk-container-id-19 div.sk-parallel-item:first-child::after {align-self: flex-end;width: 50%;}#sk-container-id-19 div.sk-parallel-item:last-child::after {align-self: flex-start;width: 50%;}#sk-container-id-19 div.sk-parallel-item:only-child::after {width: 0;}#sk-container-id-19 div.sk-dashed-wrapped {border: 1px dashed gray;margin: 0 0.4em 0.5em 0.4em;box-sizing: border-box;padding-bottom: 0.4em;background-color: white;}#sk-container-id-19 div.sk-label label {font-family: monospace;font-weight: bold;display: inline-block;line-height: 1.2em;}#sk-container-id-19 div.sk-label-container {text-align: center;}#sk-container-id-19 div.sk-container {/* jupyter's `normalize.less` sets `[hidden] { display: none; }` but bootstrap.min.css set `[hidden] { display: none !important; }` so we also need the `!important` here to be able to override the default hidden behavior on the sphinx rendered scikit-learn.org. See: https://github.com/scikit-learn/scikit-learn/issues/21755 */display: inline-block !important;position: relative;}#sk-container-id-19 div.sk-text-repr-fallback {display: none;}</style><div id=\"sk-container-id-19\" class=\"sk-top-container\"><div class=\"sk-text-repr-fallback\"><pre>XGBClassifier(base_score=None, booster=None, callbacks=None,\n",
              "              colsample_bylevel=0.9, colsample_bynode=None,\n",
              "              colsample_bytree=0.5, early_stopping_rounds=None,\n",
              "              enable_categorical=False, eval_metric=&#x27;logloss&#x27;,\n",
              "              feature_types=None, gamma=0, gpu_id=None, grow_policy=None,\n",
              "              importance_type=None, interaction_constraints=None,\n",
              "              learning_rate=0.1, max_bin=None, max_cat_threshold=None,\n",
              "              max_cat_to_onehot=None, max_delta_step=None, max_depth=None,\n",
              "              max_leaves=None, min_child_weight=None, missing=nan,\n",
              "              monotone_constraints=None, n_estimators=70, n_jobs=None,\n",
              "              num_parallel_tree=None, predictor=None, random_state=1, ...)</pre><b>In a Jupyter environment, please rerun this cell to show the HTML representation or trust the notebook. <br />On GitHub, the HTML representation is unable to render, please try loading this page with nbviewer.org.</b></div><div class=\"sk-container\" hidden><div class=\"sk-item\"><div class=\"sk-estimator sk-toggleable\"><input class=\"sk-toggleable__control sk-hidden--visually\" id=\"sk-estimator-id-23\" type=\"checkbox\" checked><label for=\"sk-estimator-id-23\" class=\"sk-toggleable__label sk-toggleable__label-arrow\">XGBClassifier</label><div class=\"sk-toggleable__content\"><pre>XGBClassifier(base_score=None, booster=None, callbacks=None,\n",
              "              colsample_bylevel=0.9, colsample_bynode=None,\n",
              "              colsample_bytree=0.5, early_stopping_rounds=None,\n",
              "              enable_categorical=False, eval_metric=&#x27;logloss&#x27;,\n",
              "              feature_types=None, gamma=0, gpu_id=None, grow_policy=None,\n",
              "              importance_type=None, interaction_constraints=None,\n",
              "              learning_rate=0.1, max_bin=None, max_cat_threshold=None,\n",
              "              max_cat_to_onehot=None, max_delta_step=None, max_depth=None,\n",
              "              max_leaves=None, min_child_weight=None, missing=nan,\n",
              "              monotone_constraints=None, n_estimators=70, n_jobs=None,\n",
              "              num_parallel_tree=None, predictor=None, random_state=1, ...)</pre></div></div></div></div></div>"
            ]
          },
          "metadata": {},
          "execution_count": 167
        }
      ]
    },
    {
      "cell_type": "code",
      "source": [
        "confusion_matrix_sklearn(xgb_tuned, X_train,y_train)"
      ],
      "metadata": {
        "colab": {
          "base_uri": "https://localhost:8080/",
          "height": 278
        },
        "id": "0tDmcrAdG6If",
        "outputId": "b44fb644-809c-4760-e554-54e3157f1e33"
      },
      "id": "0tDmcrAdG6If",
      "execution_count": null,
      "outputs": [
        {
          "output_type": "display_data",
          "data": {
            "text/plain": [
              "<Figure size 432x288 with 2 Axes>"
            ],
            "image/png": "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\n"
          },
          "metadata": {
            "needs_background": "light"
          }
        }
      ]
    },
    {
      "cell_type": "code",
      "source": [
        "stacking_classifier_model_train_perf = model_performance_classification_sklearn(xgb_tuned, X_train, y_train)\n",
        "stacking_classifier_model_train_perf"
      ],
      "metadata": {
        "colab": {
          "base_uri": "https://localhost:8080/",
          "height": 78
        },
        "id": "JzE_uh-NHFww",
        "outputId": "e3db240f-320d-4d7c-9d8e-d11d59b07972"
      },
      "id": "JzE_uh-NHFww",
      "execution_count": null,
      "outputs": [
        {
          "output_type": "execute_result",
          "data": {
            "text/plain": [
              "   Accuracy    Recall  Precision        F1\n",
              "0  0.770801  0.889868    0.79248  0.838355"
            ],
            "text/html": [
              "\n",
              "  <div id=\"df-7f5c5218-e62f-4c90-888c-f8d67d4b085e\">\n",
              "    <div class=\"colab-df-container\">\n",
              "      <div>\n",
              "<style scoped>\n",
              "    .dataframe tbody tr th:only-of-type {\n",
              "        vertical-align: middle;\n",
              "    }\n",
              "\n",
              "    .dataframe tbody tr th {\n",
              "        vertical-align: top;\n",
              "    }\n",
              "\n",
              "    .dataframe thead th {\n",
              "        text-align: right;\n",
              "    }\n",
              "</style>\n",
              "<table border=\"1\" class=\"dataframe\">\n",
              "  <thead>\n",
              "    <tr style=\"text-align: right;\">\n",
              "      <th></th>\n",
              "      <th>Accuracy</th>\n",
              "      <th>Recall</th>\n",
              "      <th>Precision</th>\n",
              "      <th>F1</th>\n",
              "    </tr>\n",
              "  </thead>\n",
              "  <tbody>\n",
              "    <tr>\n",
              "      <th>0</th>\n",
              "      <td>0.770801</td>\n",
              "      <td>0.889868</td>\n",
              "      <td>0.79248</td>\n",
              "      <td>0.838355</td>\n",
              "    </tr>\n",
              "  </tbody>\n",
              "</table>\n",
              "</div>\n",
              "      <button class=\"colab-df-convert\" onclick=\"convertToInteractive('df-7f5c5218-e62f-4c90-888c-f8d67d4b085e')\"\n",
              "              title=\"Convert this dataframe to an interactive table.\"\n",
              "              style=\"display:none;\">\n",
              "        \n",
              "  <svg xmlns=\"http://www.w3.org/2000/svg\" height=\"24px\"viewBox=\"0 0 24 24\"\n",
              "       width=\"24px\">\n",
              "    <path d=\"M0 0h24v24H0V0z\" fill=\"none\"/>\n",
              "    <path d=\"M18.56 5.44l.94 2.06.94-2.06 2.06-.94-2.06-.94-.94-2.06-.94 2.06-2.06.94zm-11 1L8.5 8.5l.94-2.06 2.06-.94-2.06-.94L8.5 2.5l-.94 2.06-2.06.94zm10 10l.94 2.06.94-2.06 2.06-.94-2.06-.94-.94-2.06-.94 2.06-2.06.94z\"/><path d=\"M17.41 7.96l-1.37-1.37c-.4-.4-.92-.59-1.43-.59-.52 0-1.04.2-1.43.59L10.3 9.45l-7.72 7.72c-.78.78-.78 2.05 0 2.83L4 21.41c.39.39.9.59 1.41.59.51 0 1.02-.2 1.41-.59l7.78-7.78 2.81-2.81c.8-.78.8-2.07 0-2.86zM5.41 20L4 18.59l7.72-7.72 1.47 1.35L5.41 20z\"/>\n",
              "  </svg>\n",
              "      </button>\n",
              "      \n",
              "  <style>\n",
              "    .colab-df-container {\n",
              "      display:flex;\n",
              "      flex-wrap:wrap;\n",
              "      gap: 12px;\n",
              "    }\n",
              "\n",
              "    .colab-df-convert {\n",
              "      background-color: #E8F0FE;\n",
              "      border: none;\n",
              "      border-radius: 50%;\n",
              "      cursor: pointer;\n",
              "      display: none;\n",
              "      fill: #1967D2;\n",
              "      height: 32px;\n",
              "      padding: 0 0 0 0;\n",
              "      width: 32px;\n",
              "    }\n",
              "\n",
              "    .colab-df-convert:hover {\n",
              "      background-color: #E2EBFA;\n",
              "      box-shadow: 0px 1px 2px rgba(60, 64, 67, 0.3), 0px 1px 3px 1px rgba(60, 64, 67, 0.15);\n",
              "      fill: #174EA6;\n",
              "    }\n",
              "\n",
              "    [theme=dark] .colab-df-convert {\n",
              "      background-color: #3B4455;\n",
              "      fill: #D2E3FC;\n",
              "    }\n",
              "\n",
              "    [theme=dark] .colab-df-convert:hover {\n",
              "      background-color: #434B5C;\n",
              "      box-shadow: 0px 1px 3px 1px rgba(0, 0, 0, 0.15);\n",
              "      filter: drop-shadow(0px 1px 2px rgba(0, 0, 0, 0.3));\n",
              "      fill: #FFFFFF;\n",
              "    }\n",
              "  </style>\n",
              "\n",
              "      <script>\n",
              "        const buttonEl =\n",
              "          document.querySelector('#df-7f5c5218-e62f-4c90-888c-f8d67d4b085e button.colab-df-convert');\n",
              "        buttonEl.style.display =\n",
              "          google.colab.kernel.accessAllowed ? 'block' : 'none';\n",
              "\n",
              "        async function convertToInteractive(key) {\n",
              "          const element = document.querySelector('#df-7f5c5218-e62f-4c90-888c-f8d67d4b085e');\n",
              "          const dataTable =\n",
              "            await google.colab.kernel.invokeFunction('convertToInteractive',\n",
              "                                                     [key], {});\n",
              "          if (!dataTable) return;\n",
              "\n",
              "          const docLinkHtml = 'Like what you see? Visit the ' +\n",
              "            '<a target=\"_blank\" href=https://colab.research.google.com/notebooks/data_table.ipynb>data table notebook</a>'\n",
              "            + ' to learn more about interactive tables.';\n",
              "          element.innerHTML = '';\n",
              "          dataTable['output_type'] = 'display_data';\n",
              "          await google.colab.output.renderOutput(dataTable, element);\n",
              "          const docLink = document.createElement('div');\n",
              "          docLink.innerHTML = docLinkHtml;\n",
              "          element.appendChild(docLink);\n",
              "        }\n",
              "      </script>\n",
              "    </div>\n",
              "  </div>\n",
              "  "
            ]
          },
          "metadata": {},
          "execution_count": 49
        }
      ]
    },
    {
      "cell_type": "code",
      "source": [
        "confusion_matrix_sklearn(xgb_tuned, X_test,y_test)"
      ],
      "metadata": {
        "colab": {
          "base_uri": "https://localhost:8080/",
          "height": 278
        },
        "id": "zt0J3ppVID0E",
        "outputId": "a2814654-756e-4cfd-88dd-ac2060d71a54"
      },
      "id": "zt0J3ppVID0E",
      "execution_count": null,
      "outputs": [
        {
          "output_type": "display_data",
          "data": {
            "text/plain": [
              "<Figure size 432x288 with 2 Axes>"
            ],
            "image/png": "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\n"
          },
          "metadata": {
            "needs_background": "light"
          }
        }
      ]
    },
    {
      "cell_type": "markdown",
      "id": "obvious-maine",
      "metadata": {
        "id": "obvious-maine"
      },
      "source": [
        "## Model Performance Comparison and Conclusions"
      ]
    },
    {
      "cell_type": "code",
      "execution_count": null,
      "id": "everyday-kinase",
      "metadata": {
        "id": "everyday-kinase",
        "colab": {
          "base_uri": "https://localhost:8080/",
          "height": 300
        },
        "outputId": "6817db8d-ef74-49cb-c5a9-e414fdc481b8"
      },
      "outputs": [
        {
          "output_type": "stream",
          "name": "stdout",
          "text": [
            "Training performance comparison:\n"
          ]
        },
        {
          "output_type": "execute_result",
          "data": {
            "text/plain": [
              "           Decision Tree  Tuned Decision Tree  Bagging Classifier  \\\n",
              "Accuracy             1.0             0.729816            0.985367   \n",
              "Recall               1.0             0.910602            0.986317   \n",
              "Precision            1.0             0.742912            0.991729   \n",
              "F1                   1.0             0.818254            0.989016   \n",
              "\n",
              "           Tuned Bagging Classifier  Random Forest  Tuned Random Forest  \\\n",
              "Accuracy                   0.998767       0.729816                  1.0   \n",
              "Recall                     0.999832       0.910602                  1.0   \n",
              "Precision                  0.998324       0.742912                  1.0   \n",
              "F1                         0.999077       0.818254                  1.0   \n",
              "\n",
              "           Adaboost Classifier  Tuned Adaboost Classifier  \\\n",
              "Accuracy              0.738058                   0.718603   \n",
              "Recall                0.887434                   0.781583   \n",
              "Precision             0.760411                   0.793912   \n",
              "F1                    0.819027                   0.787699   \n",
              "\n",
              "           Gradient Boost Classifier  Tuned Gradient Boost Classifier  \\\n",
              "Accuracy                    0.759419                         0.739347   \n",
              "Recall                      0.882901                         0.863343   \n",
              "Precision                   0.784106                         0.772960   \n",
              "F1                          0.830576                         0.815655   \n",
              "\n",
              "           XGBoost Classifier  XGBoost Classifier Tuned  Stacking Classifier  \n",
              "Accuracy             0.838248                  0.770801             0.743851  \n",
              "Recall               0.931000                  0.889868             0.872282  \n",
              "Precision            0.843166                  0.792480             0.773225  \n",
              "F1                   0.884908                  0.838355             0.819772  "
            ],
            "text/html": [
              "\n",
              "  <div id=\"df-bdf1ece3-aace-4881-a1f4-464282fe1f87\">\n",
              "    <div class=\"colab-df-container\">\n",
              "      <div>\n",
              "<style scoped>\n",
              "    .dataframe tbody tr th:only-of-type {\n",
              "        vertical-align: middle;\n",
              "    }\n",
              "\n",
              "    .dataframe tbody tr th {\n",
              "        vertical-align: top;\n",
              "    }\n",
              "\n",
              "    .dataframe thead th {\n",
              "        text-align: right;\n",
              "    }\n",
              "</style>\n",
              "<table border=\"1\" class=\"dataframe\">\n",
              "  <thead>\n",
              "    <tr style=\"text-align: right;\">\n",
              "      <th></th>\n",
              "      <th>Decision Tree</th>\n",
              "      <th>Tuned Decision Tree</th>\n",
              "      <th>Bagging Classifier</th>\n",
              "      <th>Tuned Bagging Classifier</th>\n",
              "      <th>Random Forest</th>\n",
              "      <th>Tuned Random Forest</th>\n",
              "      <th>Adaboost Classifier</th>\n",
              "      <th>Tuned Adaboost Classifier</th>\n",
              "      <th>Gradient Boost Classifier</th>\n",
              "      <th>Tuned Gradient Boost Classifier</th>\n",
              "      <th>XGBoost Classifier</th>\n",
              "      <th>XGBoost Classifier Tuned</th>\n",
              "      <th>Stacking Classifier</th>\n",
              "    </tr>\n",
              "  </thead>\n",
              "  <tbody>\n",
              "    <tr>\n",
              "      <th>Accuracy</th>\n",
              "      <td>1.0</td>\n",
              "      <td>0.729816</td>\n",
              "      <td>0.985367</td>\n",
              "      <td>0.998767</td>\n",
              "      <td>0.729816</td>\n",
              "      <td>1.0</td>\n",
              "      <td>0.738058</td>\n",
              "      <td>0.718603</td>\n",
              "      <td>0.759419</td>\n",
              "      <td>0.739347</td>\n",
              "      <td>0.838248</td>\n",
              "      <td>0.770801</td>\n",
              "      <td>0.743851</td>\n",
              "    </tr>\n",
              "    <tr>\n",
              "      <th>Recall</th>\n",
              "      <td>1.0</td>\n",
              "      <td>0.910602</td>\n",
              "      <td>0.986317</td>\n",
              "      <td>0.999832</td>\n",
              "      <td>0.910602</td>\n",
              "      <td>1.0</td>\n",
              "      <td>0.887434</td>\n",
              "      <td>0.781583</td>\n",
              "      <td>0.882901</td>\n",
              "      <td>0.863343</td>\n",
              "      <td>0.931000</td>\n",
              "      <td>0.889868</td>\n",
              "      <td>0.872282</td>\n",
              "    </tr>\n",
              "    <tr>\n",
              "      <th>Precision</th>\n",
              "      <td>1.0</td>\n",
              "      <td>0.742912</td>\n",
              "      <td>0.991729</td>\n",
              "      <td>0.998324</td>\n",
              "      <td>0.742912</td>\n",
              "      <td>1.0</td>\n",
              "      <td>0.760411</td>\n",
              "      <td>0.793912</td>\n",
              "      <td>0.784106</td>\n",
              "      <td>0.772960</td>\n",
              "      <td>0.843166</td>\n",
              "      <td>0.792480</td>\n",
              "      <td>0.773225</td>\n",
              "    </tr>\n",
              "    <tr>\n",
              "      <th>F1</th>\n",
              "      <td>1.0</td>\n",
              "      <td>0.818254</td>\n",
              "      <td>0.989016</td>\n",
              "      <td>0.999077</td>\n",
              "      <td>0.818254</td>\n",
              "      <td>1.0</td>\n",
              "      <td>0.819027</td>\n",
              "      <td>0.787699</td>\n",
              "      <td>0.830576</td>\n",
              "      <td>0.815655</td>\n",
              "      <td>0.884908</td>\n",
              "      <td>0.838355</td>\n",
              "      <td>0.819772</td>\n",
              "    </tr>\n",
              "  </tbody>\n",
              "</table>\n",
              "</div>\n",
              "      <button class=\"colab-df-convert\" onclick=\"convertToInteractive('df-bdf1ece3-aace-4881-a1f4-464282fe1f87')\"\n",
              "              title=\"Convert this dataframe to an interactive table.\"\n",
              "              style=\"display:none;\">\n",
              "        \n",
              "  <svg xmlns=\"http://www.w3.org/2000/svg\" height=\"24px\"viewBox=\"0 0 24 24\"\n",
              "       width=\"24px\">\n",
              "    <path d=\"M0 0h24v24H0V0z\" fill=\"none\"/>\n",
              "    <path d=\"M18.56 5.44l.94 2.06.94-2.06 2.06-.94-2.06-.94-.94-2.06-.94 2.06-2.06.94zm-11 1L8.5 8.5l.94-2.06 2.06-.94-2.06-.94L8.5 2.5l-.94 2.06-2.06.94zm10 10l.94 2.06.94-2.06 2.06-.94-2.06-.94-.94-2.06-.94 2.06-2.06.94z\"/><path d=\"M17.41 7.96l-1.37-1.37c-.4-.4-.92-.59-1.43-.59-.52 0-1.04.2-1.43.59L10.3 9.45l-7.72 7.72c-.78.78-.78 2.05 0 2.83L4 21.41c.39.39.9.59 1.41.59.51 0 1.02-.2 1.41-.59l7.78-7.78 2.81-2.81c.8-.78.8-2.07 0-2.86zM5.41 20L4 18.59l7.72-7.72 1.47 1.35L5.41 20z\"/>\n",
              "  </svg>\n",
              "      </button>\n",
              "      \n",
              "  <style>\n",
              "    .colab-df-container {\n",
              "      display:flex;\n",
              "      flex-wrap:wrap;\n",
              "      gap: 12px;\n",
              "    }\n",
              "\n",
              "    .colab-df-convert {\n",
              "      background-color: #E8F0FE;\n",
              "      border: none;\n",
              "      border-radius: 50%;\n",
              "      cursor: pointer;\n",
              "      display: none;\n",
              "      fill: #1967D2;\n",
              "      height: 32px;\n",
              "      padding: 0 0 0 0;\n",
              "      width: 32px;\n",
              "    }\n",
              "\n",
              "    .colab-df-convert:hover {\n",
              "      background-color: #E2EBFA;\n",
              "      box-shadow: 0px 1px 2px rgba(60, 64, 67, 0.3), 0px 1px 3px 1px rgba(60, 64, 67, 0.15);\n",
              "      fill: #174EA6;\n",
              "    }\n",
              "\n",
              "    [theme=dark] .colab-df-convert {\n",
              "      background-color: #3B4455;\n",
              "      fill: #D2E3FC;\n",
              "    }\n",
              "\n",
              "    [theme=dark] .colab-df-convert:hover {\n",
              "      background-color: #434B5C;\n",
              "      box-shadow: 0px 1px 3px 1px rgba(0, 0, 0, 0.15);\n",
              "      filter: drop-shadow(0px 1px 2px rgba(0, 0, 0, 0.3));\n",
              "      fill: #FFFFFF;\n",
              "    }\n",
              "  </style>\n",
              "\n",
              "      <script>\n",
              "        const buttonEl =\n",
              "          document.querySelector('#df-bdf1ece3-aace-4881-a1f4-464282fe1f87 button.colab-df-convert');\n",
              "        buttonEl.style.display =\n",
              "          google.colab.kernel.accessAllowed ? 'block' : 'none';\n",
              "\n",
              "        async function convertToInteractive(key) {\n",
              "          const element = document.querySelector('#df-bdf1ece3-aace-4881-a1f4-464282fe1f87');\n",
              "          const dataTable =\n",
              "            await google.colab.kernel.invokeFunction('convertToInteractive',\n",
              "                                                     [key], {});\n",
              "          if (!dataTable) return;\n",
              "\n",
              "          const docLinkHtml = 'Like what you see? Visit the ' +\n",
              "            '<a target=\"_blank\" href=https://colab.research.google.com/notebooks/data_table.ipynb>data table notebook</a>'\n",
              "            + ' to learn more about interactive tables.';\n",
              "          element.innerHTML = '';\n",
              "          dataTable['output_type'] = 'display_data';\n",
              "          await google.colab.output.renderOutput(dataTable, element);\n",
              "          const docLink = document.createElement('div');\n",
              "          docLink.innerHTML = docLinkHtml;\n",
              "          element.appendChild(docLink);\n",
              "        }\n",
              "      </script>\n",
              "    </div>\n",
              "  </div>\n",
              "  "
            ]
          },
          "metadata": {},
          "execution_count": 168
        }
      ],
      "source": [
        "models_train_comp_df = pd.concat(\n",
        "    [\n",
        "        decision_tree_perf_train.T,\n",
        "        dtree_estimator_model_train_perf.T,\n",
        "        bagging_classifier_model_train_perf.T,\n",
        "        bagging_estimator_tuned_model_train_perf.T,\n",
        "        rf_model_train_perf.T,\n",
        "        rf_tuned_model_train_perf.T,\n",
        "        ab_classifier_model_train_perf.T,\n",
        "        abc_tuned_model_train_perf.T,\n",
        "        gb_classifier_model_train_perf.T,\n",
        "        gbc_tuned_model_train_perf.T,\n",
        "        xgb_classifier_model_train_perf.T,\n",
        "        xgb_tuned_model_train_perf.T,\n",
        "        stacking_classifier_model_train_perf.T,\n",
        "    ],\n",
        "    axis=1,\n",
        ")\n",
        "models_train_comp_df.columns = [\n",
        "    \"Decision Tree\",\n",
        "    \"Tuned Decision Tree\",\n",
        "    \"Bagging Classifier\",\n",
        "    \"Tuned Bagging Classifier\",\n",
        "    \"Random Forest\",\n",
        "    \"Tuned Random Forest\",\n",
        "    \"Adaboost Classifier\",\n",
        "    \"Tuned Adaboost Classifier\",\n",
        "    \"Gradient Boost Classifier\",\n",
        "    \"Tuned Gradient Boost Classifier\",\n",
        "    \"XGBoost Classifier\",\n",
        "    \"XGBoost Classifier Tuned\",\n",
        "    \"Stacking Classifier\",\n",
        "]\n",
        "print(\"Training performance comparison:\")\n",
        "models_train_comp_df"
      ]
    },
    {
      "cell_type": "markdown",
      "source": [
        "## **The best performing model on all of the training data is the Decision Tree.**"
      ],
      "metadata": {
        "id": "D8gnH6MxTWt_"
      },
      "id": "D8gnH6MxTWt_"
    },
    {
      "cell_type": "code",
      "source": [
        "tuned_models_test_comp_df = pd.concat(\n",
        "    [dtree_estimator_model_test_perf.T,\n",
        "     bagging_classifier_model_test_perf.T,\n",
        "     rf_model_test_perf.T,\n",
        "     abc_tuned_model_test_perf.T,\n",
        "     gb_tuned_model_test_perf.T,\n",
        "     xgb_tuned_model_test_perf.T],\n",
        "    axis=1,\n",
        ")\n",
        "tuned_models_test_comp_df.columns = [\n",
        "    \"Tuned Decision Tree\",\n",
        "    \"Tuned Bagging Classifier\",\n",
        "    \"Tuned Random Forest\",\n",
        "    \"Tuned AdaBoost Classifier\",\n",
        "    \"Tuned Gradient Boosting Classifier\",\n",
        "    \"Tuned XGBoost Classifier\"]\n",
        "print(\"Testing performance comparison of tuned models:\")\n",
        "tuned_models_test_comp_df"
      ],
      "metadata": {
        "colab": {
          "base_uri": "https://localhost:8080/",
          "height": 263
        },
        "id": "olI9qcZ5Thg4",
        "outputId": "e7383fb6-4d40-4a54-ab25-8cb38a8002ec"
      },
      "id": "olI9qcZ5Thg4",
      "execution_count": null,
      "outputs": [
        {
          "output_type": "stream",
          "name": "stdout",
          "text": [
            "Testing performance comparison of tuned models:\n"
          ]
        },
        {
          "output_type": "execute_result",
          "data": {
            "text/plain": [
              "           Tuned Decision Tree  Tuned Bagging Classifier  Tuned Random Forest  \\\n",
              "Accuracy              0.722397                  0.692177             0.723312   \n",
              "Recall                0.910088                  0.766112             0.843095   \n",
              "Precision             0.736408                  0.771400             0.766109   \n",
              "F1                    0.814088                  0.768747             0.802760   \n",
              "\n",
              "           Tuned AdaBoost Classifier  Tuned Gradient Boosting Classifier  \\\n",
              "Accuracy                    0.712585                            0.789246   \n",
              "Recall                      0.751616                            0.905779   \n",
              "Precision                   0.805078                            0.803615   \n",
              "F1                          0.777429                            0.851644   \n",
              "\n",
              "           Tuned XGBoost Classifier  \n",
              "Accuracy                   0.788592  \n",
              "Recall                     0.910872  \n",
              "Precision                  0.800207  \n",
              "F1                         0.851960  "
            ],
            "text/html": [
              "\n",
              "  <div id=\"df-87a9bc5f-27c0-40f4-93b2-0761d17f376f\">\n",
              "    <div class=\"colab-df-container\">\n",
              "      <div>\n",
              "<style scoped>\n",
              "    .dataframe tbody tr th:only-of-type {\n",
              "        vertical-align: middle;\n",
              "    }\n",
              "\n",
              "    .dataframe tbody tr th {\n",
              "        vertical-align: top;\n",
              "    }\n",
              "\n",
              "    .dataframe thead th {\n",
              "        text-align: right;\n",
              "    }\n",
              "</style>\n",
              "<table border=\"1\" class=\"dataframe\">\n",
              "  <thead>\n",
              "    <tr style=\"text-align: right;\">\n",
              "      <th></th>\n",
              "      <th>Tuned Decision Tree</th>\n",
              "      <th>Tuned Bagging Classifier</th>\n",
              "      <th>Tuned Random Forest</th>\n",
              "      <th>Tuned AdaBoost Classifier</th>\n",
              "      <th>Tuned Gradient Boosting Classifier</th>\n",
              "      <th>Tuned XGBoost Classifier</th>\n",
              "    </tr>\n",
              "  </thead>\n",
              "  <tbody>\n",
              "    <tr>\n",
              "      <th>Accuracy</th>\n",
              "      <td>0.722397</td>\n",
              "      <td>0.692177</td>\n",
              "      <td>0.723312</td>\n",
              "      <td>0.712585</td>\n",
              "      <td>0.789246</td>\n",
              "      <td>0.788592</td>\n",
              "    </tr>\n",
              "    <tr>\n",
              "      <th>Recall</th>\n",
              "      <td>0.910088</td>\n",
              "      <td>0.766112</td>\n",
              "      <td>0.843095</td>\n",
              "      <td>0.751616</td>\n",
              "      <td>0.905779</td>\n",
              "      <td>0.910872</td>\n",
              "    </tr>\n",
              "    <tr>\n",
              "      <th>Precision</th>\n",
              "      <td>0.736408</td>\n",
              "      <td>0.771400</td>\n",
              "      <td>0.766109</td>\n",
              "      <td>0.805078</td>\n",
              "      <td>0.803615</td>\n",
              "      <td>0.800207</td>\n",
              "    </tr>\n",
              "    <tr>\n",
              "      <th>F1</th>\n",
              "      <td>0.814088</td>\n",
              "      <td>0.768747</td>\n",
              "      <td>0.802760</td>\n",
              "      <td>0.777429</td>\n",
              "      <td>0.851644</td>\n",
              "      <td>0.851960</td>\n",
              "    </tr>\n",
              "  </tbody>\n",
              "</table>\n",
              "</div>\n",
              "      <button class=\"colab-df-convert\" onclick=\"convertToInteractive('df-87a9bc5f-27c0-40f4-93b2-0761d17f376f')\"\n",
              "              title=\"Convert this dataframe to an interactive table.\"\n",
              "              style=\"display:none;\">\n",
              "        \n",
              "  <svg xmlns=\"http://www.w3.org/2000/svg\" height=\"24px\"viewBox=\"0 0 24 24\"\n",
              "       width=\"24px\">\n",
              "    <path d=\"M0 0h24v24H0V0z\" fill=\"none\"/>\n",
              "    <path d=\"M18.56 5.44l.94 2.06.94-2.06 2.06-.94-2.06-.94-.94-2.06-.94 2.06-2.06.94zm-11 1L8.5 8.5l.94-2.06 2.06-.94-2.06-.94L8.5 2.5l-.94 2.06-2.06.94zm10 10l.94 2.06.94-2.06 2.06-.94-2.06-.94-.94-2.06-.94 2.06-2.06.94z\"/><path d=\"M17.41 7.96l-1.37-1.37c-.4-.4-.92-.59-1.43-.59-.52 0-1.04.2-1.43.59L10.3 9.45l-7.72 7.72c-.78.78-.78 2.05 0 2.83L4 21.41c.39.39.9.59 1.41.59.51 0 1.02-.2 1.41-.59l7.78-7.78 2.81-2.81c.8-.78.8-2.07 0-2.86zM5.41 20L4 18.59l7.72-7.72 1.47 1.35L5.41 20z\"/>\n",
              "  </svg>\n",
              "      </button>\n",
              "      \n",
              "  <style>\n",
              "    .colab-df-container {\n",
              "      display:flex;\n",
              "      flex-wrap:wrap;\n",
              "      gap: 12px;\n",
              "    }\n",
              "\n",
              "    .colab-df-convert {\n",
              "      background-color: #E8F0FE;\n",
              "      border: none;\n",
              "      border-radius: 50%;\n",
              "      cursor: pointer;\n",
              "      display: none;\n",
              "      fill: #1967D2;\n",
              "      height: 32px;\n",
              "      padding: 0 0 0 0;\n",
              "      width: 32px;\n",
              "    }\n",
              "\n",
              "    .colab-df-convert:hover {\n",
              "      background-color: #E2EBFA;\n",
              "      box-shadow: 0px 1px 2px rgba(60, 64, 67, 0.3), 0px 1px 3px 1px rgba(60, 64, 67, 0.15);\n",
              "      fill: #174EA6;\n",
              "    }\n",
              "\n",
              "    [theme=dark] .colab-df-convert {\n",
              "      background-color: #3B4455;\n",
              "      fill: #D2E3FC;\n",
              "    }\n",
              "\n",
              "    [theme=dark] .colab-df-convert:hover {\n",
              "      background-color: #434B5C;\n",
              "      box-shadow: 0px 1px 3px 1px rgba(0, 0, 0, 0.15);\n",
              "      filter: drop-shadow(0px 1px 2px rgba(0, 0, 0, 0.3));\n",
              "      fill: #FFFFFF;\n",
              "    }\n",
              "  </style>\n",
              "\n",
              "      <script>\n",
              "        const buttonEl =\n",
              "          document.querySelector('#df-87a9bc5f-27c0-40f4-93b2-0761d17f376f button.colab-df-convert');\n",
              "        buttonEl.style.display =\n",
              "          google.colab.kernel.accessAllowed ? 'block' : 'none';\n",
              "\n",
              "        async function convertToInteractive(key) {\n",
              "          const element = document.querySelector('#df-87a9bc5f-27c0-40f4-93b2-0761d17f376f');\n",
              "          const dataTable =\n",
              "            await google.colab.kernel.invokeFunction('convertToInteractive',\n",
              "                                                     [key], {});\n",
              "          if (!dataTable) return;\n",
              "\n",
              "          const docLinkHtml = 'Like what you see? Visit the ' +\n",
              "            '<a target=\"_blank\" href=https://colab.research.google.com/notebooks/data_table.ipynb>data table notebook</a>'\n",
              "            + ' to learn more about interactive tables.';\n",
              "          element.innerHTML = '';\n",
              "          dataTable['output_type'] = 'display_data';\n",
              "          await google.colab.output.renderOutput(dataTable, element);\n",
              "          const docLink = document.createElement('div');\n",
              "          docLink.innerHTML = docLinkHtml;\n",
              "          element.appendChild(docLink);\n",
              "        }\n",
              "      </script>\n",
              "    </div>\n",
              "  </div>\n",
              "  "
            ]
          },
          "metadata": {},
          "execution_count": 138
        }
      ]
    },
    {
      "cell_type": "markdown",
      "source": [
        "# **The best performing model on all of the testing data is the tuned Gradient Boosting classifier.**"
      ],
      "metadata": {
        "id": "9kZx0umKVRVt"
      },
      "id": "9kZx0umKVRVt"
    },
    {
      "cell_type": "code",
      "source": [
        "feature_names = X_train.columns\n",
        "importances = gb_classifier.feature_importances_\n",
        "indices = np.argsort(importances)\n",
        "\n",
        "plt.figure(figsize=(12, 12))\n",
        "plt.title(\"Feature Importances\")\n",
        "plt.barh(range(len(indices)), importances[indices], color=\"violet\", align=\"center\")\n",
        "plt.yticks(range(len(indices)), [feature_names[i] for i in indices])\n",
        "plt.xlabel(\"Relative Importance\")\n",
        "plt.show()"
      ],
      "metadata": {
        "colab": {
          "base_uri": "https://localhost:8080/",
          "height": 705
        },
        "id": "lrUj2EgARdIx",
        "outputId": "dc06cc47-db4f-4cb2-8296-53bc25425500"
      },
      "id": "lrUj2EgARdIx",
      "execution_count": null,
      "outputs": [
        {
          "output_type": "display_data",
          "data": {
            "text/plain": [
              "<Figure size 864x864 with 1 Axes>"
            ],
            "image/png": "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\n"
          },
          "metadata": {
            "needs_background": "light"
          }
        }
      ]
    },
    {
      "cell_type": "markdown",
      "id": "nasty-retailer",
      "metadata": {
        "id": "nasty-retailer"
      },
      "source": [
        "## Actionable Insights and Recommendations"
      ]
    },
    {
      "cell_type": "markdown",
      "source": [
        "# **Insights**\n",
        "\n",
        "*   **The factors that the Office of Foreign Labor certification look for are:**\n",
        "\n",
        "\n",
        "\n",
        "*   Prior Job experience- Applicants that are applying for a job with job ecperience is more likely to be approved.\n",
        "\n",
        "*   Education level- if the job requires a highschool diploma, it is more likely they will be denied. Applications requiring a Masters or doctorate are much more likely to be accepted.\n",
        "\n",
        "*   Prevailing wage- Applicants applying for a higher prevailing wage are more likely to get approved.\n",
        "\n"
      ],
      "metadata": {
        "id": "JPYmdV54VteF"
      },
      "id": "JPYmdV54VteF"
    },
    {
      "cell_type": "markdown",
      "source": [
        "# **Reccomendations**\n",
        "\n",
        "\n",
        "*   Sort applicants by level of education and look over the applicant that have higher eductaion first.\n",
        "*   Sort applicants by previous job experience and look into those that have more experience first.\n",
        "\n",
        "\n",
        "*   Sort groups by hourly wage and annual wage then prevailing wage. Next, review applicants from salaried jobs highest to lowest.\n",
        "\n",
        "*   Review the biased factors of skill level, likelihood of entry, and hourly jobs because those are the main reasons for being accepted or denied.\n",
        "\n",
        "*   Put emphasis on how applicants are reviewed through the Decision Tree model.\n",
        "\n",
        "\n",
        "\n",
        "\n"
      ],
      "metadata": {
        "id": "Q2FV_s5oYkH1"
      },
      "id": "Q2FV_s5oYkH1"
    }
  ],
  "metadata": {
    "colab": {
      "provenance": []
    },
    "kernelspec": {
      "display_name": "Python 3",
      "language": "python",
      "name": "python3"
    },
    "language_info": {
      "codemirror_mode": {
        "name": "ipython",
        "version": 3
      },
      "file_extension": ".py",
      "mimetype": "text/x-python",
      "name": "python",
      "nbconvert_exporter": "python",
      "pygments_lexer": "ipython3",
      "version": "3.8.8"
    }
  },
  "nbformat": 4,
  "nbformat_minor": 5
}
